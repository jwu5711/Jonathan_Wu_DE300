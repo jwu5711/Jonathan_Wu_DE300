{
  "nbformat": 4,
  "nbformat_minor": 0,
  "metadata": {
    "colab": {
      "provenance": [],
      "toc_visible": true
    },
    "kernelspec": {
      "name": "python3",
      "display_name": "Python 3"
    },
    "language_info": {
      "name": "python"
    }
  },
  "cells": [
    {
      "cell_type": "markdown",
      "source": [
        "# Homework 2: Two ways with MIMIC-III\n",
        "### Jonathan Wu\n",
        "### Due: 5/9/2025\n",
        "\n",
        "#### Part I (Relational)\n",
        "1. Load all the data into a duckdb database. Refer to MIMIC-III example for guidance to create your own database.\n",
        "2. Answer the following analysis questions along with your queries.\n",
        "For each question, provide the following four pieces of information:\n",
        "<br>a. the SQL query,\n",
        "<br>b. brief explanation of the query (i.e., what operations are performed by the major parts of the query),\n",
        "<br>c. the first several lines of your resulting table, and\n",
        "<br>d. a summary of your findings. If it benefits to use a graph, include your graph at the end of your answer, with clear labels and caption.\n",
        "\n",
        "The analysis questions are:\n",
        "\n",
        "1. Create a summary of type of drugs and their total amount used by ethnicity. Report the top usage in each ethnicity group. You may have to make certain assumptions in calculating their total amount.\n",
        "2. Create a summary of procedures performed on patients by age groups (<=19, 20-49, 50-79, >80). Report the top three procedures, along with the name of the procedures, performed in each age group.\n",
        "3. How long do patients stay in the ICU? Is there a difference in the ICU length of stay among gender or ethnicity?"
      ],
      "metadata": {
        "id": "ayygdHT6w830"
      }
    },
    {
      "cell_type": "code",
      "execution_count": null,
      "metadata": {
        "colab": {
          "base_uri": "https://localhost:8080/"
        },
        "id": "dXl1iSw2wkS2",
        "outputId": "0f1bf4fe-b8d0-4b3f-d6c8-fafc32757734"
      },
      "outputs": [
        {
          "output_type": "stream",
          "name": "stdout",
          "text": [
            "Requirement already satisfied: duckdb==1.2.2 in /usr/local/lib/python3.11/dist-packages (1.2.2)\n"
          ]
        }
      ],
      "source": [
        "!pip install duckdb==1.2.2\n",
        "import duckdb\n",
        "import pandas as pd"
      ]
    },
    {
      "cell_type": "code",
      "source": [
        "conn = duckdb.connect('mimic.db', read_only=False)\n",
        "\n",
        "conn.sql('SHOW TABLES;')"
      ],
      "metadata": {
        "id": "KrwJBIBr1Tow",
        "colab": {
          "base_uri": "https://localhost:8080/"
        },
        "outputId": "9e9d3cf4-2462-4690-f1f3-e9487e15a5e4"
      },
      "execution_count": null,
      "outputs": [
        {
          "output_type": "execute_result",
          "data": {
            "text/plain": [
              "┌────────────┐\n",
              "│    name    │\n",
              "│  varchar   │\n",
              "├────────────┤\n",
              "│ ADMISSIONS │\n",
              "│ DRGCODES   │\n",
              "│ D_ICDPROCS │\n",
              "│ ICUSTAYS   │\n",
              "│ PATIENTS   │\n",
              "│ PROCS_ICD  │\n",
              "└────────────┘"
            ]
          },
          "metadata": {},
          "execution_count": 3
        }
      ]
    },
    {
      "cell_type": "code",
      "source": [
        "df = pd.read_csv(\"PRESCRIPTIONS.csv\", index_col=\"row_id\")\n",
        "df.head()"
      ],
      "metadata": {
        "colab": {
          "base_uri": "https://localhost:8080/",
          "height": 431
        },
        "id": "d7Qzj2XzM8VB",
        "outputId": "db8a688b-9cf9-4089-9708-7c9555bf1555"
      },
      "execution_count": null,
      "outputs": [
        {
          "output_type": "execute_result",
          "data": {
            "text/plain": [
              "        subject_id  hadm_id  icustay_id            startdate  \\\n",
              "row_id                                                         \n",
              "32600        42458   159647         NaN  2146-07-21 00:00:00   \n",
              "32601        42458   159647         NaN  2146-07-21 00:00:00   \n",
              "32602        42458   159647         NaN  2146-07-21 00:00:00   \n",
              "32603        42458   159647         NaN  2146-07-21 00:00:00   \n",
              "32604        42458   159647         NaN  2146-07-21 00:00:00   \n",
              "\n",
              "                    enddate drug_type                         drug  \\\n",
              "row_id                                                               \n",
              "32600   2146-07-22 00:00:00      MAIN  Pneumococcal Vac Polyvalent   \n",
              "32601   2146-07-22 00:00:00      MAIN                    Bisacodyl   \n",
              "32602   2146-07-22 00:00:00      MAIN                    Bisacodyl   \n",
              "32603   2146-07-22 00:00:00      MAIN                        Senna   \n",
              "32604   2146-07-21 00:00:00      MAIN     Docusate Sodium (Liquid)   \n",
              "\n",
              "                      drug_name_poe            drug_name_generic  \\\n",
              "row_id                                                             \n",
              "32600   Pneumococcal Vac Polyvalent  PNEUMOcoccal Vac Polyvalent   \n",
              "32601                     Bisacodyl                    Bisacodyl   \n",
              "32602                     Bisacodyl           Bisacodyl (Rectal)   \n",
              "32603                         Senna                        Senna   \n",
              "32604      Docusate Sodium (Liquid)     Docusate Sodium (Liquid)   \n",
              "\n",
              "       formulary_drug_cd      gsn          ndc     prod_strength dose_val_rx  \\\n",
              "row_id                                                                         \n",
              "32600            PNEU25I  48548.0    6494300.0  25mcg/0.5mL Vial         0.5   \n",
              "32601              BISA5   2947.0  536338101.0          5 mg Tab          10   \n",
              "32602            BISA10R   2944.0  574705050.0  10mg Suppository          10   \n",
              "32603            SENN187  19964.0  904516561.0          1 Tablet           1   \n",
              "32604           DOCU100L   3017.0  121054410.0      100mg UD Cup         100   \n",
              "\n",
              "       dose_unit_rx form_val_disp form_unit_disp route  \n",
              "row_id                                                  \n",
              "32600            mL             1           VIAL    IM  \n",
              "32601            mg             2            TAB    PO  \n",
              "32602            mg             1           SUPP    PR  \n",
              "32603           TAB             1            TAB    PO  \n",
              "32604            mg             1          UDCUP    PO  "
            ],
            "text/html": [
              "\n",
              "  <div id=\"df-6fe56180-e814-4180-89f5-14c312587cf9\" class=\"colab-df-container\">\n",
              "    <div>\n",
              "<style scoped>\n",
              "    .dataframe tbody tr th:only-of-type {\n",
              "        vertical-align: middle;\n",
              "    }\n",
              "\n",
              "    .dataframe tbody tr th {\n",
              "        vertical-align: top;\n",
              "    }\n",
              "\n",
              "    .dataframe thead th {\n",
              "        text-align: right;\n",
              "    }\n",
              "</style>\n",
              "<table border=\"1\" class=\"dataframe\">\n",
              "  <thead>\n",
              "    <tr style=\"text-align: right;\">\n",
              "      <th></th>\n",
              "      <th>subject_id</th>\n",
              "      <th>hadm_id</th>\n",
              "      <th>icustay_id</th>\n",
              "      <th>startdate</th>\n",
              "      <th>enddate</th>\n",
              "      <th>drug_type</th>\n",
              "      <th>drug</th>\n",
              "      <th>drug_name_poe</th>\n",
              "      <th>drug_name_generic</th>\n",
              "      <th>formulary_drug_cd</th>\n",
              "      <th>gsn</th>\n",
              "      <th>ndc</th>\n",
              "      <th>prod_strength</th>\n",
              "      <th>dose_val_rx</th>\n",
              "      <th>dose_unit_rx</th>\n",
              "      <th>form_val_disp</th>\n",
              "      <th>form_unit_disp</th>\n",
              "      <th>route</th>\n",
              "    </tr>\n",
              "    <tr>\n",
              "      <th>row_id</th>\n",
              "      <th></th>\n",
              "      <th></th>\n",
              "      <th></th>\n",
              "      <th></th>\n",
              "      <th></th>\n",
              "      <th></th>\n",
              "      <th></th>\n",
              "      <th></th>\n",
              "      <th></th>\n",
              "      <th></th>\n",
              "      <th></th>\n",
              "      <th></th>\n",
              "      <th></th>\n",
              "      <th></th>\n",
              "      <th></th>\n",
              "      <th></th>\n",
              "      <th></th>\n",
              "      <th></th>\n",
              "    </tr>\n",
              "  </thead>\n",
              "  <tbody>\n",
              "    <tr>\n",
              "      <th>32600</th>\n",
              "      <td>42458</td>\n",
              "      <td>159647</td>\n",
              "      <td>NaN</td>\n",
              "      <td>2146-07-21 00:00:00</td>\n",
              "      <td>2146-07-22 00:00:00</td>\n",
              "      <td>MAIN</td>\n",
              "      <td>Pneumococcal Vac Polyvalent</td>\n",
              "      <td>Pneumococcal Vac Polyvalent</td>\n",
              "      <td>PNEUMOcoccal Vac Polyvalent</td>\n",
              "      <td>PNEU25I</td>\n",
              "      <td>48548.0</td>\n",
              "      <td>6494300.0</td>\n",
              "      <td>25mcg/0.5mL Vial</td>\n",
              "      <td>0.5</td>\n",
              "      <td>mL</td>\n",
              "      <td>1</td>\n",
              "      <td>VIAL</td>\n",
              "      <td>IM</td>\n",
              "    </tr>\n",
              "    <tr>\n",
              "      <th>32601</th>\n",
              "      <td>42458</td>\n",
              "      <td>159647</td>\n",
              "      <td>NaN</td>\n",
              "      <td>2146-07-21 00:00:00</td>\n",
              "      <td>2146-07-22 00:00:00</td>\n",
              "      <td>MAIN</td>\n",
              "      <td>Bisacodyl</td>\n",
              "      <td>Bisacodyl</td>\n",
              "      <td>Bisacodyl</td>\n",
              "      <td>BISA5</td>\n",
              "      <td>2947.0</td>\n",
              "      <td>536338101.0</td>\n",
              "      <td>5 mg Tab</td>\n",
              "      <td>10</td>\n",
              "      <td>mg</td>\n",
              "      <td>2</td>\n",
              "      <td>TAB</td>\n",
              "      <td>PO</td>\n",
              "    </tr>\n",
              "    <tr>\n",
              "      <th>32602</th>\n",
              "      <td>42458</td>\n",
              "      <td>159647</td>\n",
              "      <td>NaN</td>\n",
              "      <td>2146-07-21 00:00:00</td>\n",
              "      <td>2146-07-22 00:00:00</td>\n",
              "      <td>MAIN</td>\n",
              "      <td>Bisacodyl</td>\n",
              "      <td>Bisacodyl</td>\n",
              "      <td>Bisacodyl (Rectal)</td>\n",
              "      <td>BISA10R</td>\n",
              "      <td>2944.0</td>\n",
              "      <td>574705050.0</td>\n",
              "      <td>10mg Suppository</td>\n",
              "      <td>10</td>\n",
              "      <td>mg</td>\n",
              "      <td>1</td>\n",
              "      <td>SUPP</td>\n",
              "      <td>PR</td>\n",
              "    </tr>\n",
              "    <tr>\n",
              "      <th>32603</th>\n",
              "      <td>42458</td>\n",
              "      <td>159647</td>\n",
              "      <td>NaN</td>\n",
              "      <td>2146-07-21 00:00:00</td>\n",
              "      <td>2146-07-22 00:00:00</td>\n",
              "      <td>MAIN</td>\n",
              "      <td>Senna</td>\n",
              "      <td>Senna</td>\n",
              "      <td>Senna</td>\n",
              "      <td>SENN187</td>\n",
              "      <td>19964.0</td>\n",
              "      <td>904516561.0</td>\n",
              "      <td>1 Tablet</td>\n",
              "      <td>1</td>\n",
              "      <td>TAB</td>\n",
              "      <td>1</td>\n",
              "      <td>TAB</td>\n",
              "      <td>PO</td>\n",
              "    </tr>\n",
              "    <tr>\n",
              "      <th>32604</th>\n",
              "      <td>42458</td>\n",
              "      <td>159647</td>\n",
              "      <td>NaN</td>\n",
              "      <td>2146-07-21 00:00:00</td>\n",
              "      <td>2146-07-21 00:00:00</td>\n",
              "      <td>MAIN</td>\n",
              "      <td>Docusate Sodium (Liquid)</td>\n",
              "      <td>Docusate Sodium (Liquid)</td>\n",
              "      <td>Docusate Sodium (Liquid)</td>\n",
              "      <td>DOCU100L</td>\n",
              "      <td>3017.0</td>\n",
              "      <td>121054410.0</td>\n",
              "      <td>100mg UD Cup</td>\n",
              "      <td>100</td>\n",
              "      <td>mg</td>\n",
              "      <td>1</td>\n",
              "      <td>UDCUP</td>\n",
              "      <td>PO</td>\n",
              "    </tr>\n",
              "  </tbody>\n",
              "</table>\n",
              "</div>\n",
              "    <div class=\"colab-df-buttons\">\n",
              "\n",
              "  <div class=\"colab-df-container\">\n",
              "    <button class=\"colab-df-convert\" onclick=\"convertToInteractive('df-6fe56180-e814-4180-89f5-14c312587cf9')\"\n",
              "            title=\"Convert this dataframe to an interactive table.\"\n",
              "            style=\"display:none;\">\n",
              "\n",
              "  <svg xmlns=\"http://www.w3.org/2000/svg\" height=\"24px\" viewBox=\"0 -960 960 960\">\n",
              "    <path d=\"M120-120v-720h720v720H120Zm60-500h600v-160H180v160Zm220 220h160v-160H400v160Zm0 220h160v-160H400v160ZM180-400h160v-160H180v160Zm440 0h160v-160H620v160ZM180-180h160v-160H180v160Zm440 0h160v-160H620v160Z\"/>\n",
              "  </svg>\n",
              "    </button>\n",
              "\n",
              "  <style>\n",
              "    .colab-df-container {\n",
              "      display:flex;\n",
              "      gap: 12px;\n",
              "    }\n",
              "\n",
              "    .colab-df-convert {\n",
              "      background-color: #E8F0FE;\n",
              "      border: none;\n",
              "      border-radius: 50%;\n",
              "      cursor: pointer;\n",
              "      display: none;\n",
              "      fill: #1967D2;\n",
              "      height: 32px;\n",
              "      padding: 0 0 0 0;\n",
              "      width: 32px;\n",
              "    }\n",
              "\n",
              "    .colab-df-convert:hover {\n",
              "      background-color: #E2EBFA;\n",
              "      box-shadow: 0px 1px 2px rgba(60, 64, 67, 0.3), 0px 1px 3px 1px rgba(60, 64, 67, 0.15);\n",
              "      fill: #174EA6;\n",
              "    }\n",
              "\n",
              "    .colab-df-buttons div {\n",
              "      margin-bottom: 4px;\n",
              "    }\n",
              "\n",
              "    [theme=dark] .colab-df-convert {\n",
              "      background-color: #3B4455;\n",
              "      fill: #D2E3FC;\n",
              "    }\n",
              "\n",
              "    [theme=dark] .colab-df-convert:hover {\n",
              "      background-color: #434B5C;\n",
              "      box-shadow: 0px 1px 3px 1px rgba(0, 0, 0, 0.15);\n",
              "      filter: drop-shadow(0px 1px 2px rgba(0, 0, 0, 0.3));\n",
              "      fill: #FFFFFF;\n",
              "    }\n",
              "  </style>\n",
              "\n",
              "    <script>\n",
              "      const buttonEl =\n",
              "        document.querySelector('#df-6fe56180-e814-4180-89f5-14c312587cf9 button.colab-df-convert');\n",
              "      buttonEl.style.display =\n",
              "        google.colab.kernel.accessAllowed ? 'block' : 'none';\n",
              "\n",
              "      async function convertToInteractive(key) {\n",
              "        const element = document.querySelector('#df-6fe56180-e814-4180-89f5-14c312587cf9');\n",
              "        const dataTable =\n",
              "          await google.colab.kernel.invokeFunction('convertToInteractive',\n",
              "                                                    [key], {});\n",
              "        if (!dataTable) return;\n",
              "\n",
              "        const docLinkHtml = 'Like what you see? Visit the ' +\n",
              "          '<a target=\"_blank\" href=https://colab.research.google.com/notebooks/data_table.ipynb>data table notebook</a>'\n",
              "          + ' to learn more about interactive tables.';\n",
              "        element.innerHTML = '';\n",
              "        dataTable['output_type'] = 'display_data';\n",
              "        await google.colab.output.renderOutput(dataTable, element);\n",
              "        const docLink = document.createElement('div');\n",
              "        docLink.innerHTML = docLinkHtml;\n",
              "        element.appendChild(docLink);\n",
              "      }\n",
              "    </script>\n",
              "  </div>\n",
              "\n",
              "\n",
              "    <div id=\"df-2f1aa02e-bd4d-407a-8bf4-ecb1dbac09a8\">\n",
              "      <button class=\"colab-df-quickchart\" onclick=\"quickchart('df-2f1aa02e-bd4d-407a-8bf4-ecb1dbac09a8')\"\n",
              "                title=\"Suggest charts\"\n",
              "                style=\"display:none;\">\n",
              "\n",
              "<svg xmlns=\"http://www.w3.org/2000/svg\" height=\"24px\"viewBox=\"0 0 24 24\"\n",
              "     width=\"24px\">\n",
              "    <g>\n",
              "        <path d=\"M19 3H5c-1.1 0-2 .9-2 2v14c0 1.1.9 2 2 2h14c1.1 0 2-.9 2-2V5c0-1.1-.9-2-2-2zM9 17H7v-7h2v7zm4 0h-2V7h2v10zm4 0h-2v-4h2v4z\"/>\n",
              "    </g>\n",
              "</svg>\n",
              "      </button>\n",
              "\n",
              "<style>\n",
              "  .colab-df-quickchart {\n",
              "      --bg-color: #E8F0FE;\n",
              "      --fill-color: #1967D2;\n",
              "      --hover-bg-color: #E2EBFA;\n",
              "      --hover-fill-color: #174EA6;\n",
              "      --disabled-fill-color: #AAA;\n",
              "      --disabled-bg-color: #DDD;\n",
              "  }\n",
              "\n",
              "  [theme=dark] .colab-df-quickchart {\n",
              "      --bg-color: #3B4455;\n",
              "      --fill-color: #D2E3FC;\n",
              "      --hover-bg-color: #434B5C;\n",
              "      --hover-fill-color: #FFFFFF;\n",
              "      --disabled-bg-color: #3B4455;\n",
              "      --disabled-fill-color: #666;\n",
              "  }\n",
              "\n",
              "  .colab-df-quickchart {\n",
              "    background-color: var(--bg-color);\n",
              "    border: none;\n",
              "    border-radius: 50%;\n",
              "    cursor: pointer;\n",
              "    display: none;\n",
              "    fill: var(--fill-color);\n",
              "    height: 32px;\n",
              "    padding: 0;\n",
              "    width: 32px;\n",
              "  }\n",
              "\n",
              "  .colab-df-quickchart:hover {\n",
              "    background-color: var(--hover-bg-color);\n",
              "    box-shadow: 0 1px 2px rgba(60, 64, 67, 0.3), 0 1px 3px 1px rgba(60, 64, 67, 0.15);\n",
              "    fill: var(--button-hover-fill-color);\n",
              "  }\n",
              "\n",
              "  .colab-df-quickchart-complete:disabled,\n",
              "  .colab-df-quickchart-complete:disabled:hover {\n",
              "    background-color: var(--disabled-bg-color);\n",
              "    fill: var(--disabled-fill-color);\n",
              "    box-shadow: none;\n",
              "  }\n",
              "\n",
              "  .colab-df-spinner {\n",
              "    border: 2px solid var(--fill-color);\n",
              "    border-color: transparent;\n",
              "    border-bottom-color: var(--fill-color);\n",
              "    animation:\n",
              "      spin 1s steps(1) infinite;\n",
              "  }\n",
              "\n",
              "  @keyframes spin {\n",
              "    0% {\n",
              "      border-color: transparent;\n",
              "      border-bottom-color: var(--fill-color);\n",
              "      border-left-color: var(--fill-color);\n",
              "    }\n",
              "    20% {\n",
              "      border-color: transparent;\n",
              "      border-left-color: var(--fill-color);\n",
              "      border-top-color: var(--fill-color);\n",
              "    }\n",
              "    30% {\n",
              "      border-color: transparent;\n",
              "      border-left-color: var(--fill-color);\n",
              "      border-top-color: var(--fill-color);\n",
              "      border-right-color: var(--fill-color);\n",
              "    }\n",
              "    40% {\n",
              "      border-color: transparent;\n",
              "      border-right-color: var(--fill-color);\n",
              "      border-top-color: var(--fill-color);\n",
              "    }\n",
              "    60% {\n",
              "      border-color: transparent;\n",
              "      border-right-color: var(--fill-color);\n",
              "    }\n",
              "    80% {\n",
              "      border-color: transparent;\n",
              "      border-right-color: var(--fill-color);\n",
              "      border-bottom-color: var(--fill-color);\n",
              "    }\n",
              "    90% {\n",
              "      border-color: transparent;\n",
              "      border-bottom-color: var(--fill-color);\n",
              "    }\n",
              "  }\n",
              "</style>\n",
              "\n",
              "      <script>\n",
              "        async function quickchart(key) {\n",
              "          const quickchartButtonEl =\n",
              "            document.querySelector('#' + key + ' button');\n",
              "          quickchartButtonEl.disabled = true;  // To prevent multiple clicks.\n",
              "          quickchartButtonEl.classList.add('colab-df-spinner');\n",
              "          try {\n",
              "            const charts = await google.colab.kernel.invokeFunction(\n",
              "                'suggestCharts', [key], {});\n",
              "          } catch (error) {\n",
              "            console.error('Error during call to suggestCharts:', error);\n",
              "          }\n",
              "          quickchartButtonEl.classList.remove('colab-df-spinner');\n",
              "          quickchartButtonEl.classList.add('colab-df-quickchart-complete');\n",
              "        }\n",
              "        (() => {\n",
              "          let quickchartButtonEl =\n",
              "            document.querySelector('#df-2f1aa02e-bd4d-407a-8bf4-ecb1dbac09a8 button');\n",
              "          quickchartButtonEl.style.display =\n",
              "            google.colab.kernel.accessAllowed ? 'block' : 'none';\n",
              "        })();\n",
              "      </script>\n",
              "    </div>\n",
              "\n",
              "    </div>\n",
              "  </div>\n"
            ],
            "application/vnd.google.colaboratory.intrinsic+json": {
              "type": "dataframe",
              "variable_name": "df",
              "summary": "{\n  \"name\": \"df\",\n  \"rows\": 10398,\n  \"fields\": [\n    {\n      \"column\": \"row_id\",\n      \"properties\": {\n        \"dtype\": \"number\",\n        \"std\": 1114428,\n        \"min\": 32600,\n        \"max\": 3609917,\n        \"num_unique_values\": 10398,\n        \"samples\": [\n          3211391,\n          3493552,\n          401211\n        ],\n        \"semantic_type\": \"\",\n        \"description\": \"\"\n      }\n    },\n    {\n      \"column\": \"subject_id\",\n      \"properties\": {\n        \"dtype\": \"number\",\n        \"std\": 15713,\n        \"min\": 10006,\n        \"max\": 44228,\n        \"num_unique_values\": 94,\n        \"samples\": [\n          10013,\n          41795,\n          43881\n        ],\n        \"semantic_type\": \"\",\n        \"description\": \"\"\n      }\n    },\n    {\n      \"column\": \"hadm_id\",\n      \"properties\": {\n        \"dtype\": \"number\",\n        \"std\": 27775,\n        \"min\": 100375,\n        \"max\": 199395,\n        \"num_unique_values\": 122,\n        \"samples\": [\n          188574,\n          167612,\n          198503\n        ],\n        \"semantic_type\": \"\",\n        \"description\": \"\"\n      }\n    },\n    {\n      \"column\": \"icustay_id\",\n      \"properties\": {\n        \"dtype\": \"number\",\n        \"std\": 27971.348237523136,\n        \"min\": 201006.0,\n        \"max\": 298685.0,\n        \"num_unique_values\": 126,\n        \"samples\": [\n          271544.0,\n          224063.0,\n          281609.0\n        ],\n        \"semantic_type\": \"\",\n        \"description\": \"\"\n      }\n    },\n    {\n      \"column\": \"startdate\",\n      \"properties\": {\n        \"dtype\": \"object\",\n        \"num_unique_values\": 1048,\n        \"samples\": [\n          \"2147-11-04 00:00:00\",\n          \"2144-11-01 00:00:00\",\n          \"2166-02-24 00:00:00\"\n        ],\n        \"semantic_type\": \"\",\n        \"description\": \"\"\n      }\n    },\n    {\n      \"column\": \"enddate\",\n      \"properties\": {\n        \"dtype\": \"object\",\n        \"num_unique_values\": 1054,\n        \"samples\": [\n          \"2129-11-29 00:00:00\",\n          \"2151-08-16 00:00:00\",\n          \"2123-12-09 00:00:00\"\n        ],\n        \"semantic_type\": \"\",\n        \"description\": \"\"\n      }\n    },\n    {\n      \"column\": \"drug_type\",\n      \"properties\": {\n        \"dtype\": \"category\",\n        \"num_unique_values\": 3,\n        \"samples\": [\n          \"MAIN\",\n          \"BASE\",\n          \"ADDITIVE\"\n        ],\n        \"semantic_type\": \"\",\n        \"description\": \"\"\n      }\n    },\n    {\n      \"column\": \"drug\",\n      \"properties\": {\n        \"dtype\": \"category\",\n        \"num_unique_values\": 592,\n        \"samples\": [\n          \"NORepinephrine\",\n          \"Carbamazepine XR\",\n          \"Folic Acid\"\n        ],\n        \"semantic_type\": \"\",\n        \"description\": \"\"\n      }\n    },\n    {\n      \"column\": \"drug_name_poe\",\n      \"properties\": {\n        \"dtype\": \"category\",\n        \"num_unique_values\": 448,\n        \"samples\": [\n          \"Lidocaine\",\n          \"Tocopheryl\",\n          \"Erythromycin 0.5% Ophth Oint\"\n        ],\n        \"semantic_type\": \"\",\n        \"description\": \"\"\n      }\n    },\n    {\n      \"column\": \"drug_name_generic\",\n      \"properties\": {\n        \"dtype\": \"category\",\n        \"num_unique_values\": 473,\n        \"samples\": [\n          \"Magnesium Sulfate\",\n          \"Isosorbide Mononitrate (Extended Release)\",\n          \"Furosemide\"\n        ],\n        \"semantic_type\": \"\",\n        \"description\": \"\"\n      }\n    },\n    {\n      \"column\": \"formulary_drug_cd\",\n      \"properties\": {\n        \"dtype\": \"category\",\n        \"num_unique_values\": 823,\n        \"samples\": [\n          \"ERYT500I\",\n          \"CLOP75\",\n          \"MORP100PM\"\n        ],\n        \"semantic_type\": \"\",\n        \"description\": \"\"\n      }\n    },\n    {\n      \"column\": \"gsn\",\n      \"properties\": {\n        \"dtype\": \"number\",\n        \"std\": 18049.574824775,\n        \"min\": 15.0,\n        \"max\": 68196.0,\n        \"num_unique_values\": 724,\n        \"samples\": [\n          346.0,\n          40376.0,\n          1166.0\n        ],\n        \"semantic_type\": \"\",\n        \"description\": \"\"\n      }\n    },\n    {\n      \"column\": \"ndc\",\n      \"properties\": {\n        \"dtype\": \"number\",\n        \"std\": 22269037146.522038,\n        \"min\": 0.0,\n        \"max\": 87701071218.0,\n        \"num_unique_values\": 996,\n        \"samples\": [\n          132000119.0,\n          54569384900.0,\n          409490234.0\n        ],\n        \"semantic_type\": \"\",\n        \"description\": \"\"\n      }\n    },\n    {\n      \"column\": \"prod_strength\",\n      \"properties\": {\n        \"dtype\": \"category\",\n        \"num_unique_values\": 766,\n        \"samples\": [\n          \"30 mg CR Tab\",\n          \"1000 mg / 100 mL Vial\",\n          \"150MG UMI CUP\"\n        ],\n        \"semantic_type\": \"\",\n        \"description\": \"\"\n      }\n    },\n    {\n      \"column\": \"dose_val_rx\",\n      \"properties\": {\n        \"dtype\": \"category\",\n        \"num_unique_values\": 222,\n        \"samples\": [\n          \"17.5\",\n          \"1100\",\n          \"325\"\n        ],\n        \"semantic_type\": \"\",\n        \"description\": \"\"\n      }\n    },\n    {\n      \"column\": \"dose_unit_rx\",\n      \"properties\": {\n        \"dtype\": \"category\",\n        \"num_unique_values\": 35,\n        \"samples\": [\n          \"million units\",\n          \"Appl\",\n          \"LOZ\"\n        ],\n        \"semantic_type\": \"\",\n        \"description\": \"\"\n      }\n    },\n    {\n      \"column\": \"form_val_disp\",\n      \"properties\": {\n        \"dtype\": \"category\",\n        \"num_unique_values\": 229,\n        \"samples\": [\n          \"49\",\n          \"0.026\",\n          \"0.01\"\n        ],\n        \"semantic_type\": \"\",\n        \"description\": \"\"\n      }\n    },\n    {\n      \"column\": \"form_unit_disp\",\n      \"properties\": {\n        \"dtype\": \"category\",\n        \"num_unique_values\": 32,\n        \"samples\": [\n          \"TROC\",\n          \"DBTL\",\n          \"PTCH\"\n        ],\n        \"semantic_type\": \"\",\n        \"description\": \"\"\n      }\n    },\n    {\n      \"column\": \"route\",\n      \"properties\": {\n        \"dtype\": \"category\",\n        \"num_unique_values\": 37,\n        \"samples\": [\n          \"J TUBE\",\n          \"OS\",\n          \"ORAL\"\n        ],\n        \"semantic_type\": \"\",\n        \"description\": \"\"\n      }\n    }\n  ]\n}"
            }
          },
          "metadata": {},
          "execution_count": 4
        }
      ]
    },
    {
      "cell_type": "code",
      "source": [
        "df.to_sql(\"PRESCRIPTIONS\", conn, index=False)"
      ],
      "metadata": {
        "colab": {
          "base_uri": "https://localhost:8080/"
        },
        "id": "rFgqE3QjNQgm",
        "outputId": "5b7a730b-80cb-4129-cc6b-373a410e9089"
      },
      "execution_count": null,
      "outputs": [
        {
          "output_type": "stream",
          "name": "stderr",
          "text": [
            "<ipython-input-5-b6ee6ec9addd>:1: UserWarning: pandas only supports SQLAlchemy connectable (engine/connection) or database string URI or sqlite3 DBAPI2 connection. Other DBAPI2 objects are not tested. Please consider using SQLAlchemy.\n",
            "  df.to_sql(\"PRESCRIPTIONS\", conn, index=False)\n"
          ]
        },
        {
          "output_type": "execute_result",
          "data": {
            "text/plain": [
              "-1"
            ]
          },
          "metadata": {},
          "execution_count": 5
        }
      ]
    },
    {
      "cell_type": "code",
      "source": [
        "conn.close()"
      ],
      "metadata": {
        "id": "rUkeTPzSNfGA"
      },
      "execution_count": null,
      "outputs": []
    },
    {
      "cell_type": "code",
      "source": [
        "conn = duckdb.connect('mimic.db')\n",
        "\n",
        "conn.sql('SHOW TABLES;')"
      ],
      "metadata": {
        "colab": {
          "base_uri": "https://localhost:8080/"
        },
        "id": "clJsGz_yNXak",
        "outputId": "6914e33d-81ae-4ed8-ef9f-285c8fc566e2"
      },
      "execution_count": null,
      "outputs": [
        {
          "output_type": "execute_result",
          "data": {
            "text/plain": [
              "┌───────────────┐\n",
              "│     name      │\n",
              "│    varchar    │\n",
              "├───────────────┤\n",
              "│ ADMISSIONS    │\n",
              "│ DRGCODES      │\n",
              "│ D_ICDPROCS    │\n",
              "│ ICUSTAYS      │\n",
              "│ PATIENTS      │\n",
              "│ PRESCRIPTIONS │\n",
              "│ PROCS_ICD     │\n",
              "└───────────────┘"
            ]
          },
          "metadata": {},
          "execution_count": 7
        }
      ]
    },
    {
      "cell_type": "code",
      "source": [
        "conn.sql(\n",
        "    \"\"\"\n",
        "    SELECT * FROM PRESCRIPTIONS LIMIT 2;\n",
        "    \"\"\"\n",
        ")"
      ],
      "metadata": {
        "colab": {
          "base_uri": "https://localhost:8080/"
        },
        "id": "WAsSgwKuNXED",
        "outputId": "e9b81178-c16f-4836-b72f-2af0949c4c7f"
      },
      "execution_count": null,
      "outputs": [
        {
          "output_type": "execute_result",
          "data": {
            "text/plain": [
              "┌────────────┬─────────┬────────────┬─────────────────────┬─────────────────────┬───────────┬─────────────────────────────┬─────────────────────────────┬─────────────────────────────┬───────────────────┬─────────┬─────────────┬──────────────────┬─────────────┬──────────────┬───────────────┬────────────────┬─────────┐\n",
              "│ subject_id │ hadm_id │ icustay_id │      startdate      │       enddate       │ drug_type │            drug             │        drug_name_poe        │      drug_name_generic      │ formulary_drug_cd │   gsn   │     ndc     │  prod_strength   │ dose_val_rx │ dose_unit_rx │ form_val_disp │ form_unit_disp │  route  │\n",
              "│   int32    │  int32  │   float    │       varchar       │       varchar       │  varchar  │           varchar           │           varchar           │           varchar           │      varchar      │  float  │    float    │     varchar      │   varchar   │   varchar    │    varchar    │    varchar     │ varchar │\n",
              "├────────────┼─────────┼────────────┼─────────────────────┼─────────────────────┼───────────┼─────────────────────────────┼─────────────────────────────┼─────────────────────────────┼───────────────────┼─────────┼─────────────┼──────────────────┼─────────────┼──────────────┼───────────────┼────────────────┼─────────┤\n",
              "│      42458 │  159647 │       NULL │ 2146-07-21 00:00:00 │ 2146-07-22 00:00:00 │ MAIN      │ Pneumococcal Vac Polyvalent │ Pneumococcal Vac Polyvalent │ PNEUMOcoccal Vac Polyvalent │ PNEU25I           │ 48548.0 │   6494300.0 │ 25mcg/0.5mL Vial │ 0.5         │ mL           │ 1             │ VIAL           │ IM      │\n",
              "│      42458 │  159647 │       NULL │ 2146-07-21 00:00:00 │ 2146-07-22 00:00:00 │ MAIN      │ Bisacodyl                   │ Bisacodyl                   │ Bisacodyl                   │ BISA5             │  2947.0 │ 536338100.0 │ 5 mg Tab         │ 10          │ mg           │ 2             │ TAB            │ PO      │\n",
              "└────────────┴─────────┴────────────┴─────────────────────┴─────────────────────┴───────────┴─────────────────────────────┴─────────────────────────────┴─────────────────────────────┴───────────────────┴─────────┴─────────────┴──────────────────┴─────────────┴──────────────┴───────────────┴────────────────┴─────────┘"
            ]
          },
          "metadata": {},
          "execution_count": 8
        }
      ]
    },
    {
      "cell_type": "markdown",
      "source": [
        "#### Part I Question 1\n",
        "Create a summary of type of drugs and their total amount used by ethnicity. Report the top usage in each ethnicity group. You may have to make certain assumptions in calculating their total amount."
      ],
      "metadata": {
        "id": "deMwwBe5WukX"
      }
    },
    {
      "cell_type": "code",
      "source": [
        "conn.sql(\n",
        "    \"\"\"\n",
        "    SELECT ethnicity, drug, dose_val_rx, dose_unit_rx, count(drug) as prescription_count\n",
        "    FROM ADMISSIONS\n",
        "    JOIN PRESCRIPTIONS ON ADMISSIONS.subject_id = PRESCRIPTIONS.subject_id\n",
        "    GROUP BY ethnicity, drug, dose_val_rx, dose_unit_rx\n",
        "    ORDER BY prescription_count DESC\n",
        "    LIMIT 5;\n",
        "    \"\"\"\n",
        ")"
      ],
      "metadata": {
        "id": "vEA8FKuEW0TX",
        "colab": {
          "base_uri": "https://localhost:8080/"
        },
        "outputId": "8e464b6f-8843-42b5-e397-a1b72c8c35b3"
      },
      "execution_count": null,
      "outputs": [
        {
          "output_type": "execute_result",
          "data": {
            "text/plain": [
              "┌────────────────────────────────┬──────────────────────────────────────┬─────────────┬──────────────┬────────────────────┐\n",
              "│           ethnicity            │                 drug                 │ dose_val_rx │ dose_unit_rx │ prescription_count │\n",
              "│            varchar             │               varchar                │   varchar   │   varchar    │       int64        │\n",
              "├────────────────────────────────┼──────────────────────────────────────┼─────────────┼──────────────┼────────────────────┤\n",
              "│ HISPANIC/LATINO - PUERTO RICAN │ 0.9% Sodium Chloride (Mini Bag Plus) │ 100         │ mL           │                465 │\n",
              "│ HISPANIC/LATINO - PUERTO RICAN │ 0.9% Sodium Chloride                 │ 1000        │ mL           │                420 │\n",
              "│ HISPANIC/LATINO - PUERTO RICAN │ Potassium Chloride                   │ 40          │ mEq          │                390 │\n",
              "│ HISPANIC/LATINO - PUERTO RICAN │ Insulin                              │ 0           │ UNIT         │                375 │\n",
              "│ HISPANIC/LATINO - PUERTO RICAN │ Vancomycin                           │ 1000        │ mg           │                360 │\n",
              "│ HISPANIC/LATINO - PUERTO RICAN │ Iso-Osmotic Dextrose                 │ 200         │ mL           │                360 │\n",
              "│ HISPANIC/LATINO - PUERTO RICAN │ 5% Dextrose                          │ 250         │ mL           │                360 │\n",
              "│ HISPANIC/LATINO - PUERTO RICAN │ 0.9% Sodium Chloride                 │ 500         │ mL           │                330 │\n",
              "│ HISPANIC/LATINO - PUERTO RICAN │ Neutra-Phos                          │ 2           │ PKT          │                300 │\n",
              "│ HISPANIC/LATINO - PUERTO RICAN │ Gabapentin                           │ 300         │ mg           │                300 │\n",
              "├────────────────────────────────┴──────────────────────────────────────┴─────────────┴──────────────┴────────────────────┤\n",
              "│ 10 rows                                                                                                       5 columns │\n",
              "└─────────────────────────────────────────────────────────────────────────────────────────────────────────────────────────┘"
            ]
          },
          "metadata": {},
          "execution_count": 16
        }
      ]
    },
    {
      "cell_type": "markdown",
      "source": [
        "Going to need to grab admissions for ethnicity and prescriptions\n",
        "\n",
        "https://www.geeksforgeeks.org/how-to-select-the-first-row-of-each-group-by-in-sql/"
      ],
      "metadata": {
        "id": "71Ce8UQ6kUfb"
      }
    },
    {
      "cell_type": "code",
      "source": [
        "conn.sql(\n",
        "    \"\"\"\n",
        "    SELECT ethnicity, drug, dose_val_rx, dose_unit_rx, prescription_count\n",
        "    FROM (\n",
        "        SELECT\n",
        "            ADMISSIONS.ethnicity,\n",
        "            PRESCRIPTIONS.drug,\n",
        "            PRESCRIPTIONS.dose_val_rx,\n",
        "            PRESCRIPTIONS.dose_unit_rx,\n",
        "            COUNT(*) AS prescription_count,\n",
        "            ROW_NUMBER() OVER (\n",
        "                PARTITION BY ADMISSIONS.ethnicity\n",
        "                ORDER BY COUNT(*) DESC\n",
        "            ) AS rank\n",
        "        FROM ADMISSIONS\n",
        "        JOIN PRESCRIPTIONS ON ADMISSIONS.subject_id = PRESCRIPTIONS.subject_id\n",
        "        GROUP BY\n",
        "            ADMISSIONS.ethnicity,\n",
        "            PRESCRIPTIONS.drug,\n",
        "            PRESCRIPTIONS.dose_val_rx,\n",
        "            PRESCRIPTIONS.dose_unit_rx\n",
        "    )\n",
        "    WHERE rank = 1\n",
        "    ORDER BY ethnicity;\n",
        "    \"\"\"\n",
        ")\n"
      ],
      "metadata": {
        "colab": {
          "base_uri": "https://localhost:8080/"
        },
        "id": "zJWddpX3Oz10",
        "outputId": "e54ef0e7-b0f5-45ee-e35e-160069ab8f50"
      },
      "execution_count": null,
      "outputs": [
        {
          "output_type": "execute_result",
          "data": {
            "text/plain": [
              "┌──────────────────────────────────────────────────────────┬──────────────────────────────────────┬─────────────┬──────────────┬────────────────────┐\n",
              "│                        ethnicity                         │                 drug                 │ dose_val_rx │ dose_unit_rx │ prescription_count │\n",
              "│                         varchar                          │               varchar                │   varchar   │   varchar    │       int64        │\n",
              "├──────────────────────────────────────────────────────────┼──────────────────────────────────────┼─────────────┼──────────────┼────────────────────┤\n",
              "│ AMERICAN INDIAN/ALASKA NATIVE FEDERALLY RECOGNIZED TRIBE │ 5% Dextrose                          │ 1000        │ mL           │                 30 │\n",
              "│ ASIAN                                                    │ D5W                                  │ 250         │ ml           │                 14 │\n",
              "│ BLACK/AFRICAN AMERICAN                                   │ Insulin                              │ 0           │ UNIT         │                 38 │\n",
              "│ HISPANIC OR LATINO                                       │ 5% Dextrose                          │ 1000        │ mL           │                 15 │\n",
              "│ HISPANIC/LATINO - PUERTO RICAN                           │ 0.9% Sodium Chloride (Mini Bag Plus) │ 100         │ mL           │                465 │\n",
              "│ OTHER                                                    │ NS                                   │ 500         │ ml           │                  6 │\n",
              "│ UNABLE TO OBTAIN                                         │ 0.9% Sodium Chloride                 │ 500         │ mL           │                 15 │\n",
              "│ UNKNOWN/NOT SPECIFIED                                    │ D5W                                  │ 250         │ ml           │                 17 │\n",
              "│ WHITE                                                    │ Potassium Chloride                   │ 40          │ mEq          │                277 │\n",
              "└──────────────────────────────────────────────────────────┴──────────────────────────────────────┴─────────────┴──────────────┴────────────────────┘"
            ]
          },
          "metadata": {},
          "execution_count": 17
        }
      ]
    },
    {
      "cell_type": "code",
      "source": [
        "conn.sql(\n",
        "    \"\"\"\n",
        "    SELECT\n",
        "        ADMISSIONS.ethnicity,\n",
        "        PRESCRIPTIONS.drug,\n",
        "        SUM(CAST(PRESCRIPTIONS.dose_val_rx AS INT)) AS total_dose,\n",
        "        dose_unit_rx\n",
        "    FROM ADMISSIONS\n",
        "    JOIN PRESCRIPTIONS ON ADMISSIONS.subject_id = PRESCRIPTIONS.subject_id\n",
        "    WHERE PRESCRIPTIONS.dose_val_rx ~ '^\\\\d+(\\\\.\\\\d+)?$'\n",
        "    GROUP BY ADMISSIONS.ethnicity, PRESCRIPTIONS.drug, PRESCRIPTIONS.dose_unit_rx\n",
        "    ORDER BY ethnicity, total_dose DESC;\n",
        "    \"\"\"\n",
        ")\n"
      ],
      "metadata": {
        "colab": {
          "base_uri": "https://localhost:8080/"
        },
        "id": "vbtXMD98Qc7Q",
        "outputId": "4fd75818-4133-4998-e3cd-d5ea3cb1e4d7"
      },
      "execution_count": null,
      "outputs": [
        {
          "output_type": "execute_result",
          "data": {
            "text/plain": [
              "┌──────────────────────────────────────────────────────────┬─────────────────────────┬────────────┬──────────────┐\n",
              "│                        ethnicity                         │          drug           │ total_dose │ dose_unit_rx │\n",
              "│                         varchar                          │         varchar         │   int128   │   varchar    │\n",
              "├──────────────────────────────────────────────────────────┼─────────────────────────┼────────────┼──────────────┤\n",
              "│ AMERICAN INDIAN/ALASKA NATIVE FEDERALLY RECOGNIZED TRIBE │ 5% Dextrose             │      33800 │ mL           │\n",
              "│ AMERICAN INDIAN/ALASKA NATIVE FEDERALLY RECOGNIZED TRIBE │ Heparin                 │      30000 │ UNIT         │\n",
              "│ AMERICAN INDIAN/ALASKA NATIVE FEDERALLY RECOGNIZED TRIBE │ 0.9% Sodium Chloride    │      27200 │ mL           │\n",
              "│ AMERICAN INDIAN/ALASKA NATIVE FEDERALLY RECOGNIZED TRIBE │ Lactulose Enema         │      10000 │ mL           │\n",
              "│ AMERICAN INDIAN/ALASKA NATIVE FEDERALLY RECOGNIZED TRIBE │ Vancomycin              │       8000 │ mg           │\n",
              "│ AMERICAN INDIAN/ALASKA NATIVE FEDERALLY RECOGNIZED TRIBE │ Propofol                │       7200 │ mg           │\n",
              "│ AMERICAN INDIAN/ALASKA NATIVE FEDERALLY RECOGNIZED TRIBE │ LeVETiracetam           │       6500 │ mg           │\n",
              "│ AMERICAN INDIAN/ALASKA NATIVE FEDERALLY RECOGNIZED TRIBE │ Acetaminophen           │       6500 │ mg           │\n",
              "│ AMERICAN INDIAN/ALASKA NATIVE FEDERALLY RECOGNIZED TRIBE │ LR                      │       6000 │ mL           │\n",
              "│ AMERICAN INDIAN/ALASKA NATIVE FEDERALLY RECOGNIZED TRIBE │ Rifaximin               │       4000 │ mg           │\n",
              "│   ·                                                      │     ·                   │          · │ ·            │\n",
              "│   ·                                                      │     ·                   │          · │ ·            │\n",
              "│   ·                                                      │     ·                   │          · │ ·            │\n",
              "│ WHITE                                                    │ *NF* Ertapenem Sodium   │          1 │ gm           │\n",
              "│ WHITE                                                    │ Hydromorphone           │          1 │ mg           │\n",
              "│ WHITE                                                    │ Hyoscyamine             │          0 │ mg           │\n",
              "│ WHITE                                                    │ CloniDINE               │          0 │ mg           │\n",
              "│ WHITE                                                    │ Fludrocortisone Acetate │          0 │ mg           │\n",
              "│ WHITE                                                    │ Clonazepam              │          0 │ mg           │\n",
              "│ WHITE                                                    │ Calcitriol              │          0 │ mcg          │\n",
              "│ WHITE                                                    │ Epoprostenol Na         │          0 │ mg           │\n",
              "│ WHITE                                                    │ Nitroglycerin SL        │          0 │ mg           │\n",
              "│ WHITE                                                    │ Tamsulosin              │          0 │ mg           │\n",
              "├──────────────────────────────────────────────────────────┴─────────────────────────┴────────────┴──────────────┤\n",
              "│ 1318 rows (20 shown)                                                                                 4 columns │\n",
              "└────────────────────────────────────────────────────────────────────────────────────────────────────────────────┘"
            ]
          },
          "metadata": {},
          "execution_count": 26
        }
      ]
    },
    {
      "cell_type": "markdown",
      "source": [
        "#### Part I Question 2\n",
        "Create a summary of procedures performed on patients by age groups (<=19, 20-49, 50-79, >80). Report the top three procedures, along with the name of the procedures, performed in each age group."
      ],
      "metadata": {
        "id": "nD8--xYpWxcu"
      }
    },
    {
      "cell_type": "code",
      "source": [
        "conn.sql(\n",
        "    \"\"\"\n",
        "    SELECT * FROM PATIENTS LIMIT 2;\n",
        "    \"\"\"\n",
        ")"
      ],
      "metadata": {
        "colab": {
          "base_uri": "https://localhost:8080/"
        },
        "id": "Ftl2QvTqYDus",
        "outputId": "534c0369-56e9-412e-db36-e243e598805a"
      },
      "execution_count": null,
      "outputs": [
        {
          "output_type": "execute_result",
          "data": {
            "text/plain": [
              "┌────────┬────────────┬─────────┬─────────────────────┬─────────────────────┬─────────────────────┬─────────────────────┬─────────────┐\n",
              "│ row_id │ subject_id │ gender  │         dob         │         dod         │      dod_hosp       │       dod_ssn       │ expire_flag │\n",
              "│ int32  │   int32    │ varchar │       varchar       │       varchar       │       varchar       │       varchar       │    int32    │\n",
              "├────────┼────────────┼─────────┼─────────────────────┼─────────────────────┼─────────────────────┼─────────────────────┼─────────────┤\n",
              "│   9467 │      10006 │ F       │ 2094-03-05 00:00:00 │ 2165-08-12 00:00:00 │ 2165-08-12 00:00:00 │ 2165-08-12 00:00:00 │           1 │\n",
              "│   9472 │      10011 │ F       │ 2090-06-05 00:00:00 │ 2126-08-28 00:00:00 │ 2126-08-28 00:00:00 │ NULL                │           1 │\n",
              "└────────┴────────────┴─────────┴─────────────────────┴─────────────────────┴─────────────────────┴─────────────────────┴─────────────┘"
            ]
          },
          "metadata": {},
          "execution_count": 64
        }
      ]
    },
    {
      "cell_type": "code",
      "source": [
        "conn.sql(\n",
        "    \"\"\"\n",
        "    SELECT * FROM ADMISSIONS LIMIT 2;\n",
        "    \"\"\"\n",
        ")"
      ],
      "metadata": {
        "colab": {
          "base_uri": "https://localhost:8080/"
        },
        "id": "ChJXyDB8YyDF",
        "outputId": "454b8ae8-4bb5-4885-cbcd-109ad6d4da44"
      },
      "execution_count": null,
      "outputs": [
        {
          "output_type": "execute_result",
          "data": {
            "text/plain": [
              "┌────────┬────────────┬─────────┬─────────────────────┬─────────────────────┬─────────────────────┬────────────────┬───────────────────────────┬────────────────────┬───────────┬──────────┬──────────┬────────────────┬────────────────────────┬─────────────────────┬─────────────────────┬─────────────┬──────────────────────┬──────────────────────┐\n",
              "│ row_id │ subject_id │ hadm_id │      admittime      │      dischtime      │      deathtime      │ admission_type │    admission_location     │ discharge_location │ insurance │ language │ religion │ marital_status │       ethnicity        │      edregtime      │      edouttime      │  diagnosis  │ hospital_expire_flag │ has_chartevents_data │\n",
              "│ int32  │   int32    │  int32  │       varchar       │       varchar       │       varchar       │    varchar     │          varchar          │      varchar       │  varchar  │ varchar  │ varchar  │    varchar     │        varchar         │       varchar       │       varchar       │   varchar   │        int32         │        int32         │\n",
              "├────────┼────────────┼─────────┼─────────────────────┼─────────────────────┼─────────────────────┼────────────────┼───────────────────────────┼────────────────────┼───────────┼──────────┼──────────┼────────────────┼────────────────────────┼─────────────────────┼─────────────────────┼─────────────┼──────────────────────┼──────────────────────┤\n",
              "│  12258 │      10006 │  142345 │ 2164-10-23 21:09:00 │ 2164-11-01 17:15:00 │ NULL                │ EMERGENCY      │ EMERGENCY ROOM ADMIT      │ HOME HEALTH CARE   │ Medicare  │ NULL     │ CATHOLIC │ SEPARATED      │ BLACK/AFRICAN AMERICAN │ 2164-10-23 16:43:00 │ 2164-10-23 23:00:00 │ SEPSIS      │                    0 │                    1 │\n",
              "│  12263 │      10011 │  105331 │ 2126-08-14 22:32:00 │ 2126-08-28 18:59:00 │ 2126-08-28 18:59:00 │ EMERGENCY      │ TRANSFER FROM HOSP/EXTRAM │ DEAD/EXPIRED       │ Private   │ NULL     │ CATHOLIC │ SINGLE         │ UNKNOWN/NOT SPECIFIED  │ NULL                │ NULL                │ HEPATITIS B │                    1 │                    1 │\n",
              "└────────┴────────────┴─────────┴─────────────────────┴─────────────────────┴─────────────────────┴────────────────┴───────────────────────────┴────────────────────┴───────────┴──────────┴──────────┴────────────────┴────────────────────────┴─────────────────────┴─────────────────────┴─────────────┴──────────────────────┴──────────────────────┘"
            ]
          },
          "metadata": {},
          "execution_count": 63
        }
      ]
    },
    {
      "cell_type": "code",
      "source": [
        "conn.sql(\n",
        "    \"\"\"\n",
        "    SELECT * FROM PROCS_ICD LIMIT 2;\n",
        "    \"\"\"\n",
        ")"
      ],
      "metadata": {
        "colab": {
          "base_uri": "https://localhost:8080/"
        },
        "id": "sLJtyS8JXM-f",
        "outputId": "2e13f34c-09e5-43f0-8f16-ba2c63fb1c46"
      },
      "execution_count": null,
      "outputs": [
        {
          "output_type": "execute_result",
          "data": {
            "text/plain": [
              "┌────────┬────────────┬─────────┬─────────┬───────────┐\n",
              "│ row_id │ subject_id │ hadm_id │ seq_num │ icd9_code │\n",
              "│ int32  │   int32    │  int32  │  int32  │   int32   │\n",
              "├────────┼────────────┼─────────┼─────────┼───────────┤\n",
              "│   3994 │      10114 │  167957 │       1 │      3605 │\n",
              "│   3995 │      10114 │  167957 │       2 │      3722 │\n",
              "└────────┴────────────┴─────────┴─────────┴───────────┘"
            ]
          },
          "metadata": {},
          "execution_count": 54
        }
      ]
    },
    {
      "cell_type": "code",
      "source": [
        "conn.sql(\n",
        "    \"\"\"\n",
        "    SELECT * FROM D_ICDPROCS LIMIT 2;\n",
        "    \"\"\"\n",
        ")"
      ],
      "metadata": {
        "colab": {
          "base_uri": "https://localhost:8080/"
        },
        "id": "9m-KmFD9XwCX",
        "outputId": "fe5cd1d0-dd7f-4bf9-eefa-c2e8576f1203"
      },
      "execution_count": null,
      "outputs": [
        {
          "output_type": "execute_result",
          "data": {
            "text/plain": [
              "┌────────┬───────────┬──────────────────────────┬───────────────────────────────────────────────────────────────────┐\n",
              "│ row_id │ icd9_code │       short_title        │                            long_title                             │\n",
              "│ int32  │   int32   │         varchar          │                              varchar                              │\n",
              "├────────┼───────────┼──────────────────────────┼───────────────────────────────────────────────────────────────────┤\n",
              "│      1 │      1423 │ Chorioret les xenon coag │ Destruction of chorioretinal lesion by xenon arc photocoagulation │\n",
              "│      2 │      1424 │ Chorioret les laser coag │ Destruction of chorioretinal lesion by laser photocoagulation     │\n",
              "└────────┴───────────┴──────────────────────────┴───────────────────────────────────────────────────────────────────┘"
            ]
          },
          "metadata": {},
          "execution_count": 56
        }
      ]
    },
    {
      "cell_type": "code",
      "source": [
        "conn.sql(\n",
        "    \"\"\"\n",
        "    SELECT date_diff('year', cast(dob as DATE), cast(dischtime as DATE)) as age\n",
        "    FROM PATIENTS\n",
        "    JOIN ADMISSIONS ON PATIENTS.subject_id=ADMISSIONS.subject_id\n",
        "    LIMIT 10;\n",
        "    \"\"\"\n",
        ")"
      ],
      "metadata": {
        "colab": {
          "base_uri": "https://localhost:8080/"
        },
        "id": "bjFaFqnMYdao",
        "outputId": "c23de875-9fd6-4e42-dea1-8ec06bbc74f4"
      },
      "execution_count": null,
      "outputs": [
        {
          "output_type": "execute_result",
          "data": {
            "text/plain": [
              "┌───────┐\n",
              "│  age  │\n",
              "│ int64 │\n",
              "├───────┤\n",
              "│    70 │\n",
              "│    36 │\n",
              "│    87 │\n",
              "│    74 │\n",
              "│    49 │\n",
              "│   300 │\n",
              "│    82 │\n",
              "│    78 │\n",
              "│    88 │\n",
              "│    81 │\n",
              "└───────┘"
            ]
          },
          "metadata": {},
          "execution_count": 80
        }
      ]
    },
    {
      "cell_type": "code",
      "source": [
        "conn.sql(\n",
        "    \"\"\"\n",
        "    SELECT CASE\n",
        "    WHEN date_diff('year', cast(dob as DATE), cast(dischtime as DATE)) <= 19 THEN 'MINOR'\n",
        "    WHEN date_diff('year', cast(dob as DATE), cast(dischtime as DATE)) >= 20 AND date_diff('year', cast(dob as DATE), cast(dischtime as DATE)) <50 THEN 'ADULT'\n",
        "    WHEN date_diff('year', cast(dob as DATE), cast(dischtime as DATE)) >=50 AND date_diff('year', cast(dob as DATE), cast(dischtime as DATE)) < 80 THEN 'OLD'\n",
        "    ELSE 'ELDERLY'\n",
        "    END AS age_group,\n",
        "    long_title,\n",
        "    FROM PATIENTS\n",
        "    JOIN ADMISSIONS ON PATIENTS.subject_id=ADMISSIONS.subject_id\n",
        "    JOIN PROCS_ICD ON ADMISSIONS.hadm_id=PROCS_ICD.hadm_id\n",
        "    JOIN D_ICDPROCS ON PROCS_ICD.ICD9_CODE=D_ICDPROCS.ICD9_CODE\n",
        "    GROUP BY age_group\n",
        "    LIMIT 5;\n",
        "    \"\"\"\n",
        ")"
      ],
      "metadata": {
        "colab": {
          "base_uri": "https://localhost:8080/"
        },
        "id": "aGF_Tmsfd4vx",
        "outputId": "7a8a98fd-94ae-46b6-ed78-0edc94a1838d"
      },
      "execution_count": null,
      "outputs": [
        {
          "output_type": "execute_result",
          "data": {
            "text/plain": [
              "┌───────────┬─────────────────────────────────────────────────────────────────────────────┬─────────────────┐\n",
              "│ age_group │                                 long_title                                  │ procedure_count │\n",
              "│  varchar  │                                   varchar                                   │      int64      │\n",
              "├───────────┼─────────────────────────────────────────────────────────────────────────────┼─────────────────┤\n",
              "│ ADULT     │ Venous catheterization, not elsewhere classified                            │               9 │\n",
              "│ ADULT     │ Enteral infusion of concentrated nutritional substances                     │               7 │\n",
              "│ ADULT     │ Insertion of endotracheal tube                                              │               6 │\n",
              "│ ADULT     │ Percutaneous abdominal drainage                                             │               6 │\n",
              "│ ADULT     │ Continuous invasive mechanical ventilation for 96 consecutive hours or more │               6 │\n",
              "└───────────┴─────────────────────────────────────────────────────────────────────────────┴─────────────────┘"
            ]
          },
          "metadata": {},
          "execution_count": 108
        }
      ]
    },
    {
      "cell_type": "code",
      "source": [
        "conn.sql(\n",
        "    \"\"\"\n",
        "    SELECT *\n",
        "    FROM (\n",
        "        SELECT\n",
        "            CASE\n",
        "                WHEN date_diff('year', cast(dob as DATE), cast(dischtime as DATE)) <= 19 THEN 'MINOR'\n",
        "                WHEN date_diff('year', cast(dob as DATE), cast(dischtime as DATE)) >= 20 AND date_diff('year', cast(dob as DATE), cast(dischtime as DATE)) < 50 THEN 'ADULT'\n",
        "                WHEN date_diff('year', cast(dob as DATE), cast(dischtime as DATE)) >= 50 AND date_diff('year', cast(dob as DATE), cast(dischtime as DATE)) < 80 THEN 'OLD'\n",
        "                ELSE 'ELDERLY'\n",
        "            END AS age_group,\n",
        "            long_title,\n",
        "            COUNT(*) AS procedure_count,\n",
        "            ROW_NUMBER() OVER (\n",
        "                PARTITION BY\n",
        "                    CASE\n",
        "                        WHEN date_diff('year', cast(dob as DATE), cast(dischtime as DATE)) <= 19 THEN 'MINOR'\n",
        "                        WHEN date_diff('year', cast(dob as DATE), cast(dischtime as DATE)) >= 20 AND date_diff('year', cast(dob as DATE), cast(dischtime as DATE)) < 50 THEN 'ADULT'\n",
        "                        WHEN date_diff('year', cast(dob as DATE), cast(dischtime as DATE)) >= 50 AND date_diff('year', cast(dob as DATE), cast(dischtime as DATE)) < 80 THEN 'OLD'\n",
        "                        ELSE 'ELDERLY'\n",
        "                    END\n",
        "                ORDER BY COUNT(*) DESC\n",
        "            ) AS rank\n",
        "        FROM PATIENTS\n",
        "        JOIN ADMISSIONS ON PATIENTS.subject_id = ADMISSIONS.subject_id\n",
        "        JOIN PROCS_ICD ON ADMISSIONS.hadm_id = PROCS_ICD.hadm_id\n",
        "        JOIN D_ICDPROCS ON PROCS_ICD.ICD9_CODE = D_ICDPROCS.ICD9_CODE\n",
        "        GROUP BY age_group, long_title\n",
        "    ) ranked\n",
        "    WHERE rank <= 3\n",
        "    ORDER BY age_group, procedure_count DESC;\n",
        "    \"\"\"\n",
        ")"
      ],
      "metadata": {
        "colab": {
          "base_uri": "https://localhost:8080/"
        },
        "id": "ITiKKfbogGc6",
        "outputId": "4a87cce3-b361-458f-b8cb-66f3c0a51a1a"
      },
      "execution_count": null,
      "outputs": [
        {
          "output_type": "execute_result",
          "data": {
            "text/plain": [
              "┌───────────┬─────────────────────────────────────────────────────────┬─────────────────┬───────┐\n",
              "│ age_group │                       long_title                        │ procedure_count │ rank  │\n",
              "│  varchar  │                         varchar                         │      int64      │ int64 │\n",
              "├───────────┼─────────────────────────────────────────────────────────┼─────────────────┼───────┤\n",
              "│ ADULT     │ Venous catheterization, not elsewhere classified        │               9 │     1 │\n",
              "│ ADULT     │ Enteral infusion of concentrated nutritional substances │               7 │     2 │\n",
              "│ ADULT     │ Insertion of endotracheal tube                          │               6 │     3 │\n",
              "│ ELDERLY   │ Venous catheterization, not elsewhere classified        │              20 │     1 │\n",
              "│ ELDERLY   │ Transfusion of packed cells                             │              13 │     2 │\n",
              "│ ELDERLY   │ Insertion of endotracheal tube                          │               8 │     3 │\n",
              "│ MINOR     │ Venous catheterization, not elsewhere classified        │               2 │     1 │\n",
              "│ MINOR     │ Repair of vertebral fracture                            │               1 │     2 │\n",
              "│ MINOR     │ Interruption of the vena cava                           │               1 │     3 │\n",
              "│ OLD       │ Venous catheterization, not elsewhere classified        │              25 │     1 │\n",
              "│ OLD       │ Enteral infusion of concentrated nutritional substances │              22 │     2 │\n",
              "│ OLD       │ Transfusion of packed cells                             │              13 │     3 │\n",
              "├───────────┴─────────────────────────────────────────────────────────┴─────────────────┴───────┤\n",
              "│ 12 rows                                                                             4 columns │\n",
              "└───────────────────────────────────────────────────────────────────────────────────────────────┘"
            ]
          },
          "metadata": {},
          "execution_count": 109
        }
      ]
    },
    {
      "cell_type": "markdown",
      "source": [
        "#### Part I Question 3\n",
        "How long do patients stay in the ICU? Is there a difference in the ICU length of stay among gender or ethnicity?\n",
        "\n",
        "https://duckdb.org/docs/stable/sql/data_types/typecasting\n",
        "\n",
        "https://duckdb.org/docs/stable/sql/data_types/interval\n",
        "\n",
        "https://duckdb.org/docs/stable/sql/functions/datepart.html\n",
        "\n",
        "https://duckdb.org/docs/stable/sql/functions/interval.html"
      ],
      "metadata": {
        "id": "n-6ZT0xeOWQF"
      }
    },
    {
      "cell_type": "code",
      "source": [
        "conn.sql(\n",
        "    \"\"\"\n",
        "    SELECT * FROM PATIENTS LIMIT 5;\n",
        "    \"\"\"\n",
        ")"
      ],
      "metadata": {
        "colab": {
          "base_uri": "https://localhost:8080/"
        },
        "id": "kQr2bgy_ObEG",
        "outputId": "75346d40-30d7-46bd-dcec-d840c5f0565a"
      },
      "execution_count": null,
      "outputs": [
        {
          "output_type": "execute_result",
          "data": {
            "text/plain": [
              "┌────────┬────────────┬─────────┬─────────────────────┬─────────────────────┬─────────────────────┬─────────────────────┬─────────────┐\n",
              "│ row_id │ subject_id │ gender  │         dob         │         dod         │      dod_hosp       │       dod_ssn       │ expire_flag │\n",
              "│ int32  │   int32    │ varchar │       varchar       │       varchar       │       varchar       │       varchar       │    int32    │\n",
              "├────────┼────────────┼─────────┼─────────────────────┼─────────────────────┼─────────────────────┼─────────────────────┼─────────────┤\n",
              "│   9467 │      10006 │ F       │ 2094-03-05 00:00:00 │ 2165-08-12 00:00:00 │ 2165-08-12 00:00:00 │ 2165-08-12 00:00:00 │           1 │\n",
              "│   9472 │      10011 │ F       │ 2090-06-05 00:00:00 │ 2126-08-28 00:00:00 │ 2126-08-28 00:00:00 │ NULL                │           1 │\n",
              "│   9474 │      10013 │ F       │ 2038-09-03 00:00:00 │ 2125-10-07 00:00:00 │ 2125-10-07 00:00:00 │ 2125-10-07 00:00:00 │           1 │\n",
              "│   9478 │      10017 │ F       │ 2075-09-21 00:00:00 │ 2152-09-12 00:00:00 │ NULL                │ 2152-09-12 00:00:00 │           1 │\n",
              "│   9479 │      10019 │ M       │ 2114-06-20 00:00:00 │ 2163-05-15 00:00:00 │ 2163-05-15 00:00:00 │ 2163-05-15 00:00:00 │           1 │\n",
              "└────────┴────────────┴─────────┴─────────────────────┴─────────────────────┴─────────────────────┴─────────────────────┴─────────────┘"
            ]
          },
          "metadata": {},
          "execution_count": 45
        }
      ]
    },
    {
      "cell_type": "code",
      "source": [
        "conn.sql(\"\"\"\n",
        "SELECT * FROM ICUSTAYS LIMIT 5\"\"\")"
      ],
      "metadata": {
        "colab": {
          "base_uri": "https://localhost:8080/"
        },
        "id": "Is5R8UZbQxNi",
        "outputId": "37dab60e-e6ac-4fed-edb3-462a91f0522b"
      },
      "execution_count": null,
      "outputs": [
        {
          "output_type": "execute_result",
          "data": {
            "text/plain": [
              "┌────────┬────────────┬─────────┬────────────┬──────────┬────────────────┬───────────────┬──────────────┬─────────────┬─────────────────────┬─────────────────────┬─────────┐\n",
              "│ row_id │ subject_id │ hadm_id │ icustay_id │ dbsource │ first_careunit │ last_careunit │ first_wardid │ last_wardid │       intime        │       outtime       │   los   │\n",
              "│ int32  │   int32    │  int32  │   int32    │ varchar  │    varchar     │    varchar    │    int32     │    int32    │       varchar       │       varchar       │  float  │\n",
              "├────────┼────────────┼─────────┼────────────┼──────────┼────────────────┼───────────────┼──────────────┼─────────────┼─────────────────────┼─────────────────────┼─────────┤\n",
              "│  12742 │      10006 │  142345 │     206504 │ carevue  │ MICU           │ MICU          │           52 │          52 │ 2164-10-23 21:10:15 │ 2164-10-25 12:21:07 │  1.6325 │\n",
              "│  12747 │      10011 │  105331 │     232110 │ carevue  │ MICU           │ MICU          │           15 │          15 │ 2126-08-14 22:34:00 │ 2126-08-28 18:59:00 │ 13.8507 │\n",
              "│  12749 │      10013 │  165520 │     264446 │ carevue  │ MICU           │ MICU          │           15 │          15 │ 2125-10-04 23:38:00 │ 2125-10-07 15:13:52 │  2.6499 │\n",
              "│  12754 │      10017 │  199207 │     204881 │ carevue  │ CCU            │ CCU           │            7 │           7 │ 2149-05-29 18:52:29 │ 2149-05-31 22:19:17 │  2.1436 │\n",
              "│  12755 │      10019 │  177759 │     228977 │ carevue  │ MICU           │ MICU          │           15 │          15 │ 2163-05-14 20:43:56 │ 2163-05-16 03:47:04 │  1.2938 │\n",
              "└────────┴────────────┴─────────┴────────────┴──────────┴────────────────┴───────────────┴──────────────┴─────────────┴─────────────────────┴─────────────────────┴─────────┘"
            ]
          },
          "metadata": {},
          "execution_count": 50
        }
      ]
    },
    {
      "cell_type": "code",
      "source": [
        "conn.sql(\"\"\"\n",
        "SELECT avg(epoch(cast(outtime as TIMESTAMP) - cast(intime as TIMESTAMP)))/3600 AS remaining_hours\n",
        "FROM ICUSTAYS\"\"\")"
      ],
      "metadata": {
        "colab": {
          "base_uri": "https://localhost:8080/"
        },
        "id": "TRVl_SLlP6yJ",
        "outputId": "0877c768-5a7a-4462-a9d5-6a4418149e83"
      },
      "execution_count": null,
      "outputs": [
        {
          "output_type": "execute_result",
          "data": {
            "text/plain": [
              "┌────────────────────┐\n",
              "│  remaining_hours   │\n",
              "│       double       │\n",
              "├────────────────────┤\n",
              "│ 106.85906658496732 │\n",
              "└────────────────────┘"
            ]
          },
          "metadata": {},
          "execution_count": 44
        }
      ]
    },
    {
      "cell_type": "code",
      "source": [
        "conn.sql(\"\"\"\n",
        "SELECT gender, avg(epoch(cast(outtime as TIMESTAMP) - cast(intime as TIMESTAMP)))/3600 AS remaining_hours\n",
        "FROM ICUSTAYS JOIN PATIENTS on ICUSTAYS.subject_id=PATIENTS.subject_id GROUP BY gender\"\"\")"
      ],
      "metadata": {
        "colab": {
          "base_uri": "https://localhost:8080/"
        },
        "id": "Wafl8BNqVCSf",
        "outputId": "650640d4-a32c-4b06-82ff-ef33be8f7dc9"
      },
      "execution_count": null,
      "outputs": [
        {
          "output_type": "execute_result",
          "data": {
            "text/plain": [
              "┌─────────┬────────────────────┐\n",
              "│ gender  │  remaining_hours   │\n",
              "│ varchar │       double       │\n",
              "├─────────┼────────────────────┤\n",
              "│ F       │ 132.96187389770722 │\n",
              "│ M       │  84.33198630136985 │\n",
              "└─────────┴────────────────────┘"
            ]
          },
          "metadata": {},
          "execution_count": 49
        }
      ]
    },
    {
      "cell_type": "code",
      "source": [
        "conn.sql(\"\"\"\n",
        "SELECT ethnicity, avg(epoch(cast(outtime as TIMESTAMP) - cast(intime as TIMESTAMP)))/3600 AS remaining_hours\n",
        "FROM ICUSTAYS JOIN ADMISSIONS on ICUSTAYS.subject_id=ADMISSIONS.subject_id GROUP BY ethnicity\"\"\")"
      ],
      "metadata": {
        "colab": {
          "base_uri": "https://localhost:8080/"
        },
        "id": "TjPHp9KHVkQh",
        "outputId": "dbea10cb-df3c-4aca-9b35-b08d6f9fce5a"
      },
      "execution_count": null,
      "outputs": [
        {
          "output_type": "execute_result",
          "data": {
            "text/plain": [
              "┌──────────────────────────────────────────────────────────┬────────────────────┐\n",
              "│                        ethnicity                         │  remaining_hours   │\n",
              "│                         varchar                          │       double       │\n",
              "├──────────────────────────────────────────────────────────┼────────────────────┤\n",
              "│ BLACK/AFRICAN AMERICAN                                   │  164.8246296296296 │\n",
              "│ UNKNOWN/NOT SPECIFIED                                    │ 108.25615384615385 │\n",
              "│ OTHER                                                    │ 22.225740740740743 │\n",
              "│ ASIAN                                                    │           93.36125 │\n",
              "│ HISPANIC OR LATINO                                       │  179.0312962962963 │\n",
              "│ WHITE                                                    │  98.95345400728597 │\n",
              "│ HISPANIC/LATINO - PUERTO RICAN                           │  77.83348148148148 │\n",
              "│ UNABLE TO OBTAIN                                         │ 320.56888888888886 │\n",
              "│ AMERICAN INDIAN/ALASKA NATIVE FEDERALLY RECOGNIZED TRIBE │ 272.09180555555554 │\n",
              "└──────────────────────────────────────────────────────────┴────────────────────┘"
            ]
          },
          "metadata": {},
          "execution_count": 51
        }
      ]
    },
    {
      "cell_type": "markdown",
      "source": [
        "## Part 2\n"
      ],
      "metadata": {
        "id": "6hjvSpRp4suJ"
      }
    },
    {
      "cell_type": "code",
      "source": [
        "!curl https://certs.secureserver.net/repository/sf-class2-root.crt -O"
      ],
      "metadata": {
        "id": "tmnzunsa4uUA"
      },
      "execution_count": null,
      "outputs": []
    },
    {
      "cell_type": "code",
      "source": [],
      "metadata": {
        "id": "ag74HXjSoWQ-"
      },
      "execution_count": null,
      "outputs": []
    },
    {
      "cell_type": "code",
      "source": [
        "from cassandra.cluster import Cluster\n",
        "from ssl import SSLContext, PROTOCOL_TLSv1_2, CERT_REQUIRED\n",
        "from cassandra_sigv4.auth import SigV4AuthProvider\n",
        "import boto3"
      ],
      "metadata": {
        "id": "RUHlqyHNoUFf"
      },
      "execution_count": null,
      "outputs": []
    },
    {
      "cell_type": "markdown",
      "source": [
        "### Part 1"
      ],
      "metadata": {
        "id": "Sc0YtF1vnLND"
      }
    },
    {
      "cell_type": "code",
      "source": [
        "admissions = pd.read_csv(\"ADMISSIONS.csv\")\n",
        "#admissions.head()\n",
        "admissions.join(pd.read_csv(\"PRESCRIPTIONS.csv\"), on = 'subject_id',how = 'inner')"
      ],
      "metadata": {
        "id": "_d1cUWN1nWHz"
      },
      "execution_count": null,
      "outputs": []
    },
    {
      "cell_type": "markdown",
      "source": [
        "### Part 2"
      ],
      "metadata": {
        "id": "upHgTlcsnMo0"
      }
    },
    {
      "cell_type": "code",
      "source": [
        "patients = pd.read_csv(\"PATIENTS.csv\")\n",
        "#patients.head()\n",
        "patients.join(pd.read_csv(\"ADMISSIONS.csv\"), on = 'subject_id',how = 'inner')\n",
        "patients.join(pd.read_csv(\"PROCS_ICD.csv\"), on = 'hadm_id',how = 'inner')\n",
        "patients.join(pd.read_csv(\"D_ICDPROCS.csv\"), on = 'icd9_code',how = 'inner')"
      ],
      "metadata": {
        "id": "zwodNDc_nwYJ"
      },
      "execution_count": null,
      "outputs": []
    },
    {
      "cell_type": "code",
      "source": [
        "conn.sql(\n",
        "    \"\"\"\n",
        "    SELECT *\n",
        "    FROM (\n",
        "        SELECT\n",
        "            CASE\n",
        "                WHEN date_diff('year', cast(dob as DATE), cast(dischtime as DATE)) <= 19 THEN 'MINOR'\n",
        "                WHEN date_diff('year', cast(dob as DATE), cast(dischtime as DATE)) >= 20 AND date_diff('year', cast(dob as DATE), cast(dischtime as DATE)) < 50 THEN 'ADULT'\n",
        "                WHEN date_diff('year', cast(dob as DATE), cast(dischtime as DATE)) >= 50 AND date_diff('year', cast(dob as DATE), cast(dischtime as DATE)) < 80 THEN 'OLD'\n",
        "                ELSE 'ELDERLY'\n",
        "            END AS age_group,\n",
        "            long_title,\n",
        "            COUNT(*) AS procedure_count,\n",
        "            ROW_NUMBER() OVER (\n",
        "                PARTITION BY\n",
        "                    CASE\n",
        "                        WHEN date_diff('year', cast(dob as DATE), cast(dischtime as DATE)) <= 19 THEN 'MINOR'\n",
        "                        WHEN date_diff('year', cast(dob as DATE), cast(dischtime as DATE)) >= 20 AND date_diff('year', cast(dob as DATE), cast(dischtime as DATE)) < 50 THEN 'ADULT'\n",
        "                        WHEN date_diff('year', cast(dob as DATE), cast(dischtime as DATE)) >= 50 AND date_diff('year', cast(dob as DATE), cast(dischtime as DATE)) < 80 THEN 'OLD'\n",
        "                        ELSE 'ELDERLY'\n",
        "                    END\n",
        "                ORDER BY COUNT(*) DESC\n",
        "            ) AS rank\n",
        "        FROM PATIENTS\n",
        "        JOIN ADMISSIONS ON PATIENTS.subject_id = ADMISSIONS.subject_id\n",
        "        JOIN PROCS_ICD ON ADMISSIONS.hadm_id = PROCS_ICD.hadm_id\n",
        "        JOIN D_ICDPROCS ON PROCS_ICD.ICD9_CODE = D_ICDPROCS.ICD9_CODE\n",
        "        GROUP BY age_group, long_title\n",
        "    ) ranked\n",
        "    WHERE rank <= 3\n",
        "    ORDER BY age_group, procedure_count DESC;\n",
        "    \"\"\"\n",
        ")"
      ],
      "metadata": {
        "id": "jXpk-xfknSQL"
      },
      "execution_count": null,
      "outputs": []
    },
    {
      "cell_type": "markdown",
      "source": [
        "### Part 3"
      ],
      "metadata": {
        "id": "JzqcgRHmmeWP"
      }
    },
    {
      "cell_type": "code",
      "source": [
        "admissions = pd.read_csv(\"ADMISSIONS.csv\")\n",
        "#admissions.head()\n",
        "admissions.join(pd.read_csv(\"ICUSTAYS.csv\"), on = 'subject_id',how = 'inner')"
      ],
      "metadata": {
        "id": "WBAWNCYUmd8N"
      },
      "execution_count": null,
      "outputs": []
    },
    {
      "cell_type": "code",
      "source": [],
      "metadata": {
        "id": "btv-g5J7n2qP"
      },
      "execution_count": null,
      "outputs": []
    }
  ]
}