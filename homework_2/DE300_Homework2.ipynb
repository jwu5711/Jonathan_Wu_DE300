{
 "cells": [
  {
   "cell_type": "markdown",
   "metadata": {
    "id": "ayygdHT6w830"
   },
   "source": [
    "# Homework 2: Two ways with MIMIC-III\n",
    "### Jonathan Wu\n",
    "### Due: 5/9/2025\n",
    "\n",
    "#### Part I (Relational)\n",
    "1. Load all the data into a duckdb database. Refer to MIMIC-III example for guidance to create your own database.\n",
    "2. Answer the following analysis questions along with your queries.\n",
    "For each question, provide the following four pieces of information:\n",
    "<br>a. the SQL query,\n",
    "<br>b. brief explanation of the query (i.e., what operations are performed by the major parts of the query),\n",
    "<br>c. the first several lines of your resulting table, and\n",
    "<br>d. a summary of your findings. If it benefits to use a graph, include your graph at the end of your answer, with clear labels and caption.\n",
    "\n",
    "The analysis questions are:\n",
    "\n",
    "1. Create a summary of type of drugs and their total amount used by ethnicity. Report the top usage in each ethnicity group. You may have to make certain assumptions in calculating their total amount.\n",
    "2. Create a summary of procedures performed on patients by age groups (<=19, 20-49, 50-79, >80). Report the top three procedures, along with the name of the procedures, performed in each age group.\n",
    "3. How long do patients stay in the ICU? Is there a difference in the ICU length of stay among gender or ethnicity?"
   ]
  },
  {
   "cell_type": "code",
   "execution_count": 1,
   "metadata": {
    "colab": {
     "base_uri": "https://localhost:8080/"
    },
    "id": "dXl1iSw2wkS2",
    "outputId": "0f1bf4fe-b8d0-4b3f-d6c8-fafc32757734"
   },
   "outputs": [],
   "source": [
    "#!pip install duckdb==1.2.2\n",
    "import duckdb\n",
    "import pandas as pd"
   ]
  },
  {
   "cell_type": "code",
   "execution_count": 2,
   "metadata": {
    "colab": {
     "base_uri": "https://localhost:8080/"
    },
    "id": "KrwJBIBr1Tow",
    "outputId": "9e9d3cf4-2462-4690-f1f3-e9487e15a5e4"
   },
   "outputs": [
    {
     "data": {
      "text/plain": [
       "┌───────────────┐\n",
       "│     name      │\n",
       "│    varchar    │\n",
       "├───────────────┤\n",
       "│ ADMISSIONS    │\n",
       "│ DRGCODES      │\n",
       "│ D_ICD         │\n",
       "│ ICUSTAYS      │\n",
       "│ PATIENTS      │\n",
       "│ PRESCRIPTIONS │\n",
       "│ PROD_ICD      │\n",
       "└───────────────┘"
      ]
     },
     "execution_count": 2,
     "metadata": {},
     "output_type": "execute_result"
    }
   ],
   "source": [
    "conn = duckdb.connect('mimic.db', read_only=False)\n",
    "\n",
    "conn.sql('SHOW TABLES;')"
   ]
  },
  {
   "cell_type": "code",
   "execution_count": 3,
   "metadata": {
    "colab": {
     "base_uri": "https://localhost:8080/",
     "height": 431
    },
    "id": "d7Qzj2XzM8VB",
    "outputId": "db8a688b-9cf9-4089-9708-7c9555bf1555"
   },
   "outputs": [
    {
     "data": {
      "text/html": [
       "<div>\n",
       "<style scoped>\n",
       "    .dataframe tbody tr th:only-of-type {\n",
       "        vertical-align: middle;\n",
       "    }\n",
       "\n",
       "    .dataframe tbody tr th {\n",
       "        vertical-align: top;\n",
       "    }\n",
       "\n",
       "    .dataframe thead th {\n",
       "        text-align: right;\n",
       "    }\n",
       "</style>\n",
       "<table border=\"1\" class=\"dataframe\">\n",
       "  <thead>\n",
       "    <tr style=\"text-align: right;\">\n",
       "      <th></th>\n",
       "      <th>subject_id</th>\n",
       "      <th>hadm_id</th>\n",
       "      <th>icustay_id</th>\n",
       "      <th>startdate</th>\n",
       "      <th>enddate</th>\n",
       "      <th>drug_type</th>\n",
       "      <th>drug</th>\n",
       "      <th>drug_name_poe</th>\n",
       "      <th>drug_name_generic</th>\n",
       "      <th>formulary_drug_cd</th>\n",
       "      <th>gsn</th>\n",
       "      <th>ndc</th>\n",
       "      <th>prod_strength</th>\n",
       "      <th>dose_val_rx</th>\n",
       "      <th>dose_unit_rx</th>\n",
       "      <th>form_val_disp</th>\n",
       "      <th>form_unit_disp</th>\n",
       "      <th>route</th>\n",
       "    </tr>\n",
       "    <tr>\n",
       "      <th>row_id</th>\n",
       "      <th></th>\n",
       "      <th></th>\n",
       "      <th></th>\n",
       "      <th></th>\n",
       "      <th></th>\n",
       "      <th></th>\n",
       "      <th></th>\n",
       "      <th></th>\n",
       "      <th></th>\n",
       "      <th></th>\n",
       "      <th></th>\n",
       "      <th></th>\n",
       "      <th></th>\n",
       "      <th></th>\n",
       "      <th></th>\n",
       "      <th></th>\n",
       "      <th></th>\n",
       "      <th></th>\n",
       "    </tr>\n",
       "  </thead>\n",
       "  <tbody>\n",
       "    <tr>\n",
       "      <th>32600</th>\n",
       "      <td>42458</td>\n",
       "      <td>159647</td>\n",
       "      <td>NaN</td>\n",
       "      <td>2146-07-21 00:00:00</td>\n",
       "      <td>2146-07-22 00:00:00</td>\n",
       "      <td>MAIN</td>\n",
       "      <td>Pneumococcal Vac Polyvalent</td>\n",
       "      <td>Pneumococcal Vac Polyvalent</td>\n",
       "      <td>PNEUMOcoccal Vac Polyvalent</td>\n",
       "      <td>PNEU25I</td>\n",
       "      <td>48548.0</td>\n",
       "      <td>6494300.0</td>\n",
       "      <td>25mcg/0.5mL Vial</td>\n",
       "      <td>0.5</td>\n",
       "      <td>mL</td>\n",
       "      <td>1</td>\n",
       "      <td>VIAL</td>\n",
       "      <td>IM</td>\n",
       "    </tr>\n",
       "    <tr>\n",
       "      <th>32601</th>\n",
       "      <td>42458</td>\n",
       "      <td>159647</td>\n",
       "      <td>NaN</td>\n",
       "      <td>2146-07-21 00:00:00</td>\n",
       "      <td>2146-07-22 00:00:00</td>\n",
       "      <td>MAIN</td>\n",
       "      <td>Bisacodyl</td>\n",
       "      <td>Bisacodyl</td>\n",
       "      <td>Bisacodyl</td>\n",
       "      <td>BISA5</td>\n",
       "      <td>2947.0</td>\n",
       "      <td>536338101.0</td>\n",
       "      <td>5 mg Tab</td>\n",
       "      <td>10</td>\n",
       "      <td>mg</td>\n",
       "      <td>2</td>\n",
       "      <td>TAB</td>\n",
       "      <td>PO</td>\n",
       "    </tr>\n",
       "    <tr>\n",
       "      <th>32602</th>\n",
       "      <td>42458</td>\n",
       "      <td>159647</td>\n",
       "      <td>NaN</td>\n",
       "      <td>2146-07-21 00:00:00</td>\n",
       "      <td>2146-07-22 00:00:00</td>\n",
       "      <td>MAIN</td>\n",
       "      <td>Bisacodyl</td>\n",
       "      <td>Bisacodyl</td>\n",
       "      <td>Bisacodyl (Rectal)</td>\n",
       "      <td>BISA10R</td>\n",
       "      <td>2944.0</td>\n",
       "      <td>574705050.0</td>\n",
       "      <td>10mg Suppository</td>\n",
       "      <td>10</td>\n",
       "      <td>mg</td>\n",
       "      <td>1</td>\n",
       "      <td>SUPP</td>\n",
       "      <td>PR</td>\n",
       "    </tr>\n",
       "    <tr>\n",
       "      <th>32603</th>\n",
       "      <td>42458</td>\n",
       "      <td>159647</td>\n",
       "      <td>NaN</td>\n",
       "      <td>2146-07-21 00:00:00</td>\n",
       "      <td>2146-07-22 00:00:00</td>\n",
       "      <td>MAIN</td>\n",
       "      <td>Senna</td>\n",
       "      <td>Senna</td>\n",
       "      <td>Senna</td>\n",
       "      <td>SENN187</td>\n",
       "      <td>19964.0</td>\n",
       "      <td>904516561.0</td>\n",
       "      <td>1 Tablet</td>\n",
       "      <td>1</td>\n",
       "      <td>TAB</td>\n",
       "      <td>1</td>\n",
       "      <td>TAB</td>\n",
       "      <td>PO</td>\n",
       "    </tr>\n",
       "    <tr>\n",
       "      <th>32604</th>\n",
       "      <td>42458</td>\n",
       "      <td>159647</td>\n",
       "      <td>NaN</td>\n",
       "      <td>2146-07-21 00:00:00</td>\n",
       "      <td>2146-07-21 00:00:00</td>\n",
       "      <td>MAIN</td>\n",
       "      <td>Docusate Sodium (Liquid)</td>\n",
       "      <td>Docusate Sodium (Liquid)</td>\n",
       "      <td>Docusate Sodium (Liquid)</td>\n",
       "      <td>DOCU100L</td>\n",
       "      <td>3017.0</td>\n",
       "      <td>121054410.0</td>\n",
       "      <td>100mg UD Cup</td>\n",
       "      <td>100</td>\n",
       "      <td>mg</td>\n",
       "      <td>1</td>\n",
       "      <td>UDCUP</td>\n",
       "      <td>PO</td>\n",
       "    </tr>\n",
       "  </tbody>\n",
       "</table>\n",
       "</div>"
      ],
      "text/plain": [
       "        subject_id  hadm_id  icustay_id            startdate  \\\n",
       "row_id                                                         \n",
       "32600        42458   159647         NaN  2146-07-21 00:00:00   \n",
       "32601        42458   159647         NaN  2146-07-21 00:00:00   \n",
       "32602        42458   159647         NaN  2146-07-21 00:00:00   \n",
       "32603        42458   159647         NaN  2146-07-21 00:00:00   \n",
       "32604        42458   159647         NaN  2146-07-21 00:00:00   \n",
       "\n",
       "                    enddate drug_type                         drug  \\\n",
       "row_id                                                               \n",
       "32600   2146-07-22 00:00:00      MAIN  Pneumococcal Vac Polyvalent   \n",
       "32601   2146-07-22 00:00:00      MAIN                    Bisacodyl   \n",
       "32602   2146-07-22 00:00:00      MAIN                    Bisacodyl   \n",
       "32603   2146-07-22 00:00:00      MAIN                        Senna   \n",
       "32604   2146-07-21 00:00:00      MAIN     Docusate Sodium (Liquid)   \n",
       "\n",
       "                      drug_name_poe            drug_name_generic  \\\n",
       "row_id                                                             \n",
       "32600   Pneumococcal Vac Polyvalent  PNEUMOcoccal Vac Polyvalent   \n",
       "32601                     Bisacodyl                    Bisacodyl   \n",
       "32602                     Bisacodyl           Bisacodyl (Rectal)   \n",
       "32603                         Senna                        Senna   \n",
       "32604      Docusate Sodium (Liquid)     Docusate Sodium (Liquid)   \n",
       "\n",
       "       formulary_drug_cd      gsn          ndc     prod_strength dose_val_rx  \\\n",
       "row_id                                                                         \n",
       "32600            PNEU25I  48548.0    6494300.0  25mcg/0.5mL Vial         0.5   \n",
       "32601              BISA5   2947.0  536338101.0          5 mg Tab          10   \n",
       "32602            BISA10R   2944.0  574705050.0  10mg Suppository          10   \n",
       "32603            SENN187  19964.0  904516561.0          1 Tablet           1   \n",
       "32604           DOCU100L   3017.0  121054410.0      100mg UD Cup         100   \n",
       "\n",
       "       dose_unit_rx form_val_disp form_unit_disp route  \n",
       "row_id                                                  \n",
       "32600            mL             1           VIAL    IM  \n",
       "32601            mg             2            TAB    PO  \n",
       "32602            mg             1           SUPP    PR  \n",
       "32603           TAB             1            TAB    PO  \n",
       "32604            mg             1          UDCUP    PO  "
      ]
     },
     "execution_count": 3,
     "metadata": {},
     "output_type": "execute_result"
    }
   ],
   "source": [
    "df = pd.read_csv(\"PRESCRIPTIONS.csv\", index_col=\"row_id\")\n",
    "df.head()"
   ]
  },
  {
   "cell_type": "code",
   "execution_count": 7,
   "metadata": {
    "colab": {
     "base_uri": "https://localhost:8080/"
    },
    "id": "rFgqE3QjNQgm",
    "outputId": "5b7a730b-80cb-4129-cc6b-373a410e9089"
   },
   "outputs": [
    {
     "name": "stdout",
     "output_type": "stream",
     "text": [
      "Already there\n"
     ]
    },
    {
     "name": "stderr",
     "output_type": "stream",
     "text": [
      "/tmp/ipykernel_107/2236051402.py:2: UserWarning: pandas only supports SQLAlchemy connectable (engine/connection) or database string URI or sqlite3 DBAPI2 connection. Other DBAPI2 objects are not tested. Please consider using SQLAlchemy.\n",
      "  df.to_sql(\"PRESCRIPTIONS\", conn, index=False)\n"
     ]
    }
   ],
   "source": [
    "try:\n",
    "    df.to_sql(\"PRESCRIPTIONS\", conn, index=False)\n",
    "except:\n",
    "    print(\"Already there\")"
   ]
  },
  {
   "cell_type": "code",
   "execution_count": null,
   "metadata": {},
   "outputs": [],
   "source": [
    "files = [\"ADMISSIONS\", \"D_ICD_PROCEDURES\", \"DRGCODES\", \n",
    "         'ICUSTAYS','PATIENTS', 'PROCEDURES_ICD']\n",
    "file_names = [\"ADMISSIONS\", \"D_ICD\", \"DRGCODES\", 'ICUSTAYS', 'PATIENTS', 'PROD_ICD']\n",
    "for i in range(len(files)):\n",
    "    df = pd.read_csv(files[i]+\".csv\", index_col = 'row_id')\n",
    "    # try except clause is because I messed up a file name, didn't want to restart jupyter notebook\n",
    "    try:\n",
    "        df.to_sql(file_names[i], conn, index=False)\n",
    "    except:\n",
    "        continue\n"
   ]
  },
  {
   "cell_type": "code",
   "execution_count": null,
   "metadata": {
    "id": "rUkeTPzSNfGA"
   },
   "outputs": [],
   "source": [
    "conn.close()"
   ]
  },
  {
   "cell_type": "code",
   "execution_count": null,
   "metadata": {
    "colab": {
     "base_uri": "https://localhost:8080/"
    },
    "id": "clJsGz_yNXak",
    "outputId": "6914e33d-81ae-4ed8-ef9f-285c8fc566e2"
   },
   "outputs": [],
   "source": [
    "conn = duckdb.connect('mimic.db')\n",
    "\n",
    "conn.sql('SHOW TABLES;')"
   ]
  },
  {
   "cell_type": "markdown",
   "metadata": {
    "id": "deMwwBe5WukX"
   },
   "source": [
    "#### Part I Question 1\n",
    "Create a summary of type of drugs and their total amount used by ethnicity. Report the top usage in each ethnicity group. You may have to make certain assumptions in calculating their total amount."
   ]
  },
  {
   "cell_type": "code",
   "execution_count": 5,
   "metadata": {
    "colab": {
     "base_uri": "https://localhost:8080/"
    },
    "id": "vEA8FKuEW0TX",
    "outputId": "8e464b6f-8843-42b5-e397-a1b72c8c35b3"
   },
   "outputs": [
    {
     "data": {
      "text/plain": [
       "┌────────────────────────────────┬──────────────────────────────────────┬─────────────┬──────────────┬────────────────────┐\n",
       "│           ethnicity            │                 drug                 │ dose_val_rx │ dose_unit_rx │ prescription_count │\n",
       "│            varchar             │               varchar                │   varchar   │   varchar    │       int64        │\n",
       "├────────────────────────────────┼──────────────────────────────────────┼─────────────┼──────────────┼────────────────────┤\n",
       "│ HISPANIC/LATINO - PUERTO RICAN │ 0.9% Sodium Chloride (Mini Bag Plus) │ 100         │ mL           │                465 │\n",
       "│ HISPANIC/LATINO - PUERTO RICAN │ 0.9% Sodium Chloride                 │ 1000        │ mL           │                420 │\n",
       "│ HISPANIC/LATINO - PUERTO RICAN │ Potassium Chloride                   │ 40          │ mEq          │                390 │\n",
       "│ HISPANIC/LATINO - PUERTO RICAN │ Insulin                              │ 0           │ UNIT         │                375 │\n",
       "│ HISPANIC/LATINO - PUERTO RICAN │ Iso-Osmotic Dextrose                 │ 200         │ mL           │                360 │\n",
       "└────────────────────────────────┴──────────────────────────────────────┴─────────────┴──────────────┴────────────────────┘"
      ]
     },
     "execution_count": 5,
     "metadata": {},
     "output_type": "execute_result"
    }
   ],
   "source": [
    "conn.sql(\n",
    "    \"\"\"\n",
    "    SELECT ethnicity, drug, dose_val_rx, dose_unit_rx, count(drug) as prescription_count\n",
    "    FROM ADMISSIONS\n",
    "    JOIN PRESCRIPTIONS ON ADMISSIONS.subject_id = PRESCRIPTIONS.subject_id\n",
    "    GROUP BY ethnicity, drug, dose_val_rx, dose_unit_rx\n",
    "    ORDER BY prescription_count DESC\n",
    "    LIMIT 5;\n",
    "    \"\"\"\n",
    ")"
   ]
  },
  {
   "cell_type": "markdown",
   "metadata": {
    "id": "71Ce8UQ6kUfb"
   },
   "source": [
    "Going to need to grab admissions for ethnicity and prescriptions\n",
    "\n",
    "https://www.geeksforgeeks.org/how-to-select-the-first-row-of-each-group-by-in-sql/"
   ]
  },
  {
   "cell_type": "code",
   "execution_count": 6,
   "metadata": {
    "colab": {
     "base_uri": "https://localhost:8080/"
    },
    "id": "zJWddpX3Oz10",
    "outputId": "e54ef0e7-b0f5-45ee-e35e-160069ab8f50"
   },
   "outputs": [
    {
     "data": {
      "text/plain": [
       "┌──────────────────────────────────────────────────────────┬──────────────────────────────────────┬─────────────┬──────────────┬────────────────────┐\n",
       "│                        ethnicity                         │                 drug                 │ dose_val_rx │ dose_unit_rx │ prescription_count │\n",
       "│                         varchar                          │               varchar                │   varchar   │   varchar    │       int64        │\n",
       "├──────────────────────────────────────────────────────────┼──────────────────────────────────────┼─────────────┼──────────────┼────────────────────┤\n",
       "│ AMERICAN INDIAN/ALASKA NATIVE FEDERALLY RECOGNIZED TRIBE │ 5% Dextrose                          │ 1000        │ mL           │                 30 │\n",
       "│ ASIAN                                                    │ D5W                                  │ 250         │ ml           │                 14 │\n",
       "│ BLACK/AFRICAN AMERICAN                                   │ Insulin                              │ 0           │ UNIT         │                 38 │\n",
       "│ HISPANIC OR LATINO                                       │ 5% Dextrose                          │ 1000        │ mL           │                 15 │\n",
       "│ HISPANIC/LATINO - PUERTO RICAN                           │ 0.9% Sodium Chloride (Mini Bag Plus) │ 100         │ mL           │                465 │\n",
       "│ OTHER                                                    │ NS                                   │ 500         │ ml           │                  6 │\n",
       "│ UNABLE TO OBTAIN                                         │ 0.9% Sodium Chloride                 │ 500         │ mL           │                 15 │\n",
       "│ UNKNOWN/NOT SPECIFIED                                    │ D5W                                  │ 250         │ ml           │                 17 │\n",
       "│ WHITE                                                    │ Potassium Chloride                   │ 40          │ mEq          │                277 │\n",
       "└──────────────────────────────────────────────────────────┴──────────────────────────────────────┴─────────────┴──────────────┴────────────────────┘"
      ]
     },
     "execution_count": 6,
     "metadata": {},
     "output_type": "execute_result"
    }
   ],
   "source": [
    "conn.sql(\n",
    "    \"\"\"\n",
    "    SELECT ethnicity, drug, dose_val_rx, dose_unit_rx, prescription_count\n",
    "    FROM (\n",
    "        SELECT\n",
    "            ADMISSIONS.ethnicity,\n",
    "            PRESCRIPTIONS.drug,\n",
    "            PRESCRIPTIONS.dose_val_rx,\n",
    "            PRESCRIPTIONS.dose_unit_rx,\n",
    "            COUNT(*) AS prescription_count,\n",
    "            ROW_NUMBER() OVER (\n",
    "                PARTITION BY ADMISSIONS.ethnicity\n",
    "                ORDER BY COUNT(*) DESC\n",
    "            ) AS rank\n",
    "        FROM ADMISSIONS\n",
    "        JOIN PRESCRIPTIONS ON ADMISSIONS.subject_id = PRESCRIPTIONS.subject_id\n",
    "        GROUP BY\n",
    "            ADMISSIONS.ethnicity,\n",
    "            PRESCRIPTIONS.drug,\n",
    "            PRESCRIPTIONS.dose_val_rx,\n",
    "            PRESCRIPTIONS.dose_unit_rx\n",
    "    )\n",
    "    WHERE rank = 1\n",
    "    ORDER BY ethnicity;\n",
    "    \"\"\"\n",
    ")\n"
   ]
  },
  {
   "cell_type": "code",
   "execution_count": 7,
   "metadata": {
    "colab": {
     "base_uri": "https://localhost:8080/"
    },
    "id": "vbtXMD98Qc7Q",
    "outputId": "4fd75818-4133-4998-e3cd-d5ea3cb1e4d7"
   },
   "outputs": [
    {
     "data": {
      "text/html": [
       "<div>\n",
       "<style scoped>\n",
       "    .dataframe tbody tr th:only-of-type {\n",
       "        vertical-align: middle;\n",
       "    }\n",
       "\n",
       "    .dataframe tbody tr th {\n",
       "        vertical-align: top;\n",
       "    }\n",
       "\n",
       "    .dataframe thead th {\n",
       "        text-align: right;\n",
       "    }\n",
       "</style>\n",
       "<table border=\"1\" class=\"dataframe\">\n",
       "  <thead>\n",
       "    <tr style=\"text-align: right;\">\n",
       "      <th></th>\n",
       "      <th>ethnicity</th>\n",
       "      <th>drug</th>\n",
       "      <th>total_dose</th>\n",
       "      <th>dose_unit_rx</th>\n",
       "    </tr>\n",
       "  </thead>\n",
       "  <tbody>\n",
       "    <tr>\n",
       "      <th>0</th>\n",
       "      <td>AMERICAN INDIAN/ALASKA NATIVE FEDERALLY RECOGN...</td>\n",
       "      <td>5% Dextrose</td>\n",
       "      <td>33800.0</td>\n",
       "      <td>mL</td>\n",
       "    </tr>\n",
       "    <tr>\n",
       "      <th>1</th>\n",
       "      <td>AMERICAN INDIAN/ALASKA NATIVE FEDERALLY RECOGN...</td>\n",
       "      <td>Heparin</td>\n",
       "      <td>30000.0</td>\n",
       "      <td>UNIT</td>\n",
       "    </tr>\n",
       "    <tr>\n",
       "      <th>2</th>\n",
       "      <td>AMERICAN INDIAN/ALASKA NATIVE FEDERALLY RECOGN...</td>\n",
       "      <td>0.9% Sodium Chloride</td>\n",
       "      <td>27200.0</td>\n",
       "      <td>mL</td>\n",
       "    </tr>\n",
       "    <tr>\n",
       "      <th>3</th>\n",
       "      <td>AMERICAN INDIAN/ALASKA NATIVE FEDERALLY RECOGN...</td>\n",
       "      <td>Lactulose Enema</td>\n",
       "      <td>10000.0</td>\n",
       "      <td>mL</td>\n",
       "    </tr>\n",
       "    <tr>\n",
       "      <th>4</th>\n",
       "      <td>AMERICAN INDIAN/ALASKA NATIVE FEDERALLY RECOGN...</td>\n",
       "      <td>Vancomycin</td>\n",
       "      <td>8000.0</td>\n",
       "      <td>mg</td>\n",
       "    </tr>\n",
       "  </tbody>\n",
       "</table>\n",
       "</div>"
      ],
      "text/plain": [
       "                                           ethnicity                  drug  \\\n",
       "0  AMERICAN INDIAN/ALASKA NATIVE FEDERALLY RECOGN...           5% Dextrose   \n",
       "1  AMERICAN INDIAN/ALASKA NATIVE FEDERALLY RECOGN...               Heparin   \n",
       "2  AMERICAN INDIAN/ALASKA NATIVE FEDERALLY RECOGN...  0.9% Sodium Chloride   \n",
       "3  AMERICAN INDIAN/ALASKA NATIVE FEDERALLY RECOGN...       Lactulose Enema   \n",
       "4  AMERICAN INDIAN/ALASKA NATIVE FEDERALLY RECOGN...            Vancomycin   \n",
       "\n",
       "   total_dose dose_unit_rx  \n",
       "0     33800.0           mL  \n",
       "1     30000.0         UNIT  \n",
       "2     27200.0           mL  \n",
       "3     10000.0           mL  \n",
       "4      8000.0           mg  "
      ]
     },
     "execution_count": 7,
     "metadata": {},
     "output_type": "execute_result"
    }
   ],
   "source": [
    "df = conn.sql(\n",
    "    \"\"\"\n",
    "    SELECT\n",
    "        ADMISSIONS.ethnicity,\n",
    "        PRESCRIPTIONS.drug,\n",
    "        SUM(CAST(PRESCRIPTIONS.dose_val_rx AS INT)) AS total_dose,\n",
    "        dose_unit_rx\n",
    "    FROM ADMISSIONS\n",
    "    JOIN PRESCRIPTIONS ON ADMISSIONS.subject_id = PRESCRIPTIONS.subject_id\n",
    "    WHERE PRESCRIPTIONS.dose_val_rx ~ '^\\\\d+(\\\\.\\\\d+)?$'\n",
    "    GROUP BY ADMISSIONS.ethnicity, PRESCRIPTIONS.drug, PRESCRIPTIONS.dose_unit_rx\n",
    "    ORDER BY ethnicity, total_dose DESC;\n",
    "    \"\"\"\n",
    ").df()\n",
    "df.head()\n"
   ]
  },
  {
   "cell_type": "code",
   "execution_count": 8,
   "metadata": {},
   "outputs": [
    {
     "data": {
      "image/png": "[encoded data removed]",
      "text/plain": [
       "<Figure size 1000x600 with 1 Axes>"
      ]
     },
     "metadata": {},
     "output_type": "display_data"
    }
   ],
   "source": [
    "import matplotlib.pyplot as plt\n",
    "\n",
    "top_doses = df.groupby('ethnicity')['total_dose'].max().reset_index()\n",
    "plt.figure(figsize=(10,6))\n",
    "plt.bar(top_doses['ethnicity'], top_doses['total_dose'])\n",
    "plt.xlabel(\"Ethnicity\")\n",
    "plt.ylabel(\"Top Total Dose\")\n",
    "plt.xticks(rotation = 90)\n",
    "plt.show()"
   ]
  },
  {
   "cell_type": "markdown",
   "metadata": {
    "id": "nD8--xYpWxcu"
   },
   "source": [
    "#### Part I Question 2\n",
    "Create a summary of procedures performed on patients by age groups (<=19, 20-49, 50-79, >80). Report the top three procedures, along with the name of the procedures, performed in each age group."
   ]
  },
  {
   "cell_type": "code",
   "execution_count": 9,
   "metadata": {
    "colab": {
     "base_uri": "https://localhost:8080/"
    },
    "id": "Ftl2QvTqYDus",
    "outputId": "534c0369-56e9-412e-db36-e243e598805a"
   },
   "outputs": [
    {
     "data": {
      "text/plain": [
       "┌────────────┬─────────┬─────────────────────┬─────────────────────┬─────────────────────┬─────────────────────┬─────────────┐\n",
       "│ subject_id │ gender  │         dob         │         dod         │      dod_hosp       │       dod_ssn       │ expire_flag │\n",
       "│   int32    │ varchar │       varchar       │       varchar       │       varchar       │       varchar       │    int32    │\n",
       "├────────────┼─────────┼─────────────────────┼─────────────────────┼─────────────────────┼─────────────────────┼─────────────┤\n",
       "│      10006 │ F       │ 2094-03-05 00:00:00 │ 2165-08-12 00:00:00 │ 2165-08-12 00:00:00 │ 2165-08-12 00:00:00 │           1 │\n",
       "│      10011 │ F       │ 2090-06-05 00:00:00 │ 2126-08-28 00:00:00 │ 2126-08-28 00:00:00 │ NULL                │           1 │\n",
       "└────────────┴─────────┴─────────────────────┴─────────────────────┴─────────────────────┴─────────────────────┴─────────────┘"
      ]
     },
     "execution_count": 9,
     "metadata": {},
     "output_type": "execute_result"
    }
   ],
   "source": [
    "conn.sql(\n",
    "    \"\"\"\n",
    "    SELECT * FROM PATIENTS LIMIT 2;\n",
    "    \"\"\"\n",
    ")"
   ]
  },
  {
   "cell_type": "code",
   "execution_count": 10,
   "metadata": {
    "colab": {
     "base_uri": "https://localhost:8080/"
    },
    "id": "ChJXyDB8YyDF",
    "outputId": "454b8ae8-4bb5-4885-cbcd-109ad6d4da44"
   },
   "outputs": [
    {
     "data": {
      "text/plain": [
       "┌────────────┬─────────┬─────────────────────┬─────────────────────┬─────────────────────┬────────────────┬───────────────────────────┬────────────────────┬───────────┬──────────┬──────────┬────────────────┬────────────────────────┬─────────────────────┬─────────────────────┬─────────────┬──────────────────────┬──────────────────────┐\n",
       "│ subject_id │ hadm_id │      admittime      │      dischtime      │      deathtime      │ admission_type │    admission_location     │ discharge_location │ insurance │ language │ religion │ marital_status │       ethnicity        │      edregtime      │      edouttime      │  diagnosis  │ hospital_expire_flag │ has_chartevents_data │\n",
       "│   int32    │  int32  │       varchar       │       varchar       │       varchar       │    varchar     │          varchar          │      varchar       │  varchar  │ varchar  │ varchar  │    varchar     │        varchar         │       varchar       │       varchar       │   varchar   │        int32         │        int32         │\n",
       "├────────────┼─────────┼─────────────────────┼─────────────────────┼─────────────────────┼────────────────┼───────────────────────────┼────────────────────┼───────────┼──────────┼──────────┼────────────────┼────────────────────────┼─────────────────────┼─────────────────────┼─────────────┼──────────────────────┼──────────────────────┤\n",
       "│      10006 │  142345 │ 2164-10-23 21:09:00 │ 2164-11-01 17:15:00 │ NULL                │ EMERGENCY      │ EMERGENCY ROOM ADMIT      │ HOME HEALTH CARE   │ Medicare  │ NULL     │ CATHOLIC │ SEPARATED      │ BLACK/AFRICAN AMERICAN │ 2164-10-23 16:43:00 │ 2164-10-23 23:00:00 │ SEPSIS      │                    0 │                    1 │\n",
       "│      10011 │  105331 │ 2126-08-14 22:32:00 │ 2126-08-28 18:59:00 │ 2126-08-28 18:59:00 │ EMERGENCY      │ TRANSFER FROM HOSP/EXTRAM │ DEAD/EXPIRED       │ Private   │ NULL     │ CATHOLIC │ SINGLE         │ UNKNOWN/NOT SPECIFIED  │ NULL                │ NULL                │ HEPATITIS B │                    1 │                    1 │\n",
       "└────────────┴─────────┴─────────────────────┴─────────────────────┴─────────────────────┴────────────────┴───────────────────────────┴────────────────────┴───────────┴──────────┴──────────┴────────────────┴────────────────────────┴─────────────────────┴─────────────────────┴─────────────┴──────────────────────┴──────────────────────┘"
      ]
     },
     "execution_count": 10,
     "metadata": {},
     "output_type": "execute_result"
    }
   ],
   "source": [
    "conn.sql(\n",
    "    \"\"\"\n",
    "    SELECT * FROM ADMISSIONS LIMIT 2;\n",
    "    \"\"\"\n",
    ")"
   ]
  },
  {
   "cell_type": "code",
   "execution_count": 11,
   "metadata": {
    "colab": {
     "base_uri": "https://localhost:8080/"
    },
    "id": "sLJtyS8JXM-f",
    "outputId": "2e13f34c-09e5-43f0-8f16-ba2c63fb1c46"
   },
   "outputs": [
    {
     "data": {
      "text/plain": [
       "┌────────────┬─────────┬─────────┬───────────┐\n",
       "│ subject_id │ hadm_id │ seq_num │ icd9_code │\n",
       "│   int32    │  int32  │  int32  │   int32   │\n",
       "├────────────┼─────────┼─────────┼───────────┤\n",
       "│      10114 │  167957 │       1 │      3605 │\n",
       "│      10114 │  167957 │       2 │      3722 │\n",
       "└────────────┴─────────┴─────────┴───────────┘"
      ]
     },
     "execution_count": 11,
     "metadata": {},
     "output_type": "execute_result"
    }
   ],
   "source": [
    "conn.sql(\n",
    "    \"\"\"\n",
    "    SELECT * FROM PROD_ICD LIMIT 2;\n",
    "    \"\"\"\n",
    ")"
   ]
  },
  {
   "cell_type": "code",
   "execution_count": 12,
   "metadata": {
    "colab": {
     "base_uri": "https://localhost:8080/"
    },
    "id": "9m-KmFD9XwCX",
    "outputId": "fe5cd1d0-dd7f-4bf9-eefa-c2e8576f1203"
   },
   "outputs": [
    {
     "data": {
      "text/plain": [
       "┌───────────┬──────────────────────────┬───────────────────────────────────────────────────────────────────┐\n",
       "│ icd9_code │       short_title        │                            long_title                             │\n",
       "│   int32   │         varchar          │                              varchar                              │\n",
       "├───────────┼──────────────────────────┼───────────────────────────────────────────────────────────────────┤\n",
       "│      1423 │ Chorioret les xenon coag │ Destruction of chorioretinal lesion by xenon arc photocoagulation │\n",
       "│      1424 │ Chorioret les laser coag │ Destruction of chorioretinal lesion by laser photocoagulation     │\n",
       "└───────────┴──────────────────────────┴───────────────────────────────────────────────────────────────────┘"
      ]
     },
     "execution_count": 12,
     "metadata": {},
     "output_type": "execute_result"
    }
   ],
   "source": [
    "conn.sql(\n",
    "    \"\"\"\n",
    "    SELECT * FROM D_ICD LIMIT 2;\n",
    "    \"\"\"\n",
    ")"
   ]
  },
  {
   "cell_type": "code",
   "execution_count": 13,
   "metadata": {
    "colab": {
     "base_uri": "https://localhost:8080/"
    },
    "id": "bjFaFqnMYdao",
    "outputId": "c23de875-9fd6-4e42-dea1-8ec06bbc74f4"
   },
   "outputs": [
    {
     "data": {
      "text/plain": [
       "┌───────┐\n",
       "│  age  │\n",
       "│ int64 │\n",
       "├───────┤\n",
       "│    70 │\n",
       "│    36 │\n",
       "│    87 │\n",
       "│    74 │\n",
       "│    49 │\n",
       "│   300 │\n",
       "│    82 │\n",
       "│    78 │\n",
       "│    88 │\n",
       "│    81 │\n",
       "└───────┘"
      ]
     },
     "execution_count": 13,
     "metadata": {},
     "output_type": "execute_result"
    }
   ],
   "source": [
    "conn.sql(\n",
    "    \"\"\"\n",
    "    SELECT date_diff('year', cast(dob as DATE), cast(dischtime as DATE)) as age\n",
    "    FROM PATIENTS\n",
    "    JOIN ADMISSIONS ON PATIENTS.subject_id=ADMISSIONS.subject_id\n",
    "    LIMIT 10;\n",
    "    \"\"\"\n",
    ")"
   ]
  },
  {
   "cell_type": "code",
   "execution_count": 14,
   "metadata": {},
   "outputs": [
    {
     "data": {
      "text/plain": [
       "┌───────────┐\n",
       "│ age_group │\n",
       "│  varchar  │\n",
       "├───────────┤\n",
       "│ OLD       │\n",
       "│ ADULT     │\n",
       "│ ELDERLY   │\n",
       "│ MINOR     │\n",
       "└───────────┘"
      ]
     },
     "execution_count": 14,
     "metadata": {},
     "output_type": "execute_result"
    }
   ],
   "source": [
    "conn.sql(\n",
    "    \"\"\"\n",
    "    SELECT CASE\n",
    "    WHEN date_diff('year', cast(dob as DATE), cast(dischtime as DATE)) <= 19 THEN 'MINOR'\n",
    "    WHEN date_diff('year', cast(dob as DATE), cast(dischtime as DATE)) >= 20 AND date_diff('year', cast(dob as DATE), cast(dischtime as DATE)) <50 THEN 'ADULT'\n",
    "    WHEN date_diff('year', cast(dob as DATE), cast(dischtime as DATE)) >=50 AND date_diff('year', cast(dob as DATE), cast(dischtime as DATE)) < 80 THEN 'OLD'\n",
    "    ELSE 'ELDERLY'\n",
    "    END AS age_group,\n",
    "    FROM PATIENTS\n",
    "    JOIN ADMISSIONS ON PATIENTS.subject_id=ADMISSIONS.subject_id\n",
    "    JOIN PROD_ICD ON ADMISSIONS.hadm_id=PROD_ICD.hadm_id\n",
    "    JOIN D_ICD ON PROD_ICD.ICD9_CODE=D_ICD.ICD9_CODE\n",
    "    GROUP BY age_group\n",
    "    LIMIT 5;\n",
    "    \"\"\"\n",
    ")"
   ]
  },
  {
   "cell_type": "code",
   "execution_count": 15,
   "metadata": {
    "colab": {
     "base_uri": "https://localhost:8080/"
    },
    "id": "bjFaFqnMYdao",
    "outputId": "c23de875-9fd6-4e42-dea1-8ec06bbc74f4"
   },
   "outputs": [
    {
     "data": {
      "text/html": [
       "<div>\n",
       "<style scoped>\n",
       "    .dataframe tbody tr th:only-of-type {\n",
       "        vertical-align: middle;\n",
       "    }\n",
       "\n",
       "    .dataframe tbody tr th {\n",
       "        vertical-align: top;\n",
       "    }\n",
       "\n",
       "    .dataframe thead th {\n",
       "        text-align: right;\n",
       "    }\n",
       "</style>\n",
       "<table border=\"1\" class=\"dataframe\">\n",
       "  <thead>\n",
       "    <tr style=\"text-align: right;\">\n",
       "      <th></th>\n",
       "      <th>age_group</th>\n",
       "      <th>long_title</th>\n",
       "      <th>procedure_count</th>\n",
       "      <th>rank</th>\n",
       "    </tr>\n",
       "  </thead>\n",
       "  <tbody>\n",
       "    <tr>\n",
       "      <th>0</th>\n",
       "      <td>ADULT</td>\n",
       "      <td>Venous catheterization, not elsewhere classified</td>\n",
       "      <td>9</td>\n",
       "      <td>1</td>\n",
       "    </tr>\n",
       "    <tr>\n",
       "      <th>1</th>\n",
       "      <td>ADULT</td>\n",
       "      <td>Enteral infusion of concentrated nutritional s...</td>\n",
       "      <td>7</td>\n",
       "      <td>2</td>\n",
       "    </tr>\n",
       "    <tr>\n",
       "      <th>2</th>\n",
       "      <td>ADULT</td>\n",
       "      <td>Insertion of endotracheal tube</td>\n",
       "      <td>6</td>\n",
       "      <td>3</td>\n",
       "    </tr>\n",
       "    <tr>\n",
       "      <th>3</th>\n",
       "      <td>ELDERLY</td>\n",
       "      <td>Venous catheterization, not elsewhere classified</td>\n",
       "      <td>20</td>\n",
       "      <td>1</td>\n",
       "    </tr>\n",
       "    <tr>\n",
       "      <th>4</th>\n",
       "      <td>ELDERLY</td>\n",
       "      <td>Transfusion of packed cells</td>\n",
       "      <td>13</td>\n",
       "      <td>2</td>\n",
       "    </tr>\n",
       "    <tr>\n",
       "      <th>5</th>\n",
       "      <td>ELDERLY</td>\n",
       "      <td>Insertion of endotracheal tube</td>\n",
       "      <td>8</td>\n",
       "      <td>3</td>\n",
       "    </tr>\n",
       "    <tr>\n",
       "      <th>6</th>\n",
       "      <td>MINOR</td>\n",
       "      <td>Venous catheterization, not elsewhere classified</td>\n",
       "      <td>2</td>\n",
       "      <td>1</td>\n",
       "    </tr>\n",
       "    <tr>\n",
       "      <th>7</th>\n",
       "      <td>MINOR</td>\n",
       "      <td>Repair of vertebral fracture</td>\n",
       "      <td>1</td>\n",
       "      <td>2</td>\n",
       "    </tr>\n",
       "    <tr>\n",
       "      <th>8</th>\n",
       "      <td>MINOR</td>\n",
       "      <td>Interruption of the vena cava</td>\n",
       "      <td>1</td>\n",
       "      <td>3</td>\n",
       "    </tr>\n",
       "    <tr>\n",
       "      <th>9</th>\n",
       "      <td>OLD</td>\n",
       "      <td>Venous catheterization, not elsewhere classified</td>\n",
       "      <td>25</td>\n",
       "      <td>1</td>\n",
       "    </tr>\n",
       "    <tr>\n",
       "      <th>10</th>\n",
       "      <td>OLD</td>\n",
       "      <td>Enteral infusion of concentrated nutritional s...</td>\n",
       "      <td>22</td>\n",
       "      <td>2</td>\n",
       "    </tr>\n",
       "    <tr>\n",
       "      <th>11</th>\n",
       "      <td>OLD</td>\n",
       "      <td>Transfusion of packed cells</td>\n",
       "      <td>13</td>\n",
       "      <td>3</td>\n",
       "    </tr>\n",
       "  </tbody>\n",
       "</table>\n",
       "</div>"
      ],
      "text/plain": [
       "   age_group                                         long_title  \\\n",
       "0      ADULT   Venous catheterization, not elsewhere classified   \n",
       "1      ADULT  Enteral infusion of concentrated nutritional s...   \n",
       "2      ADULT                     Insertion of endotracheal tube   \n",
       "3    ELDERLY   Venous catheterization, not elsewhere classified   \n",
       "4    ELDERLY                        Transfusion of packed cells   \n",
       "5    ELDERLY                     Insertion of endotracheal tube   \n",
       "6      MINOR   Venous catheterization, not elsewhere classified   \n",
       "7      MINOR                       Repair of vertebral fracture   \n",
       "8      MINOR                      Interruption of the vena cava   \n",
       "9        OLD   Venous catheterization, not elsewhere classified   \n",
       "10       OLD  Enteral infusion of concentrated nutritional s...   \n",
       "11       OLD                        Transfusion of packed cells   \n",
       "\n",
       "    procedure_count  rank  \n",
       "0                 9     1  \n",
       "1                 7     2  \n",
       "2                 6     3  \n",
       "3                20     1  \n",
       "4                13     2  \n",
       "5                 8     3  \n",
       "6                 2     1  \n",
       "7                 1     2  \n",
       "8                 1     3  \n",
       "9                25     1  \n",
       "10               22     2  \n",
       "11               13     3  "
      ]
     },
     "execution_count": 15,
     "metadata": {},
     "output_type": "execute_result"
    }
   ],
   "source": [
    "df2 = conn.sql(\n",
    "    \"\"\"\n",
    "    SELECT *\n",
    "    FROM (\n",
    "        SELECT\n",
    "            CASE\n",
    "                WHEN date_diff('year', cast(dob as DATE), cast(dischtime as DATE)) <= 19 THEN 'MINOR'\n",
    "                WHEN date_diff('year', cast(dob as DATE), cast(dischtime as DATE)) >= 20 AND date_diff('year', cast(dob as DATE), cast(dischtime as DATE)) < 50 THEN 'ADULT'\n",
    "                WHEN date_diff('year', cast(dob as DATE), cast(dischtime as DATE)) >= 50 AND date_diff('year', cast(dob as DATE), cast(dischtime as DATE)) < 80 THEN 'OLD'\n",
    "                ELSE 'ELDERLY'\n",
    "            END AS age_group,\n",
    "            long_title,\n",
    "            COUNT(*) AS procedure_count,\n",
    "            ROW_NUMBER() OVER (\n",
    "                PARTITION BY\n",
    "                    CASE\n",
    "                        WHEN date_diff('year', cast(dob as DATE), cast(dischtime as DATE)) <= 19 THEN 'MINOR'\n",
    "                        WHEN date_diff('year', cast(dob as DATE), cast(dischtime as DATE)) >= 20 AND date_diff('year', cast(dob as DATE), cast(dischtime as DATE)) < 50 THEN 'ADULT'\n",
    "                        WHEN date_diff('year', cast(dob as DATE), cast(dischtime as DATE)) >= 50 AND date_diff('year', cast(dob as DATE), cast(dischtime as DATE)) < 80 THEN 'OLD'\n",
    "                        ELSE 'ELDERLY'\n",
    "                    END\n",
    "                ORDER BY COUNT(*) DESC\n",
    "            ) AS rank\n",
    "        FROM PATIENTS\n",
    "        JOIN ADMISSIONS ON PATIENTS.subject_id = ADMISSIONS.subject_id\n",
    "        JOIN PROD_ICD ON ADMISSIONS.hadm_id = PROD_ICD.hadm_id\n",
    "        JOIN D_ICD ON PROD_ICD.ICD9_CODE = D_ICD.ICD9_CODE\n",
    "        GROUP BY age_group, long_title\n",
    "    ) ranked\n",
    "    WHERE rank <= 3\n",
    "    ORDER BY age_group, procedure_count DESC;\n",
    "    \"\"\"\n",
    ").df()\n",
    "df2"
   ]
  },
  {
   "cell_type": "markdown",
   "metadata": {
    "id": "n-6ZT0xeOWQF"
   },
   "source": [
    "#### Part I Question 3\n",
    "How long do patients stay in the ICU? Is there a difference in the ICU length of stay among gender or ethnicity?\n",
    "\n",
    "https://duckdb.org/docs/stable/sql/data_types/typecasting\n",
    "\n",
    "https://duckdb.org/docs/stable/sql/data_types/interval\n",
    "\n",
    "https://duckdb.org/docs/stable/sql/functions/datepart.html\n",
    "\n",
    "https://duckdb.org/docs/stable/sql/functions/interval.html"
   ]
  },
  {
   "cell_type": "code",
   "execution_count": 16,
   "metadata": {
    "colab": {
     "base_uri": "https://localhost:8080/"
    },
    "id": "kQr2bgy_ObEG",
    "outputId": "75346d40-30d7-46bd-dcec-d840c5f0565a"
   },
   "outputs": [
    {
     "data": {
      "text/plain": [
       "┌────────────┬─────────┬─────────────────────┬─────────────────────┬─────────────────────┬─────────────────────┬─────────────┐\n",
       "│ subject_id │ gender  │         dob         │         dod         │      dod_hosp       │       dod_ssn       │ expire_flag │\n",
       "│   int32    │ varchar │       varchar       │       varchar       │       varchar       │       varchar       │    int32    │\n",
       "├────────────┼─────────┼─────────────────────┼─────────────────────┼─────────────────────┼─────────────────────┼─────────────┤\n",
       "│      10006 │ F       │ 2094-03-05 00:00:00 │ 2165-08-12 00:00:00 │ 2165-08-12 00:00:00 │ 2165-08-12 00:00:00 │           1 │\n",
       "│      10011 │ F       │ 2090-06-05 00:00:00 │ 2126-08-28 00:00:00 │ 2126-08-28 00:00:00 │ NULL                │           1 │\n",
       "│      10013 │ F       │ 2038-09-03 00:00:00 │ 2125-10-07 00:00:00 │ 2125-10-07 00:00:00 │ 2125-10-07 00:00:00 │           1 │\n",
       "│      10017 │ F       │ 2075-09-21 00:00:00 │ 2152-09-12 00:00:00 │ NULL                │ 2152-09-12 00:00:00 │           1 │\n",
       "│      10019 │ M       │ 2114-06-20 00:00:00 │ 2163-05-15 00:00:00 │ 2163-05-15 00:00:00 │ 2163-05-15 00:00:00 │           1 │\n",
       "└────────────┴─────────┴─────────────────────┴─────────────────────┴─────────────────────┴─────────────────────┴─────────────┘"
      ]
     },
     "execution_count": 16,
     "metadata": {},
     "output_type": "execute_result"
    }
   ],
   "source": [
    "conn.sql(\n",
    "    \"\"\"\n",
    "    SELECT * FROM PATIENTS LIMIT 5;\n",
    "    \"\"\"\n",
    ")"
   ]
  },
  {
   "cell_type": "code",
   "execution_count": 17,
   "metadata": {
    "colab": {
     "base_uri": "https://localhost:8080/"
    },
    "id": "Is5R8UZbQxNi",
    "outputId": "37dab60e-e6ac-4fed-edb3-462a91f0522b"
   },
   "outputs": [
    {
     "data": {
      "text/plain": [
       "┌────────────┬─────────┬────────────┬──────────┬────────────────┬───────────────┬──────────────┬─────────────┬─────────────────────┬─────────────────────┬─────────┐\n",
       "│ subject_id │ hadm_id │ icustay_id │ dbsource │ first_careunit │ last_careunit │ first_wardid │ last_wardid │       intime        │       outtime       │   los   │\n",
       "│   int32    │  int32  │   int32    │ varchar  │    varchar     │    varchar    │    int32     │    int32    │       varchar       │       varchar       │  float  │\n",
       "├────────────┼─────────┼────────────┼──────────┼────────────────┼───────────────┼──────────────┼─────────────┼─────────────────────┼─────────────────────┼─────────┤\n",
       "│      10006 │  142345 │     206504 │ carevue  │ MICU           │ MICU          │           52 │          52 │ 2164-10-23 21:10:15 │ 2164-10-25 12:21:07 │  1.6325 │\n",
       "│      10011 │  105331 │     232110 │ carevue  │ MICU           │ MICU          │           15 │          15 │ 2126-08-14 22:34:00 │ 2126-08-28 18:59:00 │ 13.8507 │\n",
       "│      10013 │  165520 │     264446 │ carevue  │ MICU           │ MICU          │           15 │          15 │ 2125-10-04 23:38:00 │ 2125-10-07 15:13:52 │  2.6499 │\n",
       "│      10017 │  199207 │     204881 │ carevue  │ CCU            │ CCU           │            7 │           7 │ 2149-05-29 18:52:29 │ 2149-05-31 22:19:17 │  2.1436 │\n",
       "│      10019 │  177759 │     228977 │ carevue  │ MICU           │ MICU          │           15 │          15 │ 2163-05-14 20:43:56 │ 2163-05-16 03:47:04 │  1.2938 │\n",
       "└────────────┴─────────┴────────────┴──────────┴────────────────┴───────────────┴──────────────┴─────────────┴─────────────────────┴─────────────────────┴─────────┘"
      ]
     },
     "execution_count": 17,
     "metadata": {},
     "output_type": "execute_result"
    }
   ],
   "source": [
    "conn.sql(\"\"\"\n",
    "SELECT * FROM ICUSTAYS LIMIT 5\"\"\")"
   ]
  },
  {
   "cell_type": "code",
   "execution_count": 18,
   "metadata": {
    "colab": {
     "base_uri": "https://localhost:8080/"
    },
    "id": "TRVl_SLlP6yJ",
    "outputId": "0877c768-5a7a-4462-a9d5-6a4418149e83"
   },
   "outputs": [
    {
     "data": {
      "text/plain": [
       "┌────────────────────┐\n",
       "│  remaining_hours   │\n",
       "│       double       │\n",
       "├────────────────────┤\n",
       "│ 106.85906658496732 │\n",
       "└────────────────────┘"
      ]
     },
     "execution_count": 18,
     "metadata": {},
     "output_type": "execute_result"
    }
   ],
   "source": [
    "conn.sql(\"\"\"\n",
    "SELECT avg(epoch(cast(outtime as TIMESTAMP) - cast(intime as TIMESTAMP)))/3600 AS remaining_hours\n",
    "FROM ICUSTAYS\"\"\")"
   ]
  },
  {
   "cell_type": "code",
   "execution_count": 19,
   "metadata": {
    "colab": {
     "base_uri": "https://localhost:8080/"
    },
    "id": "Wafl8BNqVCSf",
    "outputId": "650640d4-a32c-4b06-82ff-ef33be8f7dc9"
   },
   "outputs": [
    {
     "data": {
      "text/plain": [
       "┌─────────┬────────────────────┐\n",
       "│ gender  │  remaining_hours   │\n",
       "│ varchar │       double       │\n",
       "├─────────┼────────────────────┤\n",
       "│ F       │ 132.96187389770722 │\n",
       "│ M       │  84.33198630136985 │\n",
       "└─────────┴────────────────────┘"
      ]
     },
     "execution_count": 19,
     "metadata": {},
     "output_type": "execute_result"
    }
   ],
   "source": [
    "conn.sql(\"\"\"\n",
    "SELECT gender, avg(epoch(cast(outtime as TIMESTAMP) - cast(intime as TIMESTAMP)))/3600 AS remaining_hours\n",
    "FROM ICUSTAYS JOIN PATIENTS on ICUSTAYS.subject_id=PATIENTS.subject_id GROUP BY gender\"\"\")"
   ]
  },
  {
   "cell_type": "code",
   "execution_count": 20,
   "metadata": {
    "colab": {
     "base_uri": "https://localhost:8080/"
    },
    "id": "TjPHp9KHVkQh",
    "outputId": "dbea10cb-df3c-4aca-9b35-b08d6f9fce5a"
   },
   "outputs": [
    {
     "data": {
      "text/plain": [
       "┌──────────────────────────────────────────────────────────┬────────────────────┐\n",
       "│                        ethnicity                         │  remaining_hours   │\n",
       "│                         varchar                          │       double       │\n",
       "├──────────────────────────────────────────────────────────┼────────────────────┤\n",
       "│ BLACK/AFRICAN AMERICAN                                   │  164.8246296296296 │\n",
       "│ UNKNOWN/NOT SPECIFIED                                    │ 108.25615384615385 │\n",
       "│ WHITE                                                    │  98.95345400728597 │\n",
       "│ OTHER                                                    │ 22.225740740740743 │\n",
       "│ ASIAN                                                    │           93.36125 │\n",
       "│ HISPANIC OR LATINO                                       │  179.0312962962963 │\n",
       "│ HISPANIC/LATINO - PUERTO RICAN                           │  77.83348148148148 │\n",
       "│ UNABLE TO OBTAIN                                         │ 320.56888888888886 │\n",
       "│ AMERICAN INDIAN/ALASKA NATIVE FEDERALLY RECOGNIZED TRIBE │ 272.09180555555554 │\n",
       "└──────────────────────────────────────────────────────────┴────────────────────┘"
      ]
     },
     "execution_count": 20,
     "metadata": {},
     "output_type": "execute_result"
    }
   ],
   "source": [
    "conn.sql(\"\"\"\n",
    "SELECT ethnicity, avg(epoch(cast(outtime as TIMESTAMP) - cast(intime as TIMESTAMP)))/3600 AS remaining_hours\n",
    "FROM ICUSTAYS JOIN ADMISSIONS on ICUSTAYS.subject_id=ADMISSIONS.subject_id GROUP BY ethnicity\"\"\")"
   ]
  },
  {
   "cell_type": "code",
   "execution_count": 21,
   "metadata": {},
   "outputs": [
    {
     "data": {
      "text/html": [
       "<div>\n",
       "<style scoped>\n",
       "    .dataframe tbody tr th:only-of-type {\n",
       "        vertical-align: middle;\n",
       "    }\n",
       "\n",
       "    .dataframe tbody tr th {\n",
       "        vertical-align: top;\n",
       "    }\n",
       "\n",
       "    .dataframe thead th {\n",
       "        text-align: right;\n",
       "    }\n",
       "</style>\n",
       "<table border=\"1\" class=\"dataframe\">\n",
       "  <thead>\n",
       "    <tr style=\"text-align: right;\">\n",
       "      <th></th>\n",
       "      <th>ethnicity</th>\n",
       "      <th>gender</th>\n",
       "      <th>hospise_time</th>\n",
       "    </tr>\n",
       "  </thead>\n",
       "  <tbody>\n",
       "    <tr>\n",
       "      <th>0</th>\n",
       "      <td>BLACK/AFRICAN AMERICAN</td>\n",
       "      <td>F</td>\n",
       "      <td>268.829792</td>\n",
       "    </tr>\n",
       "    <tr>\n",
       "      <th>1</th>\n",
       "      <td>UNKNOWN/NOT SPECIFIED</td>\n",
       "      <td>F</td>\n",
       "      <td>118.577020</td>\n",
       "    </tr>\n",
       "    <tr>\n",
       "      <th>2</th>\n",
       "      <td>WHITE</td>\n",
       "      <td>F</td>\n",
       "      <td>120.412821</td>\n",
       "    </tr>\n",
       "    <tr>\n",
       "      <th>3</th>\n",
       "      <td>WHITE</td>\n",
       "      <td>M</td>\n",
       "      <td>83.012210</td>\n",
       "    </tr>\n",
       "    <tr>\n",
       "      <th>4</th>\n",
       "      <td>OTHER</td>\n",
       "      <td>M</td>\n",
       "      <td>2.542222</td>\n",
       "    </tr>\n",
       "    <tr>\n",
       "      <th>5</th>\n",
       "      <td>ASIAN</td>\n",
       "      <td>M</td>\n",
       "      <td>170.815278</td>\n",
       "    </tr>\n",
       "    <tr>\n",
       "      <th>6</th>\n",
       "      <td>BLACK/AFRICAN AMERICAN</td>\n",
       "      <td>M</td>\n",
       "      <td>81.620500</td>\n",
       "    </tr>\n",
       "    <tr>\n",
       "      <th>7</th>\n",
       "      <td>OTHER</td>\n",
       "      <td>F</td>\n",
       "      <td>32.067500</td>\n",
       "    </tr>\n",
       "    <tr>\n",
       "      <th>8</th>\n",
       "      <td>ASIAN</td>\n",
       "      <td>F</td>\n",
       "      <td>15.907222</td>\n",
       "    </tr>\n",
       "    <tr>\n",
       "      <th>9</th>\n",
       "      <td>UNKNOWN/NOT SPECIFIED</td>\n",
       "      <td>M</td>\n",
       "      <td>51.491389</td>\n",
       "    </tr>\n",
       "    <tr>\n",
       "      <th>10</th>\n",
       "      <td>HISPANIC OR LATINO</td>\n",
       "      <td>F</td>\n",
       "      <td>179.031296</td>\n",
       "    </tr>\n",
       "    <tr>\n",
       "      <th>11</th>\n",
       "      <td>HISPANIC/LATINO - PUERTO RICAN</td>\n",
       "      <td>M</td>\n",
       "      <td>77.833481</td>\n",
       "    </tr>\n",
       "    <tr>\n",
       "      <th>12</th>\n",
       "      <td>UNABLE TO OBTAIN</td>\n",
       "      <td>M</td>\n",
       "      <td>320.568889</td>\n",
       "    </tr>\n",
       "    <tr>\n",
       "      <th>13</th>\n",
       "      <td>AMERICAN INDIAN/ALASKA NATIVE FEDERALLY RECOGN...</td>\n",
       "      <td>M</td>\n",
       "      <td>272.091806</td>\n",
       "    </tr>\n",
       "  </tbody>\n",
       "</table>\n",
       "</div>"
      ],
      "text/plain": [
       "                                            ethnicity gender  hospise_time\n",
       "0                              BLACK/AFRICAN AMERICAN      F    268.829792\n",
       "1                               UNKNOWN/NOT SPECIFIED      F    118.577020\n",
       "2                                               WHITE      F    120.412821\n",
       "3                                               WHITE      M     83.012210\n",
       "4                                               OTHER      M      2.542222\n",
       "5                                               ASIAN      M    170.815278\n",
       "6                              BLACK/AFRICAN AMERICAN      M     81.620500\n",
       "7                                               OTHER      F     32.067500\n",
       "8                                               ASIAN      F     15.907222\n",
       "9                               UNKNOWN/NOT SPECIFIED      M     51.491389\n",
       "10                                 HISPANIC OR LATINO      F    179.031296\n",
       "11                     HISPANIC/LATINO - PUERTO RICAN      M     77.833481\n",
       "12                                   UNABLE TO OBTAIN      M    320.568889\n",
       "13  AMERICAN INDIAN/ALASKA NATIVE FEDERALLY RECOGN...      M    272.091806"
      ]
     },
     "execution_count": 21,
     "metadata": {},
     "output_type": "execute_result"
    }
   ],
   "source": [
    "df3= conn.sql(\"\"\"\n",
    "SELECT ethnicity, gender, avg(epoch(cast(outtime as TIMESTAMP) - cast(intime as TIMESTAMP)))/3600 AS hospise_time\n",
    "FROM ICUSTAYS \n",
    "JOIN PATIENTS on ICUSTAYS.subject_id=PATIENTS.subject_id\n",
    "JOIN ADMISSIONS on ICUSTAYS.subject_id=ADMISSIONS.subject_id GROUP BY ethnicity, gender\"\"\").df()\n",
    "df3"
   ]
  },
  {
   "cell_type": "markdown",
   "metadata": {
    "id": "6hjvSpRp4suJ"
   },
   "source": [
    "## Part 2\n"
   ]
  },
  {
   "cell_type": "code",
   "execution_count": 31,
   "metadata": {
    "id": "tmnzunsa4uUA"
   },
   "outputs": [
    {
     "name": "stdout",
     "output_type": "stream",
     "text": [
      "  % Total    % Received % Xferd  Average Speed   Time    Time     Time  Current\n",
      "                                 Dload  Upload   Total   Spent    Left  Speed\n",
      "100  1468  100  1468    0     0   5543      0 --:--:-- --:--:-- --:--:--  5560\n"
     ]
    }
   ],
   "source": [
    "!curl https://certs.secureserver.net/repository/sf-class2-root.crt -O"
   ]
  },
  {
   "cell_type": "code",
   "execution_count": 8,
   "metadata": {
    "id": "RUHlqyHNoUFf"
   },
   "outputs": [
    {
     "name": "stderr",
     "output_type": "stream",
     "text": [
      "/tmp/ipykernel_105/1196366822.py:7: DeprecationWarning: ssl.PROTOCOL_TLSv1_2 is deprecated\n",
      "  ssl_context = SSLContext(PROTOCOL_TLSv1_2)\n"
     ]
    }
   ],
   "source": [
    "from cassandra.cluster import Cluster\n",
    "from ssl import SSLContext, PROTOCOL_TLSv1_2, CERT_REQUIRED\n",
    "from cassandra_sigv4.auth import SigV4AuthProvider\n",
    "import boto3\n",
    "\n",
    "# ssl setup\n",
    "ssl_context = SSLContext(PROTOCOL_TLSv1_2)\n",
    "ssl_context.load_verify_locations('sf-class2-root.crt')  # change your file path for locating the certificate\n",
    "ssl_context.verify_mode = CERT_REQUIRED\n",
    "\n",
    "# boto3 session setup\n",
    "boto_session = boto3.Session(\n",
    "    region_name=\"us-east-2\")  # this AWS credentials is specific to `us-east-2` region"
   ]
  },
  {
   "cell_type": "code",
   "execution_count": 9,
   "metadata": {},
   "outputs": [],
   "source": [
    "# authorization setup with SigV4\n",
    "auth_provider = SigV4AuthProvider(boto_session)"
   ]
  },
  {
   "cell_type": "code",
   "execution_count": 10,
   "metadata": {},
   "outputs": [],
   "source": [
    "cluster = Cluster(['cassandra.us-east-2.amazonaws.com'], \n",
    "                  ssl_context=ssl_context, \n",
    "                  auth_provider=auth_provider, \n",
    "                  port=9142)  # TLS only communicates on port 9142"
   ]
  },
  {
   "cell_type": "code",
   "execution_count": 11,
   "metadata": {},
   "outputs": [
    {
     "ename": "NoHostAvailable",
     "evalue": "('Unable to connect to any servers', {'3.12.23.146:9142': ValueError(\"Can't authenticate without a region name\")})",
     "output_type": "error",
     "traceback": [
      "\u001b[0;31m---------------------------------------------------------------------------\u001b[0m",
      "\u001b[0;31mNoHostAvailable\u001b[0m                           Traceback (most recent call last)",
      "Cell \u001b[0;32mIn[11], line 2\u001b[0m\n\u001b[1;32m      1\u001b[0m \u001b[38;5;66;03m# establishing connection to Keyspace\u001b[39;00m\n\u001b[0;32m----> 2\u001b[0m session \u001b[38;5;241m=\u001b[39m \u001b[43mcluster\u001b[49m\u001b[38;5;241;43m.\u001b[39;49m\u001b[43mconnect\u001b[49m\u001b[43m(\u001b[49m\u001b[43m)\u001b[49m\n",
      "File \u001b[0;32m/opt/conda/lib/python3.11/site-packages/cassandra/cluster.py:1717\u001b[0m, in \u001b[0;36mcassandra.cluster.Cluster.connect\u001b[0;34m()\u001b[0m\n",
      "File \u001b[0;32m/opt/conda/lib/python3.11/site-packages/cassandra/cluster.py:1753\u001b[0m, in \u001b[0;36mcassandra.cluster.Cluster.connect\u001b[0;34m()\u001b[0m\n",
      "File \u001b[0;32m/opt/conda/lib/python3.11/site-packages/cassandra/cluster.py:1740\u001b[0m, in \u001b[0;36mcassandra.cluster.Cluster.connect\u001b[0;34m()\u001b[0m\n",
      "File \u001b[0;32m/opt/conda/lib/python3.11/site-packages/cassandra/cluster.py:3543\u001b[0m, in \u001b[0;36mcassandra.cluster.ControlConnection.connect\u001b[0;34m()\u001b[0m\n",
      "File \u001b[0;32m/opt/conda/lib/python3.11/site-packages/cassandra/cluster.py:3588\u001b[0m, in \u001b[0;36mcassandra.cluster.ControlConnection._reconnect_internal\u001b[0;34m()\u001b[0m\n",
      "\u001b[0;31mNoHostAvailable\u001b[0m: ('Unable to connect to any servers', {'3.12.23.146:9142': ValueError(\"Can't authenticate without a region name\")})"
     ]
    }
   ],
   "source": [
    "# establishing connection to Keyspace\n",
    "session = cluster.connect()"
   ]
  },
  {
   "cell_type": "markdown",
   "metadata": {
    "id": "Sc0YtF1vnLND"
   },
   "source": [
    "### Part 1"
   ]
  },
  {
   "cell_type": "code",
   "execution_count": 63,
   "metadata": {},
   "outputs": [
    {
     "ename": "NameError",
     "evalue": "name 'session' is not defined",
     "output_type": "error",
     "traceback": [
      "\u001b[0;31m---------------------------------------------------------------------------\u001b[0m",
      "\u001b[0;31mNameError\u001b[0m                                 Traceback (most recent call last)",
      "Cell \u001b[0;32mIn[63], line 2\u001b[0m\n\u001b[1;32m      1\u001b[0m \u001b[38;5;66;03m# For example, create a keyspace for HW2\u001b[39;00m\n\u001b[0;32m----> 2\u001b[0m r \u001b[38;5;241m=\u001b[39m \u001b[43msession\u001b[49m\u001b[38;5;241m.\u001b[39mexecute(\u001b[38;5;124m'''\u001b[39m\n\u001b[1;32m      3\u001b[0m \u001b[38;5;124m    CREATE KEYSPACE IF NOT EXISTS part1 \u001b[39m\n\u001b[1;32m      4\u001b[0m \u001b[38;5;124m    WITH replication = \u001b[39m\u001b[38;5;124m{\u001b[39m\u001b[38;5;124m'\u001b[39m\u001b[38;5;124mclass\u001b[39m\u001b[38;5;124m'\u001b[39m\u001b[38;5;124m: \u001b[39m\u001b[38;5;124m'\u001b[39m\u001b[38;5;124mSingleRegionStrategy\u001b[39m\u001b[38;5;124m'\u001b[39m\u001b[38;5;124m};\u001b[39m\n\u001b[1;32m      5\u001b[0m \u001b[38;5;124m    \u001b[39m\u001b[38;5;124m'''\u001b[39m)\n\u001b[1;32m      6\u001b[0m \u001b[38;5;28mprint\u001b[39m(r\u001b[38;5;241m.\u001b[39mcurrent_rows)\n",
      "\u001b[0;31mNameError\u001b[0m: name 'session' is not defined"
     ]
    }
   ],
   "source": [
    "# For example, create a keyspace for HW2\n",
    "r = session.execute('''\n",
    "    CREATE KEYSPACE IF NOT EXISTS part1 \n",
    "    WITH replication = {'class': 'SingleRegionStrategy'};\n",
    "    ''')\n",
    "print(r.current_rows)"
   ]
  },
  {
   "cell_type": "code",
   "execution_count": null,
   "metadata": {},
   "outputs": [],
   "source": [
    "from cassandra.cluster import ExecutionProfile, EXEC_PROFILE_DEFAULT\n",
    "from cassandra import ConsistencyLevel\n",
    "\n",
    "\n",
    "# Define execution profile with LOCAL_QUORUM\n",
    "execution_profile = ExecutionProfile(\n",
    "    consistency_level=ConsistencyLevel.LOCAL_QUORUM\n",
    ")\n",
    "\n",
    "# Cluster setup with correct profile\n",
    "cluster = Cluster(\n",
    "    ['cassandra.us-east-2.amazonaws.com'],\n",
    "    ssl_context=ssl_context,\n",
    "    auth_provider=auth_provider,\n",
    "    port=9142,\n",
    "    execution_profiles={EXEC_PROFILE_DEFAULT: execution_profile}\n",
    ")\n",
    "\n",
    "# establishing connection to Keyspace\n",
    "session = cluster.connect()\n",
    "session.set_keyspace('de300_demo')  # Replace with your keyspace"
   ]
  },
  {
   "cell_type": "code",
   "execution_count": 57,
   "metadata": {
    "id": "_d1cUWN1nWHz"
   },
   "outputs": [
    {
     "data": {
      "text/html": [
       "<div>\n",
       "<style scoped>\n",
       "    .dataframe tbody tr th:only-of-type {\n",
       "        vertical-align: middle;\n",
       "    }\n",
       "\n",
       "    .dataframe tbody tr th {\n",
       "        vertical-align: top;\n",
       "    }\n",
       "\n",
       "    .dataframe thead th {\n",
       "        text-align: right;\n",
       "    }\n",
       "</style>\n",
       "<table border=\"1\" class=\"dataframe\">\n",
       "  <thead>\n",
       "    <tr style=\"text-align: right;\">\n",
       "      <th></th>\n",
       "      <th>subject_id</th>\n",
       "      <th>hadm_id</th>\n",
       "      <th>admittime</th>\n",
       "      <th>dischtime</th>\n",
       "      <th>deathtime</th>\n",
       "      <th>admission_type</th>\n",
       "      <th>admission_location</th>\n",
       "      <th>discharge_location</th>\n",
       "      <th>insurance</th>\n",
       "      <th>language</th>\n",
       "      <th>...</th>\n",
       "      <th>drug_name_generic</th>\n",
       "      <th>formulary_drug_cd</th>\n",
       "      <th>gsn</th>\n",
       "      <th>ndc</th>\n",
       "      <th>prod_strength</th>\n",
       "      <th>dose_val_rx</th>\n",
       "      <th>dose_unit_rx</th>\n",
       "      <th>form_val_disp</th>\n",
       "      <th>form_unit_disp</th>\n",
       "      <th>route</th>\n",
       "    </tr>\n",
       "  </thead>\n",
       "  <tbody>\n",
       "    <tr>\n",
       "      <th>0</th>\n",
       "      <td>42458</td>\n",
       "      <td>159647</td>\n",
       "      <td>2146-07-21 14:45:00</td>\n",
       "      <td>2146-07-22 14:45:00</td>\n",
       "      <td>None</td>\n",
       "      <td>EMERGENCY</td>\n",
       "      <td>EMERGENCY ROOM ADMIT</td>\n",
       "      <td>HOME</td>\n",
       "      <td>Medicare</td>\n",
       "      <td>ENGL</td>\n",
       "      <td>...</td>\n",
       "      <td>PNEUMOcoccal Vac Polyvalent</td>\n",
       "      <td>PNEU25I</td>\n",
       "      <td>48548.0</td>\n",
       "      <td>6494300.0</td>\n",
       "      <td>25mcg/0.5mL Vial</td>\n",
       "      <td>0.5</td>\n",
       "      <td>mL</td>\n",
       "      <td>1</td>\n",
       "      <td>VIAL</td>\n",
       "      <td>IM</td>\n",
       "    </tr>\n",
       "    <tr>\n",
       "      <th>1</th>\n",
       "      <td>42458</td>\n",
       "      <td>159647</td>\n",
       "      <td>2146-07-21 14:45:00</td>\n",
       "      <td>2146-07-22 14:45:00</td>\n",
       "      <td>None</td>\n",
       "      <td>EMERGENCY</td>\n",
       "      <td>EMERGENCY ROOM ADMIT</td>\n",
       "      <td>HOME</td>\n",
       "      <td>Medicare</td>\n",
       "      <td>ENGL</td>\n",
       "      <td>...</td>\n",
       "      <td>Bisacodyl</td>\n",
       "      <td>BISA5</td>\n",
       "      <td>2947.0</td>\n",
       "      <td>536338112.0</td>\n",
       "      <td>5 mg Tab</td>\n",
       "      <td>10</td>\n",
       "      <td>mg</td>\n",
       "      <td>2</td>\n",
       "      <td>TAB</td>\n",
       "      <td>PO</td>\n",
       "    </tr>\n",
       "    <tr>\n",
       "      <th>2</th>\n",
       "      <td>42458</td>\n",
       "      <td>159647</td>\n",
       "      <td>2146-07-21 14:45:00</td>\n",
       "      <td>2146-07-22 14:45:00</td>\n",
       "      <td>None</td>\n",
       "      <td>EMERGENCY</td>\n",
       "      <td>EMERGENCY ROOM ADMIT</td>\n",
       "      <td>HOME</td>\n",
       "      <td>Medicare</td>\n",
       "      <td>ENGL</td>\n",
       "      <td>...</td>\n",
       "      <td>Bisacodyl (Rectal)</td>\n",
       "      <td>BISA10R</td>\n",
       "      <td>2944.0</td>\n",
       "      <td>574705024.0</td>\n",
       "      <td>10mg Suppository</td>\n",
       "      <td>10</td>\n",
       "      <td>mg</td>\n",
       "      <td>1</td>\n",
       "      <td>SUPP</td>\n",
       "      <td>PR</td>\n",
       "    </tr>\n",
       "    <tr>\n",
       "      <th>3</th>\n",
       "      <td>42458</td>\n",
       "      <td>159647</td>\n",
       "      <td>2146-07-21 14:45:00</td>\n",
       "      <td>2146-07-22 14:45:00</td>\n",
       "      <td>None</td>\n",
       "      <td>EMERGENCY</td>\n",
       "      <td>EMERGENCY ROOM ADMIT</td>\n",
       "      <td>HOME</td>\n",
       "      <td>Medicare</td>\n",
       "      <td>ENGL</td>\n",
       "      <td>...</td>\n",
       "      <td>Senna</td>\n",
       "      <td>SENN187</td>\n",
       "      <td>19964.0</td>\n",
       "      <td>904516544.0</td>\n",
       "      <td>1 Tablet</td>\n",
       "      <td>1</td>\n",
       "      <td>TAB</td>\n",
       "      <td>1</td>\n",
       "      <td>TAB</td>\n",
       "      <td>PO</td>\n",
       "    </tr>\n",
       "    <tr>\n",
       "      <th>4</th>\n",
       "      <td>42458</td>\n",
       "      <td>159647</td>\n",
       "      <td>2146-07-21 14:45:00</td>\n",
       "      <td>2146-07-22 14:45:00</td>\n",
       "      <td>None</td>\n",
       "      <td>EMERGENCY</td>\n",
       "      <td>EMERGENCY ROOM ADMIT</td>\n",
       "      <td>HOME</td>\n",
       "      <td>Medicare</td>\n",
       "      <td>ENGL</td>\n",
       "      <td>...</td>\n",
       "      <td>Docusate Sodium (Liquid)</td>\n",
       "      <td>DOCU100L</td>\n",
       "      <td>3017.0</td>\n",
       "      <td>121054408.0</td>\n",
       "      <td>100mg UD Cup</td>\n",
       "      <td>100</td>\n",
       "      <td>mg</td>\n",
       "      <td>1</td>\n",
       "      <td>UDCUP</td>\n",
       "      <td>PO</td>\n",
       "    </tr>\n",
       "  </tbody>\n",
       "</table>\n",
       "<p>5 rows × 36 columns</p>\n",
       "</div>"
      ],
      "text/plain": [
       "   subject_id  hadm_id            admittime            dischtime deathtime  \\\n",
       "0       42458   159647  2146-07-21 14:45:00  2146-07-22 14:45:00      None   \n",
       "1       42458   159647  2146-07-21 14:45:00  2146-07-22 14:45:00      None   \n",
       "2       42458   159647  2146-07-21 14:45:00  2146-07-22 14:45:00      None   \n",
       "3       42458   159647  2146-07-21 14:45:00  2146-07-22 14:45:00      None   \n",
       "4       42458   159647  2146-07-21 14:45:00  2146-07-22 14:45:00      None   \n",
       "\n",
       "  admission_type    admission_location discharge_location insurance language  \\\n",
       "0      EMERGENCY  EMERGENCY ROOM ADMIT               HOME  Medicare     ENGL   \n",
       "1      EMERGENCY  EMERGENCY ROOM ADMIT               HOME  Medicare     ENGL   \n",
       "2      EMERGENCY  EMERGENCY ROOM ADMIT               HOME  Medicare     ENGL   \n",
       "3      EMERGENCY  EMERGENCY ROOM ADMIT               HOME  Medicare     ENGL   \n",
       "4      EMERGENCY  EMERGENCY ROOM ADMIT               HOME  Medicare     ENGL   \n",
       "\n",
       "   ...            drug_name_generic formulary_drug_cd      gsn          ndc  \\\n",
       "0  ...  PNEUMOcoccal Vac Polyvalent           PNEU25I  48548.0    6494300.0   \n",
       "1  ...                    Bisacodyl             BISA5   2947.0  536338112.0   \n",
       "2  ...           Bisacodyl (Rectal)           BISA10R   2944.0  574705024.0   \n",
       "3  ...                        Senna           SENN187  19964.0  904516544.0   \n",
       "4  ...     Docusate Sodium (Liquid)          DOCU100L   3017.0  121054408.0   \n",
       "\n",
       "      prod_strength dose_val_rx  dose_unit_rx  form_val_disp  form_unit_disp  \\\n",
       "0  25mcg/0.5mL Vial         0.5            mL              1            VIAL   \n",
       "1          5 mg Tab          10            mg              2             TAB   \n",
       "2  10mg Suppository          10            mg              1            SUPP   \n",
       "3          1 Tablet           1           TAB              1             TAB   \n",
       "4      100mg UD Cup         100            mg              1           UDCUP   \n",
       "\n",
       "   route  \n",
       "0     IM  \n",
       "1     PO  \n",
       "2     PR  \n",
       "3     PO  \n",
       "4     PO  \n",
       "\n",
       "[5 rows x 36 columns]"
      ]
     },
     "execution_count": 57,
     "metadata": {},
     "output_type": "execute_result"
    }
   ],
   "source": [
    "part1 = conn.sql(\"\"\"\n",
    "SELECT * FROM ADMISSIONS\n",
    "JOIN PRESCRIPTIONS ON ADMISSIONS.subject_id = PRESCRIPTIONS.subject_id\n",
    "\"\"\").df()\n",
    "part1.head()"
   ]
  },
  {
   "cell_type": "code",
   "execution_count": null,
   "metadata": {},
   "outputs": [],
   "source": [
    "cluster = Cluster("
   ]
  },
  {
   "cell_type": "markdown",
   "metadata": {
    "id": "upHgTlcsnMo0"
   },
   "source": [
    "### Part 2"
   ]
  },
  {
   "cell_type": "code",
   "execution_count": 58,
   "metadata": {
    "id": "zwodNDc_nwYJ"
   },
   "outputs": [
    {
     "data": {
      "text/html": [
       "<div>\n",
       "<style scoped>\n",
       "    .dataframe tbody tr th:only-of-type {\n",
       "        vertical-align: middle;\n",
       "    }\n",
       "\n",
       "    .dataframe tbody tr th {\n",
       "        vertical-align: top;\n",
       "    }\n",
       "\n",
       "    .dataframe thead th {\n",
       "        text-align: right;\n",
       "    }\n",
       "</style>\n",
       "<table border=\"1\" class=\"dataframe\">\n",
       "  <thead>\n",
       "    <tr style=\"text-align: right;\">\n",
       "      <th></th>\n",
       "      <th>subject_id</th>\n",
       "      <th>gender</th>\n",
       "      <th>dob</th>\n",
       "      <th>dod</th>\n",
       "      <th>dod_hosp</th>\n",
       "      <th>dod_ssn</th>\n",
       "      <th>expire_flag</th>\n",
       "      <th>subject_id_1</th>\n",
       "      <th>hadm_id</th>\n",
       "      <th>admittime</th>\n",
       "      <th>...</th>\n",
       "      <th>diagnosis</th>\n",
       "      <th>hospital_expire_flag</th>\n",
       "      <th>has_chartevents_data</th>\n",
       "      <th>subject_id_2</th>\n",
       "      <th>hadm_id_1</th>\n",
       "      <th>seq_num</th>\n",
       "      <th>icd9_code</th>\n",
       "      <th>icd9_code_1</th>\n",
       "      <th>short_title</th>\n",
       "      <th>long_title</th>\n",
       "    </tr>\n",
       "  </thead>\n",
       "  <tbody>\n",
       "    <tr>\n",
       "      <th>0</th>\n",
       "      <td>10046</td>\n",
       "      <td>F</td>\n",
       "      <td>2141-03-15 00:00:00</td>\n",
       "      <td>2195-03-13 00:00:00</td>\n",
       "      <td>None</td>\n",
       "      <td>2195-03-13 00:00:00</td>\n",
       "      <td>1</td>\n",
       "      <td>10046</td>\n",
       "      <td>133110</td>\n",
       "      <td>2194-07-26 23:43:00</td>\n",
       "      <td>...</td>\n",
       "      <td>BRAIN METASTASES</td>\n",
       "      <td>0</td>\n",
       "      <td>1</td>\n",
       "      <td>10046</td>\n",
       "      <td>133110</td>\n",
       "      <td>1</td>\n",
       "      <td>159</td>\n",
       "      <td>159</td>\n",
       "      <td>Oth extraoc mus-tend op</td>\n",
       "      <td>Other operations on extraocular muscles and te...</td>\n",
       "    </tr>\n",
       "    <tr>\n",
       "      <th>1</th>\n",
       "      <td>10126</td>\n",
       "      <td>F</td>\n",
       "      <td>2127-06-04 00:00:00</td>\n",
       "      <td>2171-08-16 00:00:00</td>\n",
       "      <td>2171-08-16 00:00:00</td>\n",
       "      <td>2171-08-16 00:00:00</td>\n",
       "      <td>1</td>\n",
       "      <td>10126</td>\n",
       "      <td>160445</td>\n",
       "      <td>2171-07-12 06:02:00</td>\n",
       "      <td>...</td>\n",
       "      <td>LIVER FAILURE</td>\n",
       "      <td>1</td>\n",
       "      <td>1</td>\n",
       "      <td>10126</td>\n",
       "      <td>160445</td>\n",
       "      <td>18</td>\n",
       "      <td>93</td>\n",
       "      <td>93</td>\n",
       "      <td>Transplant cadaver donor</td>\n",
       "      <td>Transplant from cadaver</td>\n",
       "    </tr>\n",
       "    <tr>\n",
       "      <th>2</th>\n",
       "      <td>10120</td>\n",
       "      <td>M</td>\n",
       "      <td>2088-05-05 00:00:00</td>\n",
       "      <td>2115-05-15 00:00:00</td>\n",
       "      <td>2115-05-15 00:00:00</td>\n",
       "      <td>None</td>\n",
       "      <td>1</td>\n",
       "      <td>10120</td>\n",
       "      <td>193924</td>\n",
       "      <td>2115-05-12 14:52:00</td>\n",
       "      <td>...</td>\n",
       "      <td>LIVER FAILURE</td>\n",
       "      <td>1</td>\n",
       "      <td>0</td>\n",
       "      <td>10120</td>\n",
       "      <td>193924</td>\n",
       "      <td>1</td>\n",
       "      <td>118</td>\n",
       "      <td>118</td>\n",
       "      <td>Other brain dx procedure</td>\n",
       "      <td>Other diagnostic procedures on brain and cereb...</td>\n",
       "    </tr>\n",
       "    <tr>\n",
       "      <th>3</th>\n",
       "      <td>10126</td>\n",
       "      <td>F</td>\n",
       "      <td>2127-06-04 00:00:00</td>\n",
       "      <td>2171-08-16 00:00:00</td>\n",
       "      <td>2171-08-16 00:00:00</td>\n",
       "      <td>2171-08-16 00:00:00</td>\n",
       "      <td>1</td>\n",
       "      <td>10126</td>\n",
       "      <td>160445</td>\n",
       "      <td>2171-07-12 06:02:00</td>\n",
       "      <td>...</td>\n",
       "      <td>LIVER FAILURE</td>\n",
       "      <td>1</td>\n",
       "      <td>1</td>\n",
       "      <td>10126</td>\n",
       "      <td>160445</td>\n",
       "      <td>12</td>\n",
       "      <td>12</td>\n",
       "      <td>12</td>\n",
       "      <td>Adm inhal nitric oxide</td>\n",
       "      <td>Administration of inhaled nitric oxide</td>\n",
       "    </tr>\n",
       "    <tr>\n",
       "      <th>4</th>\n",
       "      <td>10126</td>\n",
       "      <td>F</td>\n",
       "      <td>2127-06-04 00:00:00</td>\n",
       "      <td>2171-08-16 00:00:00</td>\n",
       "      <td>2171-08-16 00:00:00</td>\n",
       "      <td>2171-08-16 00:00:00</td>\n",
       "      <td>1</td>\n",
       "      <td>10126</td>\n",
       "      <td>160445</td>\n",
       "      <td>2171-07-12 06:02:00</td>\n",
       "      <td>...</td>\n",
       "      <td>LIVER FAILURE</td>\n",
       "      <td>1</td>\n",
       "      <td>1</td>\n",
       "      <td>10126</td>\n",
       "      <td>160445</td>\n",
       "      <td>11</td>\n",
       "      <td>13</td>\n",
       "      <td>13</td>\n",
       "      <td>Inject/infus nesiritide</td>\n",
       "      <td>Injection or infusion of nesiritide</td>\n",
       "    </tr>\n",
       "  </tbody>\n",
       "</table>\n",
       "<p>5 rows × 32 columns</p>\n",
       "</div>"
      ],
      "text/plain": [
       "   subject_id gender                  dob                  dod  \\\n",
       "0       10046      F  2141-03-15 00:00:00  2195-03-13 00:00:00   \n",
       "1       10126      F  2127-06-04 00:00:00  2171-08-16 00:00:00   \n",
       "2       10120      M  2088-05-05 00:00:00  2115-05-15 00:00:00   \n",
       "3       10126      F  2127-06-04 00:00:00  2171-08-16 00:00:00   \n",
       "4       10126      F  2127-06-04 00:00:00  2171-08-16 00:00:00   \n",
       "\n",
       "              dod_hosp              dod_ssn  expire_flag  subject_id_1  \\\n",
       "0                 None  2195-03-13 00:00:00            1         10046   \n",
       "1  2171-08-16 00:00:00  2171-08-16 00:00:00            1         10126   \n",
       "2  2115-05-15 00:00:00                 None            1         10120   \n",
       "3  2171-08-16 00:00:00  2171-08-16 00:00:00            1         10126   \n",
       "4  2171-08-16 00:00:00  2171-08-16 00:00:00            1         10126   \n",
       "\n",
       "   hadm_id            admittime  ...         diagnosis hospital_expire_flag  \\\n",
       "0   133110  2194-07-26 23:43:00  ...  BRAIN METASTASES                    0   \n",
       "1   160445  2171-07-12 06:02:00  ...     LIVER FAILURE                    1   \n",
       "2   193924  2115-05-12 14:52:00  ...     LIVER FAILURE                    1   \n",
       "3   160445  2171-07-12 06:02:00  ...     LIVER FAILURE                    1   \n",
       "4   160445  2171-07-12 06:02:00  ...     LIVER FAILURE                    1   \n",
       "\n",
       "  has_chartevents_data subject_id_2 hadm_id_1 seq_num icd9_code icd9_code_1  \\\n",
       "0                    1        10046    133110       1       159         159   \n",
       "1                    1        10126    160445      18        93          93   \n",
       "2                    0        10120    193924       1       118         118   \n",
       "3                    1        10126    160445      12        12          12   \n",
       "4                    1        10126    160445      11        13          13   \n",
       "\n",
       "                short_title                                         long_title  \n",
       "0   Oth extraoc mus-tend op  Other operations on extraocular muscles and te...  \n",
       "1  Transplant cadaver donor                            Transplant from cadaver  \n",
       "2  Other brain dx procedure  Other diagnostic procedures on brain and cereb...  \n",
       "3    Adm inhal nitric oxide             Administration of inhaled nitric oxide  \n",
       "4   Inject/infus nesiritide                Injection or infusion of nesiritide  \n",
       "\n",
       "[5 rows x 32 columns]"
      ]
     },
     "execution_count": 58,
     "metadata": {},
     "output_type": "execute_result"
    }
   ],
   "source": [
    "part2 = conn.sql(\"\"\"\n",
    "FROM PATIENTS\n",
    "        JOIN ADMISSIONS ON PATIENTS.subject_id = ADMISSIONS.subject_id\n",
    "        JOIN PROD_ICD ON ADMISSIONS.hadm_id = PROD_ICD.hadm_id\n",
    "        JOIN D_ICD ON PROD_ICD.ICD9_CODE = D_ICD.ICD9_CODE\"\"\").df()\n",
    "part2.head()"
   ]
  },
  {
   "cell_type": "code",
   "execution_count": null,
   "metadata": {
    "id": "jXpk-xfknSQL"
   },
   "outputs": [],
   "source": [
    "conn.sql(\n",
    "    \"\"\"\n",
    "    SELECT *\n",
    "    FROM (\n",
    "        SELECT\n",
    "            CASE\n",
    "                WHEN date_diff('year', cast(dob as DATE), cast(dischtime as DATE)) <= 19 THEN 'MINOR'\n",
    "                WHEN date_diff('year', cast(dob as DATE), cast(dischtime as DATE)) >= 20 AND date_diff('year', cast(dob as DATE), cast(dischtime as DATE)) < 50 THEN 'ADULT'\n",
    "                WHEN date_diff('year', cast(dob as DATE), cast(dischtime as DATE)) >= 50 AND date_diff('year', cast(dob as DATE), cast(dischtime as DATE)) < 80 THEN 'OLD'\n",
    "                ELSE 'ELDERLY'\n",
    "            END AS age_group,\n",
    "            long_title,\n",
    "            COUNT(*) AS procedure_count,\n",
    "            ROW_NUMBER() OVER (\n",
    "                PARTITION BY\n",
    "                    CASE\n",
    "                        WHEN date_diff('year', cast(dob as DATE), cast(dischtime as DATE)) <= 19 THEN 'MINOR'\n",
    "                        WHEN date_diff('year', cast(dob as DATE), cast(dischtime as DATE)) >= 20 AND date_diff('year', cast(dob as DATE), cast(dischtime as DATE)) < 50 THEN 'ADULT'\n",
    "                        WHEN date_diff('year', cast(dob as DATE), cast(dischtime as DATE)) >= 50 AND date_diff('year', cast(dob as DATE), cast(dischtime as DATE)) < 80 THEN 'OLD'\n",
    "                        ELSE 'ELDERLY'\n",
    "                    END\n",
    "                ORDER BY COUNT(*) DESC\n",
    "            ) AS rank\n",
    "        FROM PATIENTS\n",
    "        JOIN ADMISSIONS ON PATIENTS.subject_id = ADMISSIONS.subject_id\n",
    "        JOIN PROCS_ICD ON ADMISSIONS.hadm_id = PROCS_ICD.hadm_id\n",
    "        JOIN D_ICDPROCS ON PROCS_ICD.ICD9_CODE = D_ICDPROCS.ICD9_CODE\n",
    "        GROUP BY age_group, long_title\n",
    "    ) ranked\n",
    "    WHERE rank <= 3\n",
    "    ORDER BY age_group, procedure_count DESC;\n",
    "    \"\"\"\n",
    ")"
   ]
  },
  {
   "cell_type": "markdown",
   "metadata": {
    "id": "JzqcgRHmmeWP"
   },
   "source": [
    "### Part 3"
   ]
  },
  {
   "cell_type": "code",
   "execution_count": null,
   "metadata": {
    "id": "WBAWNCYUmd8N"
   },
   "outputs": [],
   "source": []
  },
  {
   "cell_type": "code",
   "execution_count": null,
   "metadata": {
    "id": "btv-g5J7n2qP"
   },
   "outputs": [],
   "source": []
  }
 ],
 "metadata": {
  "colab": {
   "provenance": [],
   "toc_visible": true
  },
  "kernelspec": {
   "display_name": "Python 3 (ipykernel)",
   "language": "python",
   "name": "python3"
  },
  "language_info": {
   "codemirror_mode": {
    "name": "ipython",
    "version": 3
   },
   "file_extension": ".py",
   "mimetype": "text/x-python",
   "name": "python",
   "nbconvert_exporter": "python",
   "pygments_lexer": "ipython3",
   "version": "3.11.6"
  }
 },
 "nbformat": 4,
 "nbformat_minor": 4
}
