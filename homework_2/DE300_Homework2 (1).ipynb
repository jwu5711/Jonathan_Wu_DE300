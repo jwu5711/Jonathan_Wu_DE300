{
 "cells": [
  {
   "cell_type": "markdown",
   "metadata": {
    "id": "ayygdHT6w830"
   },
   "source": [
    "# Homework 2: Two ways with MIMIC-III\n",
    "### Jonathan Wu\n",
    "### Due: 5/9/2025\n",
    "\n",
    "#### Part I (Relational)\n",
    "1. Load all the data into a duckdb database. Refer to MIMIC-III example for guidance to create your own database.\n",
    "2. Answer the following analysis questions along with your queries.\n",
    "For each question, provide the following four pieces of information:\n",
    "<br>a. the SQL query,\n",
    "<br>b. brief explanation of the query (i.e., what operations are performed by the major parts of the query),\n",
    "<br>c. the first several lines of your resulting table, and\n",
    "<br>d. a summary of your findings. If it benefits to use a graph, include your graph at the end of your answer, with clear labels and caption.\n",
    "\n",
    "The analysis questions are:\n",
    "\n",
    "1. Create a summary of type of drugs and their total amount used by ethnicity. Report the top usage in each ethnicity group. You may have to make certain assumptions in calculating their total amount.\n",
    "2. Create a summary of procedures performed on patients by age groups (<=19, 20-49, 50-79, >80). Report the top three procedures, along with the name of the procedures, performed in each age group.\n",
    "3. How long do patients stay in the ICU? Is there a difference in the ICU length of stay among gender or ethnicity?"
   ]
  },
  {
   "cell_type": "code",
   "execution_count": 1,
   "metadata": {
    "colab": {
     "base_uri": "https://localhost:8080/"
    },
    "executionInfo": {
     "elapsed": 6518,
     "status": "ok",
     "timestamp": 1746510844938,
     "user": {
      "displayName": "Jonathan Wu",
      "userId": "10208465259698949471"
     },
     "user_tz": 300
    },
    "id": "dXl1iSw2wkS2",
    "outputId": "0f1bf4fe-b8d0-4b3f-d6c8-fafc32757734"
   },
   "outputs": [],
   "source": [
    "#!pip install duckdb==1.2.2\n",
    "import duckdb\n",
    "import pandas as pd"
   ]
  },
  {
   "cell_type": "code",
   "execution_count": 2,
   "metadata": {
    "colab": {
     "base_uri": "https://localhost:8080/"
    },
    "executionInfo": {
     "elapsed": 103,
     "status": "ok",
     "timestamp": 1746510868037,
     "user": {
      "displayName": "Jonathan Wu",
      "userId": "10208465259698949471"
     },
     "user_tz": 300
    },
    "id": "KrwJBIBr1Tow",
    "outputId": "9e9d3cf4-2462-4690-f1f3-e9487e15a5e4"
   },
   "outputs": [
    {
     "data": {
      "text/plain": [
       "┌───────────────┐\n",
       "│     name      │\n",
       "│    varchar    │\n",
       "├───────────────┤\n",
       "│ ADMISSIONS    │\n",
       "│ DRGCODES      │\n",
       "│ D_ICD         │\n",
       "│ ICUSTAYS      │\n",
       "│ PATIENTS      │\n",
       "│ PRESCRIPTIONS │\n",
       "│ PROD_ICD      │\n",
       "└───────────────┘"
      ]
     },
     "execution_count": 2,
     "metadata": {},
     "output_type": "execute_result"
    }
   ],
   "source": [
    "conn = duckdb.connect('mimic2.db', read_only=False)\n",
    "\n",
    "conn.sql('SHOW TABLES;')"
   ]
  },
  {
   "cell_type": "code",
   "execution_count": 5,
   "metadata": {},
   "outputs": [
    {
     "name": "stderr",
     "output_type": "stream",
     "text": [
      "C:\\Users\\wujon\\AppData\\Local\\Temp\\ipykernel_23700\\3787481121.py:6: UserWarning: pandas only supports SQLAlchemy connectable (engine/connection) or database string URI or sqlite3 DBAPI2 connection. Other DBAPI2 objects are not tested. Please consider using SQLAlchemy.\n",
      "  df.to_sql(file_name[i], conn, index=False)\n",
      "C:\\Users\\wujon\\AppData\\Local\\Temp\\ipykernel_23700\\3787481121.py:6: UserWarning: pandas only supports SQLAlchemy connectable (engine/connection) or database string URI or sqlite3 DBAPI2 connection. Other DBAPI2 objects are not tested. Please consider using SQLAlchemy.\n",
      "  df.to_sql(file_name[i], conn, index=False)\n",
      "C:\\Users\\wujon\\AppData\\Local\\Temp\\ipykernel_23700\\3787481121.py:6: UserWarning: pandas only supports SQLAlchemy connectable (engine/connection) or database string URI or sqlite3 DBAPI2 connection. Other DBAPI2 objects are not tested. Please consider using SQLAlchemy.\n",
      "  df.to_sql(file_name[i], conn, index=False)\n",
      "C:\\Users\\wujon\\AppData\\Local\\Temp\\ipykernel_23700\\3787481121.py:6: UserWarning: pandas only supports SQLAlchemy connectable (engine/connection) or database string URI or sqlite3 DBAPI2 connection. Other DBAPI2 objects are not tested. Please consider using SQLAlchemy.\n",
      "  df.to_sql(file_name[i], conn, index=False)\n",
      "C:\\Users\\wujon\\AppData\\Local\\Temp\\ipykernel_23700\\3787481121.py:6: UserWarning: pandas only supports SQLAlchemy connectable (engine/connection) or database string URI or sqlite3 DBAPI2 connection. Other DBAPI2 objects are not tested. Please consider using SQLAlchemy.\n",
      "  df.to_sql(file_name[i], conn, index=False)\n",
      "C:\\Users\\wujon\\AppData\\Local\\Temp\\ipykernel_23700\\3787481121.py:6: UserWarning: pandas only supports SQLAlchemy connectable (engine/connection) or database string URI or sqlite3 DBAPI2 connection. Other DBAPI2 objects are not tested. Please consider using SQLAlchemy.\n",
      "  df.to_sql(file_name[i], conn, index=False)\n",
      "C:\\Users\\wujon\\AppData\\Local\\Temp\\ipykernel_23700\\3787481121.py:6: UserWarning: pandas only supports SQLAlchemy connectable (engine/connection) or database string URI or sqlite3 DBAPI2 connection. Other DBAPI2 objects are not tested. Please consider using SQLAlchemy.\n",
      "  df.to_sql(file_name[i], conn, index=False)\n"
     ]
    }
   ],
   "source": [
    "files = [\"ADMISSIONS\", \"D_ICD_PROCEDURES\", 'DRGCODES','ICUSTAYS','PATIENTS', 'PRESCRIPTIONS', 'PROCEDURES_ICD']\n",
    "file_name = ['ADMISSIONS', 'D_ICD', 'DRGCODES','ICUSTAYS','PATIENTS','PRESCRIPTIONS','PROD_ICD']\n",
    "for i in range(len(files)):\n",
    "    try:\n",
    "        df = pd.read_csv(\"hw2 files/\"+files[i]+\".csv\")#, index_col=\"row_id\")\n",
    "        df.to_sql(file_name[i], conn, index=False)\n",
    "    except:\n",
    "        continue"
   ]
  },
  {
   "cell_type": "code",
   "execution_count": 6,
   "metadata": {
    "id": "rUkeTPzSNfGA"
   },
   "outputs": [],
   "source": [
    "conn.close()"
   ]
  },
  {
   "cell_type": "code",
   "execution_count": 7,
   "metadata": {
    "colab": {
     "base_uri": "https://localhost:8080/"
    },
    "executionInfo": {
     "elapsed": 81,
     "status": "ok",
     "timestamp": 1746510978365,
     "user": {
      "displayName": "Jonathan Wu",
      "userId": "10208465259698949471"
     },
     "user_tz": 300
    },
    "id": "clJsGz_yNXak",
    "outputId": "6914e33d-81ae-4ed8-ef9f-285c8fc566e2"
   },
   "outputs": [
    {
     "data": {
      "text/plain": [
       "┌───────────────┐\n",
       "│     name      │\n",
       "│    varchar    │\n",
       "├───────────────┤\n",
       "│ ADMISSIONS    │\n",
       "│ DRGCODES      │\n",
       "│ D_ICD         │\n",
       "│ ICUSTAYS      │\n",
       "│ PATIENTS      │\n",
       "│ PRESCRIPTIONS │\n",
       "│ PROD_ICD      │\n",
       "└───────────────┘"
      ]
     },
     "execution_count": 7,
     "metadata": {},
     "output_type": "execute_result"
    }
   ],
   "source": [
    "conn = duckdb.connect('mimic.db')\n",
    "\n",
    "conn.sql('SHOW TABLES;')"
   ]
  },
  {
   "cell_type": "code",
   "execution_count": 8,
   "metadata": {
    "colab": {
     "base_uri": "https://localhost:8080/"
    },
    "executionInfo": {
     "elapsed": 14,
     "status": "ok",
     "timestamp": 1746510981190,
     "user": {
      "displayName": "Jonathan Wu",
      "userId": "10208465259698949471"
     },
     "user_tz": 300
    },
    "id": "WAsSgwKuNXED",
    "outputId": "e9b81178-c16f-4836-b72f-2af0949c4c7f"
   },
   "outputs": [
    {
     "data": {
      "text/plain": [
       "┌────────────┬─────────┬────────────┬─────────────────────┬─────────────────────┬───────────┬─────────────────────────────┬─────────────────────────────┬─────────────────────────────┬───────────────────┬─────────┬─────────────┬──────────────────┬─────────────┬──────────────┬───────────────┬────────────────┬─────────┐\n",
       "│ subject_id │ hadm_id │ icustay_id │      startdate      │       enddate       │ drug_type │            drug             │        drug_name_poe        │      drug_name_generic      │ formulary_drug_cd │   gsn   │     ndc     │  prod_strength   │ dose_val_rx │ dose_unit_rx │ form_val_disp │ form_unit_disp │  route  │\n",
       "│   int32    │  int32  │   float    │       varchar       │       varchar       │  varchar  │           varchar           │           varchar           │           varchar           │      varchar      │  float  │    float    │     varchar      │   varchar   │   varchar    │    varchar    │    varchar     │ varchar │\n",
       "├────────────┼─────────┼────────────┼─────────────────────┼─────────────────────┼───────────┼─────────────────────────────┼─────────────────────────────┼─────────────────────────────┼───────────────────┼─────────┼─────────────┼──────────────────┼─────────────┼──────────────┼───────────────┼────────────────┼─────────┤\n",
       "│      42458 │  159647 │       NULL │ 2146-07-21 00:00:00 │ 2146-07-22 00:00:00 │ MAIN      │ Pneumococcal Vac Polyvalent │ Pneumococcal Vac Polyvalent │ PNEUMOcoccal Vac Polyvalent │ PNEU25I           │ 48548.0 │   6494300.0 │ 25mcg/0.5mL Vial │ 0.5         │ mL           │ 1             │ VIAL           │ IM      │\n",
       "│      42458 │  159647 │       NULL │ 2146-07-21 00:00:00 │ 2146-07-22 00:00:00 │ MAIN      │ Bisacodyl                   │ Bisacodyl                   │ Bisacodyl                   │ BISA5             │  2947.0 │ 536338100.0 │ 5 mg Tab         │ 10          │ mg           │ 2             │ TAB            │ PO      │\n",
       "└────────────┴─────────┴────────────┴─────────────────────┴─────────────────────┴───────────┴─────────────────────────────┴─────────────────────────────┴─────────────────────────────┴───────────────────┴─────────┴─────────────┴──────────────────┴─────────────┴──────────────┴───────────────┴────────────────┴─────────┘"
      ]
     },
     "execution_count": 8,
     "metadata": {},
     "output_type": "execute_result"
    }
   ],
   "source": [
    "conn.sql(\n",
    "    \"\"\"\n",
    "    SELECT * FROM PRESCRIPTIONS LIMIT 2;\n",
    "    \"\"\"\n",
    ")"
   ]
  },
  {
   "cell_type": "markdown",
   "metadata": {
    "id": "deMwwBe5WukX"
   },
   "source": [
    "#### Part I Question 1\n",
    "Create a summary of type of drugs and their total amount used by ethnicity. Report the top usage in each ethnicity group. You may have to make certain assumptions in calculating their total amount."
   ]
  },
  {
   "cell_type": "code",
   "execution_count": 9,
   "metadata": {
    "colab": {
     "base_uri": "https://localhost:8080/"
    },
    "executionInfo": {
     "elapsed": 33,
     "status": "ok",
     "timestamp": 1746511817736,
     "user": {
      "displayName": "Jonathan Wu",
      "userId": "10208465259698949471"
     },
     "user_tz": 300
    },
    "id": "vEA8FKuEW0TX",
    "outputId": "8e464b6f-8843-42b5-e397-a1b72c8c35b3"
   },
   "outputs": [
    {
     "data": {
      "text/plain": [
       "┌────────────────────────────────┬──────────────────────────────────────┬─────────────┬──────────────┬────────────────────┐\n",
       "│           ethnicity            │                 drug                 │ dose_val_rx │ dose_unit_rx │ prescription_count │\n",
       "│            varchar             │               varchar                │   varchar   │   varchar    │       int64        │\n",
       "├────────────────────────────────┼──────────────────────────────────────┼─────────────┼──────────────┼────────────────────┤\n",
       "│ HISPANIC/LATINO - PUERTO RICAN │ 0.9% Sodium Chloride (Mini Bag Plus) │ 100         │ mL           │                465 │\n",
       "│ HISPANIC/LATINO - PUERTO RICAN │ 0.9% Sodium Chloride                 │ 1000        │ mL           │                420 │\n",
       "│ HISPANIC/LATINO - PUERTO RICAN │ Potassium Chloride                   │ 40          │ mEq          │                390 │\n",
       "│ HISPANIC/LATINO - PUERTO RICAN │ Insulin                              │ 0           │ UNIT         │                375 │\n",
       "│ HISPANIC/LATINO - PUERTO RICAN │ 5% Dextrose                          │ 250         │ mL           │                360 │\n",
       "└────────────────────────────────┴──────────────────────────────────────┴─────────────┴──────────────┴────────────────────┘"
      ]
     },
     "execution_count": 9,
     "metadata": {},
     "output_type": "execute_result"
    }
   ],
   "source": [
    "conn.sql(\n",
    "    \"\"\"\n",
    "    SELECT ethnicity, drug, dose_val_rx, dose_unit_rx, count(drug) as prescription_count\n",
    "    FROM ADMISSIONS\n",
    "    JOIN PRESCRIPTIONS ON ADMISSIONS.subject_id = PRESCRIPTIONS.subject_id\n",
    "    GROUP BY ethnicity, drug, dose_val_rx, dose_unit_rx\n",
    "    ORDER BY prescription_count DESC\n",
    "    LIMIT 5;\n",
    "    \"\"\"\n",
    ")"
   ]
  },
  {
   "cell_type": "markdown",
   "metadata": {
    "id": "71Ce8UQ6kUfb"
   },
   "source": [
    "Going to need to grab admissions for ethnicity and prescriptions\n",
    "\n",
    "https://www.geeksforgeeks.org/how-to-select-the-first-row-of-each-group-by-in-sql/"
   ]
  },
  {
   "cell_type": "code",
   "execution_count": 10,
   "metadata": {
    "colab": {
     "base_uri": "https://localhost:8080/"
    },
    "executionInfo": {
     "elapsed": 47,
     "status": "ok",
     "timestamp": 1746512070899,
     "user": {
      "displayName": "Jonathan Wu",
      "userId": "10208465259698949471"
     },
     "user_tz": 300
    },
    "id": "zJWddpX3Oz10",
    "outputId": "e54ef0e7-b0f5-45ee-e35e-160069ab8f50"
   },
   "outputs": [
    {
     "data": {
      "text/plain": [
       "┌──────────────────────────────────────────────────────────┬──────────────────────────────────────┬─────────────┬──────────────┬────────────────────┐\n",
       "│                        ethnicity                         │                 drug                 │ dose_val_rx │ dose_unit_rx │ prescription_count │\n",
       "│                         varchar                          │               varchar                │   varchar   │   varchar    │       int64        │\n",
       "├──────────────────────────────────────────────────────────┼──────────────────────────────────────┼─────────────┼──────────────┼────────────────────┤\n",
       "│ AMERICAN INDIAN/ALASKA NATIVE FEDERALLY RECOGNIZED TRIBE │ 5% Dextrose                          │ 1000        │ mL           │                 30 │\n",
       "│ ASIAN                                                    │ D5W                                  │ 250         │ ml           │                 14 │\n",
       "│ BLACK/AFRICAN AMERICAN                                   │ Insulin                              │ 0           │ UNIT         │                 38 │\n",
       "│ HISPANIC OR LATINO                                       │ 5% Dextrose                          │ 1000        │ mL           │                 15 │\n",
       "│ HISPANIC/LATINO - PUERTO RICAN                           │ 0.9% Sodium Chloride (Mini Bag Plus) │ 100         │ mL           │                465 │\n",
       "│ OTHER                                                    │ NS                                   │ 500         │ ml           │                  6 │\n",
       "│ UNABLE TO OBTAIN                                         │ 0.9% Sodium Chloride                 │ 500         │ mL           │                 15 │\n",
       "│ UNKNOWN/NOT SPECIFIED                                    │ D5W                                  │ 250         │ ml           │                 17 │\n",
       "│ WHITE                                                    │ Potassium Chloride                   │ 40          │ mEq          │                277 │\n",
       "└──────────────────────────────────────────────────────────┴──────────────────────────────────────┴─────────────┴──────────────┴────────────────────┘"
      ]
     },
     "execution_count": 10,
     "metadata": {},
     "output_type": "execute_result"
    }
   ],
   "source": [
    "conn.sql(\n",
    "    \"\"\"\n",
    "    SELECT ethnicity, drug, dose_val_rx, dose_unit_rx, prescription_count\n",
    "    FROM (\n",
    "        SELECT\n",
    "            ADMISSIONS.ethnicity,\n",
    "            PRESCRIPTIONS.drug,\n",
    "            PRESCRIPTIONS.dose_val_rx,\n",
    "            PRESCRIPTIONS.dose_unit_rx,\n",
    "            COUNT(*) AS prescription_count,\n",
    "            ROW_NUMBER() OVER (\n",
    "                PARTITION BY ADMISSIONS.ethnicity\n",
    "                ORDER BY COUNT(*) DESC\n",
    "            ) AS rank\n",
    "        FROM ADMISSIONS\n",
    "        JOIN PRESCRIPTIONS ON ADMISSIONS.subject_id = PRESCRIPTIONS.subject_id\n",
    "        GROUP BY\n",
    "            ADMISSIONS.ethnicity,\n",
    "            PRESCRIPTIONS.drug,\n",
    "            PRESCRIPTIONS.dose_val_rx,\n",
    "            PRESCRIPTIONS.dose_unit_rx\n",
    "    )\n",
    "    WHERE rank = 1\n",
    "    ORDER BY ethnicity;\n",
    "    \"\"\"\n",
    ")\n"
   ]
  },
  {
   "cell_type": "code",
   "execution_count": 11,
   "metadata": {
    "colab": {
     "base_uri": "https://localhost:8080/"
    },
    "executionInfo": {
     "elapsed": 27,
     "status": "ok",
     "timestamp": 1746512597470,
     "user": {
      "displayName": "Jonathan Wu",
      "userId": "10208465259698949471"
     },
     "user_tz": 300
    },
    "id": "vbtXMD98Qc7Q",
    "outputId": "4fd75818-4133-4998-e3cd-d5ea3cb1e4d7"
   },
   "outputs": [
    {
     "data": {
      "text/html": [
       "<div>\n",
       "<style scoped>\n",
       "    .dataframe tbody tr th:only-of-type {\n",
       "        vertical-align: middle;\n",
       "    }\n",
       "\n",
       "    .dataframe tbody tr th {\n",
       "        vertical-align: top;\n",
       "    }\n",
       "\n",
       "    .dataframe thead th {\n",
       "        text-align: right;\n",
       "    }\n",
       "</style>\n",
       "<table border=\"1\" class=\"dataframe\">\n",
       "  <thead>\n",
       "    <tr style=\"text-align: right;\">\n",
       "      <th></th>\n",
       "      <th>ethnicity</th>\n",
       "      <th>drug</th>\n",
       "      <th>amount</th>\n",
       "    </tr>\n",
       "  </thead>\n",
       "  <tbody>\n",
       "    <tr>\n",
       "      <th>0</th>\n",
       "      <td>AMERICAN INDIAN/ALASKA NATIVE FEDERALLY RECOGN...</td>\n",
       "      <td>5% Dextrose</td>\n",
       "      <td>54</td>\n",
       "    </tr>\n",
       "    <tr>\n",
       "      <th>1</th>\n",
       "      <td>AMERICAN INDIAN/ALASKA NATIVE FEDERALLY RECOGN...</td>\n",
       "      <td>0.9% Sodium Chloride</td>\n",
       "      <td>44</td>\n",
       "    </tr>\n",
       "    <tr>\n",
       "      <th>2</th>\n",
       "      <td>AMERICAN INDIAN/ALASKA NATIVE FEDERALLY RECOGN...</td>\n",
       "      <td>Potassium Chloride</td>\n",
       "      <td>42</td>\n",
       "    </tr>\n",
       "    <tr>\n",
       "      <th>3</th>\n",
       "      <td>AMERICAN INDIAN/ALASKA NATIVE FEDERALLY RECOGN...</td>\n",
       "      <td>Lactulose</td>\n",
       "      <td>26</td>\n",
       "    </tr>\n",
       "    <tr>\n",
       "      <th>4</th>\n",
       "      <td>AMERICAN INDIAN/ALASKA NATIVE FEDERALLY RECOGN...</td>\n",
       "      <td>Albumin 25% (12.5g / 50mL)</td>\n",
       "      <td>22</td>\n",
       "    </tr>\n",
       "    <tr>\n",
       "      <th>...</th>\n",
       "      <td>...</td>\n",
       "      <td>...</td>\n",
       "      <td>...</td>\n",
       "    </tr>\n",
       "    <tr>\n",
       "      <th>1255</th>\n",
       "      <td>WHITE</td>\n",
       "      <td>Lidocaine 1%/Epinephrine 1:100000</td>\n",
       "      <td>1</td>\n",
       "    </tr>\n",
       "    <tr>\n",
       "      <th>1256</th>\n",
       "      <td>WHITE</td>\n",
       "      <td>Moexipril HCl</td>\n",
       "      <td>1</td>\n",
       "    </tr>\n",
       "    <tr>\n",
       "      <th>1257</th>\n",
       "      <td>WHITE</td>\n",
       "      <td>Benzocaine 20% Spray</td>\n",
       "      <td>1</td>\n",
       "    </tr>\n",
       "    <tr>\n",
       "      <th>1258</th>\n",
       "      <td>WHITE</td>\n",
       "      <td>Promethazine</td>\n",
       "      <td>1</td>\n",
       "    </tr>\n",
       "    <tr>\n",
       "      <th>1259</th>\n",
       "      <td>WHITE</td>\n",
       "      <td>Rosuvastatin Calcium</td>\n",
       "      <td>1</td>\n",
       "    </tr>\n",
       "  </tbody>\n",
       "</table>\n",
       "<p>1260 rows × 3 columns</p>\n",
       "</div>"
      ],
      "text/plain": [
       "                                              ethnicity  \\\n",
       "0     AMERICAN INDIAN/ALASKA NATIVE FEDERALLY RECOGN...   \n",
       "1     AMERICAN INDIAN/ALASKA NATIVE FEDERALLY RECOGN...   \n",
       "2     AMERICAN INDIAN/ALASKA NATIVE FEDERALLY RECOGN...   \n",
       "3     AMERICAN INDIAN/ALASKA NATIVE FEDERALLY RECOGN...   \n",
       "4     AMERICAN INDIAN/ALASKA NATIVE FEDERALLY RECOGN...   \n",
       "...                                                 ...   \n",
       "1255                                              WHITE   \n",
       "1256                                              WHITE   \n",
       "1257                                              WHITE   \n",
       "1258                                              WHITE   \n",
       "1259                                              WHITE   \n",
       "\n",
       "                                   drug  amount  \n",
       "0                           5% Dextrose      54  \n",
       "1                  0.9% Sodium Chloride      44  \n",
       "2                    Potassium Chloride      42  \n",
       "3                             Lactulose      26  \n",
       "4            Albumin 25% (12.5g / 50mL)      22  \n",
       "...                                 ...     ...  \n",
       "1255  Lidocaine 1%/Epinephrine 1:100000       1  \n",
       "1256                      Moexipril HCl       1  \n",
       "1257               Benzocaine 20% Spray       1  \n",
       "1258                       Promethazine       1  \n",
       "1259               Rosuvastatin Calcium       1  \n",
       "\n",
       "[1260 rows x 3 columns]"
      ]
     },
     "execution_count": 11,
     "metadata": {},
     "output_type": "execute_result"
    }
   ],
   "source": [
    "df1 = conn.sql(\n",
    "    \"\"\"\n",
    "    SELECT\n",
    "        ADMISSIONS.ethnicity,\n",
    "        PRESCRIPTIONS.drug,\n",
    "        count(*) as amount\n",
    "    FROM ADMISSIONS\n",
    "    JOIN PRESCRIPTIONS ON ADMISSIONS.subject_id = PRESCRIPTIONS.subject_id\n",
    "    GROUP BY ADMISSIONS.ethnicity, PRESCRIPTIONS.drug\n",
    "    ORDER BY ethnicity, amount DESC;\n",
    "    \"\"\"\n",
    ").df()\n",
    "df1\n"
   ]
  },
  {
   "cell_type": "code",
   "execution_count": 12,
   "metadata": {},
   "outputs": [
    {
     "data": {
      "text/html": [
       "<div>\n",
       "<style scoped>\n",
       "    .dataframe tbody tr th:only-of-type {\n",
       "        vertical-align: middle;\n",
       "    }\n",
       "\n",
       "    .dataframe tbody tr th {\n",
       "        vertical-align: top;\n",
       "    }\n",
       "\n",
       "    .dataframe thead th {\n",
       "        text-align: right;\n",
       "    }\n",
       "</style>\n",
       "<table border=\"1\" class=\"dataframe\">\n",
       "  <thead>\n",
       "    <tr style=\"text-align: right;\">\n",
       "      <th></th>\n",
       "      <th>ethnicity</th>\n",
       "      <th>drug</th>\n",
       "      <th>AMOUNT</th>\n",
       "    </tr>\n",
       "  </thead>\n",
       "  <tbody>\n",
       "    <tr>\n",
       "      <th>0</th>\n",
       "      <td>AMERICAN INDIAN/ALASKA NATIVE FEDERALLY RECOGN...</td>\n",
       "      <td>5% Dextrose</td>\n",
       "      <td>54</td>\n",
       "    </tr>\n",
       "    <tr>\n",
       "      <th>1</th>\n",
       "      <td>ASIAN</td>\n",
       "      <td>D5W</td>\n",
       "      <td>27</td>\n",
       "    </tr>\n",
       "    <tr>\n",
       "      <th>2</th>\n",
       "      <td>BLACK/AFRICAN AMERICAN</td>\n",
       "      <td>Insulin</td>\n",
       "      <td>60</td>\n",
       "    </tr>\n",
       "    <tr>\n",
       "      <th>3</th>\n",
       "      <td>HISPANIC OR LATINO</td>\n",
       "      <td>5% Dextrose</td>\n",
       "      <td>28</td>\n",
       "    </tr>\n",
       "    <tr>\n",
       "      <th>4</th>\n",
       "      <td>HISPANIC/LATINO - PUERTO RICAN</td>\n",
       "      <td>0.9% Sodium Chloride</td>\n",
       "      <td>1290</td>\n",
       "    </tr>\n",
       "    <tr>\n",
       "      <th>5</th>\n",
       "      <td>OTHER</td>\n",
       "      <td>NS</td>\n",
       "      <td>11</td>\n",
       "    </tr>\n",
       "    <tr>\n",
       "      <th>6</th>\n",
       "      <td>UNABLE TO OBTAIN</td>\n",
       "      <td>0.9% Sodium Chloride</td>\n",
       "      <td>28</td>\n",
       "    </tr>\n",
       "    <tr>\n",
       "      <th>7</th>\n",
       "      <td>UNKNOWN/NOT SPECIFIED</td>\n",
       "      <td>D5W</td>\n",
       "      <td>41</td>\n",
       "    </tr>\n",
       "    <tr>\n",
       "      <th>8</th>\n",
       "      <td>WHITE</td>\n",
       "      <td>Potassium Chloride</td>\n",
       "      <td>508</td>\n",
       "    </tr>\n",
       "  </tbody>\n",
       "</table>\n",
       "</div>"
      ],
      "text/plain": [
       "                                           ethnicity                  drug  \\\n",
       "0  AMERICAN INDIAN/ALASKA NATIVE FEDERALLY RECOGN...           5% Dextrose   \n",
       "1                                              ASIAN                   D5W   \n",
       "2                             BLACK/AFRICAN AMERICAN               Insulin   \n",
       "3                                 HISPANIC OR LATINO           5% Dextrose   \n",
       "4                     HISPANIC/LATINO - PUERTO RICAN  0.9% Sodium Chloride   \n",
       "5                                              OTHER                    NS   \n",
       "6                                   UNABLE TO OBTAIN  0.9% Sodium Chloride   \n",
       "7                              UNKNOWN/NOT SPECIFIED                   D5W   \n",
       "8                                              WHITE    Potassium Chloride   \n",
       "\n",
       "   AMOUNT  \n",
       "0      54  \n",
       "1      27  \n",
       "2      60  \n",
       "3      28  \n",
       "4    1290  \n",
       "5      11  \n",
       "6      28  \n",
       "7      41  \n",
       "8     508  "
      ]
     },
     "execution_count": 12,
     "metadata": {},
     "output_type": "execute_result"
    }
   ],
   "source": [
    "df = conn.sql(\n",
    "    \"\"\"\n",
    "    SELECT\n",
    "    ETHNICITY,DRUG,AMOUNT\n",
    "FROM (\n",
    "    SELECT\n",
    "        ADMISSIONS.ETHNICITY,\n",
    "        PRESCRIPTIONS.DRUG,\n",
    "        COUNT(*) AS AMOUNT\n",
    "    FROM PRESCRIPTIONS\n",
    "    JOIN ADMISSIONS ON PRESCRIPTIONS.subject_id = ADMISSIONS.subject_id\n",
    "    GROUP BY ADMISSIONS.ETHNICITY, PRESCRIPTIONS.DRUG\n",
    ") AS counts\n",
    "QUALIFY AMOUNT = MAX(AMOUNT) OVER (PARTITION BY ETHNICITY)\n",
    "ORDER BY ETHNICITY;\n",
    "    \"\"\"\n",
    ").df()\n",
    "df\n"
   ]
  },
  {
   "cell_type": "code",
   "execution_count": 16,
   "metadata": {},
   "outputs": [
    {
     "name": "stdout",
     "output_type": "stream",
     "text": [
      "Requirement already satisfied: matplotlib in c:\\users\\wujon\\appdata\\local\\packages\\pythonsoftwarefoundation.python.3.10_qbz5n2kfra8p0\\localcache\\local-packages\\python310\\site-packages (3.7.0)\n",
      "Requirement already satisfied: contourpy>=1.0.1 in c:\\users\\wujon\\appdata\\local\\packages\\pythonsoftwarefoundation.python.3.10_qbz5n2kfra8p0\\localcache\\local-packages\\python310\\site-packages (from matplotlib) (1.0.7)\n",
      "Requirement already satisfied: cycler>=0.10 in c:\\users\\wujon\\appdata\\local\\packages\\pythonsoftwarefoundation.python.3.10_qbz5n2kfra8p0\\localcache\\local-packages\\python310\\site-packages (from matplotlib) (0.11.0)\n",
      "Requirement already satisfied: fonttools>=4.22.0 in c:\\users\\wujon\\appdata\\local\\packages\\pythonsoftwarefoundation.python.3.10_qbz5n2kfra8p0\\localcache\\local-packages\\python310\\site-packages (from matplotlib) (4.38.0)\n",
      "Requirement already satisfied: kiwisolver>=1.0.1 in c:\\users\\wujon\\appdata\\local\\packages\\pythonsoftwarefoundation.python.3.10_qbz5n2kfra8p0\\localcache\\local-packages\\python310\\site-packages (from matplotlib) (1.4.4)\n",
      "Requirement already satisfied: numpy>=1.20 in c:\\users\\wujon\\appdata\\local\\packages\\pythonsoftwarefoundation.python.3.10_qbz5n2kfra8p0\\localcache\\local-packages\\python310\\site-packages (from matplotlib) (1.24.2)\n",
      "Requirement already satisfied: packaging>=20.0 in c:\\users\\wujon\\appdata\\local\\packages\\pythonsoftwarefoundation.python.3.10_qbz5n2kfra8p0\\localcache\\local-packages\\python310\\site-packages (from matplotlib) (23.0)\n",
      "Requirement already satisfied: pillow>=6.2.0 in c:\\users\\wujon\\appdata\\local\\packages\\pythonsoftwarefoundation.python.3.10_qbz5n2kfra8p0\\localcache\\local-packages\\python310\\site-packages (from matplotlib) (9.4.0)\n",
      "Requirement already satisfied: pyparsing>=2.3.1 in c:\\users\\wujon\\appdata\\local\\packages\\pythonsoftwarefoundation.python.3.10_qbz5n2kfra8p0\\localcache\\local-packages\\python310\\site-packages (from matplotlib) (3.0.9)\n",
      "Requirement already satisfied: python-dateutil>=2.7 in c:\\users\\wujon\\appdata\\local\\packages\\pythonsoftwarefoundation.python.3.10_qbz5n2kfra8p0\\localcache\\local-packages\\python310\\site-packages (from matplotlib) (2.8.2)\n",
      "Requirement already satisfied: six>=1.5 in c:\\users\\wujon\\appdata\\local\\packages\\pythonsoftwarefoundation.python.3.10_qbz5n2kfra8p0\\localcache\\local-packages\\python310\\site-packages (from python-dateutil>=2.7->matplotlib) (1.16.0)\n",
      "Note: you may need to restart the kernel to use updated packages.\n"
     ]
    },
    {
     "data": {
      "image/png": "[encoded data removed]",
      "text/plain": [
       "<Figure size 1000x600 with 1 Axes>"
      ]
     },
     "metadata": {},
     "output_type": "display_data"
    }
   ],
   "source": [
    "%pip install matplotlib\n",
    "import matplotlib.pyplot as plt\n",
    "\n",
    "top_doses = df.groupby('ethnicity')['AMOUNT'].max().reset_index()\n",
    "plt.figure(figsize=(10,6))\n",
    "plt.bar(top_doses['ethnicity'], top_doses['AMOUNT'])\n",
    "plt.xlabel(\"Ethnicity\")\n",
    "plt.ylabel(\"Top Total Dose\")\n",
    "plt.xticks(rotation = -20)\n",
    "plt.show()"
   ]
  },
  {
   "cell_type": "markdown",
   "metadata": {
    "id": "nD8--xYpWxcu"
   },
   "source": [
    "#### Part I Question 2\n",
    "Create a summary of procedures performed on patients by age groups (<=19, 20-49, 50-79, >80). Report the top three procedures, along with the name of the procedures, performed in each age group."
   ]
  },
  {
   "cell_type": "code",
   "execution_count": null,
   "metadata": {
    "colab": {
     "base_uri": "https://localhost:8080/"
    },
    "executionInfo": {
     "elapsed": 4,
     "status": "ok",
     "timestamp": 1746497915072,
     "user": {
      "displayName": "Jonathan Wu",
      "userId": "10208465259698949471"
     },
     "user_tz": 300
    },
    "id": "Ftl2QvTqYDus",
    "outputId": "534c0369-56e9-412e-db36-e243e598805a"
   },
   "outputs": [
    {
     "data": {
      "text/plain": [
       "┌────────┬────────────┬─────────┬─────────────────────┬─────────────────────┬─────────────────────┬─────────────────────┬─────────────┐\n",
       "│ row_id │ subject_id │ gender  │         dob         │         dod         │      dod_hosp       │       dod_ssn       │ expire_flag │\n",
       "│ int32  │   int32    │ varchar │       varchar       │       varchar       │       varchar       │       varchar       │    int32    │\n",
       "├────────┼────────────┼─────────┼─────────────────────┼─────────────────────┼─────────────────────┼─────────────────────┼─────────────┤\n",
       "│   9467 │      10006 │ F       │ 2094-03-05 00:00:00 │ 2165-08-12 00:00:00 │ 2165-08-12 00:00:00 │ 2165-08-12 00:00:00 │           1 │\n",
       "│   9472 │      10011 │ F       │ 2090-06-05 00:00:00 │ 2126-08-28 00:00:00 │ 2126-08-28 00:00:00 │ NULL                │           1 │\n",
       "└────────┴────────────┴─────────┴─────────────────────┴─────────────────────┴─────────────────────┴─────────────────────┴─────────────┘"
      ]
     },
     "execution_count": 64,
     "metadata": {},
     "output_type": "execute_result"
    }
   ],
   "source": [
    "conn.sql(\n",
    "    \"\"\"\n",
    "    SELECT * FROM PATIENTS LIMIT 2;\n",
    "    \"\"\"\n",
    ")"
   ]
  },
  {
   "cell_type": "code",
   "execution_count": null,
   "metadata": {
    "colab": {
     "base_uri": "https://localhost:8080/"
    },
    "executionInfo": {
     "elapsed": 5,
     "status": "ok",
     "timestamp": 1746497909526,
     "user": {
      "displayName": "Jonathan Wu",
      "userId": "10208465259698949471"
     },
     "user_tz": 300
    },
    "id": "ChJXyDB8YyDF",
    "outputId": "454b8ae8-4bb5-4885-cbcd-109ad6d4da44"
   },
   "outputs": [
    {
     "data": {
      "text/plain": [
       "┌────────┬────────────┬─────────┬─────────────────────┬─────────────────────┬─────────────────────┬────────────────┬───────────────────────────┬────────────────────┬───────────┬──────────┬──────────┬────────────────┬────────────────────────┬─────────────────────┬─────────────────────┬─────────────┬──────────────────────┬──────────────────────┐\n",
       "│ row_id │ subject_id │ hadm_id │      admittime      │      dischtime      │      deathtime      │ admission_type │    admission_location     │ discharge_location │ insurance │ language │ religion │ marital_status │       ethnicity        │      edregtime      │      edouttime      │  diagnosis  │ hospital_expire_flag │ has_chartevents_data │\n",
       "│ int32  │   int32    │  int32  │       varchar       │       varchar       │       varchar       │    varchar     │          varchar          │      varchar       │  varchar  │ varchar  │ varchar  │    varchar     │        varchar         │       varchar       │       varchar       │   varchar   │        int32         │        int32         │\n",
       "├────────┼────────────┼─────────┼─────────────────────┼─────────────────────┼─────────────────────┼────────────────┼───────────────────────────┼────────────────────┼───────────┼──────────┼──────────┼────────────────┼────────────────────────┼─────────────────────┼─────────────────────┼─────────────┼──────────────────────┼──────────────────────┤\n",
       "│  12258 │      10006 │  142345 │ 2164-10-23 21:09:00 │ 2164-11-01 17:15:00 │ NULL                │ EMERGENCY      │ EMERGENCY ROOM ADMIT      │ HOME HEALTH CARE   │ Medicare  │ NULL     │ CATHOLIC │ SEPARATED      │ BLACK/AFRICAN AMERICAN │ 2164-10-23 16:43:00 │ 2164-10-23 23:00:00 │ SEPSIS      │                    0 │                    1 │\n",
       "│  12263 │      10011 │  105331 │ 2126-08-14 22:32:00 │ 2126-08-28 18:59:00 │ 2126-08-28 18:59:00 │ EMERGENCY      │ TRANSFER FROM HOSP/EXTRAM │ DEAD/EXPIRED       │ Private   │ NULL     │ CATHOLIC │ SINGLE         │ UNKNOWN/NOT SPECIFIED  │ NULL                │ NULL                │ HEPATITIS B │                    1 │                    1 │\n",
       "└────────┴────────────┴─────────┴─────────────────────┴─────────────────────┴─────────────────────┴────────────────┴───────────────────────────┴────────────────────┴───────────┴──────────┴──────────┴────────────────┴────────────────────────┴─────────────────────┴─────────────────────┴─────────────┴──────────────────────┴──────────────────────┘"
      ]
     },
     "execution_count": 63,
     "metadata": {},
     "output_type": "execute_result"
    }
   ],
   "source": [
    "conn.sql(\n",
    "    \"\"\"\n",
    "    SELECT * FROM ADMISSIONS LIMIT 2;\n",
    "    \"\"\"\n",
    ")"
   ]
  },
  {
   "cell_type": "code",
   "execution_count": null,
   "metadata": {
    "colab": {
     "base_uri": "https://localhost:8080/"
    },
    "executionInfo": {
     "elapsed": 9,
     "status": "ok",
     "timestamp": 1746497618807,
     "user": {
      "displayName": "Jonathan Wu",
      "userId": "10208465259698949471"
     },
     "user_tz": 300
    },
    "id": "sLJtyS8JXM-f",
    "outputId": "2e13f34c-09e5-43f0-8f16-ba2c63fb1c46"
   },
   "outputs": [
    {
     "data": {
      "text/plain": [
       "┌────────┬────────────┬─────────┬─────────┬───────────┐\n",
       "│ row_id │ subject_id │ hadm_id │ seq_num │ icd9_code │\n",
       "│ int32  │   int32    │  int32  │  int32  │   int32   │\n",
       "├────────┼────────────┼─────────┼─────────┼───────────┤\n",
       "│   3994 │      10114 │  167957 │       1 │      3605 │\n",
       "│   3995 │      10114 │  167957 │       2 │      3722 │\n",
       "└────────┴────────────┴─────────┴─────────┴───────────┘"
      ]
     },
     "execution_count": 54,
     "metadata": {},
     "output_type": "execute_result"
    }
   ],
   "source": [
    "conn.sql(\n",
    "    \"\"\"\n",
    "    SELECT * FROM PROCS_ICD LIMIT 2;\n",
    "    \"\"\"\n",
    ")"
   ]
  },
  {
   "cell_type": "code",
   "execution_count": null,
   "metadata": {
    "colab": {
     "base_uri": "https://localhost:8080/"
    },
    "executionInfo": {
     "elapsed": 9,
     "status": "ok",
     "timestamp": 1746497651262,
     "user": {
      "displayName": "Jonathan Wu",
      "userId": "10208465259698949471"
     },
     "user_tz": 300
    },
    "id": "9m-KmFD9XwCX",
    "outputId": "fe5cd1d0-dd7f-4bf9-eefa-c2e8576f1203"
   },
   "outputs": [
    {
     "data": {
      "text/plain": [
       "┌────────┬───────────┬──────────────────────────┬───────────────────────────────────────────────────────────────────┐\n",
       "│ row_id │ icd9_code │       short_title        │                            long_title                             │\n",
       "│ int32  │   int32   │         varchar          │                              varchar                              │\n",
       "├────────┼───────────┼──────────────────────────┼───────────────────────────────────────────────────────────────────┤\n",
       "│      1 │      1423 │ Chorioret les xenon coag │ Destruction of chorioretinal lesion by xenon arc photocoagulation │\n",
       "│      2 │      1424 │ Chorioret les laser coag │ Destruction of chorioretinal lesion by laser photocoagulation     │\n",
       "└────────┴───────────┴──────────────────────────┴───────────────────────────────────────────────────────────────────┘"
      ]
     },
     "execution_count": 56,
     "metadata": {},
     "output_type": "execute_result"
    }
   ],
   "source": [
    "conn.sql(\n",
    "    \"\"\"\n",
    "    SELECT * FROM D_ICDPROCS LIMIT 2;\n",
    "    \"\"\"\n",
    ")"
   ]
  },
  {
   "cell_type": "code",
   "execution_count": null,
   "metadata": {
    "colab": {
     "base_uri": "https://localhost:8080/"
    },
    "executionInfo": {
     "elapsed": 10,
     "status": "ok",
     "timestamp": 1746498367493,
     "user": {
      "displayName": "Jonathan Wu",
      "userId": "10208465259698949471"
     },
     "user_tz": 300
    },
    "id": "bjFaFqnMYdao",
    "outputId": "c23de875-9fd6-4e42-dea1-8ec06bbc74f4"
   },
   "outputs": [
    {
     "data": {
      "text/plain": [
       "┌───────┐\n",
       "│  age  │\n",
       "│ int64 │\n",
       "├───────┤\n",
       "│    70 │\n",
       "│    36 │\n",
       "│    87 │\n",
       "│    74 │\n",
       "│    49 │\n",
       "│   300 │\n",
       "│    82 │\n",
       "│    78 │\n",
       "│    88 │\n",
       "│    81 │\n",
       "└───────┘"
      ]
     },
     "execution_count": 80,
     "metadata": {},
     "output_type": "execute_result"
    }
   ],
   "source": [
    "conn.sql(\n",
    "    \"\"\"\n",
    "    SELECT date_diff('year', cast(dob as DATE), cast(dischtime as DATE)) as age\n",
    "    FROM PATIENTS\n",
    "    JOIN ADMISSIONS ON PATIENTS.subject_id=ADMISSIONS.subject_id\n",
    "    LIMIT 10;\n",
    "    \"\"\"\n",
    ")"
   ]
  },
  {
   "cell_type": "code",
   "execution_count": null,
   "metadata": {
    "colab": {
     "base_uri": "https://localhost:8080/"
    },
    "executionInfo": {
     "elapsed": 27,
     "status": "ok",
     "timestamp": 1746500537050,
     "user": {
      "displayName": "Jonathan Wu",
      "userId": "10208465259698949471"
     },
     "user_tz": 300
    },
    "id": "aGF_Tmsfd4vx",
    "outputId": "7a8a98fd-94ae-46b6-ed78-0edc94a1838d"
   },
   "outputs": [
    {
     "data": {
      "text/plain": [
       "┌───────────┬─────────────────────────────────────────────────────────────────────────────┬─────────────────┐\n",
       "│ age_group │                                 long_title                                  │ procedure_count │\n",
       "│  varchar  │                                   varchar                                   │      int64      │\n",
       "├───────────┼─────────────────────────────────────────────────────────────────────────────┼─────────────────┤\n",
       "│ ADULT     │ Venous catheterization, not elsewhere classified                            │               9 │\n",
       "│ ADULT     │ Enteral infusion of concentrated nutritional substances                     │               7 │\n",
       "│ ADULT     │ Insertion of endotracheal tube                                              │               6 │\n",
       "│ ADULT     │ Percutaneous abdominal drainage                                             │               6 │\n",
       "│ ADULT     │ Continuous invasive mechanical ventilation for 96 consecutive hours or more │               6 │\n",
       "└───────────┴─────────────────────────────────────────────────────────────────────────────┴─────────────────┘"
      ]
     },
     "execution_count": 108,
     "metadata": {},
     "output_type": "execute_result"
    }
   ],
   "source": [
    "conn.sql(\n",
    "    \"\"\"\n",
    "    SELECT CASE\n",
    "    WHEN date_diff('year', cast(dob as DATE), cast(dischtime as DATE)) <= 19 THEN 'MINOR'\n",
    "    WHEN date_diff('year', cast(dob as DATE), cast(dischtime as DATE)) >= 20 AND date_diff('year', cast(dob as DATE), cast(dischtime as DATE)) <50 THEN 'ADULT'\n",
    "    WHEN date_diff('year', cast(dob as DATE), cast(dischtime as DATE)) >=50 AND date_diff('year', cast(dob as DATE), cast(dischtime as DATE)) < 80 THEN 'OLD'\n",
    "    ELSE 'ELDERLY'\n",
    "    END AS age_group,\n",
    "    long_title,\n",
    "    FROM PATIENTS\n",
    "    JOIN ADMISSIONS ON PATIENTS.subject_id=ADMISSIONS.subject_id\n",
    "    JOIN PROCS_ICD ON ADMISSIONS.hadm_id=PROCS_ICD.hadm_id\n",
    "    JOIN D_ICDPROCS ON PROCS_ICD.ICD9_CODE=D_ICDPROCS.ICD9_CODE\n",
    "    GROUP BY age_group\n",
    "    LIMIT 5;\n",
    "    \"\"\"\n",
    ")"
   ]
  },
  {
   "cell_type": "code",
   "execution_count": 179,
   "metadata": {
    "colab": {
     "base_uri": "https://localhost:8080/"
    },
    "executionInfo": {
     "elapsed": 42,
     "status": "ok",
     "timestamp": 1746500631314,
     "user": {
      "displayName": "Jonathan Wu",
      "userId": "10208465259698949471"
     },
     "user_tz": 300
    },
    "id": "ITiKKfbogGc6",
    "outputId": "4a87cce3-b361-458f-b8cb-66f3c0a51a1a"
   },
   "outputs": [
    {
     "data": {
      "text/html": [
       "<div>\n",
       "<style scoped>\n",
       "    .dataframe tbody tr th:only-of-type {\n",
       "        vertical-align: middle;\n",
       "    }\n",
       "\n",
       "    .dataframe tbody tr th {\n",
       "        vertical-align: top;\n",
       "    }\n",
       "\n",
       "    .dataframe thead th {\n",
       "        text-align: right;\n",
       "    }\n",
       "</style>\n",
       "<table border=\"1\" class=\"dataframe\">\n",
       "  <thead>\n",
       "    <tr style=\"text-align: right;\">\n",
       "      <th></th>\n",
       "      <th>age_group</th>\n",
       "      <th>long_title</th>\n",
       "      <th>procedure_count</th>\n",
       "      <th>rank</th>\n",
       "    </tr>\n",
       "  </thead>\n",
       "  <tbody>\n",
       "    <tr>\n",
       "      <th>0</th>\n",
       "      <td>ADULT</td>\n",
       "      <td>Venous catheterization, not elsewhere classified</td>\n",
       "      <td>9</td>\n",
       "      <td>1</td>\n",
       "    </tr>\n",
       "    <tr>\n",
       "      <th>1</th>\n",
       "      <td>ADULT</td>\n",
       "      <td>Enteral infusion of concentrated nutritional s...</td>\n",
       "      <td>7</td>\n",
       "      <td>2</td>\n",
       "    </tr>\n",
       "    <tr>\n",
       "      <th>2</th>\n",
       "      <td>ADULT</td>\n",
       "      <td>Percutaneous abdominal drainage</td>\n",
       "      <td>6</td>\n",
       "      <td>3</td>\n",
       "    </tr>\n",
       "    <tr>\n",
       "      <th>3</th>\n",
       "      <td>ELDERLY</td>\n",
       "      <td>Venous catheterization, not elsewhere classified</td>\n",
       "      <td>20</td>\n",
       "      <td>1</td>\n",
       "    </tr>\n",
       "    <tr>\n",
       "      <th>4</th>\n",
       "      <td>ELDERLY</td>\n",
       "      <td>Transfusion of packed cells</td>\n",
       "      <td>13</td>\n",
       "      <td>2</td>\n",
       "    </tr>\n",
       "    <tr>\n",
       "      <th>5</th>\n",
       "      <td>ELDERLY</td>\n",
       "      <td>Insertion of endotracheal tube</td>\n",
       "      <td>8</td>\n",
       "      <td>3</td>\n",
       "    </tr>\n",
       "    <tr>\n",
       "      <th>6</th>\n",
       "      <td>MINOR</td>\n",
       "      <td>Venous catheterization, not elsewhere classified</td>\n",
       "      <td>2</td>\n",
       "      <td>1</td>\n",
       "    </tr>\n",
       "    <tr>\n",
       "      <th>7</th>\n",
       "      <td>MINOR</td>\n",
       "      <td>Interruption of the vena cava</td>\n",
       "      <td>1</td>\n",
       "      <td>2</td>\n",
       "    </tr>\n",
       "    <tr>\n",
       "      <th>8</th>\n",
       "      <td>MINOR</td>\n",
       "      <td>Closure of skin and subcutaneous tissue of oth...</td>\n",
       "      <td>1</td>\n",
       "      <td>3</td>\n",
       "    </tr>\n",
       "    <tr>\n",
       "      <th>9</th>\n",
       "      <td>OLD</td>\n",
       "      <td>Venous catheterization, not elsewhere classified</td>\n",
       "      <td>25</td>\n",
       "      <td>1</td>\n",
       "    </tr>\n",
       "    <tr>\n",
       "      <th>10</th>\n",
       "      <td>OLD</td>\n",
       "      <td>Enteral infusion of concentrated nutritional s...</td>\n",
       "      <td>22</td>\n",
       "      <td>2</td>\n",
       "    </tr>\n",
       "    <tr>\n",
       "      <th>11</th>\n",
       "      <td>OLD</td>\n",
       "      <td>Transfusion of packed cells</td>\n",
       "      <td>13</td>\n",
       "      <td>3</td>\n",
       "    </tr>\n",
       "  </tbody>\n",
       "</table>\n",
       "</div>"
      ],
      "text/plain": [
       "   age_group                                         long_title  \\\n",
       "0      ADULT   Venous catheterization, not elsewhere classified   \n",
       "1      ADULT  Enteral infusion of concentrated nutritional s...   \n",
       "2      ADULT                    Percutaneous abdominal drainage   \n",
       "3    ELDERLY   Venous catheterization, not elsewhere classified   \n",
       "4    ELDERLY                        Transfusion of packed cells   \n",
       "5    ELDERLY                     Insertion of endotracheal tube   \n",
       "6      MINOR   Venous catheterization, not elsewhere classified   \n",
       "7      MINOR                      Interruption of the vena cava   \n",
       "8      MINOR  Closure of skin and subcutaneous tissue of oth...   \n",
       "9        OLD   Venous catheterization, not elsewhere classified   \n",
       "10       OLD  Enteral infusion of concentrated nutritional s...   \n",
       "11       OLD                        Transfusion of packed cells   \n",
       "\n",
       "    procedure_count  rank  \n",
       "0                 9     1  \n",
       "1                 7     2  \n",
       "2                 6     3  \n",
       "3                20     1  \n",
       "4                13     2  \n",
       "5                 8     3  \n",
       "6                 2     1  \n",
       "7                 1     2  \n",
       "8                 1     3  \n",
       "9                25     1  \n",
       "10               22     2  \n",
       "11               13     3  "
      ]
     },
     "execution_count": 179,
     "metadata": {},
     "output_type": "execute_result"
    }
   ],
   "source": [
    "df2 = conn.sql(\n",
    "    \"\"\"\n",
    "    SELECT *\n",
    "    FROM (\n",
    "        SELECT\n",
    "            CASE\n",
    "                WHEN date_diff('year', cast(dob as DATE), cast(dischtime as DATE)) <= 19 THEN 'MINOR'\n",
    "                WHEN date_diff('year', cast(dob as DATE), cast(dischtime as DATE)) >= 20 AND date_diff('year', cast(dob as DATE), cast(dischtime as DATE)) < 50 THEN 'ADULT'\n",
    "                WHEN date_diff('year', cast(dob as DATE), cast(dischtime as DATE)) >= 50 AND date_diff('year', cast(dob as DATE), cast(dischtime as DATE)) < 80 THEN 'OLD'\n",
    "                ELSE 'ELDERLY'\n",
    "            END AS age_group,\n",
    "            long_title,\n",
    "            COUNT(*) AS procedure_count,\n",
    "            ROW_NUMBER() OVER (\n",
    "                PARTITION BY\n",
    "                    CASE\n",
    "                        WHEN date_diff('year', cast(dob as DATE), cast(dischtime as DATE)) <= 19 THEN 'MINOR'\n",
    "                        WHEN date_diff('year', cast(dob as DATE), cast(dischtime as DATE)) >= 20 AND date_diff('year', cast(dob as DATE), cast(dischtime as DATE)) < 50 THEN 'ADULT'\n",
    "                        WHEN date_diff('year', cast(dob as DATE), cast(dischtime as DATE)) >= 50 AND date_diff('year', cast(dob as DATE), cast(dischtime as DATE)) < 80 THEN 'OLD'\n",
    "                        ELSE 'ELDERLY'\n",
    "                    END\n",
    "                ORDER BY COUNT(*) DESC\n",
    "            ) AS rank\n",
    "        FROM PATIENTS\n",
    "        JOIN ADMISSIONS ON PATIENTS.subject_id = ADMISSIONS.subject_id\n",
    "        JOIN PROD_ICD ON ADMISSIONS.hadm_id = PROD_ICD.hadm_id\n",
    "        JOIN D_ICD ON PROD_ICD.ICD9_CODE = D_ICD.ICD9_CODE\n",
    "        GROUP BY age_group, long_title\n",
    "    ) ranked\n",
    "    WHERE rank <= 3\n",
    "    ORDER BY age_group, procedure_count DESC;\n",
    "    \"\"\"\n",
    ").df()\n",
    "df2"
   ]
  },
  {
   "cell_type": "markdown",
   "metadata": {
    "id": "n-6ZT0xeOWQF"
   },
   "source": [
    "#### Part I Question 3\n",
    "How long do patients stay in the ICU? Is there a difference in the ICU length of stay among gender or ethnicity?\n",
    "\n",
    "https://duckdb.org/docs/stable/sql/data_types/typecasting\n",
    "\n",
    "https://duckdb.org/docs/stable/sql/data_types/interval\n",
    "\n",
    "https://duckdb.org/docs/stable/sql/functions/datepart.html\n",
    "\n",
    "https://duckdb.org/docs/stable/sql/functions/interval.html"
   ]
  },
  {
   "cell_type": "code",
   "execution_count": null,
   "metadata": {
    "colab": {
     "base_uri": "https://localhost:8080/"
    },
    "executionInfo": {
     "elapsed": 8,
     "status": "ok",
     "timestamp": 1746496942302,
     "user": {
      "displayName": "Jonathan Wu",
      "userId": "10208465259698949471"
     },
     "user_tz": 300
    },
    "id": "kQr2bgy_ObEG",
    "outputId": "75346d40-30d7-46bd-dcec-d840c5f0565a"
   },
   "outputs": [
    {
     "data": {
      "text/plain": [
       "┌────────┬────────────┬─────────┬─────────────────────┬─────────────────────┬─────────────────────┬─────────────────────┬─────────────┐\n",
       "│ row_id │ subject_id │ gender  │         dob         │         dod         │      dod_hosp       │       dod_ssn       │ expire_flag │\n",
       "│ int32  │   int32    │ varchar │       varchar       │       varchar       │       varchar       │       varchar       │    int32    │\n",
       "├────────┼────────────┼─────────┼─────────────────────┼─────────────────────┼─────────────────────┼─────────────────────┼─────────────┤\n",
       "│   9467 │      10006 │ F       │ 2094-03-05 00:00:00 │ 2165-08-12 00:00:00 │ 2165-08-12 00:00:00 │ 2165-08-12 00:00:00 │           1 │\n",
       "│   9472 │      10011 │ F       │ 2090-06-05 00:00:00 │ 2126-08-28 00:00:00 │ 2126-08-28 00:00:00 │ NULL                │           1 │\n",
       "│   9474 │      10013 │ F       │ 2038-09-03 00:00:00 │ 2125-10-07 00:00:00 │ 2125-10-07 00:00:00 │ 2125-10-07 00:00:00 │           1 │\n",
       "│   9478 │      10017 │ F       │ 2075-09-21 00:00:00 │ 2152-09-12 00:00:00 │ NULL                │ 2152-09-12 00:00:00 │           1 │\n",
       "│   9479 │      10019 │ M       │ 2114-06-20 00:00:00 │ 2163-05-15 00:00:00 │ 2163-05-15 00:00:00 │ 2163-05-15 00:00:00 │           1 │\n",
       "└────────┴────────────┴─────────┴─────────────────────┴─────────────────────┴─────────────────────┴─────────────────────┴─────────────┘"
      ]
     },
     "execution_count": 45,
     "metadata": {},
     "output_type": "execute_result"
    }
   ],
   "source": [
    "conn.sql(\n",
    "    \"\"\"\n",
    "    SELECT * FROM PATIENTS LIMIT 5;\n",
    "    \"\"\"\n",
    ")"
   ]
  },
  {
   "cell_type": "code",
   "execution_count": null,
   "metadata": {
    "colab": {
     "base_uri": "https://localhost:8080/"
    },
    "executionInfo": {
     "elapsed": 6,
     "status": "ok",
     "timestamp": 1746497174857,
     "user": {
      "displayName": "Jonathan Wu",
      "userId": "10208465259698949471"
     },
     "user_tz": 300
    },
    "id": "Is5R8UZbQxNi",
    "outputId": "37dab60e-e6ac-4fed-edb3-462a91f0522b"
   },
   "outputs": [
    {
     "data": {
      "text/plain": [
       "┌────────┬────────────┬─────────┬────────────┬──────────┬────────────────┬───────────────┬──────────────┬─────────────┬─────────────────────┬─────────────────────┬─────────┐\n",
       "│ row_id │ subject_id │ hadm_id │ icustay_id │ dbsource │ first_careunit │ last_careunit │ first_wardid │ last_wardid │       intime        │       outtime       │   los   │\n",
       "│ int32  │   int32    │  int32  │   int32    │ varchar  │    varchar     │    varchar    │    int32     │    int32    │       varchar       │       varchar       │  float  │\n",
       "├────────┼────────────┼─────────┼────────────┼──────────┼────────────────┼───────────────┼──────────────┼─────────────┼─────────────────────┼─────────────────────┼─────────┤\n",
       "│  12742 │      10006 │  142345 │     206504 │ carevue  │ MICU           │ MICU          │           52 │          52 │ 2164-10-23 21:10:15 │ 2164-10-25 12:21:07 │  1.6325 │\n",
       "│  12747 │      10011 │  105331 │     232110 │ carevue  │ MICU           │ MICU          │           15 │          15 │ 2126-08-14 22:34:00 │ 2126-08-28 18:59:00 │ 13.8507 │\n",
       "│  12749 │      10013 │  165520 │     264446 │ carevue  │ MICU           │ MICU          │           15 │          15 │ 2125-10-04 23:38:00 │ 2125-10-07 15:13:52 │  2.6499 │\n",
       "│  12754 │      10017 │  199207 │     204881 │ carevue  │ CCU            │ CCU           │            7 │           7 │ 2149-05-29 18:52:29 │ 2149-05-31 22:19:17 │  2.1436 │\n",
       "│  12755 │      10019 │  177759 │     228977 │ carevue  │ MICU           │ MICU          │           15 │          15 │ 2163-05-14 20:43:56 │ 2163-05-16 03:47:04 │  1.2938 │\n",
       "└────────┴────────────┴─────────┴────────────┴──────────┴────────────────┴───────────────┴──────────────┴─────────────┴─────────────────────┴─────────────────────┴─────────┘"
      ]
     },
     "execution_count": 50,
     "metadata": {},
     "output_type": "execute_result"
    }
   ],
   "source": [
    "conn.sql(\"\"\"\n",
    "SELECT * FROM ICUSTAYS LIMIT 5\"\"\")"
   ]
  },
  {
   "cell_type": "code",
   "execution_count": null,
   "metadata": {
    "colab": {
     "base_uri": "https://localhost:8080/"
    },
    "executionInfo": {
     "elapsed": 45,
     "status": "ok",
     "timestamp": 1746496915751,
     "user": {
      "displayName": "Jonathan Wu",
      "userId": "10208465259698949471"
     },
     "user_tz": 300
    },
    "id": "TRVl_SLlP6yJ",
    "outputId": "0877c768-5a7a-4462-a9d5-6a4418149e83"
   },
   "outputs": [
    {
     "data": {
      "text/plain": [
       "┌────────────────────┐\n",
       "│  remaining_hours   │\n",
       "│       double       │\n",
       "├────────────────────┤\n",
       "│ 106.85906658496732 │\n",
       "└────────────────────┘"
      ]
     },
     "execution_count": 44,
     "metadata": {},
     "output_type": "execute_result"
    }
   ],
   "source": [
    "conn.sql(\"\"\"\n",
    "SELECT avg(epoch(cast(outtime as TIMESTAMP) - cast(intime as TIMESTAMP)))/3600 AS remaining_hours\n",
    "FROM ICUSTAYS\"\"\")"
   ]
  },
  {
   "cell_type": "code",
   "execution_count": null,
   "metadata": {
    "colab": {
     "base_uri": "https://localhost:8080/"
    },
    "executionInfo": {
     "elapsed": 10,
     "status": "ok",
     "timestamp": 1746497055826,
     "user": {
      "displayName": "Jonathan Wu",
      "userId": "10208465259698949471"
     },
     "user_tz": 300
    },
    "id": "Wafl8BNqVCSf",
    "outputId": "650640d4-a32c-4b06-82ff-ef33be8f7dc9"
   },
   "outputs": [
    {
     "data": {
      "text/plain": [
       "┌─────────┬────────────────────┐\n",
       "│ gender  │  remaining_hours   │\n",
       "│ varchar │       double       │\n",
       "├─────────┼────────────────────┤\n",
       "│ F       │ 132.96187389770722 │\n",
       "│ M       │  84.33198630136985 │\n",
       "└─────────┴────────────────────┘"
      ]
     },
     "execution_count": 49,
     "metadata": {},
     "output_type": "execute_result"
    }
   ],
   "source": [
    "conn.sql(\"\"\"\n",
    "SELECT gender, avg(epoch(cast(outtime as TIMESTAMP) - cast(intime as TIMESTAMP)))/3600 AS remaining_hours\n",
    "FROM ICUSTAYS JOIN PATIENTS on ICUSTAYS.subject_id=PATIENTS.subject_id GROUP BY gender\"\"\")"
   ]
  },
  {
   "cell_type": "code",
   "execution_count": null,
   "metadata": {
    "colab": {
     "base_uri": "https://localhost:8080/"
    },
    "executionInfo": {
     "elapsed": 23,
     "status": "ok",
     "timestamp": 1746497258659,
     "user": {
      "displayName": "Jonathan Wu",
      "userId": "10208465259698949471"
     },
     "user_tz": 300
    },
    "id": "TjPHp9KHVkQh",
    "outputId": "dbea10cb-df3c-4aca-9b35-b08d6f9fce5a"
   },
   "outputs": [
    {
     "data": {
      "text/plain": [
       "┌──────────────────────────────────────────────────────────┬────────────────────┐\n",
       "│                        ethnicity                         │  remaining_hours   │\n",
       "│                         varchar                          │       double       │\n",
       "├──────────────────────────────────────────────────────────┼────────────────────┤\n",
       "│ BLACK/AFRICAN AMERICAN                                   │  164.8246296296296 │\n",
       "│ UNKNOWN/NOT SPECIFIED                                    │ 108.25615384615385 │\n",
       "│ OTHER                                                    │ 22.225740740740743 │\n",
       "│ ASIAN                                                    │           93.36125 │\n",
       "│ HISPANIC OR LATINO                                       │  179.0312962962963 │\n",
       "│ WHITE                                                    │  98.95345400728597 │\n",
       "│ HISPANIC/LATINO - PUERTO RICAN                           │  77.83348148148148 │\n",
       "│ UNABLE TO OBTAIN                                         │ 320.56888888888886 │\n",
       "│ AMERICAN INDIAN/ALASKA NATIVE FEDERALLY RECOGNIZED TRIBE │ 272.09180555555554 │\n",
       "└──────────────────────────────────────────────────────────┴────────────────────┘"
      ]
     },
     "execution_count": 51,
     "metadata": {},
     "output_type": "execute_result"
    }
   ],
   "source": [
    "conn.sql(\"\"\"\n",
    "SELECT ethnicity, avg(epoch(cast(outtime as TIMESTAMP) - cast(intime as TIMESTAMP)))/3600 AS remaining_hours\n",
    "FROM ICUSTAYS JOIN ADMISSIONS on ICUSTAYS.subject_id=ADMISSIONS.subject_id GROUP BY ethnicity\"\"\")"
   ]
  },
  {
   "cell_type": "code",
   "execution_count": 182,
   "metadata": {},
   "outputs": [
    {
     "data": {
      "text/html": [
       "<div>\n",
       "<style scoped>\n",
       "    .dataframe tbody tr th:only-of-type {\n",
       "        vertical-align: middle;\n",
       "    }\n",
       "\n",
       "    .dataframe tbody tr th {\n",
       "        vertical-align: top;\n",
       "    }\n",
       "\n",
       "    .dataframe thead th {\n",
       "        text-align: right;\n",
       "    }\n",
       "</style>\n",
       "<table border=\"1\" class=\"dataframe\">\n",
       "  <thead>\n",
       "    <tr style=\"text-align: right;\">\n",
       "      <th></th>\n",
       "      <th>ethnicity</th>\n",
       "      <th>gender</th>\n",
       "      <th>hospise_time</th>\n",
       "    </tr>\n",
       "  </thead>\n",
       "  <tbody>\n",
       "    <tr>\n",
       "      <th>0</th>\n",
       "      <td>BLACK/AFRICAN AMERICAN</td>\n",
       "      <td>F</td>\n",
       "      <td>268.829792</td>\n",
       "    </tr>\n",
       "    <tr>\n",
       "      <th>1</th>\n",
       "      <td>HISPANIC OR LATINO</td>\n",
       "      <td>F</td>\n",
       "      <td>179.031296</td>\n",
       "    </tr>\n",
       "    <tr>\n",
       "      <th>2</th>\n",
       "      <td>WHITE</td>\n",
       "      <td>M</td>\n",
       "      <td>83.012210</td>\n",
       "    </tr>\n",
       "    <tr>\n",
       "      <th>3</th>\n",
       "      <td>UNKNOWN/NOT SPECIFIED</td>\n",
       "      <td>M</td>\n",
       "      <td>51.491389</td>\n",
       "    </tr>\n",
       "    <tr>\n",
       "      <th>4</th>\n",
       "      <td>ASIAN</td>\n",
       "      <td>M</td>\n",
       "      <td>170.815278</td>\n",
       "    </tr>\n",
       "    <tr>\n",
       "      <th>5</th>\n",
       "      <td>ASIAN</td>\n",
       "      <td>F</td>\n",
       "      <td>15.907222</td>\n",
       "    </tr>\n",
       "    <tr>\n",
       "      <th>6</th>\n",
       "      <td>HISPANIC/LATINO - PUERTO RICAN</td>\n",
       "      <td>M</td>\n",
       "      <td>77.833481</td>\n",
       "    </tr>\n",
       "    <tr>\n",
       "      <th>7</th>\n",
       "      <td>OTHER</td>\n",
       "      <td>F</td>\n",
       "      <td>32.067500</td>\n",
       "    </tr>\n",
       "    <tr>\n",
       "      <th>8</th>\n",
       "      <td>AMERICAN INDIAN/ALASKA NATIVE FEDERALLY RECOGN...</td>\n",
       "      <td>M</td>\n",
       "      <td>272.091806</td>\n",
       "    </tr>\n",
       "    <tr>\n",
       "      <th>9</th>\n",
       "      <td>OTHER</td>\n",
       "      <td>M</td>\n",
       "      <td>2.542222</td>\n",
       "    </tr>\n",
       "    <tr>\n",
       "      <th>10</th>\n",
       "      <td>UNABLE TO OBTAIN</td>\n",
       "      <td>M</td>\n",
       "      <td>320.568889</td>\n",
       "    </tr>\n",
       "    <tr>\n",
       "      <th>11</th>\n",
       "      <td>UNKNOWN/NOT SPECIFIED</td>\n",
       "      <td>F</td>\n",
       "      <td>118.577020</td>\n",
       "    </tr>\n",
       "    <tr>\n",
       "      <th>12</th>\n",
       "      <td>WHITE</td>\n",
       "      <td>F</td>\n",
       "      <td>120.412821</td>\n",
       "    </tr>\n",
       "    <tr>\n",
       "      <th>13</th>\n",
       "      <td>BLACK/AFRICAN AMERICAN</td>\n",
       "      <td>M</td>\n",
       "      <td>81.620500</td>\n",
       "    </tr>\n",
       "  </tbody>\n",
       "</table>\n",
       "</div>"
      ],
      "text/plain": [
       "                                            ethnicity gender  hospise_time\n",
       "0                              BLACK/AFRICAN AMERICAN      F    268.829792\n",
       "1                                  HISPANIC OR LATINO      F    179.031296\n",
       "2                                               WHITE      M     83.012210\n",
       "3                               UNKNOWN/NOT SPECIFIED      M     51.491389\n",
       "4                                               ASIAN      M    170.815278\n",
       "5                                               ASIAN      F     15.907222\n",
       "6                      HISPANIC/LATINO - PUERTO RICAN      M     77.833481\n",
       "7                                               OTHER      F     32.067500\n",
       "8   AMERICAN INDIAN/ALASKA NATIVE FEDERALLY RECOGN...      M    272.091806\n",
       "9                                               OTHER      M      2.542222\n",
       "10                                   UNABLE TO OBTAIN      M    320.568889\n",
       "11                              UNKNOWN/NOT SPECIFIED      F    118.577020\n",
       "12                                              WHITE      F    120.412821\n",
       "13                             BLACK/AFRICAN AMERICAN      M     81.620500"
      ]
     },
     "execution_count": 182,
     "metadata": {},
     "output_type": "execute_result"
    }
   ],
   "source": [
    "df3= conn.sql(\"\"\"\n",
    "SELECT ethnicity, gender, avg(epoch(cast(outtime as TIMESTAMP) - cast(intime as TIMESTAMP)))/3600 AS hospise_time\n",
    "FROM ICUSTAYS \n",
    "JOIN PATIENTS on ICUSTAYS.subject_id=PATIENTS.subject_id\n",
    "JOIN ADMISSIONS on ICUSTAYS.subject_id=ADMISSIONS.subject_id GROUP BY ethnicity, gender\"\"\").df()\n",
    "df3"
   ]
  },
  {
   "cell_type": "markdown",
   "metadata": {
    "id": "6hjvSpRp4suJ"
   },
   "source": [
    "## Part 2\n"
   ]
  },
  {
   "cell_type": "code",
   "execution_count": 8,
   "metadata": {
    "id": "tmnzunsa4uUA"
   },
   "outputs": [
    {
     "name": "stderr",
     "output_type": "stream",
     "text": [
      "'curl' is not recognized as an internal or external command,\n",
      "operable program or batch file.\n"
     ]
    }
   ],
   "source": [
    "!curl https://certs.secureserver.net/repository/sf-class2-root.crt -O"
   ]
  },
  {
   "cell_type": "code",
   "execution_count": 9,
   "metadata": {
    "id": "RUHlqyHNoUFf"
   },
   "outputs": [
    {
     "name": "stderr",
     "output_type": "stream",
     "text": [
      "C:\\Users\\wujon\\AppData\\Local\\Temp\\ipykernel_48288\\1196366822.py:7: DeprecationWarning: ssl.PROTOCOL_TLSv1_2 is deprecated\n",
      "  ssl_context = SSLContext(PROTOCOL_TLSv1_2)\n"
     ]
    }
   ],
   "source": [
    "from cassandra.cluster import Cluster\n",
    "from ssl import SSLContext, PROTOCOL_TLSv1_2, CERT_REQUIRED\n",
    "from cassandra_sigv4.auth import SigV4AuthProvider\n",
    "import boto3\n",
    "\n",
    "# ssl setup\n",
    "ssl_context = SSLContext(PROTOCOL_TLSv1_2)\n",
    "ssl_context.load_verify_locations('sf-class2-root.crt')  # change your file path for locating the certificate\n",
    "ssl_context.verify_mode = CERT_REQUIRED\n",
    "\n",
    "# boto3 session setup\n",
    "boto_session = boto3.Session(\n",
    "    region_name=\"us-east-2\")  # this AWS credentials is specific to `us-east-2` region"
   ]
  },
  {
   "cell_type": "code",
   "execution_count": 10,
   "metadata": {},
   "outputs": [],
   "source": [
    "# authorization setup with SigV4\n",
    "auth_provider = SigV4AuthProvider(boto_session)\n",
    "cluster = Cluster(['cassandra.us-east-2.amazonaws.com'], \n",
    "                  ssl_context=ssl_context, \n",
    "                  auth_provider=auth_provider, \n",
    "                  port=9142)  # TLS only communicates on port 9142\n",
    "# establishing connection to Keyspace\n",
    "session = cluster.connect()"
   ]
  },
  {
   "cell_type": "markdown",
   "metadata": {
    "id": "Sc0YtF1vnLND"
   },
   "source": [
    "### Part 1"
   ]
  },
  {
   "cell_type": "code",
   "execution_count": 11,
   "metadata": {},
   "outputs": [
    {
     "name": "stdout",
     "output_type": "stream",
     "text": [
      "[]\n"
     ]
    }
   ],
   "source": [
    "# For example, create a keyspace for HW2\n",
    "r = session.execute('''\n",
    "    CREATE KEYSPACE IF NOT EXISTS part1 \n",
    "    WITH replication = {'class': 'SingleRegionStrategy'};\n",
    "    ''')\n",
    "print(r.current_rows)"
   ]
  },
  {
   "cell_type": "code",
   "execution_count": 12,
   "metadata": {},
   "outputs": [],
   "source": [
    "from cassandra.cluster import ExecutionProfile, EXEC_PROFILE_DEFAULT\n",
    "from cassandra import ConsistencyLevel\n",
    "\n",
    "\n",
    "# Define execution profile with LOCAL_QUORUM\n",
    "execution_profile = ExecutionProfile(\n",
    "    consistency_level=ConsistencyLevel.LOCAL_QUORUM\n",
    ")\n",
    "\n",
    "# Cluster setup with correct profile\n",
    "cluster = Cluster(\n",
    "    ['cassandra.us-east-2.amazonaws.com'],\n",
    "    ssl_context=ssl_context,\n",
    "    auth_provider=auth_provider,\n",
    "    port=9142,\n",
    "    execution_profiles={EXEC_PROFILE_DEFAULT: execution_profile}\n",
    ")\n",
    "\n",
    "# establishing connection to Keyspace\n",
    "session = cluster.connect()\n",
    "session.set_keyspace('part1')  # Replace with your keyspace"
   ]
  },
  {
   "cell_type": "code",
   "execution_count": 84,
   "metadata": {},
   "outputs": [
    {
     "data": {
      "text/plain": [
       "(29741, 4)"
      ]
     },
     "execution_count": 84,
     "metadata": {},
     "output_type": "execute_result"
    }
   ],
   "source": [
    "part1 = conn.sql(\"\"\"\n",
    "SELECT ADMISSIONS.subject_id, ADMISSIONS.hadm_id, ethnicity, drug FROM ADMISSIONS\n",
    "JOIN PRESCRIPTIONS ON ADMISSIONS.subject_id = PRESCRIPTIONS.subject_id\n",
    "\"\"\").df()\n",
    "part1.shape"
   ]
  },
  {
   "cell_type": "code",
   "execution_count": 85,
   "metadata": {},
   "outputs": [
    {
     "data": {
      "text/html": [
       "<div>\n",
       "<style scoped>\n",
       "    .dataframe tbody tr th:only-of-type {\n",
       "        vertical-align: middle;\n",
       "    }\n",
       "\n",
       "    .dataframe tbody tr th {\n",
       "        vertical-align: top;\n",
       "    }\n",
       "\n",
       "    .dataframe thead th {\n",
       "        text-align: right;\n",
       "    }\n",
       "</style>\n",
       "<table border=\"1\" class=\"dataframe\">\n",
       "  <thead>\n",
       "    <tr style=\"text-align: right;\">\n",
       "      <th></th>\n",
       "      <th>subject_id</th>\n",
       "      <th>hadm_id</th>\n",
       "      <th>ethnicity</th>\n",
       "      <th>drug</th>\n",
       "    </tr>\n",
       "  </thead>\n",
       "  <tbody>\n",
       "    <tr>\n",
       "      <th>0</th>\n",
       "      <td>42458</td>\n",
       "      <td>159647</td>\n",
       "      <td>WHITE</td>\n",
       "      <td>Pneumococcal Vac Polyvalent</td>\n",
       "    </tr>\n",
       "    <tr>\n",
       "      <th>1</th>\n",
       "      <td>42458</td>\n",
       "      <td>159647</td>\n",
       "      <td>WHITE</td>\n",
       "      <td>Bisacodyl</td>\n",
       "    </tr>\n",
       "    <tr>\n",
       "      <th>2</th>\n",
       "      <td>42458</td>\n",
       "      <td>159647</td>\n",
       "      <td>WHITE</td>\n",
       "      <td>Bisacodyl</td>\n",
       "    </tr>\n",
       "    <tr>\n",
       "      <th>3</th>\n",
       "      <td>42458</td>\n",
       "      <td>159647</td>\n",
       "      <td>WHITE</td>\n",
       "      <td>Senna</td>\n",
       "    </tr>\n",
       "    <tr>\n",
       "      <th>4</th>\n",
       "      <td>42458</td>\n",
       "      <td>159647</td>\n",
       "      <td>WHITE</td>\n",
       "      <td>Docusate Sodium (Liquid)</td>\n",
       "    </tr>\n",
       "  </tbody>\n",
       "</table>\n",
       "</div>"
      ],
      "text/plain": [
       "   subject_id  hadm_id ethnicity                         drug\n",
       "0       42458   159647     WHITE  Pneumococcal Vac Polyvalent\n",
       "1       42458   159647     WHITE                    Bisacodyl\n",
       "2       42458   159647     WHITE                    Bisacodyl\n",
       "3       42458   159647     WHITE                        Senna\n",
       "4       42458   159647     WHITE     Docusate Sodium (Liquid)"
      ]
     },
     "execution_count": 85,
     "metadata": {},
     "output_type": "execute_result"
    }
   ],
   "source": [
    "part1.head()"
   ]
  },
  {
   "cell_type": "code",
   "execution_count": 92,
   "metadata": {},
   "outputs": [
    {
     "data": {
      "text/plain": [
       "<cassandra.cluster.ResultSet at 0x141e5ac6380>"
      ]
     },
     "execution_count": 92,
     "metadata": {},
     "output_type": "execute_result"
    }
   ],
   "source": [
    "session.execute(\"\"\"\n",
    "CREATE TABLE IF NOT EXISTS drug_usage_by_ethnicity1 (\n",
    "    ethnicity TEXT,\n",
    "    drug TEXT,\n",
    "    usage_id INT, \n",
    "    PRIMARY KEY ((ethnicity), drug, usage_id)\n",
    ");\n",
    "\"\"\")"
   ]
  },
  {
   "cell_type": "code",
   "execution_count": null,
   "metadata": {},
   "outputs": [],
   "source": [
    "prepared = session.prepare(\"\"\"\n",
    "    INSERT INTO drug_usage_by_ethnicity1 (ethnicity, drug, usage_id)\n",
    "    VALUES (?, ?, ?)\n",
    "\"\"\")\n",
    "\n",
    "for i, row in part1.iterrows():\n",
    "    session.execute(prepared, (row['ethnicity'], row['drug'], i))"
   ]
  },
  {
   "cell_type": "code",
   "execution_count": 102,
   "metadata": {},
   "outputs": [
    {
     "data": {
      "text/html": [
       "<div>\n",
       "<style scoped>\n",
       "    .dataframe tbody tr th:only-of-type {\n",
       "        vertical-align: middle;\n",
       "    }\n",
       "\n",
       "    .dataframe tbody tr th {\n",
       "        vertical-align: top;\n",
       "    }\n",
       "\n",
       "    .dataframe thead th {\n",
       "        text-align: right;\n",
       "    }\n",
       "</style>\n",
       "<table border=\"1\" class=\"dataframe\">\n",
       "  <thead>\n",
       "    <tr style=\"text-align: right;\">\n",
       "      <th></th>\n",
       "      <th>ETHNICITY</th>\n",
       "      <th>DRUG</th>\n",
       "      <th>AMOUNT</th>\n",
       "    </tr>\n",
       "  </thead>\n",
       "  <tbody>\n",
       "    <tr>\n",
       "      <th>0</th>\n",
       "      <td>HISPANIC OR LATINO</td>\n",
       "      <td>5% Dextrose</td>\n",
       "      <td>28</td>\n",
       "    </tr>\n",
       "    <tr>\n",
       "      <th>1</th>\n",
       "      <td>UNABLE TO OBTAIN</td>\n",
       "      <td>0.9% Sodium Chloride</td>\n",
       "      <td>28</td>\n",
       "    </tr>\n",
       "    <tr>\n",
       "      <th>2</th>\n",
       "      <td>AMERICAN INDIAN/ALASKA NATIVE FEDERALLY RECOGN...</td>\n",
       "      <td>5% Dextrose</td>\n",
       "      <td>54</td>\n",
       "    </tr>\n",
       "    <tr>\n",
       "      <th>3</th>\n",
       "      <td>HISPANIC/LATINO - PUERTO RICAN</td>\n",
       "      <td>0.9% Sodium Chloride</td>\n",
       "      <td>1290</td>\n",
       "    </tr>\n",
       "    <tr>\n",
       "      <th>4</th>\n",
       "      <td>UNKNOWN/NOT SPECIFIED</td>\n",
       "      <td>D5W</td>\n",
       "      <td>41</td>\n",
       "    </tr>\n",
       "    <tr>\n",
       "      <th>5</th>\n",
       "      <td>OTHER</td>\n",
       "      <td>NS</td>\n",
       "      <td>11</td>\n",
       "    </tr>\n",
       "    <tr>\n",
       "      <th>6</th>\n",
       "      <td>BLACK/AFRICAN AMERICAN</td>\n",
       "      <td>Insulin</td>\n",
       "      <td>60</td>\n",
       "    </tr>\n",
       "    <tr>\n",
       "      <th>7</th>\n",
       "      <td>WHITE</td>\n",
       "      <td>Potassium Chloride</td>\n",
       "      <td>508</td>\n",
       "    </tr>\n",
       "    <tr>\n",
       "      <th>8</th>\n",
       "      <td>ASIAN</td>\n",
       "      <td>D5W</td>\n",
       "      <td>27</td>\n",
       "    </tr>\n",
       "  </tbody>\n",
       "</table>\n",
       "</div>"
      ],
      "text/plain": [
       "                                           ETHNICITY                  DRUG  \\\n",
       "0                                 HISPANIC OR LATINO           5% Dextrose   \n",
       "1                                   UNABLE TO OBTAIN  0.9% Sodium Chloride   \n",
       "2  AMERICAN INDIAN/ALASKA NATIVE FEDERALLY RECOGN...           5% Dextrose   \n",
       "3                     HISPANIC/LATINO - PUERTO RICAN  0.9% Sodium Chloride   \n",
       "4                              UNKNOWN/NOT SPECIFIED                   D5W   \n",
       "5                                              OTHER                    NS   \n",
       "6                             BLACK/AFRICAN AMERICAN               Insulin   \n",
       "7                                              WHITE    Potassium Chloride   \n",
       "8                                              ASIAN                   D5W   \n",
       "\n",
       "   AMOUNT  \n",
       "0      28  \n",
       "1      28  \n",
       "2      54  \n",
       "3    1290  \n",
       "4      41  \n",
       "5      11  \n",
       "6      60  \n",
       "7     508  \n",
       "8      27  "
      ]
     },
     "execution_count": 102,
     "metadata": {},
     "output_type": "execute_result"
    }
   ],
   "source": [
    "rows = session.execute(\"SELECT ethnicity FROM drug_usage_by_ethnicity1\")\n",
    "ethnicity_list = list(set(row.ethnicity for row in rows))\n",
    "\n",
    "records = []\n",
    "\n",
    "for eth in ethnicity_list:\n",
    "    rows = session.execute(\"\"\"\n",
    "        SELECT drug FROM drug_usage_by_ethnicity1 WHERE ethnicity = %s\n",
    "    \"\"\", [eth])\n",
    "    \n",
    "    # Convert rows to DataFrame\n",
    "    df_eth = pd.DataFrame(rows)\n",
    "    \n",
    "\n",
    "    # Group by drug and count\n",
    "    df_grouped = (\n",
    "        df_eth.groupby('drug')\n",
    "        .size()\n",
    "        .reset_index(name='amount')\n",
    "        .sort_values('amount', ascending=False)\n",
    "    )\n",
    "    \n",
    "    # Select top row (most frequent drug)\n",
    "    top_row = df_grouped.iloc[0]\n",
    "    records.append({\n",
    "        'ETHNICITY': eth,\n",
    "        'DRUG': top_row['drug'],\n",
    "        'AMOUNT': top_row['amount']\n",
    "    })\n",
    "\n",
    "# Final result\n",
    "df_top_drugs = pd.DataFrame(records)\n",
    "\n",
    "df_top_drugs"
   ]
  },
  {
   "cell_type": "markdown",
   "metadata": {
    "id": "upHgTlcsnMo0"
   },
   "source": [
    "### Part 2"
   ]
  },
  {
   "cell_type": "code",
   "execution_count": 175,
   "metadata": {},
   "outputs": [
    {
     "data": {
      "text/plain": [
       "<cassandra.cluster.ResultSet at 0x141e8da1540>"
      ]
     },
     "execution_count": 175,
     "metadata": {},
     "output_type": "execute_result"
    }
   ],
   "source": [
    "session.execute(\"\"\"\n",
    "CREATE TABLE IF NOT EXISTS question24 (\n",
    "    procedure_name TEXT,\n",
    "    age TEXT,\n",
    "    ID INT,\n",
    "    PRIMARY KEY ((age), procedure_name, ID)\n",
    ");\n",
    "\"\"\")"
   ]
  },
  {
   "cell_type": "code",
   "execution_count": 157,
   "metadata": {},
   "outputs": [
    {
     "data": {
      "text/html": [
       "<div>\n",
       "<style scoped>\n",
       "    .dataframe tbody tr th:only-of-type {\n",
       "        vertical-align: middle;\n",
       "    }\n",
       "\n",
       "    .dataframe tbody tr th {\n",
       "        vertical-align: top;\n",
       "    }\n",
       "\n",
       "    .dataframe thead th {\n",
       "        text-align: right;\n",
       "    }\n",
       "</style>\n",
       "<table border=\"1\" class=\"dataframe\">\n",
       "  <thead>\n",
       "    <tr style=\"text-align: right;\">\n",
       "      <th></th>\n",
       "      <th>age_group</th>\n",
       "      <th>PROCEDURE_NAME</th>\n",
       "      <th>PROCS_ID</th>\n",
       "      <th>ADM_ID</th>\n",
       "      <th>PATIENTS_ID</th>\n",
       "      <th>D_ICD_ID</th>\n",
       "    </tr>\n",
       "  </thead>\n",
       "  <tbody>\n",
       "    <tr>\n",
       "      <th>0</th>\n",
       "      <td>OLD</td>\n",
       "      <td>Other operations on extraocular muscles and te...</td>\n",
       "      <td>133110</td>\n",
       "      <td>10046</td>\n",
       "      <td>2195-03-13 00:00:00</td>\n",
       "      <td>159</td>\n",
       "    </tr>\n",
       "    <tr>\n",
       "      <th>1</th>\n",
       "      <td>ADULT</td>\n",
       "      <td>Transplant from cadaver</td>\n",
       "      <td>160445</td>\n",
       "      <td>10126</td>\n",
       "      <td>2171-08-16 00:00:00</td>\n",
       "      <td>93</td>\n",
       "    </tr>\n",
       "    <tr>\n",
       "      <th>2</th>\n",
       "      <td>ADULT</td>\n",
       "      <td>Other diagnostic procedures on brain and cereb...</td>\n",
       "      <td>180685</td>\n",
       "      <td>10098</td>\n",
       "      <td>2170-12-03 00:00:00</td>\n",
       "      <td>118</td>\n",
       "    </tr>\n",
       "    <tr>\n",
       "      <th>3</th>\n",
       "      <td>ADULT</td>\n",
       "      <td>Administration of inhaled nitric oxide</td>\n",
       "      <td>160445</td>\n",
       "      <td>10126</td>\n",
       "      <td>2171-08-16 00:00:00</td>\n",
       "      <td>12</td>\n",
       "    </tr>\n",
       "    <tr>\n",
       "      <th>4</th>\n",
       "      <td>ADULT</td>\n",
       "      <td>Injection or infusion of nesiritide</td>\n",
       "      <td>160445</td>\n",
       "      <td>10126</td>\n",
       "      <td>2171-08-16 00:00:00</td>\n",
       "      <td>13</td>\n",
       "    </tr>\n",
       "  </tbody>\n",
       "</table>\n",
       "</div>"
      ],
      "text/plain": [
       "  age_group                                     PROCEDURE_NAME  PROCS_ID  \\\n",
       "0       OLD  Other operations on extraocular muscles and te...    133110   \n",
       "1     ADULT                            Transplant from cadaver    160445   \n",
       "2     ADULT  Other diagnostic procedures on brain and cereb...    180685   \n",
       "3     ADULT             Administration of inhaled nitric oxide    160445   \n",
       "4     ADULT                Injection or infusion of nesiritide    160445   \n",
       "\n",
       "   ADM_ID          PATIENTS_ID  D_ICD_ID  \n",
       "0   10046  2195-03-13 00:00:00       159  \n",
       "1   10126  2171-08-16 00:00:00        93  \n",
       "2   10098  2170-12-03 00:00:00       118  \n",
       "3   10126  2171-08-16 00:00:00        12  \n",
       "4   10126  2171-08-16 00:00:00        13  "
      ]
     },
     "execution_count": 157,
     "metadata": {},
     "output_type": "execute_result"
    }
   ],
   "source": [
    "part2 = conn.sql(\"\"\"\n",
    "SELECT\n",
    "        CASE\n",
    "                WHEN date_diff('year', cast(dob as DATE), cast(dischtime as DATE)) <= 19 THEN 'MINOR'\n",
    "                WHEN date_diff('year', cast(dob as DATE), cast(dischtime as DATE)) >= 20 AND date_diff('year', cast(dob as DATE), cast(dischtime as DATE)) < 50 THEN 'ADULT'\n",
    "                WHEN date_diff('year', cast(dob as DATE), cast(dischtime as DATE)) >= 50 AND date_diff('year', cast(dob as DATE), cast(dischtime as DATE)) < 80 THEN 'OLD'\n",
    "                ELSE 'ELDERLY'\n",
    "        END AS age_group,\n",
    "        D_ICD.LONG_TITLE as PROCEDURE_NAME,\n",
    "        PROD_ICD.hadm_id as PROCS_ID,\n",
    "        ADMISSIONS.subject_id as ADM_ID,\n",
    "        PATIENTS.dod as PATIENTS_ID,\n",
    "        D_ICD.icd9_code as D_ICD_ID\n",
    "FROM PATIENTS\n",
    "        JOIN ADMISSIONS ON PATIENTS.subject_id = ADMISSIONS.subject_id\n",
    "        JOIN PROD_ICD ON ADMISSIONS.hadm_id = PROD_ICD.hadm_id\n",
    "        JOIN D_ICD ON PROD_ICD.ICD9_CODE = D_ICD.ICD9_CODE\"\"\").df()\n",
    "part2.head()"
   ]
  },
  {
   "cell_type": "code",
   "execution_count": 165,
   "metadata": {},
   "outputs": [
    {
     "data": {
      "text/plain": [
       "(516, 6)"
      ]
     },
     "execution_count": 165,
     "metadata": {},
     "output_type": "execute_result"
    }
   ],
   "source": [
    "part2.shape"
   ]
  },
  {
   "cell_type": "code",
   "execution_count": null,
   "metadata": {},
   "outputs": [],
   "source": [
    "prepared = session.prepare(\"\"\"\n",
    "    INSERT INTO question24 (procedure_name, AGE, ID)\n",
    "    VALUES (?, ?, ?)\n",
    "\"\"\")\n",
    "\n",
    "for i, row in part2.iterrows():\n",
    "    session.execute(prepared, (row.PROCEDURE_NAME, row.age_group, i))"
   ]
  },
  {
   "cell_type": "code",
   "execution_count": 177,
   "metadata": {},
   "outputs": [
    {
     "data": {
      "text/html": [
       "<div>\n",
       "<style scoped>\n",
       "    .dataframe tbody tr th:only-of-type {\n",
       "        vertical-align: middle;\n",
       "    }\n",
       "\n",
       "    .dataframe tbody tr th {\n",
       "        vertical-align: top;\n",
       "    }\n",
       "\n",
       "    .dataframe thead th {\n",
       "        text-align: right;\n",
       "    }\n",
       "</style>\n",
       "<table border=\"1\" class=\"dataframe\">\n",
       "  <thead>\n",
       "    <tr style=\"text-align: right;\">\n",
       "      <th></th>\n",
       "      <th>procedure_name</th>\n",
       "      <th>age</th>\n",
       "    </tr>\n",
       "  </thead>\n",
       "  <tbody>\n",
       "    <tr>\n",
       "      <th>0</th>\n",
       "      <td>Application of external fixator device, femur</td>\n",
       "      <td>MINOR</td>\n",
       "    </tr>\n",
       "    <tr>\n",
       "      <th>1</th>\n",
       "      <td>Atlas-axis spinal fusion</td>\n",
       "      <td>MINOR</td>\n",
       "    </tr>\n",
       "    <tr>\n",
       "      <th>2</th>\n",
       "      <td>Closed [endoscopic] biopsy of bronchus</td>\n",
       "      <td>MINOR</td>\n",
       "    </tr>\n",
       "    <tr>\n",
       "      <th>3</th>\n",
       "      <td>Closed reduction of fracture without internal ...</td>\n",
       "      <td>MINOR</td>\n",
       "    </tr>\n",
       "    <tr>\n",
       "      <th>4</th>\n",
       "      <td>Closure of skin and subcutaneous tissue of oth...</td>\n",
       "      <td>MINOR</td>\n",
       "    </tr>\n",
       "    <tr>\n",
       "      <th>...</th>\n",
       "      <td>...</td>\n",
       "      <td>...</td>\n",
       "    </tr>\n",
       "    <tr>\n",
       "      <th>511</th>\n",
       "      <td>Venous catheterization, not elsewhere classified</td>\n",
       "      <td>OLD</td>\n",
       "    </tr>\n",
       "    <tr>\n",
       "      <th>512</th>\n",
       "      <td>Venous catheterization, not elsewhere classified</td>\n",
       "      <td>OLD</td>\n",
       "    </tr>\n",
       "    <tr>\n",
       "      <th>513</th>\n",
       "      <td>Venous catheterization, not elsewhere classified</td>\n",
       "      <td>OLD</td>\n",
       "    </tr>\n",
       "    <tr>\n",
       "      <th>514</th>\n",
       "      <td>Venous catheterization, not elsewhere classified</td>\n",
       "      <td>OLD</td>\n",
       "    </tr>\n",
       "    <tr>\n",
       "      <th>515</th>\n",
       "      <td>Venous catheterization, not elsewhere classified</td>\n",
       "      <td>OLD</td>\n",
       "    </tr>\n",
       "  </tbody>\n",
       "</table>\n",
       "<p>516 rows × 2 columns</p>\n",
       "</div>"
      ],
      "text/plain": [
       "                                        procedure_name    age\n",
       "0        Application of external fixator device, femur  MINOR\n",
       "1                             Atlas-axis spinal fusion  MINOR\n",
       "2               Closed [endoscopic] biopsy of bronchus  MINOR\n",
       "3    Closed reduction of fracture without internal ...  MINOR\n",
       "4    Closure of skin and subcutaneous tissue of oth...  MINOR\n",
       "..                                                 ...    ...\n",
       "511   Venous catheterization, not elsewhere classified    OLD\n",
       "512   Venous catheterization, not elsewhere classified    OLD\n",
       "513   Venous catheterization, not elsewhere classified    OLD\n",
       "514   Venous catheterization, not elsewhere classified    OLD\n",
       "515   Venous catheterization, not elsewhere classified    OLD\n",
       "\n",
       "[516 rows x 2 columns]"
      ]
     },
     "execution_count": 177,
     "metadata": {},
     "output_type": "execute_result"
    }
   ],
   "source": [
    "# Step 1: Fetch all data (procedure_name and age_group)\n",
    "rows = session.execute(\"SELECT procedure_name, AGE FROM question24\")\n",
    "\n",
    "# Step 2: Convert the result into a DataFrame\n",
    "df = pd.DataFrame(rows)\n",
    "\n",
    "df"
   ]
  },
  {
   "cell_type": "code",
   "execution_count": 178,
   "metadata": {},
   "outputs": [
    {
     "data": {
      "text/html": [
       "<div>\n",
       "<style scoped>\n",
       "    .dataframe tbody tr th:only-of-type {\n",
       "        vertical-align: middle;\n",
       "    }\n",
       "\n",
       "    .dataframe tbody tr th {\n",
       "        vertical-align: top;\n",
       "    }\n",
       "\n",
       "    .dataframe thead th {\n",
       "        text-align: right;\n",
       "    }\n",
       "</style>\n",
       "<table border=\"1\" class=\"dataframe\">\n",
       "  <thead>\n",
       "    <tr style=\"text-align: right;\">\n",
       "      <th></th>\n",
       "      <th>age</th>\n",
       "      <th>procedure_name</th>\n",
       "      <th>AMOUNT</th>\n",
       "    </tr>\n",
       "  </thead>\n",
       "  <tbody>\n",
       "    <tr>\n",
       "      <th>0</th>\n",
       "      <td>ADULT</td>\n",
       "      <td>Venous catheterization, not elsewhere classified</td>\n",
       "      <td>9</td>\n",
       "    </tr>\n",
       "    <tr>\n",
       "      <th>1</th>\n",
       "      <td>ADULT</td>\n",
       "      <td>Enteral infusion of concentrated nutritional s...</td>\n",
       "      <td>7</td>\n",
       "    </tr>\n",
       "    <tr>\n",
       "      <th>2</th>\n",
       "      <td>ADULT</td>\n",
       "      <td>Insertion of endotracheal tube</td>\n",
       "      <td>6</td>\n",
       "    </tr>\n",
       "    <tr>\n",
       "      <th>3</th>\n",
       "      <td>ELDERLY</td>\n",
       "      <td>Venous catheterization, not elsewhere classified</td>\n",
       "      <td>20</td>\n",
       "    </tr>\n",
       "    <tr>\n",
       "      <th>4</th>\n",
       "      <td>ELDERLY</td>\n",
       "      <td>Transfusion of packed cells</td>\n",
       "      <td>13</td>\n",
       "    </tr>\n",
       "    <tr>\n",
       "      <th>5</th>\n",
       "      <td>ELDERLY</td>\n",
       "      <td>Insertion of endotracheal tube</td>\n",
       "      <td>8</td>\n",
       "    </tr>\n",
       "    <tr>\n",
       "      <th>6</th>\n",
       "      <td>OLD</td>\n",
       "      <td>Venous catheterization, not elsewhere classified</td>\n",
       "      <td>25</td>\n",
       "    </tr>\n",
       "    <tr>\n",
       "      <th>7</th>\n",
       "      <td>OLD</td>\n",
       "      <td>Enteral infusion of concentrated nutritional s...</td>\n",
       "      <td>22</td>\n",
       "    </tr>\n",
       "    <tr>\n",
       "      <th>8</th>\n",
       "      <td>OLD</td>\n",
       "      <td>Transfusion of packed cells</td>\n",
       "      <td>13</td>\n",
       "    </tr>\n",
       "    <tr>\n",
       "      <th>9</th>\n",
       "      <td>MINOR</td>\n",
       "      <td>Venous catheterization, not elsewhere classified</td>\n",
       "      <td>2</td>\n",
       "    </tr>\n",
       "    <tr>\n",
       "      <th>10</th>\n",
       "      <td>MINOR</td>\n",
       "      <td>Other cervical fusion of the posterior column,...</td>\n",
       "      <td>1</td>\n",
       "    </tr>\n",
       "    <tr>\n",
       "      <th>11</th>\n",
       "      <td>MINOR</td>\n",
       "      <td>Transfusion of packed cells</td>\n",
       "      <td>1</td>\n",
       "    </tr>\n",
       "  </tbody>\n",
       "</table>\n",
       "</div>"
      ],
      "text/plain": [
       "        age                                     procedure_name  AMOUNT\n",
       "0     ADULT   Venous catheterization, not elsewhere classified       9\n",
       "1     ADULT  Enteral infusion of concentrated nutritional s...       7\n",
       "2     ADULT                     Insertion of endotracheal tube       6\n",
       "3   ELDERLY   Venous catheterization, not elsewhere classified      20\n",
       "4   ELDERLY                        Transfusion of packed cells      13\n",
       "5   ELDERLY                     Insertion of endotracheal tube       8\n",
       "6       OLD   Venous catheterization, not elsewhere classified      25\n",
       "7       OLD  Enteral infusion of concentrated nutritional s...      22\n",
       "8       OLD                        Transfusion of packed cells      13\n",
       "9     MINOR   Venous catheterization, not elsewhere classified       2\n",
       "10    MINOR  Other cervical fusion of the posterior column,...       1\n",
       "11    MINOR                        Transfusion of packed cells       1"
      ]
     },
     "execution_count": 178,
     "metadata": {},
     "output_type": "execute_result"
    }
   ],
   "source": [
    "rows = session.execute(\"SELECT AGE FROM question24\")\n",
    "age_list = list(set(row.age for row in rows))\n",
    "\n",
    "records = []\n",
    "\n",
    "for age in age_list:\n",
    "    rows = session.execute(\"\"\"\n",
    "        SELECT procedure_name FROM question24 WHERE age = %s\n",
    "    \"\"\", [age])\n",
    "    \n",
    "    # Convert rows to DataFrame\n",
    "    df_eth = pd.DataFrame(rows)\n",
    "    \n",
    "\n",
    "    # Group by drug and count\n",
    "    df_grouped = (\n",
    "        df_eth.groupby('procedure_name')\n",
    "        .size()\n",
    "        .reset_index(name='amount')\n",
    "        .sort_values('amount', ascending=False)\n",
    "    )\n",
    "    \n",
    "    top_3_rows = df_grouped.head(3)  # Get the top 3 procedures\n",
    "    \n",
    "    for _, row in top_3_rows.iterrows():\n",
    "        records.append({\n",
    "            'age': age,  # Or 'AGE' if you are doing age group\n",
    "            'procedure_name': row['procedure_name'],\n",
    "            'AMOUNT': row['amount']\n",
    "        })\n",
    "\n",
    "# Final result\n",
    "df_proceds = pd.DataFrame(records)\n",
    "\n",
    "df_proceds"
   ]
  },
  {
   "cell_type": "markdown",
   "metadata": {
    "id": "JzqcgRHmmeWP"
   },
   "source": [
    "### Part 3"
   ]
  },
  {
   "cell_type": "code",
   "execution_count": 117,
   "metadata": {
    "id": "WBAWNCYUmd8N"
   },
   "outputs": [
    {
     "data": {
      "text/html": [
       "<div>\n",
       "<style scoped>\n",
       "    .dataframe tbody tr th:only-of-type {\n",
       "        vertical-align: middle;\n",
       "    }\n",
       "\n",
       "    .dataframe tbody tr th {\n",
       "        vertical-align: top;\n",
       "    }\n",
       "\n",
       "    .dataframe thead th {\n",
       "        text-align: right;\n",
       "    }\n",
       "</style>\n",
       "<table border=\"1\" class=\"dataframe\">\n",
       "  <thead>\n",
       "    <tr style=\"text-align: right;\">\n",
       "      <th></th>\n",
       "      <th>ethnicity</th>\n",
       "      <th>gender</th>\n",
       "      <th>hospise_time</th>\n",
       "    </tr>\n",
       "  </thead>\n",
       "  <tbody>\n",
       "    <tr>\n",
       "      <th>0</th>\n",
       "      <td>BLACK/AFRICAN AMERICAN</td>\n",
       "      <td>F</td>\n",
       "      <td>39.181111</td>\n",
       "    </tr>\n",
       "    <tr>\n",
       "      <th>1</th>\n",
       "      <td>UNKNOWN/NOT SPECIFIED</td>\n",
       "      <td>F</td>\n",
       "      <td>332.416667</td>\n",
       "    </tr>\n",
       "    <tr>\n",
       "      <th>2</th>\n",
       "      <td>UNKNOWN/NOT SPECIFIED</td>\n",
       "      <td>F</td>\n",
       "      <td>63.597778</td>\n",
       "    </tr>\n",
       "    <tr>\n",
       "      <th>3</th>\n",
       "      <td>WHITE</td>\n",
       "      <td>F</td>\n",
       "      <td>51.446667</td>\n",
       "    </tr>\n",
       "    <tr>\n",
       "      <th>4</th>\n",
       "      <td>WHITE</td>\n",
       "      <td>M</td>\n",
       "      <td>31.052222</td>\n",
       "    </tr>\n",
       "    <tr>\n",
       "      <th>...</th>\n",
       "      <td>...</td>\n",
       "      <td>...</td>\n",
       "      <td>...</td>\n",
       "    </tr>\n",
       "    <tr>\n",
       "      <th>377</th>\n",
       "      <td>HISPANIC/LATINO - PUERTO RICAN</td>\n",
       "      <td>M</td>\n",
       "      <td>18.164722</td>\n",
       "    </tr>\n",
       "    <tr>\n",
       "      <th>378</th>\n",
       "      <td>HISPANIC/LATINO - PUERTO RICAN</td>\n",
       "      <td>M</td>\n",
       "      <td>31.509722</td>\n",
       "    </tr>\n",
       "    <tr>\n",
       "      <th>379</th>\n",
       "      <td>HISPANIC/LATINO - PUERTO RICAN</td>\n",
       "      <td>M</td>\n",
       "      <td>24.421389</td>\n",
       "    </tr>\n",
       "    <tr>\n",
       "      <th>380</th>\n",
       "      <td>HISPANIC/LATINO - PUERTO RICAN</td>\n",
       "      <td>M</td>\n",
       "      <td>46.694722</td>\n",
       "    </tr>\n",
       "    <tr>\n",
       "      <th>381</th>\n",
       "      <td>HISPANIC/LATINO - PUERTO RICAN</td>\n",
       "      <td>M</td>\n",
       "      <td>39.351667</td>\n",
       "    </tr>\n",
       "  </tbody>\n",
       "</table>\n",
       "<p>382 rows × 3 columns</p>\n",
       "</div>"
      ],
      "text/plain": [
       "                          ethnicity gender  hospise_time\n",
       "0            BLACK/AFRICAN AMERICAN      F     39.181111\n",
       "1             UNKNOWN/NOT SPECIFIED      F    332.416667\n",
       "2             UNKNOWN/NOT SPECIFIED      F     63.597778\n",
       "3                             WHITE      F     51.446667\n",
       "4                             WHITE      M     31.052222\n",
       "..                              ...    ...           ...\n",
       "377  HISPANIC/LATINO - PUERTO RICAN      M     18.164722\n",
       "378  HISPANIC/LATINO - PUERTO RICAN      M     31.509722\n",
       "379  HISPANIC/LATINO - PUERTO RICAN      M     24.421389\n",
       "380  HISPANIC/LATINO - PUERTO RICAN      M     46.694722\n",
       "381  HISPANIC/LATINO - PUERTO RICAN      M     39.351667\n",
       "\n",
       "[382 rows x 3 columns]"
      ]
     },
     "execution_count": 117,
     "metadata": {},
     "output_type": "execute_result"
    }
   ],
   "source": [
    "part3= conn.sql(\"\"\"\n",
    "SELECT ethnicity, \n",
    "                gender, \n",
    "                epoch(cast(outtime as TIMESTAMP) - cast(intime as TIMESTAMP))/3600 AS hospise_time\n",
    "FROM ICUSTAYS \n",
    "JOIN PATIENTS on ICUSTAYS.subject_id=PATIENTS.subject_id\n",
    "JOIN ADMISSIONS on ICUSTAYS.subject_id=ADMISSIONS.subject_id\"\"\").df()\n",
    "part3"
   ]
  },
  {
   "cell_type": "code",
   "execution_count": null,
   "metadata": {
    "id": "btv-g5J7n2qP"
   },
   "outputs": [
    {
     "data": {
      "text/plain": [
       "<cassandra.cluster.ResultSet at 0x141ef12b4c0>"
      ]
     },
     "execution_count": 191,
     "metadata": {},
     "output_type": "execute_result"
    }
   ],
   "source": [
    "session.execute(\"\"\"\n",
    "CREATE TABLE IF NOT EXISTS question31 (\n",
    "    ethnicity TEXT,\n",
    "    gender TEXT,\n",
    "    hospise_time FLOAT,\n",
    "    id INT,\n",
    "    PRIMARY KEY ((ethnicity), gender, hospise_time, id)\n",
    ");\n",
    "\"\"\")"
   ]
  },
  {
   "cell_type": "code",
   "execution_count": 194,
   "metadata": {},
   "outputs": [],
   "source": [
    "prepared = session.prepare(\"\"\"\n",
    "    INSERT INTO question31 (ethnicity, gender, hospise_time, id)\n",
    "    VALUES (?, ?, ?,?)\n",
    "\"\"\")\n",
    "\n",
    "for i, row in part3.iterrows():\n",
    "    session.execute(prepared, (row['ethnicity'], row['gender'], row['hospise_time'], i))"
   ]
  },
  {
   "cell_type": "code",
   "execution_count": 195,
   "metadata": {},
   "outputs": [
    {
     "data": {
      "text/html": [
       "<div>\n",
       "<style scoped>\n",
       "    .dataframe tbody tr th:only-of-type {\n",
       "        vertical-align: middle;\n",
       "    }\n",
       "\n",
       "    .dataframe tbody tr th {\n",
       "        vertical-align: top;\n",
       "    }\n",
       "\n",
       "    .dataframe thead th {\n",
       "        text-align: right;\n",
       "    }\n",
       "</style>\n",
       "<table border=\"1\" class=\"dataframe\">\n",
       "  <thead>\n",
       "    <tr style=\"text-align: right;\">\n",
       "      <th></th>\n",
       "      <th>ethnicity</th>\n",
       "      <th>hospise_time</th>\n",
       "    </tr>\n",
       "  </thead>\n",
       "  <tbody>\n",
       "    <tr>\n",
       "      <th>0</th>\n",
       "      <td>OTHER</td>\n",
       "      <td>18.245556</td>\n",
       "    </tr>\n",
       "    <tr>\n",
       "      <th>1</th>\n",
       "      <td>OTHER</td>\n",
       "      <td>45.889446</td>\n",
       "    </tr>\n",
       "    <tr>\n",
       "      <th>2</th>\n",
       "      <td>OTHER</td>\n",
       "      <td>2.542222</td>\n",
       "    </tr>\n",
       "  </tbody>\n",
       "</table>\n",
       "</div>"
      ],
      "text/plain": [
       "  ethnicity  hospise_time\n",
       "0     OTHER     18.245556\n",
       "1     OTHER     45.889446\n",
       "2     OTHER      2.542222"
      ]
     },
     "execution_count": 195,
     "metadata": {},
     "output_type": "execute_result"
    }
   ],
   "source": [
    "rows = session.execute(\"\"\"SELECT ethnicity, hospise_time FROM question31 where ethnicity = 'OTHER'\"\"\")\n",
    "df = pd.DataFrame(rows)\n",
    "df"
   ]
  },
  {
   "cell_type": "code",
   "execution_count": 196,
   "metadata": {},
   "outputs": [
    {
     "data": {
      "text/html": [
       "<div>\n",
       "<style scoped>\n",
       "    .dataframe tbody tr th:only-of-type {\n",
       "        vertical-align: middle;\n",
       "    }\n",
       "\n",
       "    .dataframe tbody tr th {\n",
       "        vertical-align: top;\n",
       "    }\n",
       "\n",
       "    .dataframe thead th {\n",
       "        text-align: right;\n",
       "    }\n",
       "</style>\n",
       "<table border=\"1\" class=\"dataframe\">\n",
       "  <thead>\n",
       "    <tr style=\"text-align: right;\">\n",
       "      <th></th>\n",
       "      <th>ETHNICITY</th>\n",
       "      <th>GENDER</th>\n",
       "      <th>AVG_HOSPICE_TIME</th>\n",
       "    </tr>\n",
       "  </thead>\n",
       "  <tbody>\n",
       "    <tr>\n",
       "      <th>0</th>\n",
       "      <td>HISPANIC OR LATINO</td>\n",
       "      <td>F</td>\n",
       "      <td>179.031293</td>\n",
       "    </tr>\n",
       "    <tr>\n",
       "      <th>1</th>\n",
       "      <td>UNABLE TO OBTAIN</td>\n",
       "      <td>M</td>\n",
       "      <td>320.568878</td>\n",
       "    </tr>\n",
       "    <tr>\n",
       "      <th>2</th>\n",
       "      <td>AMERICAN INDIAN/ALASKA NATIVE FEDERALLY RECOGN...</td>\n",
       "      <td>M</td>\n",
       "      <td>272.091801</td>\n",
       "    </tr>\n",
       "    <tr>\n",
       "      <th>3</th>\n",
       "      <td>HISPANIC/LATINO - PUERTO RICAN</td>\n",
       "      <td>M</td>\n",
       "      <td>77.833482</td>\n",
       "    </tr>\n",
       "    <tr>\n",
       "      <th>4</th>\n",
       "      <td>UNKNOWN/NOT SPECIFIED</td>\n",
       "      <td>M</td>\n",
       "      <td>51.491388</td>\n",
       "    </tr>\n",
       "    <tr>\n",
       "      <th>5</th>\n",
       "      <td>UNKNOWN/NOT SPECIFIED</td>\n",
       "      <td>F</td>\n",
       "      <td>118.577019</td>\n",
       "    </tr>\n",
       "    <tr>\n",
       "      <th>6</th>\n",
       "      <td>OTHER</td>\n",
       "      <td>M</td>\n",
       "      <td>2.542222</td>\n",
       "    </tr>\n",
       "    <tr>\n",
       "      <th>7</th>\n",
       "      <td>OTHER</td>\n",
       "      <td>F</td>\n",
       "      <td>32.067501</td>\n",
       "    </tr>\n",
       "    <tr>\n",
       "      <th>8</th>\n",
       "      <td>BLACK/AFRICAN AMERICAN</td>\n",
       "      <td>M</td>\n",
       "      <td>81.620501</td>\n",
       "    </tr>\n",
       "    <tr>\n",
       "      <th>9</th>\n",
       "      <td>BLACK/AFRICAN AMERICAN</td>\n",
       "      <td>F</td>\n",
       "      <td>268.829789</td>\n",
       "    </tr>\n",
       "    <tr>\n",
       "      <th>10</th>\n",
       "      <td>WHITE</td>\n",
       "      <td>M</td>\n",
       "      <td>83.012210</td>\n",
       "    </tr>\n",
       "    <tr>\n",
       "      <th>11</th>\n",
       "      <td>WHITE</td>\n",
       "      <td>F</td>\n",
       "      <td>120.412821</td>\n",
       "    </tr>\n",
       "    <tr>\n",
       "      <th>12</th>\n",
       "      <td>ASIAN</td>\n",
       "      <td>M</td>\n",
       "      <td>170.815277</td>\n",
       "    </tr>\n",
       "    <tr>\n",
       "      <th>13</th>\n",
       "      <td>ASIAN</td>\n",
       "      <td>F</td>\n",
       "      <td>15.907222</td>\n",
       "    </tr>\n",
       "  </tbody>\n",
       "</table>\n",
       "</div>"
      ],
      "text/plain": [
       "                                            ETHNICITY GENDER  AVG_HOSPICE_TIME\n",
       "0                                  HISPANIC OR LATINO      F        179.031293\n",
       "1                                    UNABLE TO OBTAIN      M        320.568878\n",
       "2   AMERICAN INDIAN/ALASKA NATIVE FEDERALLY RECOGN...      M        272.091801\n",
       "3                      HISPANIC/LATINO - PUERTO RICAN      M         77.833482\n",
       "4                               UNKNOWN/NOT SPECIFIED      M         51.491388\n",
       "5                               UNKNOWN/NOT SPECIFIED      F        118.577019\n",
       "6                                               OTHER      M          2.542222\n",
       "7                                               OTHER      F         32.067501\n",
       "8                              BLACK/AFRICAN AMERICAN      M         81.620501\n",
       "9                              BLACK/AFRICAN AMERICAN      F        268.829789\n",
       "10                                              WHITE      M         83.012210\n",
       "11                                              WHITE      F        120.412821\n",
       "12                                              ASIAN      M        170.815277\n",
       "13                                              ASIAN      F         15.907222"
      ]
     },
     "execution_count": 196,
     "metadata": {},
     "output_type": "execute_result"
    }
   ],
   "source": [
    "rows = session.execute(\"\"\"SELECT ethnicity FROM question31\"\"\")\n",
    "ethnicity_list = list(set(row.ethnicity for row in rows))\n",
    "\n",
    "records = []\n",
    "\n",
    "for eth in ethnicity_list:\n",
    "    rows = session.execute(\"\"\"SELECT gender FROM question31 WHERE ethnicity = %s\"\"\", [eth])\n",
    "    gender_list = list(set(row.gender for row in rows))\n",
    "    for gen in gender_list:\n",
    "        # Filter the DataFrame for each group\n",
    "        rows = session.execute(\"\"\"\n",
    "        SELECT hospise_time FROM question31 WHERE ethnicity = %s AND gender = %s\n",
    "        \"\"\", [eth, gen])\n",
    "\n",
    "        df_eth = pd.DataFrame(rows)\n",
    "        if not df_eth.empty:\n",
    "            avg_time = df_eth['hospise_time'].mean()\n",
    "            records.append({\n",
    "                'ETHNICITY': eth,\n",
    "                'GENDER': gen,\n",
    "                'AVG_HOSPICE_TIME': avg_time\n",
    "            })\n",
    "\n",
    "# Final result\n",
    "df_avg_time = pd.DataFrame(records)\n",
    "\n",
    "df_avg_time"
   ]
  }
 ],
 "metadata": {
  "colab": {
   "authorship_tag": "ABX9TyNtCNaQN/DvBweVYB1OcnXB",
   "mount_file_id": "1le6sL-m4G5tbJeB78I1ADEq5Za4F5_N1",
   "provenance": [],
   "toc_visible": true
  },
  "kernelspec": {
   "display_name": "Python 3",
   "name": "python3"
  },
  "language_info": {
   "codemirror_mode": {
    "name": "ipython",
    "version": 3
   },
   "file_extension": ".py",
   "mimetype": "text/x-python",
   "name": "python",
   "nbconvert_exporter": "python",
   "pygments_lexer": "ipython3",
   "version": "3.10.11"
  }
 },
 "nbformat": 4,
 "nbformat_minor": 0
}
