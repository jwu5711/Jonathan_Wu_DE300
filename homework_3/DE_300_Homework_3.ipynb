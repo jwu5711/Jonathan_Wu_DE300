{
  "nbformat": 4,
  "nbformat_minor": 0,
  "metadata": {
    "colab": {
      "provenance": [],
      "toc_visible": true
    },
    "kernelspec": {
      "name": "python3",
      "display_name": "Python 3"
    },
    "language_info": {
      "name": "python"
    }
  },
  "cells": [
    {
      "cell_type": "markdown",
      "source": [
        "# Data Eng 300 Homework 3\n",
        "\n",
        "#### Jonathan Wu"
      ],
      "metadata": {
        "id": "0UY8OAEQZXFp"
      }
    },
    {
      "cell_type": "code",
      "source": [
        "import math\n",
        "import matplotlib.pyplot as plt\n",
        "import numpy as np\n",
        "import pandas as pd"
      ],
      "metadata": {
        "id": "m94Myk2XhafG"
      },
      "execution_count": 1,
      "outputs": []
    },
    {
      "cell_type": "code",
      "execution_count": 2,
      "metadata": {
        "colab": {
          "base_uri": "https://localhost:8080/"
        },
        "id": "DupzGD2OZV5r",
        "outputId": "dd62e80e-aa3d-4555-8ffb-903e8234fd37"
      },
      "outputs": [
        {
          "output_type": "stream",
          "name": "stdout",
          "text": [
            "  % Total    % Received % Xferd  Average Speed   Time    Time     Time  Current\n",
            "                                 Dload  Upload   Total   Spent    Left  Speed\n",
            "100 33.2M  100 33.2M    0     0  8527k      0  0:00:03  0:00:03 --:--:-- 8526k\n"
          ]
        }
      ],
      "source": [
        "!curl https://raw.githubusercontent.com/mosesyhc/de300-2025sp-class/refs/heads/main/agnews_clean.csv -O"
      ]
    },
    {
      "cell_type": "code",
      "source": [
        "from pyspark.sql import SparkSession\n",
        "\n",
        "spark = (SparkSession.builder\n",
        "         .master(\"local[*]\")\n",
        "         .appName(\"AG news\")\n",
        "         .getOrCreate()\n",
        "        )\n",
        "\n",
        "agnews = spark.read.csv(\"agnews_clean.csv\", inferSchema=True, header=True)\n",
        "\n",
        "# turning the second column from a string to an array\n",
        "import pyspark.sql.functions as F\n",
        "from pyspark.sql.types import ArrayType, StringType\n",
        "agnews = agnews.withColumn('filtered', F.from_json('filtered', ArrayType(StringType())))"
      ],
      "metadata": {
        "id": "ei8OUszSZiyE"
      },
      "execution_count": 64,
      "outputs": []
    },
    {
      "cell_type": "code",
      "source": [
        "# each row contains the document id and a list of filtered words\n",
        "agnews.show(5, truncate=30)"
      ],
      "metadata": {
        "colab": {
          "base_uri": "https://localhost:8080/"
        },
        "id": "YSE8FAXkZj5n",
        "outputId": "69fa1c8f-fe67-46ab-dbb5-5817fcef1c20"
      },
      "execution_count": 4,
      "outputs": [
        {
          "output_type": "stream",
          "name": "stdout",
          "text": [
            "+---+------------------------------+\n",
            "|_c0|                      filtered|\n",
            "+---+------------------------------+\n",
            "|  0|[wall, st, bears, claw, bac...|\n",
            "|  1|[carlyle, looks, toward, co...|\n",
            "|  2|[oil, economy, cloud, stock...|\n",
            "|  3|[iraq, halts, oil, exports,...|\n",
            "|  4|[oil, prices, soar, time, r...|\n",
            "+---+------------------------------+\n",
            "only showing top 5 rows\n",
            "\n"
          ]
        }
      ]
    },
    {
      "cell_type": "code",
      "source": [
        "# We find the number of documents in agnews (used in idf calculation)\n",
        "D = agnews.count()\n",
        "D"
      ],
      "metadata": {
        "colab": {
          "base_uri": "https://localhost:8080/"
        },
        "id": "sKcx-wRFcSKd",
        "outputId": "15be8b8c-17d6-4a2d-cd11-0bafc1499b32"
      },
      "execution_count": 101,
      "outputs": [
        {
          "output_type": "execute_result",
          "data": {
            "text/plain": [
              "127600"
            ]
          },
          "metadata": {},
          "execution_count": 101
        }
      ]
    },
    {
      "cell_type": "code",
      "source": [
        "from pyspark.sql.functions import col\n",
        "# This is just to look at what we are working with, this splits each word out of the document\n",
        "words_df = agnews.select(\"_c0\",\n",
        "    # Explode each word out\n",
        "    F.explode(col(\"filtered\")).alias(\"word\")\n",
        ").select(\"_c0\",\n",
        "    # Make all words lowercase (so we ensure no capital letters)\n",
        "    F.lower(col(\"word\")).alias(\"word\")\n",
        ")"
      ],
      "metadata": {
        "id": "FnwLaIlYbTLj"
      },
      "execution_count": 80,
      "outputs": []
    },
    {
      "cell_type": "code",
      "source": [
        "words_df.show(5)"
      ],
      "metadata": {
        "colab": {
          "base_uri": "https://localhost:8080/"
        },
        "id": "g88_YmtUadlP",
        "outputId": "f196b15b-36de-47a8-9c68-92bad9090778"
      },
      "execution_count": 81,
      "outputs": [
        {
          "output_type": "stream",
          "name": "stdout",
          "text": [
            "+---+-----+\n",
            "|_c0| word|\n",
            "+---+-----+\n",
            "|  0| wall|\n",
            "|  0|   st|\n",
            "|  0|bears|\n",
            "|  0| claw|\n",
            "|  0| back|\n",
            "+---+-----+\n",
            "only showing top 5 rows\n",
            "\n"
          ]
        }
      ]
    },
    {
      "cell_type": "code",
      "source": [
        "def get_tf(df):\n",
        "  # This is the same as two cells above\n",
        "  words_df = agnews.select(\"_c0\", F.explode(col(\"filtered\")).alias(\"word\")\n",
        "  ).select(\"_c0\", F.lower(col(\"word\")).alias(\"word\")\n",
        "  )\n",
        "  # Find the number of times a term appears in the document (segregated by document)\n",
        "  terms = words_df.groupBy(\"_c0\", \"word\").agg(F.count(\"*\").alias(\"term_count\"))\n",
        "  # Find the number of words in each document\n",
        "  total_terms = df.select(\"_c0\", F.size(\"filtered\").alias(\"total_words\"))\n",
        "  # Find the term frequency\n",
        "  tf_df = terms.join(total_terms, on=\"_c0\", how=\"inner\").withColumn(\n",
        "    \"tf\", col(\"term_count\") / col(\"total_words\")\n",
        "  )\n",
        "  return tf_df"
      ],
      "metadata": {
        "id": "7-F_SVENc7hc"
      },
      "execution_count": 92,
      "outputs": []
    },
    {
      "cell_type": "code",
      "source": [
        "tf_df = get_tf(agnews)\n",
        "tf_df.show(5)"
      ],
      "metadata": {
        "colab": {
          "base_uri": "https://localhost:8080/"
        },
        "id": "pFtI3TGFdo2y",
        "outputId": "7b0fb90e-8c43-46f0-d796-d6203a1d811a"
      },
      "execution_count": 93,
      "outputs": [
        {
          "output_type": "stream",
          "name": "stdout",
          "text": [
            "+----+---------+----------+-----------+--------------------+\n",
            "| _c0|     word|term_count|total_words|                  tf|\n",
            "+----+---------+----------+-----------+--------------------+\n",
            "| 833|      hit|         1|         13| 0.07692307692307693|\n",
            "|1088|following|         1|         18| 0.05555555555555555|\n",
            "|1959|      ups|         2|         29| 0.06896551724137931|\n",
            "|1959|    block|         1|         29|0.034482758620689655|\n",
            "|6397|   friday|         1|         27|0.037037037037037035|\n",
            "+----+---------+----------+-----------+--------------------+\n",
            "only showing top 5 rows\n",
            "\n"
          ]
        }
      ]
    },
    {
      "cell_type": "code",
      "source": [
        "def get_idf(df):\n",
        "  # Same words_df as get_tf\n",
        "  words_df = agnews.select(\"_c0\", F.explode(col(\"filtered\")).alias(\"word\")\n",
        "  ).select(\"_c0\", F.lower(col(\"word\")).alias(\"word\")\n",
        "  )\n",
        "  # Find the number of documents containing a word t\n",
        "  df_df = words_df.dropDuplicates([\"_c0\", \"word\"]).groupBy(\"word\").agg(\n",
        "      count(\"*\").alias(\"df\")\n",
        "  )\n",
        "  # Calculate idf\n",
        "  idf_df = df_df.withColumn(\n",
        "      \"idf\", when(col(\"df\") > 0, F.log(D / col(\"df\"))).otherwise(0)\n",
        "  )\n",
        "  return idf_df"
      ],
      "metadata": {
        "id": "spo6YoAcfF9e"
      },
      "execution_count": 94,
      "outputs": []
    },
    {
      "cell_type": "code",
      "source": [
        "idf_df = get_idf(agnews)\n",
        "idf_df.show(5)"
      ],
      "metadata": {
        "colab": {
          "base_uri": "https://localhost:8080/"
        },
        "id": "iT2zWCd9fi5A",
        "outputId": "dfa8cb0d-8b49-47e9-e137-5533717dab7f"
      },
      "execution_count": 95,
      "outputs": [
        {
          "output_type": "stream",
          "name": "stdout",
          "text": [
            "+---------+----+------------------+\n",
            "|     word|  df|               idf|\n",
            "+---------+----+------------------+\n",
            "|    still|2281|4.0242864276084385|\n",
            "|arguments|  91| 7.245796143375976|\n",
            "|   doubts| 172| 6.609161173079373|\n",
            "|   online|2444|3.9552643296013406|\n",
            "|   filing| 339| 5.930655542512376|\n",
            "+---------+----+------------------+\n",
            "only showing top 5 rows\n",
            "\n"
          ]
        }
      ]
    },
    {
      "cell_type": "code",
      "source": [
        "from pyspark.sql.functions import when\n",
        "\n",
        "def tf_idf(df):\n",
        "  tf_df = get_tf(df)\n",
        "  idf_df = get_idf(df)\n",
        "  tf_idf_df = tf_df.join(idf_df, on=\"word\", how=\"inner\").withColumn(\n",
        "      \"idf\", when(col(\"df\") > 0, F.log(D / col(\"df\"))).otherwise(0)\n",
        "  ).withColumn(\n",
        "      \"tf_idf\", col(\"tf\") * col(\"idf\")\n",
        "  )\n",
        "  return tf_idf_df"
      ],
      "metadata": {
        "id": "GZAwK1oubLrD"
      },
      "execution_count": 102,
      "outputs": []
    },
    {
      "cell_type": "code",
      "source": [
        "tf_idf_df = tf_idf(agnews)\n",
        "tf_idf_df.show(5)"
      ],
      "metadata": {
        "colab": {
          "base_uri": "https://localhost:8080/"
        },
        "id": "MVD2i0Xcb27n",
        "outputId": "7a9b51ec-af04-4192-ebab-c79182c9cab9"
      },
      "execution_count": 103,
      "outputs": [
        {
          "output_type": "stream",
          "name": "stdout",
          "text": [
            "+------+-----+----------+-----------+--------------------+----+------------------+-------------------+\n",
            "|  word|  _c0|term_count|total_words|                  tf|  df|               idf|             tf_idf|\n",
            "+------+-----+----------+-----------+--------------------+----+------------------+-------------------+\n",
            "|online|42468|         1|         26|0.038461538461538464|2444|3.9552643296013406|0.15212555113851312|\n",
            "|online|45307|         1|         28| 0.03571428571428571|2444|3.9552643296013406|0.14125944034290502|\n",
            "|online|23364|         1|         13| 0.07692307692307693|2444|3.9552643296013406|0.30425110227702623|\n",
            "| still|36538|         1|         58|0.017241379310344827|2281|4.0242864276084385|0.06938424875186963|\n",
            "| still|26425|         1|         31| 0.03225806451612903|2281|4.0242864276084385|0.12981569121317543|\n",
            "+------+-----+----------+-----------+--------------------+----+------------------+-------------------+\n",
            "only showing top 5 rows\n",
            "\n"
          ]
        }
      ]
    },
    {
      "cell_type": "code",
      "source": [
        "the_fuck_values = tf_idf_df.select(\"tf\").rdd.map(lambda row: row[\"tf\"]).collect()\n",
        "tfidf_values = tf_idf_df.select(\"tf_idf\").rdd.map(lambda row: row[\"tf_idf\"]).collect()"
      ],
      "metadata": {
        "id": "MxAgWxy5f6Z8"
      },
      "execution_count": 98,
      "outputs": []
    },
    {
      "cell_type": "code",
      "source": [
        "plt.hist(the_fuck_values, bins=30)\n",
        "plt.xlabel(\"tf\")\n",
        "plt.ylabel(\"Frequency\")\n",
        "plt.show()"
      ],
      "metadata": {
        "colab": {
          "base_uri": "https://localhost:8080/",
          "height": 465
        },
        "id": "JiCsnEO3gQE3",
        "outputId": "b83890ed-dbc8-4b92-d01b-c1c294e6dc1c"
      },
      "execution_count": 99,
      "outputs": [
        {
          "output_type": "display_data",
          "data": {
            "text/plain": [
              "<Figure size 640x480 with 1 Axes>"
            ],
            "image/png": "[encoded data removed]"
          },
          "metadata": {}
        }
      ]
    },
    {
      "cell_type": "code",
      "source": [
        "plt.hist(tfidf_values, bins=30)\n",
        "plt.xlabel(\"tf_idf\")\n",
        "plt.ylabel(\"Frequency\")\n",
        "plt.show()"
      ],
      "metadata": {
        "colab": {
          "base_uri": "https://localhost:8080/",
          "height": 465
        },
        "id": "eeXoTuTJgS3F",
        "outputId": "f0759faa-2f68-4782-c2f5-ab87b7085854"
      },
      "execution_count": 100,
      "outputs": [
        {
          "output_type": "display_data",
          "data": {
            "text/plain": [
              "<Figure size 640x480 with 1 Axes>"
            ],
            "image/png": "[encoded data removed]"
          },
          "metadata": {}
        }
      ]
    },
    {
      "cell_type": "markdown",
      "source": [
        "##Part 2 SVM"
      ],
      "metadata": {
        "id": "0_SgwQFGkby8"
      }
    },
    {
      "cell_type": "code",
      "source": [
        "!curl https://raw.githubusercontent.com/mosesyhc/de300-2025sp-class/refs/heads/main/w.csv -O\n",
        "!curl https://raw.githubusercontent.com/mosesyhc/de300-2025sp-class/refs/heads/main/bias.csv -O\n",
        "!curl https://raw.githubusercontent.com/mosesyhc/de300-2025sp-class/refs/heads/main/data_for_svm.csv -O"
      ],
      "metadata": {
        "id": "1Fc0A-1Ka2Fq",
        "colab": {
          "base_uri": "https://localhost:8080/"
        },
        "outputId": "49565824-a179-42a2-e600-64f8771d738d"
      },
      "execution_count": 35,
      "outputs": [
        {
          "output_type": "stream",
          "name": "stdout",
          "text": [
            "  % Total    % Received % Xferd  Average Speed   Time    Time     Time  Current\n",
            "                                 Dload  Upload   Total   Spent    Left  Speed\n",
            "100  1391  100  1391    0     0   2091      0 --:--:-- --:--:-- --:--:--  2091\n",
            "  % Total    % Received % Xferd  Average Speed   Time    Time     Time  Current\n",
            "                                 Dload  Upload   Total   Spent    Left  Speed\n",
            "100    22  100    22    0     0     43      0 --:--:-- --:--:-- --:--:--    43\n",
            "  % Total    % Received % Xferd  Average Speed   Time    Time     Time  Current\n",
            "                                 Dload  Upload   Total   Spent    Left  Speed\n",
            "100 61.9M  100 61.9M    0     0  14.4M      0  0:00:04  0:00:04 --:--:-- 14.4M\n"
          ]
        }
      ]
    },
    {
      "cell_type": "code",
      "source": [
        "# This is an example to read the files. But you should consider using pyspark directly.\n",
        "# *Make sure you are not assuming a header*!!\n",
        "import pandas as pd\n",
        "data_svm = pd.read_csv('data_for_svm.csv', header=None)\n",
        "w = pd.read_csv('w.csv', header=None)\n",
        "bias = pd.read_csv('bias.csv', header=None)"
      ],
      "metadata": {
        "id": "HTlxbSi7khYh"
      },
      "execution_count": null,
      "outputs": []
    },
    {
      "cell_type": "code",
      "source": [
        "from pyspark.sql import SparkSession\n",
        "\n",
        "spark = (SparkSession.builder\n",
        "         .master(\"local[*]\")\n",
        "         .appName(\"SVM\")\n",
        "         .getOrCreate()\n",
        "        )\n",
        "\n",
        "data_svm = spark.read.csv(\"data_for_svm.csv\", inferSchema=True, header=False)\n",
        "w = spark.read.csv(\"w.csv\", inferSchema=True, header=False)\n",
        "bias = spark.read.csv(\"bias.csv\", inferSchema=True, header=False)\n"
      ],
      "metadata": {
        "id": "xN_EilTNrJYS"
      },
      "execution_count": 36,
      "outputs": []
    },
    {
      "cell_type": "code",
      "source": [
        "data_svm.show(5)"
      ],
      "metadata": {
        "colab": {
          "base_uri": "https://localhost:8080/"
        },
        "id": "eouX6dRsKGld",
        "outputId": "535eb64a-d45a-4f69-a324-b9a002adda91"
      },
      "execution_count": 37,
      "outputs": [
        {
          "output_type": "stream",
          "name": "stdout",
          "text": [
            "+---+---+---+---+---+---+---+---+---+---+----+----+----+----+----+----+----+----+----+----+----+----+----+----+----+----+----+----+----+----+----+----+----+----+----+----+----+----+----+----+----+----+----+----+----+----+----+----+----+----+----+----+----+----+----+----+----+----+----+----+----+----+----+----+----+\n",
            "|_c0|_c1|_c2|_c3|_c4|_c5|_c6|_c7|_c8|_c9|_c10|_c11|_c12|_c13|_c14|_c15|_c16|_c17|_c18|_c19|_c20|_c21|_c22|_c23|_c24|_c25|_c26|_c27|_c28|_c29|_c30|_c31|_c32|_c33|_c34|_c35|_c36|_c37|_c38|_c39|_c40|_c41|_c42|_c43|_c44|_c45|_c46|_c47|_c48|_c49|_c50|_c51|_c52|_c53|_c54|_c55|_c56|_c57|_c58|_c59|_c60|_c61|_c62|_c63|_c64|\n",
            "+---+---+---+---+---+---+---+---+---+---+----+----+----+----+----+----+----+----+----+----+----+----+----+----+----+----+----+----+----+----+----+----+----+----+----+----+----+----+----+----+----+----+----+----+----+----+----+----+----+----+----+----+----+----+----+----+----+----+----+----+----+----+----+----+----+\n",
            "| -1| -1|  1|  1| -1|  1|  1|  1|  1| -1|   1|   1|  -1|  -1|  -1|   1|  -1|   1|  -1|   1|  -1|   1|   1|  -1|   1|   1|   1|  -1|   1|  -1|  -1|  -1|   1|   1|   1|  -1|   1|  -1|  -1|  -1|  -1|   1|  -1|   1|  -1|  -1|  -1|  -1|  -1|  -1|  -1|  -1|  -1|  -1|  -1|  -1|  -1|  -1|  -1|  -1|  -1|  -1|  -1|   1|  -1|\n",
            "|  1|  1| -1|  1| -1| -1|  1|  1| -1|  1|   1|  -1|   1|  -1|   1|   1|   1|   1|  -1|   1|  -1|  -1|   1|  -1|   1|  -1|  -1|   1|   1|   1|   1|  -1|  -1|   1|   1|  -1|  -1|  -1|  -1|   1|   1|   1|   1|   1|  -1|  -1|  -1|  -1|  -1|  -1|  -1|  -1|  -1|  -1|  -1|  -1|  -1|  -1|  -1|  -1|  -1|   1|   1|  -1|   1|\n",
            "|  1|  1|  1| -1|  1|  1| -1|  1| -1|  1|  -1|  -1|   1|  -1|  -1|   1|  -1|  -1|   1|  -1|  -1|  -1|   1|  -1|   1|   1|  -1|  -1|   1|   1|  -1|  -1|   1|   1|  -1|   1|  -1|  -1|  -1|  -1|  -1|  -1|  -1|  -1|  -1|   1|  -1|  -1|  -1|  -1|  -1|  -1|  -1|  -1|  -1|  -1|  -1|  -1|  -1|  -1|  -1|   1|   1|   1|   1|\n",
            "|  1| -1|  1| -1| -1| -1| -1| -1| -1|  1|  -1|   1|   1|   1|  -1|   1|   1|   1|  -1|   1|   1|   1|  -1|   1|   1|  -1|   1|  -1|   1|  -1|   1|   1|  -1|  -1|  -1|  -1|  -1|  -1|   1|  -1|  -1|  -1|  -1|   1|  -1|  -1|   1|   1|   1|   1|   1|   1|   1|   1|   1|   1|   1|   1|   1|   1|   1|   1|   1|   1|   1|\n",
            "|  1| -1|  1| -1|  1| -1| -1|  1|  1|  1|   1|   1|  -1|  -1|  -1|   1|  -1|   1|   1|   1|  -1|   1|  -1|   1|   1|  -1|   1|   1|  -1|  -1|  -1|   1|  -1|   1|  -1|  -1|   1|  -1|   1|   1|   1|  -1|   1|  -1|   1|  -1|   1|   1|   1|   1|   1|   1|   1|   1|   1|   1|   1|   1|   1|   1|   1|   1|   1|   1|  -1|\n",
            "+---+---+---+---+---+---+---+---+---+---+----+----+----+----+----+----+----+----+----+----+----+----+----+----+----+----+----+----+----+----+----+----+----+----+----+----+----+----+----+----+----+----+----+----+----+----+----+----+----+----+----+----+----+----+----+----+----+----+----+----+----+----+----+----+----+\n",
            "only showing top 5 rows\n",
            "\n"
          ]
        }
      ]
    },
    {
      "cell_type": "code",
      "source": [
        "w.show(5)"
      ],
      "metadata": {
        "colab": {
          "base_uri": "https://localhost:8080/"
        },
        "id": "PBTFd4c6LPgJ",
        "outputId": "fd16624a-ade7-4fe2-a780-c41af8ba33e9"
      },
      "execution_count": 38,
      "outputs": [
        {
          "output_type": "stream",
          "name": "stdout",
          "text": [
            "+--------------------+--------------------+--------------------+--------------------+--------------------+--------------------+--------------------+--------------------+--------------------+--------------------+--------------------+--------------------+--------------------+--------------------+--------------------+--------------------+--------------------+--------------------+--------------------+--------------------+--------------------+--------------------+--------------------+--------------------+--------------------+--------------------+--------------------+--------------------+--------------------+--------------------+--------------------+--------------------+--------------------+--------------------+--------------------+--------------------+--------------------+--------------------+-------------------+--------------------+-------------------+--------------------+--------------------+--------------------+--------------------+--------------------+--------------------+--------------------+--------------------+-------------------+--------------------+--------------------+--------------------+--------------------+--------------------+-------------------+--------------------+--------------------+--------------------+-------------------+--------------------+--------------------+--------------------+--------------------+\n",
            "|                 _c0|                 _c1|                 _c2|                 _c3|                 _c4|                 _c5|                 _c6|                 _c7|                 _c8|                 _c9|                _c10|                _c11|                _c12|                _c13|                _c14|                _c15|                _c16|                _c17|                _c18|                _c19|                _c20|                _c21|                _c22|                _c23|                _c24|                _c25|                _c26|                _c27|                _c28|                _c29|                _c30|                _c31|                _c32|                _c33|                _c34|                _c35|                _c36|                _c37|               _c38|                _c39|               _c40|                _c41|                _c42|                _c43|                _c44|                _c45|                _c46|                _c47|                _c48|               _c49|                _c50|                _c51|                _c52|                _c53|                _c54|               _c55|                _c56|                _c57|                _c58|               _c59|                _c60|                _c61|                _c62|                _c63|\n",
            "+--------------------+--------------------+--------------------+--------------------+--------------------+--------------------+--------------------+--------------------+--------------------+--------------------+--------------------+--------------------+--------------------+--------------------+--------------------+--------------------+--------------------+--------------------+--------------------+--------------------+--------------------+--------------------+--------------------+--------------------+--------------------+--------------------+--------------------+--------------------+--------------------+--------------------+--------------------+--------------------+--------------------+--------------------+--------------------+--------------------+--------------------+--------------------+-------------------+--------------------+-------------------+--------------------+--------------------+--------------------+--------------------+--------------------+--------------------+--------------------+--------------------+-------------------+--------------------+--------------------+--------------------+--------------------+--------------------+-------------------+--------------------+--------------------+--------------------+-------------------+--------------------+--------------------+--------------------+--------------------+\n",
            "|-0.00784148507035104|-0.00413877821083658|-0.00541447683636...|0.003299879173046...|0.002638315687869...|0.009389946097638102|-0.01118231719569...|-0.00437890351225...|-0.00868322271874...|-0.00768455759775...|-0.00946031747283066|-0.00691633077834...|-0.00199459746427...|-0.01081867675374...|0.002449422218340...|-0.00978158774766...|-0.00437928158012...|-0.00559653262778...|-0.00703208083857...|5.955077831631961E-6|8.349986470672088E-4|0.008023890144851276|0.002911675152073856|0.008813562276009823|-0.00163673488053...|2.126055429982343E-4|0.003078840519848...|0.005223178325187...|0.014336372972505562|-0.01221925595229...|7.438277660337111E-4|-0.00385795215238...|-0.00571033941399...|-2.26248417163288...|0.008923367786840719|0.003296213740622611|-1.95429076728648...|0.006316186376365718|0.01172134340415748|-5.56249006059328...|0.00822587477761555|0.001191142235195...|0.003339922730675...|-0.00137040330021...|0.003190113237495...|0.003984616424885...|-0.01113442621821...|-0.01862151554738...|-0.00756280042368...|0.01000623394382616|0.001953834617771...|0.009548727925538791|0.003909685882679...|0.011246295014791463|-0.00251216567186...|0.01174596718179105|-0.00691129233716159|7.400479176574715E-4|0.011397318457844696|0.00546507383520356|0.005641028221443245|-0.00238103449703...|0.004438142089648878|-0.00443780304805...|\n",
            "+--------------------+--------------------+--------------------+--------------------+--------------------+--------------------+--------------------+--------------------+--------------------+--------------------+--------------------+--------------------+--------------------+--------------------+--------------------+--------------------+--------------------+--------------------+--------------------+--------------------+--------------------+--------------------+--------------------+--------------------+--------------------+--------------------+--------------------+--------------------+--------------------+--------------------+--------------------+--------------------+--------------------+--------------------+--------------------+--------------------+--------------------+--------------------+-------------------+--------------------+-------------------+--------------------+--------------------+--------------------+--------------------+--------------------+--------------------+--------------------+--------------------+-------------------+--------------------+--------------------+--------------------+--------------------+--------------------+-------------------+--------------------+--------------------+--------------------+-------------------+--------------------+--------------------+--------------------+--------------------+\n",
            "\n"
          ]
        }
      ]
    },
    {
      "cell_type": "code",
      "source": [
        "bias.show(5)"
      ],
      "metadata": {
        "id": "ubLx7KrlLUjQ",
        "outputId": "72f7ab14-6c45-4b21-d3fb-190f67bdbb9d",
        "colab": {
          "base_uri": "https://localhost:8080/"
        }
      },
      "execution_count": 39,
      "outputs": [
        {
          "output_type": "stream",
          "name": "stdout",
          "text": [
            "+--------------------+\n",
            "|                 _c0|\n",
            "+--------------------+\n",
            "|1.495661647902824E-4|\n",
            "+--------------------+\n",
            "\n"
          ]
        }
      ]
    },
    {
      "cell_type": "markdown",
      "source": [
        "Find ||w||^2 and 1/n. set lambda and b"
      ],
      "metadata": {
        "id": "-Ygww-EfeYR_"
      }
    },
    {
      "cell_type": "code",
      "source": [
        "w_list = w.collect()[0]\n",
        "w_list2 = list(w_list)\n",
        "w_list2\n",
        "w2 = np.sum(np.array(w_list2))\n",
        "w2"
      ],
      "metadata": {
        "colab": {
          "base_uri": "https://localhost:8080/"
        },
        "id": "keb04LWd19Pz",
        "outputId": "30d11403-2ed9-4a35-94aa-6c70baa397c6"
      },
      "execution_count": 40,
      "outputs": [
        {
          "output_type": "execute_result",
          "data": {
            "text/plain": [
              "np.float64(0.0036068090552452414)"
            ]
          },
          "metadata": {},
          "execution_count": 40
        }
      ]
    },
    {
      "cell_type": "code",
      "source": [
        "n_inv = 1/data_svm.count()\n",
        "lam = 1\n",
        "b = bias.collect()[0][0]\n",
        "b"
      ],
      "metadata": {
        "id": "lDFbosuI19D_",
        "colab": {
          "base_uri": "https://localhost:8080/"
        },
        "outputId": "b61f059c-ad2c-4bde-bd8f-0dd6d7d3fcb2"
      },
      "execution_count": 41,
      "outputs": [
        {
          "output_type": "execute_result",
          "data": {
            "text/plain": [
              "0.0001495661647902824"
            ]
          },
          "metadata": {},
          "execution_count": 41
        }
      ]
    },
    {
      "cell_type": "markdown",
      "source": [
        "map pred or $1 - y_i(w^Tx_i+b)$"
      ],
      "metadata": {
        "id": "0R6WhyW1e8z3"
      }
    },
    {
      "cell_type": "code",
      "source": [
        "# Take each column in data_svm and w. multiple each column together where\n",
        "# x[last column] * (w[column] * x[row][column] + bias)\n",
        "def compute_y_pred(row):\n",
        "  # x[row][all features]\n",
        "  features = row[:-1]\n",
        "  # x[last column]\n",
        "  label = row[-1]\n",
        "  weights = w_list2\n",
        "  # sums the features * weights + bias\n",
        "  z = sum(f * w for f,w in zip(features, weights)) + b\n",
        "  return row + (z,)\n",
        "\n",
        "rdd_svm = data_svm.rdd.map(compute_y_pred)\n",
        "\n",
        "#svm_pred = data_svm.map(compute_y_pred)\n",
        "#svm_pred.take(5)"
      ],
      "metadata": {
        "id": "nwPzlsmhedjc"
      },
      "execution_count": 104,
      "outputs": []
    },
    {
      "cell_type": "code",
      "source": [
        "# return an rdd with only the last two columns multiplied together\n",
        "def loss_calc(rdd):\n",
        "  y_hat = rdd[-1]\n",
        "  y_pred = rdd[-2]\n",
        "  return 1 - y_hat * y_pred\n",
        "\n",
        "preds = rdd_svm.map(loss_calc).sum()\n",
        "L = lam * w2 + n_inv * preds\n",
        "L"
      ],
      "metadata": {
        "id": "XFtj1b5GhRW6",
        "colab": {
          "base_uri": "https://localhost:8080/"
        },
        "outputId": "c35d0bc9-de86-4d21-d07a-1e1d577ff20d"
      },
      "execution_count": 105,
      "outputs": [
        {
          "output_type": "execute_result",
          "data": {
            "text/plain": [
              "np.float64(1.0033305714670213)"
            ]
          },
          "metadata": {},
          "execution_count": 105
        }
      ]
    },
    {
      "cell_type": "code",
      "source": [
        "from pyspark.sql.functions import col\n",
        "\n",
        "# Get all column names\n",
        "all_columns = data_svm.columns\n",
        "\n",
        "# Create the X and y matrix (the features and the label)\n",
        "X = data_svm.select(*all_columns[:-1])\n",
        "y = data_svm.select(all_columns[-1])\n",
        "\n",
        "def loss_SVM(w, b, X, y):\n",
        "  # This is the same thing as above, gather all the basic numbers (w^2, n^-1, lambda, and bias)\n",
        "  w_list = w.collect()[0]\n",
        "  w2 = np.sum(np.array(list(w_list)))\n",
        "  n_inv = 1/X.count()\n",
        "  lam = 1\n",
        "  b = bias.collect()[0][0]\n",
        "\n",
        "  # Map function for SVM, same as previously\n",
        "  def compute_y_pred(row):\n",
        "    features = row[:-1]\n",
        "    weights = w_list\n",
        "    z = sum(f * w for f,w in zip(features, weights)) + b\n",
        "    return row + (z,)\n",
        "\n",
        "  rdd_svm = X.rdd.map(compute_y_pred)\n",
        "  # Combine the rdd_svm with the y rdd\n",
        "  xy_rdd = rdd_svm.zip(y.rdd)\n",
        "\n",
        "  # Calculate the loss in the SVM\n",
        "  def loss_calc(rdd):\n",
        "    svm_row, y_row = rdd\n",
        "    # prediction (or z) from the previous function\n",
        "    y_pred = svm_row[-1]\n",
        "    # y rdd only has one value\n",
        "    y_hat = y_row[0]\n",
        "    return max(0,1 - y_hat * y_pred)\n",
        "  # get the sum of the loss for predictions\n",
        "  preds = xy_rdd.map(loss_calc).sum()\n",
        "  # Calculate L(w, b)\n",
        "  L = lam * w2 + n_inv * preds\n",
        "  return L\n",
        "L = loss_SVM(w, b, X, y)\n",
        "L"
      ],
      "metadata": {
        "colab": {
          "base_uri": "https://localhost:8080/"
        },
        "id": "tqZKfm1LSOAy",
        "outputId": "255f9b6d-7a18-49b4-f66c-e0da61cc80cd"
      },
      "execution_count": 109,
      "outputs": [
        {
          "output_type": "execute_result",
          "data": {
            "text/plain": [
              "np.float64(1.0033288629128445)"
            ]
          },
          "metadata": {},
          "execution_count": 109
        }
      ]
    },
    {
      "cell_type": "code",
      "source": [
        "from pyspark.sql.functions import col\n",
        "\n",
        "# This is a replication, the only difference is that I change y_pred to be an integer\n",
        "def loss_SVM2(w, b, X, y):\n",
        "  w_list = w.collect()[0]\n",
        "  w2 = np.sum(np.array(list(w_list)))\n",
        "  n_inv = 1/X.count()\n",
        "  lam = 1\n",
        "  b = bias.collect()[0][0]\n",
        "\n",
        "  def compute_y_pred(row):\n",
        "    features = row[:-1]\n",
        "    label = row[-1]\n",
        "    weights = w_list2\n",
        "    z = sum(f * w for f,w in zip(features, weights)) + b\n",
        "    y_pred = 1 if z > 0 else -1\n",
        "    return row + (y_pred,)\n",
        "\n",
        "  rdd_svm = X.rdd.map(compute_y_pred)\n",
        "  xy_rdd = rdd_svm.zip(y.rdd)\n",
        "\n",
        "  def loss_calc(rdd):\n",
        "    svm_row, y_row = rdd\n",
        "    y_pred = svm_row[-1]\n",
        "    y_hat = y_row[0]\n",
        "    return 1 - y_hat * y_pred\n",
        "\n",
        "  preds = xy_rdd.map(loss_calc).sum()\n",
        "  L = lam * w2 + n_inv * preds\n",
        "  return L\n",
        "L = loss_SVM2(w, b, X, y)\n",
        "L"
      ],
      "metadata": {
        "colab": {
          "base_uri": "https://localhost:8080/"
        },
        "id": "AfawhL6rYXWo",
        "outputId": "975b2ab2-186b-4e6e-9cc3-08c42f522ff2"
      },
      "execution_count": 108,
      "outputs": [
        {
          "output_type": "execute_result",
          "data": {
            "text/plain": [
              "np.float64(0.9997318090552453)"
            ]
          },
          "metadata": {},
          "execution_count": 108
        }
      ]
    }
  ]
}