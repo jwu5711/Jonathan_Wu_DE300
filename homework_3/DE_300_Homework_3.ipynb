{
  "nbformat": 4,
  "nbformat_minor": 0,
  "metadata": {
    "colab": {
      "provenance": [],
      "toc_visible": true
    },
    "kernelspec": {
      "name": "python3",
      "display_name": "Python 3"
    },
    "language_info": {
      "name": "python"
    }
  },
  "cells": [
    {
      "cell_type": "markdown",
      "source": [
        "# Data Eng 300 Homework 3\n",
        "\n",
        "#### Jonathan Wu"
      ],
      "metadata": {
        "id": "0UY8OAEQZXFp"
      }
    },
    {
      "cell_type": "code",
      "source": [
        "import math\n",
        "import matplotlib.pyplot as plt\n",
        "import numpy as np\n",
        "import pandas as pd"
      ],
      "metadata": {
        "id": "m94Myk2XhafG"
      },
      "execution_count": 1,
      "outputs": []
    },
    {
      "cell_type": "code",
      "execution_count": 2,
      "metadata": {
        "colab": {
          "base_uri": "https://localhost:8080/"
        },
        "id": "DupzGD2OZV5r",
        "outputId": "dd62e80e-aa3d-4555-8ffb-903e8234fd37"
      },
      "outputs": [
        {
          "output_type": "stream",
          "name": "stdout",
          "text": [
            "  % Total    % Received % Xferd  Average Speed   Time    Time     Time  Current\n",
            "                                 Dload  Upload   Total   Spent    Left  Speed\n",
            "100 33.2M  100 33.2M    0     0  8527k      0  0:00:03  0:00:03 --:--:-- 8526k\n"
          ]
        }
      ],
      "source": [
        "!curl https://raw.githubusercontent.com/mosesyhc/de300-2025sp-class/refs/heads/main/agnews_clean.csv -O"
      ]
    },
    {
      "cell_type": "code",
      "source": [
        "from pyspark.sql import SparkSession\n",
        "\n",
        "spark = (SparkSession.builder\n",
        "         .master(\"local[*]\")\n",
        "         .appName(\"AG news\")\n",
        "         .getOrCreate()\n",
        "        )\n",
        "\n",
        "agnews = spark.read.csv(\"agnews_clean.csv\", inferSchema=True, header=True)\n",
        "\n",
        "# turning the second column from a string to an array\n",
        "import pyspark.sql.functions as F\n",
        "from pyspark.sql.types import ArrayType, StringType\n",
        "agnews = agnews.withColumn('filtered', F.from_json('filtered', ArrayType(StringType())))"
      ],
      "metadata": {
        "id": "ei8OUszSZiyE"
      },
      "execution_count": 3,
      "outputs": []
    },
    {
      "cell_type": "code",
      "source": [
        "# each row contains the document id and a list of filtered words\n",
        "agnews.show(5, truncate=30)"
      ],
      "metadata": {
        "colab": {
          "base_uri": "https://localhost:8080/"
        },
        "id": "YSE8FAXkZj5n",
        "outputId": "69fa1c8f-fe67-46ab-dbb5-5817fcef1c20"
      },
      "execution_count": 4,
      "outputs": [
        {
          "output_type": "stream",
          "name": "stdout",
          "text": [
            "+---+------------------------------+\n",
            "|_c0|                      filtered|\n",
            "+---+------------------------------+\n",
            "|  0|[wall, st, bears, claw, bac...|\n",
            "|  1|[carlyle, looks, toward, co...|\n",
            "|  2|[oil, economy, cloud, stock...|\n",
            "|  3|[iraq, halts, oil, exports,...|\n",
            "|  4|[oil, prices, soar, time, r...|\n",
            "+---+------------------------------+\n",
            "only showing top 5 rows\n",
            "\n"
          ]
        }
      ]
    },
    {
      "cell_type": "code",
      "source": [
        "D = agnews.count()\n",
        "D"
      ],
      "metadata": {
        "colab": {
          "base_uri": "https://localhost:8080/"
        },
        "id": "sKcx-wRFcSKd",
        "outputId": "6834eaeb-4c4e-46ad-ee7f-938a46a691d7"
      },
      "execution_count": 5,
      "outputs": [
        {
          "output_type": "execute_result",
          "data": {
            "text/plain": [
              "127600"
            ]
          },
          "metadata": {},
          "execution_count": 5
        }
      ]
    },
    {
      "cell_type": "markdown",
      "source": [
        "We want for each document find the percentage of t in the document"
      ],
      "metadata": {
        "id": "tCtmbIR5aw4s"
      }
    },
    {
      "cell_type": "code",
      "source": [
        "# For each document grab the filtered column\n",
        "for_tf = agnews.select(\"filtered\")\n",
        "# In each of the documents, explode so we get the words and then explode again to get the letters\n",
        "tf_word = for_tf.select(F.explode(for_tf.filtered).alias(\"word\"))\n",
        "tf_word.show()"
      ],
      "metadata": {
        "colab": {
          "base_uri": "https://localhost:8080/"
        },
        "id": "FnwLaIlYbTLj",
        "outputId": "d2e222a8-eff0-4dd4-a0e6-079567270b8d"
      },
      "execution_count": 6,
      "outputs": [
        {
          "output_type": "stream",
          "name": "stdout",
          "text": [
            "+---------+\n",
            "|     word|\n",
            "+---------+\n",
            "|     wall|\n",
            "|       st|\n",
            "|    bears|\n",
            "|     claw|\n",
            "|     back|\n",
            "|    black|\n",
            "|  reuters|\n",
            "|  reuters|\n",
            "|    short|\n",
            "|  sellers|\n",
            "|     wall|\n",
            "|   street|\n",
            "|dwindling|\n",
            "|     band|\n",
            "|    ultra|\n",
            "|   cynics|\n",
            "|   seeing|\n",
            "|    green|\n",
            "|  carlyle|\n",
            "|    looks|\n",
            "+---------+\n",
            "only showing top 20 rows\n",
            "\n"
          ]
        }
      ]
    },
    {
      "cell_type": "code",
      "source": [
        "# Keep the column using .select \"_c0\",\n",
        "# previous column was bad because it doesn't separate wall st and carlyle\n",
        "explode_words = agnews.select(\"_c0\", F.explode(\"filtered\").alias(\"word\"))\n",
        "# Make everything lowercase and then explode into letter\n",
        "letters = explode_words.select(\"_c0\",\n",
        "                               F.explode(F.split(F.lower(explode_words.word), \"\")).alias(\"letter\"))\n",
        "letters.show()"
      ],
      "metadata": {
        "colab": {
          "base_uri": "https://localhost:8080/"
        },
        "id": "aEc7eNXsdm91",
        "outputId": "66f87c56-2491-4268-e854-70433df715bc"
      },
      "execution_count": 7,
      "outputs": [
        {
          "output_type": "stream",
          "name": "stdout",
          "text": [
            "+---+------+\n",
            "|_c0|letter|\n",
            "+---+------+\n",
            "|  0|     w|\n",
            "|  0|     a|\n",
            "|  0|     l|\n",
            "|  0|     l|\n",
            "|  0|     s|\n",
            "|  0|     t|\n",
            "|  0|     b|\n",
            "|  0|     e|\n",
            "|  0|     a|\n",
            "|  0|     r|\n",
            "|  0|     s|\n",
            "|  0|     c|\n",
            "|  0|     l|\n",
            "|  0|     a|\n",
            "|  0|     w|\n",
            "|  0|     b|\n",
            "|  0|     a|\n",
            "|  0|     c|\n",
            "|  0|     k|\n",
            "|  0|     b|\n",
            "+---+------+\n",
            "only showing top 20 rows\n",
            "\n"
          ]
        }
      ]
    },
    {
      "cell_type": "code",
      "source": [
        "# Count total letters and number of 't's\n",
        "letter_counts = letters.groupBy(\"_c0\").agg(\n",
        "    F.count(\"letter\").alias(\"total_letters\"),\n",
        "    # when is something ChatGPT recommended using and it seems to work\n",
        "    F.sum(F.when(letters.letter == \"t\", 1).otherwise(0)).alias(\"t_count\")\n",
        ")\n",
        "\n",
        "letter_counts.show()"
      ],
      "metadata": {
        "colab": {
          "base_uri": "https://localhost:8080/"
        },
        "id": "Wki6Xid6eCco",
        "outputId": "9e4e2a4b-7b16-4aa2-cc41-5c3271f362fb"
      },
      "execution_count": 8,
      "outputs": [
        {
          "output_type": "stream",
          "name": "stdout",
          "text": [
            "+----+-------------+-------+\n",
            "| _c0|total_letters|t_count|\n",
            "+----+-------------+-------+\n",
            "| 148|          186|     13|\n",
            "| 463|          138|      6|\n",
            "| 471|          160|     17|\n",
            "| 496|          185|      5|\n",
            "| 833|           79|      6|\n",
            "|1088|          105|      8|\n",
            "|1238|          129|     13|\n",
            "|1342|          143|     15|\n",
            "|1580|          144|      6|\n",
            "|1591|          168|     10|\n",
            "|1645|          129|     10|\n",
            "|1829|          197|     18|\n",
            "|1959|          150|      6|\n",
            "|2122|          162|      8|\n",
            "|2142|          136|     10|\n",
            "|2366|          114|      9|\n",
            "|2659|          154|      7|\n",
            "|2866|           96|      7|\n",
            "|3175|          156|      9|\n",
            "|3749|          122|      3|\n",
            "+----+-------------+-------+\n",
            "only showing top 20 rows\n",
            "\n"
          ]
        }
      ]
    },
    {
      "cell_type": "code",
      "source": [
        "# Compute percentage of 't'\n",
        "letter_count = letter_counts.withColumn(\n",
        "    \"tf\", letter_counts.t_count / letter_counts.total_letters\n",
        ")\n",
        "\n",
        "letter_count.show()"
      ],
      "metadata": {
        "colab": {
          "base_uri": "https://localhost:8080/"
        },
        "id": "yG5jMYqce3B6",
        "outputId": "f24a515d-732c-4ebc-cc69-7174467a224e"
      },
      "execution_count": 9,
      "outputs": [
        {
          "output_type": "stream",
          "name": "stdout",
          "text": [
            "+----+-------------+-------+--------------------+\n",
            "| _c0|total_letters|t_count|                  tf|\n",
            "+----+-------------+-------+--------------------+\n",
            "| 148|          186|     13| 0.06989247311827956|\n",
            "| 463|          138|      6|0.043478260869565216|\n",
            "| 471|          160|     17|             0.10625|\n",
            "| 496|          185|      5| 0.02702702702702703|\n",
            "| 833|           79|      6|  0.0759493670886076|\n",
            "|1088|          105|      8|  0.0761904761904762|\n",
            "|1238|          129|     13| 0.10077519379844961|\n",
            "|1342|          143|     15|  0.1048951048951049|\n",
            "|1580|          144|      6|0.041666666666666664|\n",
            "|1591|          168|     10| 0.05952380952380952|\n",
            "|1645|          129|     10| 0.07751937984496124|\n",
            "|1829|          197|     18| 0.09137055837563451|\n",
            "|1959|          150|      6|                0.04|\n",
            "|2122|          162|      8| 0.04938271604938271|\n",
            "|2142|          136|     10| 0.07352941176470588|\n",
            "|2366|          114|      9| 0.07894736842105263|\n",
            "|2659|          154|      7|0.045454545454545456|\n",
            "|2866|           96|      7| 0.07291666666666667|\n",
            "|3175|          156|      9|0.057692307692307696|\n",
            "|3749|          122|      3| 0.02459016393442623|\n",
            "+----+-------------+-------+--------------------+\n",
            "only showing top 20 rows\n",
            "\n"
          ]
        }
      ]
    },
    {
      "cell_type": "code",
      "source": [
        "# sanity check that number of rows is correct\n",
        "letter_count.count()"
      ],
      "metadata": {
        "colab": {
          "base_uri": "https://localhost:8080/"
        },
        "id": "CXtg-65jgKuQ",
        "outputId": "0392bb52-d942-4b13-89b7-3910df83e485"
      },
      "execution_count": 10,
      "outputs": [
        {
          "output_type": "execute_result",
          "data": {
            "text/plain": [
              "127600"
            ]
          },
          "metadata": {},
          "execution_count": 10
        }
      ]
    },
    {
      "cell_type": "code",
      "source": [
        "tf_list = letter_count.select(\"tf\").collect()\n",
        "tf_list = [row.tf for row in tf_list]"
      ],
      "metadata": {
        "id": "U1V9cRMSi7cv"
      },
      "execution_count": 11,
      "outputs": []
    },
    {
      "cell_type": "code",
      "source": [
        "tf_mean = np.mean(tf_list)\n",
        "plt.hist(tf_list, bins=30)\n",
        "plt.xlabel(\"tf\")\n",
        "plt.ylabel(\"Frequency\")\n",
        "plt.axvline(tf_mean, color=\"red\", linestyle=\"dashed\", linewidth=2)\n",
        "plt.title(\"Histogram of tf\")\n",
        "plt.show()"
      ],
      "metadata": {
        "colab": {
          "base_uri": "https://localhost:8080/",
          "height": 472
        },
        "id": "yj36c46WjRbp",
        "outputId": "5c92e9d3-52a3-468f-dde2-19bc78f7dc25"
      },
      "execution_count": 12,
      "outputs": [
        {
          "output_type": "display_data",
          "data": {
            "text/plain": [
              "<Figure size 640x480 with 1 Axes>"
            ],
            "image/png": "[encoded data removed]"
          },
          "metadata": {}
        }
      ]
    },
    {
      "cell_type": "code",
      "source": [
        "# count the number of documents with at least 1 t or t_count >=1\n",
        "documents_with_t = letter_count.filter(letter_count.t_count >= 1).count()\n",
        "documents_with_t\n",
        "# I'm assuming base 10 log\n",
        "# https://blog.marketmuse.com/glossary/inverse-document-frequency-idf-definition/#:~:text=IDF%20is%20a%20way%20of,the%20collection%20containing%20the%20term.\n",
        "idf = math.log(D / documents_with_t, 10)\n",
        "idf"
      ],
      "metadata": {
        "colab": {
          "base_uri": "https://localhost:8080/"
        },
        "id": "qnGPp8KLf73W",
        "outputId": "d32e9a33-0f2c-4039-972b-e7d69885dabc"
      },
      "execution_count": 13,
      "outputs": [
        {
          "output_type": "execute_result",
          "data": {
            "text/plain": [
              "0.00018383123680510127"
            ]
          },
          "metadata": {},
          "execution_count": 13
        }
      ]
    },
    {
      "cell_type": "code",
      "source": [
        "# tf * idf\n",
        "tf_idf_measured = letter_count.withColumn(\n",
        "    \"tf_idf\", letter_count.tf * idf\n",
        ")\n",
        "\n",
        "tf_idf_measured.show(5)"
      ],
      "metadata": {
        "colab": {
          "base_uri": "https://localhost:8080/"
        },
        "id": "MdJwRr1qc16L",
        "outputId": "1456d03c-ee64-4f80-81ab-a5c926d5c1c6"
      },
      "execution_count": 14,
      "outputs": [
        {
          "output_type": "stream",
          "name": "stdout",
          "text": [
            "+---+-------------+-------+--------------------+--------------------+\n",
            "|_c0|total_letters|t_count|                  tf|              tf_idf|\n",
            "+---+-------------+-------+--------------------+--------------------+\n",
            "|148|          186|     13| 0.06989247311827956|1.284841977670062...|\n",
            "|463|          138|      6|0.043478260869565216|7.992662469787012E-6|\n",
            "|471|          160|     17|             0.10625|1.953206891054201E-5|\n",
            "|496|          185|      5| 0.02702702702702703|4.968411805543278E-6|\n",
            "|833|           79|      6|  0.0759493670886076|1.396186608646338...|\n",
            "+---+-------------+-------+--------------------+--------------------+\n",
            "only showing top 5 rows\n",
            "\n"
          ]
        }
      ]
    },
    {
      "cell_type": "code",
      "source": [
        "tf_idf_list = tf_idf_measured.select(\"tf_idf\").collect()\n",
        "tf_idf_list = [row.tf_idf for row in tf_idf_list]\n",
        "tf_idf_mean = np.mean(tf_idf_list)\n",
        "tf_idf_mean"
      ],
      "metadata": {
        "colab": {
          "base_uri": "https://localhost:8080/"
        },
        "id": "ahj5ys2EiVJA",
        "outputId": "d458aa28-f78c-4335-820c-61d1025dddc9"
      },
      "execution_count": 15,
      "outputs": [
        {
          "output_type": "execute_result",
          "data": {
            "text/plain": [
              "np.float64(1.2593954799281428e-05)"
            ]
          },
          "metadata": {},
          "execution_count": 15
        }
      ]
    },
    {
      "cell_type": "code",
      "source": [
        "plt.hist(tf_idf_list, bins=30)\n",
        "plt.xlabel(\"tf_idf\")\n",
        "plt.ylabel(\"Frequency\")\n",
        "plt.axvline(tf_idf_mean, color=\"red\", linestyle=\"dashed\", linewidth=2)\n",
        "plt.title(\"Histogram of tf_idf\")\n",
        "plt.show()"
      ],
      "metadata": {
        "colab": {
          "base_uri": "https://localhost:8080/",
          "height": 472
        },
        "id": "jxuEOdKHkLAE",
        "outputId": "5a933de3-9348-46bc-c95c-e359c12924d9"
      },
      "execution_count": 16,
      "outputs": [
        {
          "output_type": "display_data",
          "data": {
            "text/plain": [
              "<Figure size 640x480 with 1 Axes>"
            ],
            "image/png": "[encoded data removed]"
          },
          "metadata": {}
        }
      ]
    },
    {
      "cell_type": "markdown",
      "source": [
        "Histogram looks good, it is the same histogram as the previous one except for the x-axis being scaled larger (from 0 to about 4 rather than from 0 to 0.25)"
      ],
      "metadata": {
        "id": "C5Xt6Bi6o3Bc"
      }
    },
    {
      "cell_type": "markdown",
      "source": [
        "### Map Reduce Functions\n"
      ],
      "metadata": {
        "id": "-5eo9rcillvE"
      }
    },
    {
      "cell_type": "code",
      "source": [
        "def map_idf(df):\n",
        "  # Turn everything into letters\n",
        "  letters = (\n",
        "    df.select(\"_c0\",\n",
        "        F.explode(  # explode words\n",
        "            F.transform(\"filtered\",lambda w: F.split(F.lower(w), \"\") )\n",
        "            ).alias(\"word\"))\n",
        "    .select(\"_c0\", F.explode(\"word\").alias(\"letter\"))\n",
        "  )\n",
        "  return letters"
      ],
      "metadata": {
        "id": "QB4-tgUXe67u"
      },
      "execution_count": 17,
      "outputs": []
    },
    {
      "cell_type": "code",
      "source": [
        "def shuffle_idf(letters):\n",
        "  # Aggregate by letters and counts of t\n",
        "  letter_counts = (letters.groupBy(\"_c0\").agg(\n",
        "    F.count(\"letter\").alias(\"total_letters\"),\n",
        "    F.sum(F.when(letters.letter == \"t\", 1).otherwise(0)).alias(\"t_count\")\n",
        "  ))\n",
        "  # Find tf\n",
        "  letter_count = (letter_counts.withColumn(\n",
        "    \"tf\", letter_counts.t_count / letter_counts.total_letters\n",
        "  ))\n",
        "  return letter_count"
      ],
      "metadata": {
        "id": "gnM4zBmefLTi"
      },
      "execution_count": null,
      "outputs": []
    },
    {
      "cell_type": "code",
      "source": [
        "def reduce_idf(letter_count):\n",
        "  # Find idf\n",
        "  idf = math.log(D / letter_count.filter(letter_count.t_count >= 1).count(), 10)\n",
        "  # Find tf_idf\n",
        "  tf_idf_measured = (letter_count.withColumn(\n",
        "    \"tf_idf\", letter_count.tf * idf\n",
        "  ))\n",
        "  return tf_idf_measured"
      ],
      "metadata": {
        "id": "sKstpgQzfesT"
      },
      "execution_count": null,
      "outputs": []
    },
    {
      "cell_type": "code",
      "source": [
        "# D is calculated above and is consistent\n",
        "map_idf_df = map_idf(agnews)\n",
        "sort_idf_df = shuffle_idf(map_idf_df)\n",
        "reduce_idf_df = reduce_idf(sort_idf_df)\n",
        "reduce_idf_df.show(5)\n"
      ],
      "metadata": {
        "colab": {
          "base_uri": "https://localhost:8080/"
        },
        "id": "lKdlQ96rms84",
        "outputId": "ac988a60-0438-4fa3-d24c-a482dfe0bea1"
      },
      "execution_count": null,
      "outputs": [
        {
          "output_type": "stream",
          "name": "stdout",
          "text": [
            "+---+-------------+-------+--------------------+--------------------+\n",
            "|_c0|total_letters|t_count|                  tf|              tf_idf|\n",
            "+---+-------------+-------+--------------------+--------------------+\n",
            "|148|          186|     13| 0.06989247311827956|1.284841977670062...|\n",
            "|463|          138|      6|0.043478260869565216|7.992662469787012E-6|\n",
            "|471|          160|     17|             0.10625|1.953206891054201E-5|\n",
            "|496|          185|      5| 0.02702702702702703|4.968411805543278E-6|\n",
            "|833|           79|      6|  0.0759493670886076|1.396186608646338...|\n",
            "+---+-------------+-------+--------------------+--------------------+\n",
            "only showing top 5 rows\n",
            "\n"
          ]
        }
      ]
    },
    {
      "cell_type": "markdown",
      "source": [
        "### Done with an rdd with .apply"
      ],
      "metadata": {
        "id": "L26M7WoYG_Y5"
      }
    },
    {
      "cell_type": "code",
      "source": [
        "def map_idf(row):\n",
        "  # Turn everything into letters\n",
        "  row_dict = row.asDict()\n",
        "  doc = row_dict[\"_c0\"]\n",
        "  words = row_dict[\"filtered\"]\n",
        "  for word in words:\n",
        "    letters = list(word.lower())\n",
        "    for letter in letters:\n",
        "      yield (doc, letter)\n",
        "\n",
        "def shuffle_idf(data):\n",
        "    # data: list of (doc, letter) tuples\n",
        "\n",
        "    total_letters = {}\n",
        "    t_counts = {}\n",
        "\n",
        "    for doc, letter in data:\n",
        "      if doc not in total_letters.keys():\n",
        "        total_letters[doc] = 0\n",
        "        t_counts[doc] = 0\n",
        "      total_letters[doc] += 1\n",
        "      if letter == 't':\n",
        "          t_counts[doc] += 1\n",
        "\n",
        "    # Calculate tf per doc (only docs that have t)\n",
        "    tf_per_doc = {}\n",
        "    for doc in total_letters.keys():\n",
        "      if doc in t_counts.keys():\n",
        "        tf_per_doc[doc] = t_counts[doc] / total_letters[doc]\n",
        "      else:\n",
        "        tf_per_doc[doc] = 0\n",
        "\n",
        "    return tf_per_doc\n",
        "def reduce_idf(tf_per_doc):\n",
        "    # tf_per_doc: dict doc -> tf for 't'\n",
        "    docs_with_t = [tf_per_doc[doc] for doc in tf_per_doc.keys() if tf_per_doc[doc] > 0]\n",
        "    len_t = len(docs_with_t)\n",
        "    idf = math.log(D / len_t, 10)\n",
        "    print(idf)\n",
        "\n",
        "    tf_idf_scores = [tf * idf for tf in tf_per_doc.values()]\n",
        "    return tf_idf_scores"
      ],
      "metadata": {
        "id": "dJ9IYaw2Kuw4"
      },
      "execution_count": 31,
      "outputs": []
    },
    {
      "cell_type": "code",
      "source": [
        "map_idf_df = agnews.rdd.flatMap(map_idf).collect()\n",
        "sort_idf_df = shuffle_idf(map_idf_df)\n",
        "reduce_idf_df = reduce_idf(sort_idf_df)\n",
        "#tf_idf = reduce_idf_df.map(lambda x: x[3]).collect()\n",
        "#reduce_idf_df\n",
        "#sort_idf_df.collect()"
      ],
      "metadata": {
        "id": "Gph_RzHW6QNh",
        "colab": {
          "base_uri": "https://localhost:8080/"
        },
        "outputId": "0f33f9a3-931b-4ed9-b705-8e62613f07fe"
      },
      "execution_count": 32,
      "outputs": [
        {
          "output_type": "stream",
          "name": "stdout",
          "text": [
            "0.00018383123680510127\n"
          ]
        }
      ]
    },
    {
      "cell_type": "code",
      "source": [
        "sort_idf_df = shuffle_idf(map_idf_df)\n",
        "reduce_idf_df = reduce_idf(sort_idf_df)"
      ],
      "metadata": {
        "id": "w0CXADNQGjZM"
      },
      "execution_count": null,
      "outputs": []
    },
    {
      "cell_type": "code",
      "source": [
        "reduce_idf_df[0:5]"
      ],
      "metadata": {
        "colab": {
          "base_uri": "https://localhost:8080/"
        },
        "id": "gK6kU-ImFVcz",
        "outputId": "86c3fc5c-cf50-459e-ea77-0d3c33fcc81c"
      },
      "execution_count": 33,
      "outputs": [
        {
          "output_type": "execute_result",
          "data": {
            "text/plain": [
              "[1.3545459554060093e-05,\n",
              " 1.5645211642987343e-05,\n",
              " 1.2855331245111977e-05,\n",
              " 1.6250275076694033e-05,\n",
              " 1.0813602165005957e-05]"
            ]
          },
          "metadata": {},
          "execution_count": 33
        }
      ]
    },
    {
      "cell_type": "code",
      "source": [
        "plt.hist(reduce_idf_df, bins=30)\n",
        "plt.xlabel(\"tf_idf\")\n",
        "plt.ylabel(\"Frequency\")\n",
        "plt.axvline(tf_idf_mean, color=\"red\", linestyle=\"dashed\", linewidth=2)\n",
        "plt.title(\"Histogram of tf_idf\")\n",
        "plt.show()"
      ],
      "metadata": {
        "colab": {
          "base_uri": "https://localhost:8080/",
          "height": 472
        },
        "id": "tWNEKdRrG05T",
        "outputId": "89734e69-606b-415d-f1da-b17bfa48c654"
      },
      "execution_count": 34,
      "outputs": [
        {
          "output_type": "display_data",
          "data": {
            "text/plain": [
              "<Figure size 640x480 with 1 Axes>"
            ],
            "image/png": "[encoded data removed]"
          },
          "metadata": {}
        }
      ]
    },
    {
      "cell_type": "markdown",
      "source": [
        "##Part 2 SVM"
      ],
      "metadata": {
        "id": "0_SgwQFGkby8"
      }
    },
    {
      "cell_type": "code",
      "source": [
        "!curl https://raw.githubusercontent.com/mosesyhc/de300-2025sp-class/refs/heads/main/w.csv -O\n",
        "!curl https://raw.githubusercontent.com/mosesyhc/de300-2025sp-class/refs/heads/main/bias.csv -O\n",
        "!curl https://raw.githubusercontent.com/mosesyhc/de300-2025sp-class/refs/heads/main/data_for_svm.csv -O"
      ],
      "metadata": {
        "id": "1Fc0A-1Ka2Fq",
        "colab": {
          "base_uri": "https://localhost:8080/"
        },
        "outputId": "49565824-a179-42a2-e600-64f8771d738d"
      },
      "execution_count": 35,
      "outputs": [
        {
          "output_type": "stream",
          "name": "stdout",
          "text": [
            "  % Total    % Received % Xferd  Average Speed   Time    Time     Time  Current\n",
            "                                 Dload  Upload   Total   Spent    Left  Speed\n",
            "100  1391  100  1391    0     0   2091      0 --:--:-- --:--:-- --:--:--  2091\n",
            "  % Total    % Received % Xferd  Average Speed   Time    Time     Time  Current\n",
            "                                 Dload  Upload   Total   Spent    Left  Speed\n",
            "100    22  100    22    0     0     43      0 --:--:-- --:--:-- --:--:--    43\n",
            "  % Total    % Received % Xferd  Average Speed   Time    Time     Time  Current\n",
            "                                 Dload  Upload   Total   Spent    Left  Speed\n",
            "100 61.9M  100 61.9M    0     0  14.4M      0  0:00:04  0:00:04 --:--:-- 14.4M\n"
          ]
        }
      ]
    },
    {
      "cell_type": "code",
      "source": [
        "# This is an example to read the files. But you should consider using pyspark directly.\n",
        "# *Make sure you are not assuming a header*!!\n",
        "import pandas as pd\n",
        "data_svm = pd.read_csv('data_for_svm.csv', header=None)\n",
        "w = pd.read_csv('w.csv', header=None)\n",
        "bias = pd.read_csv('bias.csv', header=None)"
      ],
      "metadata": {
        "id": "HTlxbSi7khYh"
      },
      "execution_count": null,
      "outputs": []
    },
    {
      "cell_type": "code",
      "source": [
        "from pyspark.sql import SparkSession\n",
        "\n",
        "spark = (SparkSession.builder\n",
        "         .master(\"local[*]\")\n",
        "         .appName(\"SVM\")\n",
        "         .getOrCreate()\n",
        "        )\n",
        "\n",
        "data_svm = spark.read.csv(\"data_for_svm.csv\", inferSchema=True, header=False)\n",
        "w = spark.read.csv(\"w.csv\", inferSchema=True, header=False)\n",
        "bias = spark.read.csv(\"bias.csv\", inferSchema=True, header=False)\n"
      ],
      "metadata": {
        "id": "xN_EilTNrJYS"
      },
      "execution_count": 36,
      "outputs": []
    },
    {
      "cell_type": "code",
      "source": [
        "data_svm.show(5)"
      ],
      "metadata": {
        "colab": {
          "base_uri": "https://localhost:8080/"
        },
        "id": "eouX6dRsKGld",
        "outputId": "535eb64a-d45a-4f69-a324-b9a002adda91"
      },
      "execution_count": 37,
      "outputs": [
        {
          "output_type": "stream",
          "name": "stdout",
          "text": [
            "+---+---+---+---+---+---+---+---+---+---+----+----+----+----+----+----+----+----+----+----+----+----+----+----+----+----+----+----+----+----+----+----+----+----+----+----+----+----+----+----+----+----+----+----+----+----+----+----+----+----+----+----+----+----+----+----+----+----+----+----+----+----+----+----+----+\n",
            "|_c0|_c1|_c2|_c3|_c4|_c5|_c6|_c7|_c8|_c9|_c10|_c11|_c12|_c13|_c14|_c15|_c16|_c17|_c18|_c19|_c20|_c21|_c22|_c23|_c24|_c25|_c26|_c27|_c28|_c29|_c30|_c31|_c32|_c33|_c34|_c35|_c36|_c37|_c38|_c39|_c40|_c41|_c42|_c43|_c44|_c45|_c46|_c47|_c48|_c49|_c50|_c51|_c52|_c53|_c54|_c55|_c56|_c57|_c58|_c59|_c60|_c61|_c62|_c63|_c64|\n",
            "+---+---+---+---+---+---+---+---+---+---+----+----+----+----+----+----+----+----+----+----+----+----+----+----+----+----+----+----+----+----+----+----+----+----+----+----+----+----+----+----+----+----+----+----+----+----+----+----+----+----+----+----+----+----+----+----+----+----+----+----+----+----+----+----+----+\n",
            "| -1| -1|  1|  1| -1|  1|  1|  1|  1| -1|   1|   1|  -1|  -1|  -1|   1|  -1|   1|  -1|   1|  -1|   1|   1|  -1|   1|   1|   1|  -1|   1|  -1|  -1|  -1|   1|   1|   1|  -1|   1|  -1|  -1|  -1|  -1|   1|  -1|   1|  -1|  -1|  -1|  -1|  -1|  -1|  -1|  -1|  -1|  -1|  -1|  -1|  -1|  -1|  -1|  -1|  -1|  -1|  -1|   1|  -1|\n",
            "|  1|  1| -1|  1| -1| -1|  1|  1| -1|  1|   1|  -1|   1|  -1|   1|   1|   1|   1|  -1|   1|  -1|  -1|   1|  -1|   1|  -1|  -1|   1|   1|   1|   1|  -1|  -1|   1|   1|  -1|  -1|  -1|  -1|   1|   1|   1|   1|   1|  -1|  -1|  -1|  -1|  -1|  -1|  -1|  -1|  -1|  -1|  -1|  -1|  -1|  -1|  -1|  -1|  -1|   1|   1|  -1|   1|\n",
            "|  1|  1|  1| -1|  1|  1| -1|  1| -1|  1|  -1|  -1|   1|  -1|  -1|   1|  -1|  -1|   1|  -1|  -1|  -1|   1|  -1|   1|   1|  -1|  -1|   1|   1|  -1|  -1|   1|   1|  -1|   1|  -1|  -1|  -1|  -1|  -1|  -1|  -1|  -1|  -1|   1|  -1|  -1|  -1|  -1|  -1|  -1|  -1|  -1|  -1|  -1|  -1|  -1|  -1|  -1|  -1|   1|   1|   1|   1|\n",
            "|  1| -1|  1| -1| -1| -1| -1| -1| -1|  1|  -1|   1|   1|   1|  -1|   1|   1|   1|  -1|   1|   1|   1|  -1|   1|   1|  -1|   1|  -1|   1|  -1|   1|   1|  -1|  -1|  -1|  -1|  -1|  -1|   1|  -1|  -1|  -1|  -1|   1|  -1|  -1|   1|   1|   1|   1|   1|   1|   1|   1|   1|   1|   1|   1|   1|   1|   1|   1|   1|   1|   1|\n",
            "|  1| -1|  1| -1|  1| -1| -1|  1|  1|  1|   1|   1|  -1|  -1|  -1|   1|  -1|   1|   1|   1|  -1|   1|  -1|   1|   1|  -1|   1|   1|  -1|  -1|  -1|   1|  -1|   1|  -1|  -1|   1|  -1|   1|   1|   1|  -1|   1|  -1|   1|  -1|   1|   1|   1|   1|   1|   1|   1|   1|   1|   1|   1|   1|   1|   1|   1|   1|   1|   1|  -1|\n",
            "+---+---+---+---+---+---+---+---+---+---+----+----+----+----+----+----+----+----+----+----+----+----+----+----+----+----+----+----+----+----+----+----+----+----+----+----+----+----+----+----+----+----+----+----+----+----+----+----+----+----+----+----+----+----+----+----+----+----+----+----+----+----+----+----+----+\n",
            "only showing top 5 rows\n",
            "\n"
          ]
        }
      ]
    },
    {
      "cell_type": "code",
      "source": [
        "w.show(5)"
      ],
      "metadata": {
        "colab": {
          "base_uri": "https://localhost:8080/"
        },
        "id": "PBTFd4c6LPgJ",
        "outputId": "fd16624a-ade7-4fe2-a780-c41af8ba33e9"
      },
      "execution_count": 38,
      "outputs": [
        {
          "output_type": "stream",
          "name": "stdout",
          "text": [
            "+--------------------+--------------------+--------------------+--------------------+--------------------+--------------------+--------------------+--------------------+--------------------+--------------------+--------------------+--------------------+--------------------+--------------------+--------------------+--------------------+--------------------+--------------------+--------------------+--------------------+--------------------+--------------------+--------------------+--------------------+--------------------+--------------------+--------------------+--------------------+--------------------+--------------------+--------------------+--------------------+--------------------+--------------------+--------------------+--------------------+--------------------+--------------------+-------------------+--------------------+-------------------+--------------------+--------------------+--------------------+--------------------+--------------------+--------------------+--------------------+--------------------+-------------------+--------------------+--------------------+--------------------+--------------------+--------------------+-------------------+--------------------+--------------------+--------------------+-------------------+--------------------+--------------------+--------------------+--------------------+\n",
            "|                 _c0|                 _c1|                 _c2|                 _c3|                 _c4|                 _c5|                 _c6|                 _c7|                 _c8|                 _c9|                _c10|                _c11|                _c12|                _c13|                _c14|                _c15|                _c16|                _c17|                _c18|                _c19|                _c20|                _c21|                _c22|                _c23|                _c24|                _c25|                _c26|                _c27|                _c28|                _c29|                _c30|                _c31|                _c32|                _c33|                _c34|                _c35|                _c36|                _c37|               _c38|                _c39|               _c40|                _c41|                _c42|                _c43|                _c44|                _c45|                _c46|                _c47|                _c48|               _c49|                _c50|                _c51|                _c52|                _c53|                _c54|               _c55|                _c56|                _c57|                _c58|               _c59|                _c60|                _c61|                _c62|                _c63|\n",
            "+--------------------+--------------------+--------------------+--------------------+--------------------+--------------------+--------------------+--------------------+--------------------+--------------------+--------------------+--------------------+--------------------+--------------------+--------------------+--------------------+--------------------+--------------------+--------------------+--------------------+--------------------+--------------------+--------------------+--------------------+--------------------+--------------------+--------------------+--------------------+--------------------+--------------------+--------------------+--------------------+--------------------+--------------------+--------------------+--------------------+--------------------+--------------------+-------------------+--------------------+-------------------+--------------------+--------------------+--------------------+--------------------+--------------------+--------------------+--------------------+--------------------+-------------------+--------------------+--------------------+--------------------+--------------------+--------------------+-------------------+--------------------+--------------------+--------------------+-------------------+--------------------+--------------------+--------------------+--------------------+\n",
            "|-0.00784148507035104|-0.00413877821083658|-0.00541447683636...|0.003299879173046...|0.002638315687869...|0.009389946097638102|-0.01118231719569...|-0.00437890351225...|-0.00868322271874...|-0.00768455759775...|-0.00946031747283066|-0.00691633077834...|-0.00199459746427...|-0.01081867675374...|0.002449422218340...|-0.00978158774766...|-0.00437928158012...|-0.00559653262778...|-0.00703208083857...|5.955077831631961E-6|8.349986470672088E-4|0.008023890144851276|0.002911675152073856|0.008813562276009823|-0.00163673488053...|2.126055429982343E-4|0.003078840519848...|0.005223178325187...|0.014336372972505562|-0.01221925595229...|7.438277660337111E-4|-0.00385795215238...|-0.00571033941399...|-2.26248417163288...|0.008923367786840719|0.003296213740622611|-1.95429076728648...|0.006316186376365718|0.01172134340415748|-5.56249006059328...|0.00822587477761555|0.001191142235195...|0.003339922730675...|-0.00137040330021...|0.003190113237495...|0.003984616424885...|-0.01113442621821...|-0.01862151554738...|-0.00756280042368...|0.01000623394382616|0.001953834617771...|0.009548727925538791|0.003909685882679...|0.011246295014791463|-0.00251216567186...|0.01174596718179105|-0.00691129233716159|7.400479176574715E-4|0.011397318457844696|0.00546507383520356|0.005641028221443245|-0.00238103449703...|0.004438142089648878|-0.00443780304805...|\n",
            "+--------------------+--------------------+--------------------+--------------------+--------------------+--------------------+--------------------+--------------------+--------------------+--------------------+--------------------+--------------------+--------------------+--------------------+--------------------+--------------------+--------------------+--------------------+--------------------+--------------------+--------------------+--------------------+--------------------+--------------------+--------------------+--------------------+--------------------+--------------------+--------------------+--------------------+--------------------+--------------------+--------------------+--------------------+--------------------+--------------------+--------------------+--------------------+-------------------+--------------------+-------------------+--------------------+--------------------+--------------------+--------------------+--------------------+--------------------+--------------------+--------------------+-------------------+--------------------+--------------------+--------------------+--------------------+--------------------+-------------------+--------------------+--------------------+--------------------+-------------------+--------------------+--------------------+--------------------+--------------------+\n",
            "\n"
          ]
        }
      ]
    },
    {
      "cell_type": "code",
      "source": [
        "bias.show(5)"
      ],
      "metadata": {
        "id": "ubLx7KrlLUjQ",
        "outputId": "72f7ab14-6c45-4b21-d3fb-190f67bdbb9d",
        "colab": {
          "base_uri": "https://localhost:8080/"
        }
      },
      "execution_count": 39,
      "outputs": [
        {
          "output_type": "stream",
          "name": "stdout",
          "text": [
            "+--------------------+\n",
            "|                 _c0|\n",
            "+--------------------+\n",
            "|1.495661647902824E-4|\n",
            "+--------------------+\n",
            "\n"
          ]
        }
      ]
    },
    {
      "cell_type": "markdown",
      "source": [
        "Find ||w||^2 and 1/n. set lambda and b"
      ],
      "metadata": {
        "id": "-Ygww-EfeYR_"
      }
    },
    {
      "cell_type": "code",
      "source": [
        "w_list = w.collect()[0]\n",
        "w_list2 = list(w_list)\n",
        "w_list2\n",
        "w2 = np.sum(np.array(w_list2))\n",
        "w2"
      ],
      "metadata": {
        "colab": {
          "base_uri": "https://localhost:8080/"
        },
        "id": "keb04LWd19Pz",
        "outputId": "30d11403-2ed9-4a35-94aa-6c70baa397c6"
      },
      "execution_count": 40,
      "outputs": [
        {
          "output_type": "execute_result",
          "data": {
            "text/plain": [
              "np.float64(0.0036068090552452414)"
            ]
          },
          "metadata": {},
          "execution_count": 40
        }
      ]
    },
    {
      "cell_type": "code",
      "source": [
        "n_inv = 1/data_svm.count()\n",
        "lam = 1\n",
        "b = bias.collect()[0][0]\n",
        "b"
      ],
      "metadata": {
        "id": "lDFbosuI19D_",
        "colab": {
          "base_uri": "https://localhost:8080/"
        },
        "outputId": "b61f059c-ad2c-4bde-bd8f-0dd6d7d3fcb2"
      },
      "execution_count": 41,
      "outputs": [
        {
          "output_type": "execute_result",
          "data": {
            "text/plain": [
              "0.0001495661647902824"
            ]
          },
          "metadata": {},
          "execution_count": 41
        }
      ]
    },
    {
      "cell_type": "markdown",
      "source": [
        "map pred or $1 - y_i(w^Tx_i+b)$"
      ],
      "metadata": {
        "id": "0R6WhyW1e8z3"
      }
    },
    {
      "cell_type": "code",
      "source": [
        "# Take each column in data_svm and w. multiple each column together where\n",
        "# x[last column] * (w[column] * x[row][column] + bias)\n",
        "def compute_y_pred(row):\n",
        "  features = row[:-1]\n",
        "  label = row[-1]\n",
        "  weights = w_list2\n",
        "  z = sum(f * w for f,w in zip(features, weights)) + b\n",
        "  y_pred = 1 - z*label\n",
        "  return row + (y_pred,)\n",
        "\n",
        "rdd_svm = data_svm.rdd.map(compute_y_pred)\n",
        "\n",
        "#svm_pred = data_svm.map(compute_y_pred)\n",
        "#svm_pred.take(5)"
      ],
      "metadata": {
        "id": "nwPzlsmhedjc"
      },
      "execution_count": 53,
      "outputs": []
    },
    {
      "cell_type": "code",
      "source": [
        "# return an rdd with only the last two columns multiplied together\n",
        "def loss_calc(rdd):\n",
        "  y_hat = rdd[-1]\n",
        "  y_pred = rdd[-2]\n",
        "  return 1 - y_hat * y_pred\n",
        "\n",
        "preds = rdd_svm.map(loss_calc).sum()\n",
        "L = lam * w2 + n_inv * preds\n",
        "L"
      ],
      "metadata": {
        "id": "XFtj1b5GhRW6",
        "colab": {
          "base_uri": "https://localhost:8080/"
        },
        "outputId": "0851f2fc-a629-4422-b7cf-7ab5173a763c"
      },
      "execution_count": 50,
      "outputs": [
        {
          "output_type": "execute_result",
          "data": {
            "text/plain": [
              "np.float64(1.006673132980288)"
            ]
          },
          "metadata": {},
          "execution_count": 50
        }
      ]
    },
    {
      "cell_type": "code",
      "source": [
        "from pyspark.sql.functions import col\n",
        "\n",
        "# Get all column names\n",
        "all_columns = data_svm.columns\n",
        "feature_columns = all_columns[:-1]\n",
        "label_column = all_columns[-1]\n",
        "\n",
        "# Select features and label\n",
        "X = data_svm.select(*feature_columns)\n",
        "y = data_svm.select(label_column)\n",
        "\n",
        "def loss_SVM(w, b, X, y):\n",
        "  w_list = w.collect()[0]\n",
        "  w2 = np.sum(np.array(list(w_list)))\n",
        "  n_inv = 1/X.count()\n",
        "  lam = 1\n",
        "  b = bias.collect()[0][0]\n",
        "\n",
        "  def compute_y_pred(row):\n",
        "    features = row[:-1]\n",
        "    label = row[-1]\n",
        "    weights = w_list2\n",
        "    z = sum(f * w for f,w in zip(features, weights)) + b\n",
        "    y_pred = 1 - z*label\n",
        "    return row + (y_pred,)\n",
        "\n",
        "  rdd_svm = X.rdd.map(compute_y_pred)\n",
        "  xy_rdd = rdd_svm.zip(y.rdd)\n",
        "\n",
        "  def loss_calc(rdd):\n",
        "    svm_row, y_row = rdd\n",
        "    y_pred = svm_row[-1]  # last element of svm_row\n",
        "    y_hat = y_row[0]\n",
        "    return 1 - y_hat * y_pred\n",
        "\n",
        "  preds = xy_rdd.map(loss_calc).sum()\n",
        "  L = lam * w2 + n_inv * preds\n",
        "  return L\n",
        "L = loss_SVM(w, b, X, y)\n",
        "L"
      ],
      "metadata": {
        "colab": {
          "base_uri": "https://localhost:8080/"
        },
        "id": "tqZKfm1LSOAy",
        "outputId": "16f3d4d0-7ffd-4a38-8040-1f7d32096192"
      },
      "execution_count": 59,
      "outputs": [
        {
          "output_type": "execute_result",
          "data": {
            "text/plain": [
              "np.float64(1.0064283896862403)"
            ]
          },
          "metadata": {},
          "execution_count": 59
        }
      ]
    }
  ]
}