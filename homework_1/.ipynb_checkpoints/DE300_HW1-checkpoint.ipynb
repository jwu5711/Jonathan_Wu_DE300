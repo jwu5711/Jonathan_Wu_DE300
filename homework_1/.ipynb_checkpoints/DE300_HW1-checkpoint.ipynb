{
 "cells": [
  {
   "cell_type": "code",
   "execution_count": 1,
   "metadata": {
    "colab": {
     "base_uri": "https://localhost:8080/"
    },
    "id": "WTI1b1cDAk8X",
    "outputId": "155b2c1c-b0bc-4b04-8bbf-10e12312e90f"
   },
   "outputs": [
    {
     "name": "stderr",
     "output_type": "stream",
     "text": [
      "/tmp/ipykernel_862/4203404513.py:3: DtypeWarning: Columns (11) have mixed types. Specify dtype option on import or set low_memory=False.\n",
      "  inventory = pd.read_csv('T_F41SCHEDULE_B43.zip')\n"
     ]
    }
   ],
   "source": [
    "import pandas as pd\n",
    "import seaborn as sns\n",
    "inventory = pd.read_csv('T_F41SCHEDULE_B43.zip')"
   ]
  },
  {
   "cell_type": "code",
   "execution_count": 2,
   "metadata": {
    "colab": {
     "base_uri": "https://localhost:8080/"
    },
    "id": "Pls7RfrrDMJj",
    "outputId": "e06b6307-31dc-4342-8993-a767b489189c"
   },
   "outputs": [
    {
     "name": "stdout",
     "output_type": "stream",
     "text": [
      "<class 'pandas.core.frame.DataFrame'>\n",
      "RangeIndex: 132313 entries, 0 to 132312\n",
      "Data columns (total 17 columns):\n",
      " #   Column               Non-Null Count   Dtype  \n",
      "---  ------               --------------   -----  \n",
      " 0   YEAR                 132313 non-null  int64  \n",
      " 1   CARRIER              132264 non-null  object \n",
      " 2   CARRIER_NAME         132208 non-null  object \n",
      " 3   MANUFACTURE_YEAR     132310 non-null  float64\n",
      " 4   UNIQUE_CARRIER_NAME  132208 non-null  object \n",
      " 5   SERIAL_NUMBER        132313 non-null  object \n",
      " 6   TAIL_NUMBER          132313 non-null  object \n",
      " 7   AIRCRAFT_STATUS      132313 non-null  object \n",
      " 8   OPERATING_STATUS     132313 non-null  object \n",
      " 9   NUMBER_OF_SEATS      132306 non-null  float64\n",
      " 10  MANUFACTURER         132313 non-null  object \n",
      " 11  AIRCRAFT_TYPE        102380 non-null  object \n",
      " 12  MODEL                132302 non-null  object \n",
      " 13  CAPACITY_IN_POUNDS   132212 non-null  float64\n",
      " 14  ACQUISITION_DATE     131346 non-null  object \n",
      " 15  AIRLINE_ID           132208 non-null  float64\n",
      " 16  UNIQUE_CARRIER       132149 non-null  object \n",
      "dtypes: float64(4), int64(1), object(12)\n",
      "memory usage: 17.2+ MB\n"
     ]
    }
   ],
   "source": [
    "inventory.info()"
   ]
  },
  {
   "cell_type": "markdown",
   "metadata": {
    "id": "6cWJ4Q0fGQ2L"
   },
   "source": [
    "# Question 1\n",
    "1. Investigate the missing data in this dataset. Specifically, for each of the following variables that have missing data, decide if any imputation is possible. Give your reasoning and code if you decide to impute missing values.\n",
    "Columns for investigation: CARRIER, CARRIER_NAME, MANUFACTURE_YEAR, NUMBER_OF_SEATS, CAPACITY_IN_POUNDS, and AIRLINE_ID.\n",
    "For example, watch out for \"North American Airlines\" aircrafts. Are the CARRIER/UNIQUE_CARRIER column really missing?"
   ]
  },
  {
   "cell_type": "code",
   "execution_count": 3,
   "metadata": {
    "colab": {
     "base_uri": "https://localhost:8080/",
     "height": 617
    },
    "id": "f_IB2Eq8DNL5",
    "outputId": "4835d369-bbc5-4e78-ae57-bde764725edd"
   },
   "outputs": [
    {
     "data": {
      "text/plain": [
       "YEAR                       0\n",
       "CARRIER                   49\n",
       "CARRIER_NAME             105\n",
       "MANUFACTURE_YEAR           3\n",
       "UNIQUE_CARRIER_NAME      105\n",
       "SERIAL_NUMBER              0\n",
       "TAIL_NUMBER                0\n",
       "AIRCRAFT_STATUS            0\n",
       "OPERATING_STATUS           0\n",
       "NUMBER_OF_SEATS            7\n",
       "MANUFACTURER               0\n",
       "AIRCRAFT_TYPE          29933\n",
       "MODEL                     11\n",
       "CAPACITY_IN_POUNDS       101\n",
       "ACQUISITION_DATE         967\n",
       "AIRLINE_ID               105\n",
       "UNIQUE_CARRIER           164\n",
       "dtype: int64"
      ]
     },
     "execution_count": 3,
     "metadata": {},
     "output_type": "execute_result"
    }
   ],
   "source": [
    "inventory.isnull().sum()"
   ]
  },
  {
   "cell_type": "code",
   "execution_count": 4,
   "metadata": {
    "colab": {
     "base_uri": "https://localhost:8080/",
     "height": 313
    },
    "id": "o_kxaBCiGW06",
    "outputId": "8d9301ed-1623-4fd8-e2a0-e60cd2a4ca3a"
   },
   "outputs": [
    {
     "data": {
      "text/html": [
       "<div>\n",
       "<style scoped>\n",
       "    .dataframe tbody tr th:only-of-type {\n",
       "        vertical-align: middle;\n",
       "    }\n",
       "\n",
       "    .dataframe tbody tr th {\n",
       "        vertical-align: top;\n",
       "    }\n",
       "\n",
       "    .dataframe thead th {\n",
       "        text-align: right;\n",
       "    }\n",
       "</style>\n",
       "<table border=\"1\" class=\"dataframe\">\n",
       "  <thead>\n",
       "    <tr style=\"text-align: right;\">\n",
       "      <th></th>\n",
       "      <th>YEAR</th>\n",
       "      <th>CARRIER</th>\n",
       "      <th>CARRIER_NAME</th>\n",
       "      <th>MANUFACTURE_YEAR</th>\n",
       "      <th>UNIQUE_CARRIER_NAME</th>\n",
       "      <th>SERIAL_NUMBER</th>\n",
       "      <th>TAIL_NUMBER</th>\n",
       "      <th>AIRCRAFT_STATUS</th>\n",
       "      <th>OPERATING_STATUS</th>\n",
       "      <th>NUMBER_OF_SEATS</th>\n",
       "      <th>MANUFACTURER</th>\n",
       "      <th>AIRCRAFT_TYPE</th>\n",
       "      <th>MODEL</th>\n",
       "      <th>CAPACITY_IN_POUNDS</th>\n",
       "      <th>ACQUISITION_DATE</th>\n",
       "      <th>AIRLINE_ID</th>\n",
       "      <th>UNIQUE_CARRIER</th>\n",
       "    </tr>\n",
       "  </thead>\n",
       "  <tbody>\n",
       "    <tr>\n",
       "      <th>0</th>\n",
       "      <td>2006</td>\n",
       "      <td>16</td>\n",
       "      <td>PSA Airlines Inc.</td>\n",
       "      <td>2003.0</td>\n",
       "      <td>PSA Airlines Inc.</td>\n",
       "      <td>7858</td>\n",
       "      <td>N202PS</td>\n",
       "      <td>B</td>\n",
       "      <td>Y</td>\n",
       "      <td>50.0</td>\n",
       "      <td>CANADAIR</td>\n",
       "      <td>NaN</td>\n",
       "      <td>CRJ-2/4</td>\n",
       "      <td>47000.0</td>\n",
       "      <td>10/28/2003 12:00:00 AM</td>\n",
       "      <td>20397.0</td>\n",
       "      <td>16</td>\n",
       "    </tr>\n",
       "    <tr>\n",
       "      <th>1</th>\n",
       "      <td>2006</td>\n",
       "      <td>16</td>\n",
       "      <td>PSA Airlines Inc.</td>\n",
       "      <td>2003.0</td>\n",
       "      <td>PSA Airlines Inc.</td>\n",
       "      <td>7860</td>\n",
       "      <td>N206PS</td>\n",
       "      <td>B</td>\n",
       "      <td>Y</td>\n",
       "      <td>50.0</td>\n",
       "      <td>CANADAIR</td>\n",
       "      <td>NaN</td>\n",
       "      <td>CRJ-2/4</td>\n",
       "      <td>47000.0</td>\n",
       "      <td>10/30/2003 12:00:00 AM</td>\n",
       "      <td>20397.0</td>\n",
       "      <td>16</td>\n",
       "    </tr>\n",
       "    <tr>\n",
       "      <th>2</th>\n",
       "      <td>2006</td>\n",
       "      <td>16</td>\n",
       "      <td>PSA Airlines Inc.</td>\n",
       "      <td>2003.0</td>\n",
       "      <td>PSA Airlines Inc.</td>\n",
       "      <td>7873</td>\n",
       "      <td>N207PS</td>\n",
       "      <td>B</td>\n",
       "      <td>Y</td>\n",
       "      <td>50.0</td>\n",
       "      <td>CANADAIR</td>\n",
       "      <td>NaN</td>\n",
       "      <td>CRJ-2/4</td>\n",
       "      <td>47000.0</td>\n",
       "      <td>11/26/2003 12:00:00 AM</td>\n",
       "      <td>20397.0</td>\n",
       "      <td>16</td>\n",
       "    </tr>\n",
       "    <tr>\n",
       "      <th>3</th>\n",
       "      <td>2006</td>\n",
       "      <td>16</td>\n",
       "      <td>PSA Airlines Inc.</td>\n",
       "      <td>2003.0</td>\n",
       "      <td>PSA Airlines Inc.</td>\n",
       "      <td>7874</td>\n",
       "      <td>N209PS</td>\n",
       "      <td>B</td>\n",
       "      <td>Y</td>\n",
       "      <td>50.0</td>\n",
       "      <td>CANADAIR</td>\n",
       "      <td>NaN</td>\n",
       "      <td>CRJ-2/4</td>\n",
       "      <td>47000.0</td>\n",
       "      <td>12/4/2003 12:00:00 AM</td>\n",
       "      <td>20397.0</td>\n",
       "      <td>16</td>\n",
       "    </tr>\n",
       "    <tr>\n",
       "      <th>4</th>\n",
       "      <td>2006</td>\n",
       "      <td>16</td>\n",
       "      <td>PSA Airlines Inc.</td>\n",
       "      <td>2003.0</td>\n",
       "      <td>PSA Airlines Inc.</td>\n",
       "      <td>7879</td>\n",
       "      <td>N213PS</td>\n",
       "      <td>B</td>\n",
       "      <td>Y</td>\n",
       "      <td>50.0</td>\n",
       "      <td>CANADAIR</td>\n",
       "      <td>NaN</td>\n",
       "      <td>CRJ-2/4</td>\n",
       "      <td>47000.0</td>\n",
       "      <td>12/16/2003 12:00:00 AM</td>\n",
       "      <td>20397.0</td>\n",
       "      <td>16</td>\n",
       "    </tr>\n",
       "  </tbody>\n",
       "</table>\n",
       "</div>"
      ],
      "text/plain": [
       "   YEAR CARRIER       CARRIER_NAME  MANUFACTURE_YEAR UNIQUE_CARRIER_NAME  \\\n",
       "0  2006      16  PSA Airlines Inc.            2003.0   PSA Airlines Inc.   \n",
       "1  2006      16  PSA Airlines Inc.            2003.0   PSA Airlines Inc.   \n",
       "2  2006      16  PSA Airlines Inc.            2003.0   PSA Airlines Inc.   \n",
       "3  2006      16  PSA Airlines Inc.            2003.0   PSA Airlines Inc.   \n",
       "4  2006      16  PSA Airlines Inc.            2003.0   PSA Airlines Inc.   \n",
       "\n",
       "  SERIAL_NUMBER TAIL_NUMBER AIRCRAFT_STATUS OPERATING_STATUS  NUMBER_OF_SEATS  \\\n",
       "0          7858      N202PS               B                Y             50.0   \n",
       "1          7860      N206PS               B                Y             50.0   \n",
       "2          7873      N207PS               B                Y             50.0   \n",
       "3          7874      N209PS               B                Y             50.0   \n",
       "4          7879      N213PS               B                Y             50.0   \n",
       "\n",
       "  MANUFACTURER AIRCRAFT_TYPE    MODEL  CAPACITY_IN_POUNDS  \\\n",
       "0     CANADAIR           NaN  CRJ-2/4             47000.0   \n",
       "1     CANADAIR           NaN  CRJ-2/4             47000.0   \n",
       "2     CANADAIR           NaN  CRJ-2/4             47000.0   \n",
       "3     CANADAIR           NaN  CRJ-2/4             47000.0   \n",
       "4     CANADAIR           NaN  CRJ-2/4             47000.0   \n",
       "\n",
       "         ACQUISITION_DATE  AIRLINE_ID UNIQUE_CARRIER  \n",
       "0  10/28/2003 12:00:00 AM     20397.0             16  \n",
       "1  10/30/2003 12:00:00 AM     20397.0             16  \n",
       "2  11/26/2003 12:00:00 AM     20397.0             16  \n",
       "3   12/4/2003 12:00:00 AM     20397.0             16  \n",
       "4  12/16/2003 12:00:00 AM     20397.0             16  "
      ]
     },
     "execution_count": 4,
     "metadata": {},
     "output_type": "execute_result"
    }
   ],
   "source": [
    "inv_missing = inventory[inventory.isnull().any(axis=1)]\n",
    "inv_missing.head()"
   ]
  },
  {
   "cell_type": "markdown",
   "metadata": {
    "id": "IeUJiT1WY-Bh"
   },
   "source": [
    "### Missing carriers"
   ]
  },
  {
   "cell_type": "code",
   "execution_count": 5,
   "metadata": {
    "colab": {
     "base_uri": "https://localhost:8080/"
    },
    "id": "aAvrUclFMEdr",
    "outputId": "5a404430-cad1-47c2-c37c-774c3e1f5e25"
   },
   "outputs": [
    {
     "data": {
      "text/plain": [
       "array(['16', '3Z', '5X', '5Y', '8C', '9E', '9S', 'AA', 'ABX', 'AJQ',\n",
       "       'AMQ', 'AQ', 'AS', 'AX', 'B6', 'CO', 'CS', 'CTQ', 'DL', 'E0', 'ER',\n",
       "       'EV', 'F2', 'F9', 'FL', 'FX', 'G4', 'G7', 'GFQ', 'GG', 'HA', 'HP',\n",
       "       'JW', 'KAQ', 'KLQ', 'L2', 'M6', 'MG', 'MQ', 'MRQ', 'NC', 'NK',\n",
       "       'NW', 'OH', 'OO', 'OW', 'PCQ', 'PFQ', 'PO', 'PRQ', 'PT', 'QX',\n",
       "       'RD', 'SI', 'SLQ', 'SY', 'TZ', 'U5', 'U7', 'UA', 'US', 'WI', 'WN',\n",
       "       'WO', 'X9', 'XE', 'XJ', 'XP', 'YV', 'YX', 'ZQ', 'ZW', 'CP', 'E9',\n",
       "       'EZ', 'FE', 'L4', nan, 'RW', 'S5', 'SX', 'VX', 'WE', '9L', 'FCQ',\n",
       "       'GL', '0JQ', '0WQ', '16 ', '3Z ', '5X ', '5Y ', '8C ', '9E ',\n",
       "       '9L ', '9S ', 'AA ', 'AQ ', 'AS ', 'B6 ', 'CO ', 'CP ', 'CS ',\n",
       "       'DL ', 'ER ', 'EV ', 'EZ ', 'F9 ', 'FL ', 'FX ', 'G4 ', 'G7 ',\n",
       "       'GL ', 'HA ', 'JW ', 'L2 ', 'L3 ', 'M6 ', 'MQ ', 'NA ', 'NC ',\n",
       "       'NK ', 'NW ', 'OH ', 'OO ', 'OW ', 'PM ', 'PO ', 'PT ', 'QX ',\n",
       "       'RD ', 'S5 ', 'SI ', 'SY ', 'U5 ', 'U7 ', 'UA ', 'US ', 'VX ',\n",
       "       'WE ', 'WI ', 'WN ', 'WO ', 'X9 ', 'XE ', 'XJ ', 'XP ', 'YV ',\n",
       "       'YX ', 'ZW ', 'KH', 'L3', 'PM', '09Q', '1BQ', '1EQ', 'K8', 'RP',\n",
       "       '1TQ', '5V', 'WP', '20Q', 'KD', '23Q', '27Q', 'EE', '2HQ', '2PQ',\n",
       "       'N8', '34Q', '37Q', '3EQ', 'WL', 'C5', '3FQ', '3M', 'GCA', 'MX'],\n",
       "      dtype=object)"
      ]
     },
     "execution_count": 5,
     "metadata": {},
     "output_type": "execute_result"
    }
   ],
   "source": [
    "inventory[\"CARRIER\"].unique()"
   ]
  },
  {
   "cell_type": "code",
   "execution_count": 6,
   "metadata": {
    "colab": {
     "base_uri": "https://localhost:8080/",
     "height": 400
    },
    "id": "Hyj843SiMTO_",
    "outputId": "cc8e357e-075e-4ac0-d770-7f2d3e526046"
   },
   "outputs": [
    {
     "data": {
      "text/html": [
       "<div>\n",
       "<style scoped>\n",
       "    .dataframe tbody tr th:only-of-type {\n",
       "        vertical-align: middle;\n",
       "    }\n",
       "\n",
       "    .dataframe tbody tr th {\n",
       "        vertical-align: top;\n",
       "    }\n",
       "\n",
       "    .dataframe thead th {\n",
       "        text-align: right;\n",
       "    }\n",
       "</style>\n",
       "<table border=\"1\" class=\"dataframe\">\n",
       "  <thead>\n",
       "    <tr style=\"text-align: right;\">\n",
       "      <th></th>\n",
       "      <th>YEAR</th>\n",
       "      <th>CARRIER</th>\n",
       "      <th>CARRIER_NAME</th>\n",
       "      <th>MANUFACTURE_YEAR</th>\n",
       "      <th>UNIQUE_CARRIER_NAME</th>\n",
       "      <th>SERIAL_NUMBER</th>\n",
       "      <th>TAIL_NUMBER</th>\n",
       "      <th>AIRCRAFT_STATUS</th>\n",
       "      <th>OPERATING_STATUS</th>\n",
       "      <th>NUMBER_OF_SEATS</th>\n",
       "      <th>MANUFACTURER</th>\n",
       "      <th>AIRCRAFT_TYPE</th>\n",
       "      <th>MODEL</th>\n",
       "      <th>CAPACITY_IN_POUNDS</th>\n",
       "      <th>ACQUISITION_DATE</th>\n",
       "      <th>AIRLINE_ID</th>\n",
       "      <th>UNIQUE_CARRIER</th>\n",
       "    </tr>\n",
       "  </thead>\n",
       "  <tbody>\n",
       "    <tr>\n",
       "      <th>26207</th>\n",
       "      <td>2009</td>\n",
       "      <td>NA</td>\n",
       "      <td>North American Airlines</td>\n",
       "      <td>1993.0</td>\n",
       "      <td>North American Airlines</td>\n",
       "      <td>26257</td>\n",
       "      <td>N760NA</td>\n",
       "      <td>B</td>\n",
       "      <td>Y</td>\n",
       "      <td>273.0</td>\n",
       "      <td>BOEING                                        ...</td>\n",
       "      <td>NaN</td>\n",
       "      <td>B-767-3</td>\n",
       "      <td>104476.0</td>\n",
       "      <td>3/23/2004 12:00:00 AM</td>\n",
       "      <td>20415.0</td>\n",
       "      <td>NaN</td>\n",
       "    </tr>\n",
       "    <tr>\n",
       "      <th>26208</th>\n",
       "      <td>2009</td>\n",
       "      <td>NA</td>\n",
       "      <td>North American Airlines</td>\n",
       "      <td>1993.0</td>\n",
       "      <td>North American Airlines</td>\n",
       "      <td>27135</td>\n",
       "      <td>N764NA</td>\n",
       "      <td>B</td>\n",
       "      <td>Y</td>\n",
       "      <td>252.0</td>\n",
       "      <td>BOEING                                        ...</td>\n",
       "      <td>NaN</td>\n",
       "      <td>B-767-3</td>\n",
       "      <td>103150.0</td>\n",
       "      <td>2/20/2009 12:00:00 AM</td>\n",
       "      <td>20415.0</td>\n",
       "      <td>NaN</td>\n",
       "    </tr>\n",
       "    <tr>\n",
       "      <th>26209</th>\n",
       "      <td>2009</td>\n",
       "      <td>NA</td>\n",
       "      <td>North American Airlines</td>\n",
       "      <td>1995.0</td>\n",
       "      <td>North American Airlines</td>\n",
       "      <td>26277</td>\n",
       "      <td>N750NA</td>\n",
       "      <td>B</td>\n",
       "      <td>Y</td>\n",
       "      <td>199.0</td>\n",
       "      <td>BOEING                                        ...</td>\n",
       "      <td>NaN</td>\n",
       "      <td>B-757-2</td>\n",
       "      <td>58491.0</td>\n",
       "      <td>1/27/1995 12:00:00 AM</td>\n",
       "      <td>20415.0</td>\n",
       "      <td>NaN</td>\n",
       "    </tr>\n",
       "    <tr>\n",
       "      <th>26210</th>\n",
       "      <td>2009</td>\n",
       "      <td>NA</td>\n",
       "      <td>North American Airlines</td>\n",
       "      <td>1996.0</td>\n",
       "      <td>North American Airlines</td>\n",
       "      <td>28098</td>\n",
       "      <td>N765NA</td>\n",
       "      <td>B</td>\n",
       "      <td>Y</td>\n",
       "      <td>206.0</td>\n",
       "      <td>BOEING                                        ...</td>\n",
       "      <td>NaN</td>\n",
       "      <td>B-767-3</td>\n",
       "      <td>94523.0</td>\n",
       "      <td>3/23/2006 12:00:00 AM</td>\n",
       "      <td>20415.0</td>\n",
       "      <td>NaN</td>\n",
       "    </tr>\n",
       "    <tr>\n",
       "      <th>26211</th>\n",
       "      <td>2009</td>\n",
       "      <td>NA</td>\n",
       "      <td>North American Airlines</td>\n",
       "      <td>1997.0</td>\n",
       "      <td>North American Airlines</td>\n",
       "      <td>28174</td>\n",
       "      <td>N752NA</td>\n",
       "      <td>B</td>\n",
       "      <td>Y</td>\n",
       "      <td>199.0</td>\n",
       "      <td>BOEING                                        ...</td>\n",
       "      <td>NaN</td>\n",
       "      <td>B-757-2</td>\n",
       "      <td>58948.0</td>\n",
       "      <td>5/12/1999 12:00:00 AM</td>\n",
       "      <td>20415.0</td>\n",
       "      <td>NaN</td>\n",
       "    </tr>\n",
       "  </tbody>\n",
       "</table>\n",
       "</div>"
      ],
      "text/plain": [
       "       YEAR CARRIER             CARRIER_NAME  MANUFACTURE_YEAR  \\\n",
       "26207  2009     NA   North American Airlines            1993.0   \n",
       "26208  2009     NA   North American Airlines            1993.0   \n",
       "26209  2009     NA   North American Airlines            1995.0   \n",
       "26210  2009     NA   North American Airlines            1996.0   \n",
       "26211  2009     NA   North American Airlines            1997.0   \n",
       "\n",
       "           UNIQUE_CARRIER_NAME    SERIAL_NUMBER      TAIL_NUMBER  \\\n",
       "26207  North American Airlines  26257            N760NA            \n",
       "26208  North American Airlines  27135            N764NA            \n",
       "26209  North American Airlines  26277            N750NA            \n",
       "26210  North American Airlines  28098            N765NA            \n",
       "26211  North American Airlines  28174            N752NA            \n",
       "\n",
       "      AIRCRAFT_STATUS OPERATING_STATUS  NUMBER_OF_SEATS  \\\n",
       "26207               B                Y            273.0   \n",
       "26208               B                Y            252.0   \n",
       "26209               B                Y            199.0   \n",
       "26210               B                Y            206.0   \n",
       "26211               B                Y            199.0   \n",
       "\n",
       "                                            MANUFACTURER AIRCRAFT_TYPE  \\\n",
       "26207  BOEING                                        ...           NaN   \n",
       "26208  BOEING                                        ...           NaN   \n",
       "26209  BOEING                                        ...           NaN   \n",
       "26210  BOEING                                        ...           NaN   \n",
       "26211  BOEING                                        ...           NaN   \n",
       "\n",
       "                      MODEL  CAPACITY_IN_POUNDS       ACQUISITION_DATE  \\\n",
       "26207  B-767-3                         104476.0  3/23/2004 12:00:00 AM   \n",
       "26208  B-767-3                         103150.0  2/20/2009 12:00:00 AM   \n",
       "26209  B-757-2                          58491.0  1/27/1995 12:00:00 AM   \n",
       "26210  B-767-3                          94523.0  3/23/2006 12:00:00 AM   \n",
       "26211  B-757-2                          58948.0  5/12/1999 12:00:00 AM   \n",
       "\n",
       "       AIRLINE_ID UNIQUE_CARRIER  \n",
       "26207     20415.0            NaN  \n",
       "26208     20415.0            NaN  \n",
       "26209     20415.0            NaN  \n",
       "26210     20415.0            NaN  \n",
       "26211     20415.0            NaN  "
      ]
     },
     "execution_count": 6,
     "metadata": {},
     "output_type": "execute_result"
    }
   ],
   "source": [
    "inventory[inventory[\"CARRIER\"]==\"NA \"].head()"
   ]
  },
  {
   "cell_type": "markdown",
   "metadata": {
    "id": "SoGJpTG3ZtSu"
   },
   "source": [
    "It looks like there is only North American Airlines that are missing in Carrier"
   ]
  },
  {
   "cell_type": "code",
   "execution_count": 7,
   "metadata": {
    "colab": {
     "base_uri": "https://localhost:8080/",
     "height": 147
    },
    "id": "JhyHcjcaZJIS",
    "outputId": "62a2a313-cb43-4502-897b-6414fccf908e"
   },
   "outputs": [
    {
     "data": {
      "text/plain": [
       "CARRIER_NAME\n",
       "North American Airlines    49\n",
       "Name: count, dtype: int64"
      ]
     },
     "execution_count": 7,
     "metadata": {},
     "output_type": "execute_result"
    }
   ],
   "source": [
    "inv_missing[inv_missing['CARRIER'].isna()][\"CARRIER_NAME\"].value_counts()"
   ]
  },
  {
   "cell_type": "markdown",
   "metadata": {
    "id": "FPxAC9UNZzhz"
   },
   "source": [
    "Now that we confirm this is true with value counts, we can fill NAs with \"NA \" with a space as other North American Airlines include the space"
   ]
  },
  {
   "cell_type": "code",
   "execution_count": 8,
   "metadata": {
    "colab": {
     "base_uri": "https://localhost:8080/"
    },
    "id": "8gA9joaFLwDd",
    "outputId": "031f6e24-0137-47e8-db05-d518262cabe6"
   },
   "outputs": [],
   "source": [
    "inventory['CARRIER'].fillna(\"NA \", inplace=True)"
   ]
  },
  {
   "cell_type": "markdown",
   "metadata": {
    "id": "GijeKv80Z944"
   },
   "source": [
    "### Looking into unique carriers"
   ]
  },
  {
   "cell_type": "code",
   "execution_count": 9,
   "metadata": {
    "colab": {
     "base_uri": "https://localhost:8080/"
    },
    "id": "2sGok080Gxuh",
    "outputId": "6f1d6dff-6376-4b7c-db8e-cdeed03e95be"
   },
   "outputs": [
    {
     "data": {
      "text/plain": [
       "array(['16', '3Z', '5X', '5Y', '8C', '9E', '9S', 'AA', 'ABX', 'AJQ',\n",
       "       'AMQ', 'KH', 'AS', 'AX', 'B6', 'CO', 'CS', 'CTQ', 'DL', 'E0', 'ER',\n",
       "       'EV', 'F2', 'F9', 'FL', 'FX', 'G4', 'G7', 'GFQ', 'GG', 'HA', 'HP',\n",
       "       'JW', 'KAQ', 'KLQ', 'L2', 'M6', 'MG', 'MQ', 'MRQ', 'NC', 'NK',\n",
       "       'NW', 'OH', 'OO', 'OW', 'PCQ', 'PFQ', 'PO', 'PRQ', 'PT', 'QX',\n",
       "       'RD', 'SI', 'SLQ', 'SY', 'TZ', 'U5', 'U7', 'UA', 'US', 'WI', 'WN',\n",
       "       'WO', 'X9', 'XE', 'XJ', 'XP', 'YV', 'YX (1)', 'ZQ', 'ZW', 'CP',\n",
       "       'E9', 'EZ', 'FE', nan, 'YX', 'S5', 'SX', 'VX', 'WE', '9L', 'FCQ',\n",
       "       'GL', 'L3', '0JQ', '0WQ', 'PM', '5V', 'N8', 'OH (1)', 'PT (1)',\n",
       "       '09Q', '1BQ', '1EQ', 'K8', 'RP', '1TQ', 'WP', '20Q', 'KD', '23Q',\n",
       "       '27Q', 'EE', '2HQ', '2PQ', 'WL', '34Q', '37Q', '3EQ', 'C5', '3FQ',\n",
       "       '3M', 'GCA', 'MX'], dtype=object)"
      ]
     },
     "execution_count": 9,
     "metadata": {},
     "output_type": "execute_result"
    }
   ],
   "source": [
    "unique_carriers = inventory['UNIQUE_CARRIER'].unique()\n",
    "unique_carriers"
   ]
  },
  {
   "cell_type": "code",
   "execution_count": 10,
   "metadata": {
    "colab": {
     "base_uri": "https://localhost:8080/"
    },
    "id": "bJp00vaSbEaz",
    "outputId": "a21efbc5-fc27-4c7f-a61a-5a5dd870bb74"
   },
   "outputs": [
    {
     "data": {
      "text/plain": [
       "164"
      ]
     },
     "execution_count": 10,
     "metadata": {},
     "output_type": "execute_result"
    }
   ],
   "source": [
    "sum(inv_missing[\"UNIQUE_CARRIER\"].isna())"
   ]
  },
  {
   "cell_type": "code",
   "execution_count": 11,
   "metadata": {
    "colab": {
     "base_uri": "https://localhost:8080/"
    },
    "id": "scrpXDxoG8Qa",
    "outputId": "1c47858f-7dce-4465-d038-6f4c9d264351"
   },
   "outputs": [
    {
     "data": {
      "text/plain": [
       "7378"
      ]
     },
     "execution_count": 11,
     "metadata": {},
     "output_type": "execute_result"
    }
   ],
   "source": [
    "sum(inv_missing[\"UNIQUE_CARRIER\"] != inv_missing[\"CARRIER\"])"
   ]
  },
  {
   "cell_type": "code",
   "execution_count": 12,
   "metadata": {
    "colab": {
     "base_uri": "https://localhost:8080/"
    },
    "id": "BkpdE3YbYPlP",
    "outputId": "326a2cf8-347b-480a-c42e-61d7406ff7fb"
   },
   "outputs": [
    {
     "data": {
      "text/plain": [
       "array(['L4', 'NA ', 'OH'], dtype=object)"
      ]
     },
     "execution_count": 12,
     "metadata": {},
     "output_type": "execute_result"
    }
   ],
   "source": [
    "inventory[inventory['UNIQUE_CARRIER'].isna()][\"CARRIER\"].unique()"
   ]
  },
  {
   "cell_type": "markdown",
   "metadata": {
    "id": "Av5epTAtaQBj"
   },
   "source": [
    "It looks like the unique carriers and carriers are not the same. I am not sure if it will be useful. Therefore, we'll move on for now to\n",
    "\n",
    "### Missing Carrier Name"
   ]
  },
  {
   "cell_type": "code",
   "execution_count": 13,
   "metadata": {
    "colab": {
     "base_uri": "https://localhost:8080/"
    },
    "id": "Hp5RC0AENGkU",
    "outputId": "905d6ef8-6960-457a-e0b5-f5613eb81cc8"
   },
   "outputs": [
    {
     "data": {
      "text/plain": [
       "array(['L4', 'OH'], dtype=object)"
      ]
     },
     "execution_count": 13,
     "metadata": {},
     "output_type": "execute_result"
    }
   ],
   "source": [
    "inv_missing[inv_missing['CARRIER_NAME'].isna()][\"CARRIER\"].unique()"
   ]
  },
  {
   "cell_type": "code",
   "execution_count": 14,
   "metadata": {
    "colab": {
     "base_uri": "https://localhost:8080/"
    },
    "id": "nk2KYMgmJ8AM",
    "outputId": "bbe7ea62-22c5-4668-ca4f-4283b339f009"
   },
   "outputs": [
    {
     "data": {
      "text/plain": [
       "array([nan, 'Lynx Aviation d/b/a Frontier Airlines'], dtype=object)"
      ]
     },
     "execution_count": 14,
     "metadata": {},
     "output_type": "execute_result"
    }
   ],
   "source": [
    "inventory[inventory[\"CARRIER\"]==\"L4\"][\"CARRIER_NAME\"].unique()"
   ]
  },
  {
   "cell_type": "code",
   "execution_count": 15,
   "metadata": {
    "id": "XOWvXlFddA8Z"
   },
   "outputs": [],
   "source": [
    "inventory.loc[inventory[\"CARRIER\"] == \"L4\", \"CARRIER_NAME\"] = \"Lynx Aviation d/b/a Frontier Airlines\""
   ]
  },
  {
   "cell_type": "code",
   "execution_count": 16,
   "metadata": {
    "colab": {
     "base_uri": "https://localhost:8080/"
    },
    "id": "CeErnELjWTBd",
    "outputId": "2143bad1-420f-4891-b1ff-4fa3c0be0ce8"
   },
   "outputs": [
    {
     "data": {
      "text/plain": [
       "array(['Comair Inc.', nan, 'PSA Airlines Inc.'], dtype=object)"
      ]
     },
     "execution_count": 16,
     "metadata": {},
     "output_type": "execute_result"
    }
   ],
   "source": [
    "inventory[inventory[\"CARRIER\"]==\"OH\"][\"CARRIER_NAME\"].unique()"
   ]
  },
  {
   "cell_type": "code",
   "execution_count": 17,
   "metadata": {
    "colab": {
     "base_uri": "https://localhost:8080/"
    },
    "id": "u5Pq-0C-NvhV",
    "outputId": "d028d4bb-b1a4-4dba-900f-7207dec30a95"
   },
   "outputs": [
    {
     "data": {
      "text/plain": [
       "array([2006, 2007, 2008, 2010, 2011, 2013, 2015, 2016, 2017, 2018, 2019,\n",
       "       2020, 2021, 2022, 2023])"
      ]
     },
     "execution_count": 17,
     "metadata": {},
     "output_type": "execute_result"
    }
   ],
   "source": [
    "inventory[inventory[\"CARRIER\"]==\"OH\"][\"YEAR\"].unique()"
   ]
  },
  {
   "cell_type": "code",
   "execution_count": 18,
   "metadata": {
    "colab": {
     "base_uri": "https://localhost:8080/"
    },
    "id": "RdEt4S6mReY3",
    "outputId": "9f0e0def-1abb-4721-fac7-788c919d0e50"
   },
   "outputs": [
    {
     "data": {
      "text/plain": [
       "array(['PSA Airlines Inc.'], dtype=object)"
      ]
     },
     "execution_count": 18,
     "metadata": {},
     "output_type": "execute_result"
    }
   ],
   "source": [
    "inventory[(inventory[\"CARRIER\"] == \"OH\") & (inventory[\"YEAR\"] > 2014)][\"CARRIER_NAME\"].unique()\n"
   ]
  },
  {
   "cell_type": "code",
   "execution_count": 19,
   "metadata": {
    "colab": {
     "base_uri": "https://localhost:8080/"
    },
    "id": "CtujKkn0dfLy",
    "outputId": "4331cb27-ba40-48fa-cb78-848ae1e0c465"
   },
   "outputs": [
    {
     "data": {
      "text/plain": [
       "array(['Comair Inc.', nan], dtype=object)"
      ]
     },
     "execution_count": 19,
     "metadata": {},
     "output_type": "execute_result"
    }
   ],
   "source": [
    "inventory[(inventory[\"CARRIER\"] == \"OH\") & (inventory[\"YEAR\"] < 2014)][\"CARRIER_NAME\"].unique()\n"
   ]
  },
  {
   "cell_type": "code",
   "execution_count": 20,
   "metadata": {
    "colab": {
     "base_uri": "https://localhost:8080/"
    },
    "id": "RZ7vL6puU5rv",
    "outputId": "5feccf4a-2c2b-461b-cb8b-4139dbb2225f"
   },
   "outputs": [
    {
     "name": "stderr",
     "output_type": "stream",
     "text": [
      "/tmp/ipykernel_862/1855572008.py:1: SettingWithCopyWarning: \n",
      "A value is trying to be set on a copy of a slice from a DataFrame.\n",
      "Try using .loc[row_indexer,col_indexer] = value instead\n",
      "\n",
      "See the caveats in the documentation: https://pandas.pydata.org/pandas-docs/stable/user_guide/indexing.html#returning-a-view-versus-a-copy\n",
      "  inventory.loc[(inventory[\"CARRIER\"] == \"OH\") & (inventory[\"YEAR\"] > 2014)][\"CARRIER_NAME\"] = \"PSA Airlines Inc.\"\n",
      "/tmp/ipykernel_862/1855572008.py:3: SettingWithCopyWarning: \n",
      "A value is trying to be set on a copy of a slice from a DataFrame.\n",
      "Try using .loc[row_indexer,col_indexer] = value instead\n",
      "\n",
      "See the caveats in the documentation: https://pandas.pydata.org/pandas-docs/stable/user_guide/indexing.html#returning-a-view-versus-a-copy\n",
      "  inventory.loc[(inventory[\"CARRIER\"] == \"OH\") & (inventory[\"YEAR\"] < 2014)][\"CARRIER_NAME\"] = \"Comair Inc.\"\n"
     ]
    }
   ],
   "source": [
    "inventory.loc[(inventory[\"CARRIER\"] == \"OH\") & (inventory[\"YEAR\"] > 2014)][\"CARRIER_NAME\"] = \"PSA Airlines Inc.\"\n",
    "\n",
    "inventory.loc[(inventory[\"CARRIER\"] == \"OH\") & (inventory[\"YEAR\"] < 2014)][\"CARRIER_NAME\"] = \"Comair Inc.\""
   ]
  },
  {
   "cell_type": "markdown",
   "metadata": {
    "id": "j4vVEkXVd75h"
   },
   "source": [
    "### Missing Manufacture Year"
   ]
  },
  {
   "cell_type": "code",
   "execution_count": 21,
   "metadata": {
    "colab": {
     "base_uri": "https://localhost:8080/",
     "height": 250
    },
    "id": "odrbJkdnd0AK",
    "outputId": "b8e1f09d-39c5-4d68-e8c0-7638e5944640"
   },
   "outputs": [
    {
     "data": {
      "text/html": [
       "<div>\n",
       "<style scoped>\n",
       "    .dataframe tbody tr th:only-of-type {\n",
       "        vertical-align: middle;\n",
       "    }\n",
       "\n",
       "    .dataframe tbody tr th {\n",
       "        vertical-align: top;\n",
       "    }\n",
       "\n",
       "    .dataframe thead th {\n",
       "        text-align: right;\n",
       "    }\n",
       "</style>\n",
       "<table border=\"1\" class=\"dataframe\">\n",
       "  <thead>\n",
       "    <tr style=\"text-align: right;\">\n",
       "      <th></th>\n",
       "      <th>YEAR</th>\n",
       "      <th>CARRIER</th>\n",
       "      <th>CARRIER_NAME</th>\n",
       "      <th>MANUFACTURE_YEAR</th>\n",
       "      <th>UNIQUE_CARRIER_NAME</th>\n",
       "      <th>SERIAL_NUMBER</th>\n",
       "      <th>TAIL_NUMBER</th>\n",
       "      <th>AIRCRAFT_STATUS</th>\n",
       "      <th>OPERATING_STATUS</th>\n",
       "      <th>NUMBER_OF_SEATS</th>\n",
       "      <th>MANUFACTURER</th>\n",
       "      <th>AIRCRAFT_TYPE</th>\n",
       "      <th>MODEL</th>\n",
       "      <th>CAPACITY_IN_POUNDS</th>\n",
       "      <th>ACQUISITION_DATE</th>\n",
       "      <th>AIRLINE_ID</th>\n",
       "      <th>UNIQUE_CARRIER</th>\n",
       "    </tr>\n",
       "  </thead>\n",
       "  <tbody>\n",
       "    <tr>\n",
       "      <th>116651</th>\n",
       "      <td>2022</td>\n",
       "      <td>5Y</td>\n",
       "      <td>Atlas Air Inc.</td>\n",
       "      <td>NaN</td>\n",
       "      <td>Atlas Air Inc.</td>\n",
       "      <td>26259</td>\n",
       "      <td>N664GT</td>\n",
       "      <td>B</td>\n",
       "      <td>Y</td>\n",
       "      <td>0.0</td>\n",
       "      <td>BOEING</td>\n",
       "      <td>8192</td>\n",
       "      <td>B747-400</td>\n",
       "      <td>0.0</td>\n",
       "      <td>1/25/2022 12:00:00 AM</td>\n",
       "      <td>20007.0</td>\n",
       "      <td>5Y</td>\n",
       "    </tr>\n",
       "    <tr>\n",
       "      <th>124680</th>\n",
       "      <td>2023</td>\n",
       "      <td>9E</td>\n",
       "      <td>Endeavor Air Inc.</td>\n",
       "      <td>NaN</td>\n",
       "      <td>Endeavor Air Inc.</td>\n",
       "      <td>10134</td>\n",
       "      <td>N655CA</td>\n",
       "      <td>O</td>\n",
       "      <td>Y</td>\n",
       "      <td>69.0</td>\n",
       "      <td>BOMBARDIER</td>\n",
       "      <td>6311</td>\n",
       "      <td>CL-600-2C10</td>\n",
       "      <td>18055.0</td>\n",
       "      <td>NaN</td>\n",
       "      <td>20363.0</td>\n",
       "      <td>9E</td>\n",
       "    </tr>\n",
       "    <tr>\n",
       "      <th>124681</th>\n",
       "      <td>2023</td>\n",
       "      <td>9E</td>\n",
       "      <td>Endeavor Air Inc.</td>\n",
       "      <td>NaN</td>\n",
       "      <td>Endeavor Air Inc.</td>\n",
       "      <td>10182</td>\n",
       "      <td>N690CA</td>\n",
       "      <td>O</td>\n",
       "      <td>N</td>\n",
       "      <td>69.0</td>\n",
       "      <td>BOMBARDIER</td>\n",
       "      <td>6311</td>\n",
       "      <td>CL-600-2C10</td>\n",
       "      <td>18055.0</td>\n",
       "      <td>NaN</td>\n",
       "      <td>20363.0</td>\n",
       "      <td>9E</td>\n",
       "    </tr>\n",
       "  </tbody>\n",
       "</table>\n",
       "</div>"
      ],
      "text/plain": [
       "        YEAR CARRIER       CARRIER_NAME  MANUFACTURE_YEAR UNIQUE_CARRIER_NAME  \\\n",
       "116651  2022      5Y     Atlas Air Inc.               NaN      Atlas Air Inc.   \n",
       "124680  2023      9E  Endeavor Air Inc.               NaN   Endeavor Air Inc.   \n",
       "124681  2023      9E  Endeavor Air Inc.               NaN   Endeavor Air Inc.   \n",
       "\n",
       "       SERIAL_NUMBER TAIL_NUMBER AIRCRAFT_STATUS OPERATING_STATUS  \\\n",
       "116651         26259      N664GT               B                Y   \n",
       "124680         10134      N655CA               O                Y   \n",
       "124681         10182      N690CA               O                N   \n",
       "\n",
       "        NUMBER_OF_SEATS MANUFACTURER AIRCRAFT_TYPE        MODEL  \\\n",
       "116651              0.0       BOEING          8192     B747-400   \n",
       "124680             69.0   BOMBARDIER          6311  CL-600-2C10   \n",
       "124681             69.0   BOMBARDIER          6311  CL-600-2C10   \n",
       "\n",
       "        CAPACITY_IN_POUNDS       ACQUISITION_DATE  AIRLINE_ID UNIQUE_CARRIER  \n",
       "116651                 0.0  1/25/2022 12:00:00 AM     20007.0             5Y  \n",
       "124680             18055.0                    NaN     20363.0             9E  \n",
       "124681             18055.0                    NaN     20363.0             9E  "
      ]
     },
     "execution_count": 21,
     "metadata": {},
     "output_type": "execute_result"
    }
   ],
   "source": [
    "inv_missing[inv_missing['MANUFACTURE_YEAR'].isna()].head()"
   ]
  },
  {
   "cell_type": "code",
   "execution_count": 22,
   "metadata": {
    "colab": {
     "base_uri": "https://localhost:8080/",
     "height": 362
    },
    "id": "_P6IE0GseDbU",
    "outputId": "27ba21a5-fec1-4f0a-aebe-6fbc0784a6e6"
   },
   "outputs": [
    {
     "data": {
      "text/html": [
       "<div>\n",
       "<style scoped>\n",
       "    .dataframe tbody tr th:only-of-type {\n",
       "        vertical-align: middle;\n",
       "    }\n",
       "\n",
       "    .dataframe tbody tr th {\n",
       "        vertical-align: top;\n",
       "    }\n",
       "\n",
       "    .dataframe thead th {\n",
       "        text-align: right;\n",
       "    }\n",
       "</style>\n",
       "<table border=\"1\" class=\"dataframe\">\n",
       "  <thead>\n",
       "    <tr style=\"text-align: right;\">\n",
       "      <th></th>\n",
       "      <th>YEAR</th>\n",
       "      <th>CARRIER</th>\n",
       "      <th>CARRIER_NAME</th>\n",
       "      <th>MANUFACTURE_YEAR</th>\n",
       "      <th>UNIQUE_CARRIER_NAME</th>\n",
       "      <th>SERIAL_NUMBER</th>\n",
       "      <th>TAIL_NUMBER</th>\n",
       "      <th>AIRCRAFT_STATUS</th>\n",
       "      <th>OPERATING_STATUS</th>\n",
       "      <th>NUMBER_OF_SEATS</th>\n",
       "      <th>MANUFACTURER</th>\n",
       "      <th>AIRCRAFT_TYPE</th>\n",
       "      <th>MODEL</th>\n",
       "      <th>CAPACITY_IN_POUNDS</th>\n",
       "      <th>ACQUISITION_DATE</th>\n",
       "      <th>AIRLINE_ID</th>\n",
       "      <th>UNIQUE_CARRIER</th>\n",
       "    </tr>\n",
       "  </thead>\n",
       "  <tbody>\n",
       "    <tr>\n",
       "      <th>116649</th>\n",
       "      <td>2022</td>\n",
       "      <td>5X</td>\n",
       "      <td>United Parcel Service</td>\n",
       "      <td>2022.0</td>\n",
       "      <td>United Parcel Service</td>\n",
       "      <td>65774</td>\n",
       "      <td>N633UP</td>\n",
       "      <td>O</td>\n",
       "      <td>Y</td>\n",
       "      <td>0.0</td>\n",
       "      <td>Boeing</td>\n",
       "      <td>8212</td>\n",
       "      <td>747-8F</td>\n",
       "      <td>307571.0</td>\n",
       "      <td>4/12/2022 12:00:00 AM</td>\n",
       "      <td>19917.0</td>\n",
       "      <td>5X</td>\n",
       "    </tr>\n",
       "    <tr>\n",
       "      <th>116650</th>\n",
       "      <td>2022</td>\n",
       "      <td>5X</td>\n",
       "      <td>United Parcel Service</td>\n",
       "      <td>2022.0</td>\n",
       "      <td>United Parcel Service</td>\n",
       "      <td>65775</td>\n",
       "      <td>N632UP</td>\n",
       "      <td>O</td>\n",
       "      <td>Y</td>\n",
       "      <td>0.0</td>\n",
       "      <td>Boeing</td>\n",
       "      <td>8212</td>\n",
       "      <td>747-8F</td>\n",
       "      <td>307571.0</td>\n",
       "      <td>2/18/2022 12:00:00 AM</td>\n",
       "      <td>19917.0</td>\n",
       "      <td>5X</td>\n",
       "    </tr>\n",
       "    <tr>\n",
       "      <th>116651</th>\n",
       "      <td>2022</td>\n",
       "      <td>5Y</td>\n",
       "      <td>Atlas Air Inc.</td>\n",
       "      <td>NaN</td>\n",
       "      <td>Atlas Air Inc.</td>\n",
       "      <td>26259</td>\n",
       "      <td>N664GT</td>\n",
       "      <td>B</td>\n",
       "      <td>Y</td>\n",
       "      <td>0.0</td>\n",
       "      <td>BOEING</td>\n",
       "      <td>8192</td>\n",
       "      <td>B747-400</td>\n",
       "      <td>0.0</td>\n",
       "      <td>1/25/2022 12:00:00 AM</td>\n",
       "      <td>20007.0</td>\n",
       "      <td>5Y</td>\n",
       "    </tr>\n",
       "    <tr>\n",
       "      <th>116652</th>\n",
       "      <td>2022</td>\n",
       "      <td>5Y</td>\n",
       "      <td>Atlas Air Inc.</td>\n",
       "      <td>1988.0</td>\n",
       "      <td>Atlas Air Inc.</td>\n",
       "      <td>24086</td>\n",
       "      <td>N1709A</td>\n",
       "      <td>B</td>\n",
       "      <td>Y</td>\n",
       "      <td>269.0</td>\n",
       "      <td>BOEING</td>\n",
       "      <td>6261</td>\n",
       "      <td>B767-300ER</td>\n",
       "      <td>0.0</td>\n",
       "      <td>11/6/2018 12:00:00 AM</td>\n",
       "      <td>20007.0</td>\n",
       "      <td>5Y</td>\n",
       "    </tr>\n",
       "    <tr>\n",
       "      <th>116653</th>\n",
       "      <td>2022</td>\n",
       "      <td>5Y</td>\n",
       "      <td>Atlas Air Inc.</td>\n",
       "      <td>1989.0</td>\n",
       "      <td>Atlas Air Inc.</td>\n",
       "      <td>24309</td>\n",
       "      <td>N249BA</td>\n",
       "      <td>B</td>\n",
       "      <td>Y</td>\n",
       "      <td>0.0</td>\n",
       "      <td>BOEING</td>\n",
       "      <td>8192</td>\n",
       "      <td>B747-400</td>\n",
       "      <td>265000.0</td>\n",
       "      <td>9/1/2010 12:00:00 AM</td>\n",
       "      <td>20007.0</td>\n",
       "      <td>5Y</td>\n",
       "    </tr>\n",
       "    <tr>\n",
       "      <th>116654</th>\n",
       "      <td>2022</td>\n",
       "      <td>5Y</td>\n",
       "      <td>Atlas Air Inc.</td>\n",
       "      <td>1989.0</td>\n",
       "      <td>Atlas Air Inc.</td>\n",
       "      <td>24318</td>\n",
       "      <td>N1511A</td>\n",
       "      <td>O</td>\n",
       "      <td>Y</td>\n",
       "      <td>269.0</td>\n",
       "      <td>BOEING</td>\n",
       "      <td>6261</td>\n",
       "      <td>B767-300ER</td>\n",
       "      <td>237756.0</td>\n",
       "      <td>11/9/2017 12:00:00 AM</td>\n",
       "      <td>20007.0</td>\n",
       "      <td>5Y</td>\n",
       "    </tr>\n",
       "  </tbody>\n",
       "</table>\n",
       "</div>"
      ],
      "text/plain": [
       "        YEAR CARRIER           CARRIER_NAME  MANUFACTURE_YEAR  \\\n",
       "116649  2022      5X  United Parcel Service            2022.0   \n",
       "116650  2022      5X  United Parcel Service            2022.0   \n",
       "116651  2022      5Y         Atlas Air Inc.               NaN   \n",
       "116652  2022      5Y         Atlas Air Inc.            1988.0   \n",
       "116653  2022      5Y         Atlas Air Inc.            1989.0   \n",
       "116654  2022      5Y         Atlas Air Inc.            1989.0   \n",
       "\n",
       "          UNIQUE_CARRIER_NAME SERIAL_NUMBER TAIL_NUMBER AIRCRAFT_STATUS  \\\n",
       "116649  United Parcel Service         65774      N633UP               O   \n",
       "116650  United Parcel Service         65775      N632UP               O   \n",
       "116651         Atlas Air Inc.         26259      N664GT               B   \n",
       "116652         Atlas Air Inc.         24086      N1709A               B   \n",
       "116653         Atlas Air Inc.         24309      N249BA               B   \n",
       "116654         Atlas Air Inc.         24318      N1511A               O   \n",
       "\n",
       "       OPERATING_STATUS  NUMBER_OF_SEATS MANUFACTURER AIRCRAFT_TYPE  \\\n",
       "116649                Y              0.0       Boeing          8212   \n",
       "116650                Y              0.0       Boeing          8212   \n",
       "116651                Y              0.0       BOEING          8192   \n",
       "116652                Y            269.0       BOEING          6261   \n",
       "116653                Y              0.0       BOEING          8192   \n",
       "116654                Y            269.0       BOEING          6261   \n",
       "\n",
       "             MODEL  CAPACITY_IN_POUNDS       ACQUISITION_DATE  AIRLINE_ID  \\\n",
       "116649      747-8F            307571.0  4/12/2022 12:00:00 AM     19917.0   \n",
       "116650      747-8F            307571.0  2/18/2022 12:00:00 AM     19917.0   \n",
       "116651    B747-400                 0.0  1/25/2022 12:00:00 AM     20007.0   \n",
       "116652  B767-300ER                 0.0  11/6/2018 12:00:00 AM     20007.0   \n",
       "116653    B747-400            265000.0   9/1/2010 12:00:00 AM     20007.0   \n",
       "116654  B767-300ER            237756.0  11/9/2017 12:00:00 AM     20007.0   \n",
       "\n",
       "       UNIQUE_CARRIER  \n",
       "116649             5X  \n",
       "116650             5X  \n",
       "116651             5Y  \n",
       "116652             5Y  \n",
       "116653             5Y  \n",
       "116654             5Y  "
      ]
     },
     "execution_count": 22,
     "metadata": {},
     "output_type": "execute_result"
    }
   ],
   "source": [
    "inventory.iloc[116649:116655]"
   ]
  },
  {
   "cell_type": "markdown",
   "metadata": {
    "id": "VIDDw5etf7kp"
   },
   "source": [
    "It looks like this unknown Atlas Air plane is one we don't have a pattern for. Let's leave it empty because while we can have an okay guess, there doesn't seem to be a good guess available. More specifically, I see arguments to impute 1987, 1988, and 1989"
   ]
  },
  {
   "cell_type": "code",
   "execution_count": 23,
   "metadata": {
    "colab": {
     "base_uri": "https://localhost:8080/",
     "height": 497
    },
    "id": "FoFU_unoeQZ-",
    "outputId": "1e305a84-ad10-4c13-a633-2bb4192bc9fa"
   },
   "outputs": [
    {
     "data": {
      "text/html": [
       "<div>\n",
       "<style scoped>\n",
       "    .dataframe tbody tr th:only-of-type {\n",
       "        vertical-align: middle;\n",
       "    }\n",
       "\n",
       "    .dataframe tbody tr th {\n",
       "        vertical-align: top;\n",
       "    }\n",
       "\n",
       "    .dataframe thead th {\n",
       "        text-align: right;\n",
       "    }\n",
       "</style>\n",
       "<table border=\"1\" class=\"dataframe\">\n",
       "  <thead>\n",
       "    <tr style=\"text-align: right;\">\n",
       "      <th></th>\n",
       "      <th>YEAR</th>\n",
       "      <th>CARRIER</th>\n",
       "      <th>CARRIER_NAME</th>\n",
       "      <th>MANUFACTURE_YEAR</th>\n",
       "      <th>UNIQUE_CARRIER_NAME</th>\n",
       "      <th>SERIAL_NUMBER</th>\n",
       "      <th>TAIL_NUMBER</th>\n",
       "      <th>AIRCRAFT_STATUS</th>\n",
       "      <th>OPERATING_STATUS</th>\n",
       "      <th>NUMBER_OF_SEATS</th>\n",
       "      <th>MANUFACTURER</th>\n",
       "      <th>AIRCRAFT_TYPE</th>\n",
       "      <th>MODEL</th>\n",
       "      <th>CAPACITY_IN_POUNDS</th>\n",
       "      <th>ACQUISITION_DATE</th>\n",
       "      <th>AIRLINE_ID</th>\n",
       "      <th>UNIQUE_CARRIER</th>\n",
       "    </tr>\n",
       "  </thead>\n",
       "  <tbody>\n",
       "    <tr>\n",
       "      <th>124678</th>\n",
       "      <td>2023</td>\n",
       "      <td>8C</td>\n",
       "      <td>Air Transport International</td>\n",
       "      <td>2000.0</td>\n",
       "      <td>Air Transport International</td>\n",
       "      <td>30595</td>\n",
       "      <td>N641AZ</td>\n",
       "      <td>b</td>\n",
       "      <td>Y</td>\n",
       "      <td>0.0</td>\n",
       "      <td>BOEING</td>\n",
       "      <td>6262</td>\n",
       "      <td>767-332</td>\n",
       "      <td>125000.0</td>\n",
       "      <td>3/15/2022 12:00:00 AM</td>\n",
       "      <td>19874.0</td>\n",
       "      <td>8C</td>\n",
       "    </tr>\n",
       "    <tr>\n",
       "      <th>124679</th>\n",
       "      <td>2023</td>\n",
       "      <td>8C</td>\n",
       "      <td>Air Transport International</td>\n",
       "      <td>2001.0</td>\n",
       "      <td>Air Transport International</td>\n",
       "      <td>30575</td>\n",
       "      <td>N617AZ</td>\n",
       "      <td>b</td>\n",
       "      <td>Y</td>\n",
       "      <td>0.0</td>\n",
       "      <td>BOEING</td>\n",
       "      <td>6262</td>\n",
       "      <td>767-332</td>\n",
       "      <td>125000.0</td>\n",
       "      <td>8/25/2022 12:00:00 AM</td>\n",
       "      <td>19874.0</td>\n",
       "      <td>8C</td>\n",
       "    </tr>\n",
       "    <tr>\n",
       "      <th>124680</th>\n",
       "      <td>2023</td>\n",
       "      <td>9E</td>\n",
       "      <td>Endeavor Air Inc.</td>\n",
       "      <td>NaN</td>\n",
       "      <td>Endeavor Air Inc.</td>\n",
       "      <td>10134</td>\n",
       "      <td>N655CA</td>\n",
       "      <td>O</td>\n",
       "      <td>Y</td>\n",
       "      <td>69.0</td>\n",
       "      <td>BOMBARDIER</td>\n",
       "      <td>6311</td>\n",
       "      <td>CL-600-2C10</td>\n",
       "      <td>18055.0</td>\n",
       "      <td>NaN</td>\n",
       "      <td>20363.0</td>\n",
       "      <td>9E</td>\n",
       "    </tr>\n",
       "    <tr>\n",
       "      <th>124681</th>\n",
       "      <td>2023</td>\n",
       "      <td>9E</td>\n",
       "      <td>Endeavor Air Inc.</td>\n",
       "      <td>NaN</td>\n",
       "      <td>Endeavor Air Inc.</td>\n",
       "      <td>10182</td>\n",
       "      <td>N690CA</td>\n",
       "      <td>O</td>\n",
       "      <td>N</td>\n",
       "      <td>69.0</td>\n",
       "      <td>BOMBARDIER</td>\n",
       "      <td>6311</td>\n",
       "      <td>CL-600-2C10</td>\n",
       "      <td>18055.0</td>\n",
       "      <td>NaN</td>\n",
       "      <td>20363.0</td>\n",
       "      <td>9E</td>\n",
       "    </tr>\n",
       "    <tr>\n",
       "      <th>124682</th>\n",
       "      <td>2023</td>\n",
       "      <td>9E</td>\n",
       "      <td>Endeavor Air Inc.</td>\n",
       "      <td>2002.0</td>\n",
       "      <td>Endeavor Air Inc.</td>\n",
       "      <td>10055</td>\n",
       "      <td>N317CA</td>\n",
       "      <td>O</td>\n",
       "      <td>N</td>\n",
       "      <td>69.0</td>\n",
       "      <td>BOMBARDIER</td>\n",
       "      <td>6311</td>\n",
       "      <td>CL-600-2C10</td>\n",
       "      <td>18055.0</td>\n",
       "      <td>NaN</td>\n",
       "      <td>20363.0</td>\n",
       "      <td>9E</td>\n",
       "    </tr>\n",
       "    <tr>\n",
       "      <th>124683</th>\n",
       "      <td>2023</td>\n",
       "      <td>9E</td>\n",
       "      <td>Endeavor Air Inc.</td>\n",
       "      <td>2002.0</td>\n",
       "      <td>Endeavor Air Inc.</td>\n",
       "      <td>10061</td>\n",
       "      <td>N331CA</td>\n",
       "      <td>O</td>\n",
       "      <td>N</td>\n",
       "      <td>69.0</td>\n",
       "      <td>BOMBARDIER</td>\n",
       "      <td>6311</td>\n",
       "      <td>CL-600-2C10</td>\n",
       "      <td>18055.0</td>\n",
       "      <td>NaN</td>\n",
       "      <td>20363.0</td>\n",
       "      <td>9E</td>\n",
       "    </tr>\n",
       "    <tr>\n",
       "      <th>124684</th>\n",
       "      <td>2023</td>\n",
       "      <td>9E</td>\n",
       "      <td>Endeavor Air Inc.</td>\n",
       "      <td>2002.0</td>\n",
       "      <td>Endeavor Air Inc.</td>\n",
       "      <td>10062</td>\n",
       "      <td>N340CA</td>\n",
       "      <td>O</td>\n",
       "      <td>Y</td>\n",
       "      <td>69.0</td>\n",
       "      <td>BOMBARDIER</td>\n",
       "      <td>6311</td>\n",
       "      <td>CL-600-2C10</td>\n",
       "      <td>18055.0</td>\n",
       "      <td>NaN</td>\n",
       "      <td>20363.0</td>\n",
       "      <td>9E</td>\n",
       "    </tr>\n",
       "  </tbody>\n",
       "</table>\n",
       "</div>"
      ],
      "text/plain": [
       "        YEAR CARRIER                 CARRIER_NAME  MANUFACTURE_YEAR  \\\n",
       "124678  2023      8C  Air Transport International            2000.0   \n",
       "124679  2023      8C  Air Transport International            2001.0   \n",
       "124680  2023      9E            Endeavor Air Inc.               NaN   \n",
       "124681  2023      9E            Endeavor Air Inc.               NaN   \n",
       "124682  2023      9E            Endeavor Air Inc.            2002.0   \n",
       "124683  2023      9E            Endeavor Air Inc.            2002.0   \n",
       "124684  2023      9E            Endeavor Air Inc.            2002.0   \n",
       "\n",
       "                UNIQUE_CARRIER_NAME SERIAL_NUMBER TAIL_NUMBER AIRCRAFT_STATUS  \\\n",
       "124678  Air Transport International         30595      N641AZ               b   \n",
       "124679  Air Transport International         30575      N617AZ               b   \n",
       "124680            Endeavor Air Inc.         10134      N655CA               O   \n",
       "124681            Endeavor Air Inc.         10182      N690CA               O   \n",
       "124682            Endeavor Air Inc.         10055      N317CA               O   \n",
       "124683            Endeavor Air Inc.         10061      N331CA               O   \n",
       "124684            Endeavor Air Inc.         10062      N340CA               O   \n",
       "\n",
       "       OPERATING_STATUS  NUMBER_OF_SEATS MANUFACTURER AIRCRAFT_TYPE  \\\n",
       "124678                Y              0.0       BOEING          6262   \n",
       "124679                Y              0.0       BOEING          6262   \n",
       "124680                Y             69.0   BOMBARDIER          6311   \n",
       "124681                N             69.0   BOMBARDIER          6311   \n",
       "124682                N             69.0   BOMBARDIER          6311   \n",
       "124683                N             69.0   BOMBARDIER          6311   \n",
       "124684                Y             69.0   BOMBARDIER          6311   \n",
       "\n",
       "              MODEL  CAPACITY_IN_POUNDS       ACQUISITION_DATE  AIRLINE_ID  \\\n",
       "124678      767-332            125000.0  3/15/2022 12:00:00 AM     19874.0   \n",
       "124679      767-332            125000.0  8/25/2022 12:00:00 AM     19874.0   \n",
       "124680  CL-600-2C10             18055.0                    NaN     20363.0   \n",
       "124681  CL-600-2C10             18055.0                    NaN     20363.0   \n",
       "124682  CL-600-2C10             18055.0                    NaN     20363.0   \n",
       "124683  CL-600-2C10             18055.0                    NaN     20363.0   \n",
       "124684  CL-600-2C10             18055.0                    NaN     20363.0   \n",
       "\n",
       "       UNIQUE_CARRIER  \n",
       "124678             8C  \n",
       "124679             8C  \n",
       "124680             9E  \n",
       "124681             9E  \n",
       "124682             9E  \n",
       "124683             9E  \n",
       "124684             9E  "
      ]
     },
     "execution_count": 23,
     "metadata": {},
     "output_type": "execute_result"
    }
   ],
   "source": [
    "inventory.iloc[124678:124685]"
   ]
  },
  {
   "cell_type": "code",
   "execution_count": 24,
   "metadata": {
    "colab": {
     "base_uri": "https://localhost:8080/",
     "height": 466
    },
    "id": "jQ9YB0w6hDoY",
    "outputId": "6f46c843-95e3-43dd-ce77-539f812acefe"
   },
   "outputs": [
    {
     "data": {
      "text/html": [
       "<div>\n",
       "<style scoped>\n",
       "    .dataframe tbody tr th:only-of-type {\n",
       "        vertical-align: middle;\n",
       "    }\n",
       "\n",
       "    .dataframe tbody tr th {\n",
       "        vertical-align: top;\n",
       "    }\n",
       "\n",
       "    .dataframe thead th {\n",
       "        text-align: right;\n",
       "    }\n",
       "</style>\n",
       "<table border=\"1\" class=\"dataframe\">\n",
       "  <thead>\n",
       "    <tr style=\"text-align: right;\">\n",
       "      <th></th>\n",
       "      <th>YEAR</th>\n",
       "      <th>CARRIER</th>\n",
       "      <th>CARRIER_NAME</th>\n",
       "      <th>MANUFACTURE_YEAR</th>\n",
       "      <th>UNIQUE_CARRIER_NAME</th>\n",
       "      <th>SERIAL_NUMBER</th>\n",
       "      <th>TAIL_NUMBER</th>\n",
       "      <th>AIRCRAFT_STATUS</th>\n",
       "      <th>OPERATING_STATUS</th>\n",
       "      <th>NUMBER_OF_SEATS</th>\n",
       "      <th>MANUFACTURER</th>\n",
       "      <th>AIRCRAFT_TYPE</th>\n",
       "      <th>MODEL</th>\n",
       "      <th>CAPACITY_IN_POUNDS</th>\n",
       "      <th>ACQUISITION_DATE</th>\n",
       "      <th>AIRLINE_ID</th>\n",
       "      <th>UNIQUE_CARRIER</th>\n",
       "    </tr>\n",
       "  </thead>\n",
       "  <tbody>\n",
       "    <tr>\n",
       "      <th>124694</th>\n",
       "      <td>2023</td>\n",
       "      <td>9E</td>\n",
       "      <td>Endeavor Air Inc.</td>\n",
       "      <td>2003.0</td>\n",
       "      <td>Endeavor Air Inc.</td>\n",
       "      <td>10112</td>\n",
       "      <td>N398CA</td>\n",
       "      <td>O</td>\n",
       "      <td>Y</td>\n",
       "      <td>69.0</td>\n",
       "      <td>BOMBARDIER</td>\n",
       "      <td>6311</td>\n",
       "      <td>CL-600-2C10</td>\n",
       "      <td>18055.0</td>\n",
       "      <td>NaN</td>\n",
       "      <td>20363.0</td>\n",
       "      <td>9E</td>\n",
       "    </tr>\n",
       "    <tr>\n",
       "      <th>124695</th>\n",
       "      <td>2023</td>\n",
       "      <td>9E</td>\n",
       "      <td>Endeavor Air Inc.</td>\n",
       "      <td>2004.0</td>\n",
       "      <td>Endeavor Air Inc.</td>\n",
       "      <td>10153</td>\n",
       "      <td>N659CA</td>\n",
       "      <td>O</td>\n",
       "      <td>N</td>\n",
       "      <td>69.0</td>\n",
       "      <td>BOMBARDIER</td>\n",
       "      <td>6311</td>\n",
       "      <td>CL-600-2C10</td>\n",
       "      <td>18055.0</td>\n",
       "      <td>NaN</td>\n",
       "      <td>20363.0</td>\n",
       "      <td>9E</td>\n",
       "    </tr>\n",
       "    <tr>\n",
       "      <th>124696</th>\n",
       "      <td>2023</td>\n",
       "      <td>9E</td>\n",
       "      <td>Endeavor Air Inc.</td>\n",
       "      <td>2004.0</td>\n",
       "      <td>Endeavor Air Inc.</td>\n",
       "      <td>10162</td>\n",
       "      <td>N668CA</td>\n",
       "      <td>O</td>\n",
       "      <td>N</td>\n",
       "      <td>69.0</td>\n",
       "      <td>BOMBARDIER</td>\n",
       "      <td>6311</td>\n",
       "      <td>CL-600-2C10</td>\n",
       "      <td>18055.0</td>\n",
       "      <td>NaN</td>\n",
       "      <td>20363.0</td>\n",
       "      <td>9E</td>\n",
       "    </tr>\n",
       "    <tr>\n",
       "      <th>124697</th>\n",
       "      <td>2023</td>\n",
       "      <td>9E</td>\n",
       "      <td>Endeavor Air Inc.</td>\n",
       "      <td>2004.0</td>\n",
       "      <td>Endeavor Air Inc.</td>\n",
       "      <td>10176</td>\n",
       "      <td>N669CA</td>\n",
       "      <td>O</td>\n",
       "      <td>N</td>\n",
       "      <td>69.0</td>\n",
       "      <td>BOMBARDIER</td>\n",
       "      <td>6311</td>\n",
       "      <td>CL-600-2C10</td>\n",
       "      <td>18055.0</td>\n",
       "      <td>NaN</td>\n",
       "      <td>20363.0</td>\n",
       "      <td>9E</td>\n",
       "    </tr>\n",
       "    <tr>\n",
       "      <th>124698</th>\n",
       "      <td>2023</td>\n",
       "      <td>9E</td>\n",
       "      <td>Endeavor Air Inc.</td>\n",
       "      <td>2006.0</td>\n",
       "      <td>Endeavor Air Inc.</td>\n",
       "      <td>15097</td>\n",
       "      <td>N695CA</td>\n",
       "      <td>O</td>\n",
       "      <td>Y</td>\n",
       "      <td>76.0</td>\n",
       "      <td>BOMBARDIER</td>\n",
       "      <td>6381</td>\n",
       "      <td>CL-600-2D24</td>\n",
       "      <td>23350.0</td>\n",
       "      <td>NaN</td>\n",
       "      <td>20363.0</td>\n",
       "      <td>9E</td>\n",
       "    </tr>\n",
       "    <tr>\n",
       "      <th>124699</th>\n",
       "      <td>2023</td>\n",
       "      <td>9E</td>\n",
       "      <td>Endeavor Air Inc.</td>\n",
       "      <td>2007.0</td>\n",
       "      <td>Endeavor Air Inc.</td>\n",
       "      <td>15125</td>\n",
       "      <td>N678CA</td>\n",
       "      <td>O</td>\n",
       "      <td>Y</td>\n",
       "      <td>76.0</td>\n",
       "      <td>BOMBARDIER</td>\n",
       "      <td>6381</td>\n",
       "      <td>CL-600-2D24</td>\n",
       "      <td>23350.0</td>\n",
       "      <td>NaN</td>\n",
       "      <td>20363.0</td>\n",
       "      <td>9E</td>\n",
       "    </tr>\n",
       "  </tbody>\n",
       "</table>\n",
       "</div>"
      ],
      "text/plain": [
       "        YEAR CARRIER       CARRIER_NAME  MANUFACTURE_YEAR UNIQUE_CARRIER_NAME  \\\n",
       "124694  2023      9E  Endeavor Air Inc.            2003.0   Endeavor Air Inc.   \n",
       "124695  2023      9E  Endeavor Air Inc.            2004.0   Endeavor Air Inc.   \n",
       "124696  2023      9E  Endeavor Air Inc.            2004.0   Endeavor Air Inc.   \n",
       "124697  2023      9E  Endeavor Air Inc.            2004.0   Endeavor Air Inc.   \n",
       "124698  2023      9E  Endeavor Air Inc.            2006.0   Endeavor Air Inc.   \n",
       "124699  2023      9E  Endeavor Air Inc.            2007.0   Endeavor Air Inc.   \n",
       "\n",
       "       SERIAL_NUMBER TAIL_NUMBER AIRCRAFT_STATUS OPERATING_STATUS  \\\n",
       "124694         10112      N398CA               O                Y   \n",
       "124695         10153      N659CA               O                N   \n",
       "124696         10162      N668CA               O                N   \n",
       "124697         10176      N669CA               O                N   \n",
       "124698         15097      N695CA               O                Y   \n",
       "124699         15125      N678CA               O                Y   \n",
       "\n",
       "        NUMBER_OF_SEATS MANUFACTURER AIRCRAFT_TYPE        MODEL  \\\n",
       "124694             69.0   BOMBARDIER          6311  CL-600-2C10   \n",
       "124695             69.0   BOMBARDIER          6311  CL-600-2C10   \n",
       "124696             69.0   BOMBARDIER          6311  CL-600-2C10   \n",
       "124697             69.0   BOMBARDIER          6311  CL-600-2C10   \n",
       "124698             76.0   BOMBARDIER          6381  CL-600-2D24   \n",
       "124699             76.0   BOMBARDIER          6381  CL-600-2D24   \n",
       "\n",
       "        CAPACITY_IN_POUNDS ACQUISITION_DATE  AIRLINE_ID UNIQUE_CARRIER  \n",
       "124694             18055.0              NaN     20363.0             9E  \n",
       "124695             18055.0              NaN     20363.0             9E  \n",
       "124696             18055.0              NaN     20363.0             9E  \n",
       "124697             18055.0              NaN     20363.0             9E  \n",
       "124698             23350.0              NaN     20363.0             9E  \n",
       "124699             23350.0              NaN     20363.0             9E  "
      ]
     },
     "execution_count": 24,
     "metadata": {},
     "output_type": "execute_result"
    }
   ],
   "source": [
    "inventory.iloc[124682+12:124682+18]"
   ]
  },
  {
   "cell_type": "markdown",
   "metadata": {
    "id": "WooXXkWBgZSI"
   },
   "source": [
    "We can't replace anything\n",
    "\n",
    "### Number of Seats"
   ]
  },
  {
   "cell_type": "code",
   "execution_count": 25,
   "metadata": {
    "colab": {
     "base_uri": "https://localhost:8080/",
     "height": 410
    },
    "id": "188MCdZ4fl3E",
    "outputId": "848a3b33-27aa-45af-ca29-52b6b8957ee8"
   },
   "outputs": [
    {
     "data": {
      "text/html": [
       "<div>\n",
       "<style scoped>\n",
       "    .dataframe tbody tr th:only-of-type {\n",
       "        vertical-align: middle;\n",
       "    }\n",
       "\n",
       "    .dataframe tbody tr th {\n",
       "        vertical-align: top;\n",
       "    }\n",
       "\n",
       "    .dataframe thead th {\n",
       "        text-align: right;\n",
       "    }\n",
       "</style>\n",
       "<table border=\"1\" class=\"dataframe\">\n",
       "  <thead>\n",
       "    <tr style=\"text-align: right;\">\n",
       "      <th></th>\n",
       "      <th>YEAR</th>\n",
       "      <th>CARRIER</th>\n",
       "      <th>CARRIER_NAME</th>\n",
       "      <th>MANUFACTURE_YEAR</th>\n",
       "      <th>UNIQUE_CARRIER_NAME</th>\n",
       "      <th>SERIAL_NUMBER</th>\n",
       "      <th>TAIL_NUMBER</th>\n",
       "      <th>AIRCRAFT_STATUS</th>\n",
       "      <th>OPERATING_STATUS</th>\n",
       "      <th>NUMBER_OF_SEATS</th>\n",
       "      <th>MANUFACTURER</th>\n",
       "      <th>AIRCRAFT_TYPE</th>\n",
       "      <th>MODEL</th>\n",
       "      <th>CAPACITY_IN_POUNDS</th>\n",
       "      <th>ACQUISITION_DATE</th>\n",
       "      <th>AIRLINE_ID</th>\n",
       "      <th>UNIQUE_CARRIER</th>\n",
       "    </tr>\n",
       "  </thead>\n",
       "  <tbody>\n",
       "    <tr>\n",
       "      <th>97550</th>\n",
       "      <td>2019</td>\n",
       "      <td>M6</td>\n",
       "      <td>Amerijet International</td>\n",
       "      <td>1982.0</td>\n",
       "      <td>Amerijet International</td>\n",
       "      <td>22218</td>\n",
       "      <td>N743AX</td>\n",
       "      <td>b</td>\n",
       "      <td>Y</td>\n",
       "      <td>NaN</td>\n",
       "      <td>BOEING</td>\n",
       "      <td>6252</td>\n",
       "      <td>767-232SFCARGO</td>\n",
       "      <td>96000.0</td>\n",
       "      <td>7/1/2010 12:00:00 AM</td>\n",
       "      <td>20151.0</td>\n",
       "      <td>M6</td>\n",
       "    </tr>\n",
       "    <tr>\n",
       "      <th>97551</th>\n",
       "      <td>2019</td>\n",
       "      <td>M6</td>\n",
       "      <td>Amerijet International</td>\n",
       "      <td>1988.0</td>\n",
       "      <td>Amerijet International</td>\n",
       "      <td>24146</td>\n",
       "      <td>N316CM</td>\n",
       "      <td>b</td>\n",
       "      <td>Y</td>\n",
       "      <td>NaN</td>\n",
       "      <td>BOEING</td>\n",
       "      <td>6262</td>\n",
       "      <td>767-338ERCARGO</td>\n",
       "      <td>118000.0</td>\n",
       "      <td>8/19/2014 12:00:00 AM</td>\n",
       "      <td>20151.0</td>\n",
       "      <td>M6</td>\n",
       "    </tr>\n",
       "    <tr>\n",
       "      <th>97552</th>\n",
       "      <td>2019</td>\n",
       "      <td>M6</td>\n",
       "      <td>Amerijet International</td>\n",
       "      <td>1988.0</td>\n",
       "      <td>Amerijet International</td>\n",
       "      <td>24407</td>\n",
       "      <td>N319CM</td>\n",
       "      <td>b</td>\n",
       "      <td>Y</td>\n",
       "      <td>NaN</td>\n",
       "      <td>BOEING</td>\n",
       "      <td>6262</td>\n",
       "      <td>767-338ERCARGO</td>\n",
       "      <td>118000.0</td>\n",
       "      <td>9/29/2014 12:00:00 AM</td>\n",
       "      <td>20151.0</td>\n",
       "      <td>M6</td>\n",
       "    </tr>\n",
       "    <tr>\n",
       "      <th>97553</th>\n",
       "      <td>2019</td>\n",
       "      <td>M6</td>\n",
       "      <td>Amerijet International</td>\n",
       "      <td>1990.0</td>\n",
       "      <td>Amerijet International</td>\n",
       "      <td>24929</td>\n",
       "      <td>N373CM</td>\n",
       "      <td>b</td>\n",
       "      <td>Y</td>\n",
       "      <td>NaN</td>\n",
       "      <td>BOEING</td>\n",
       "      <td>6262</td>\n",
       "      <td>767-338ERCARGO</td>\n",
       "      <td>118000.0</td>\n",
       "      <td>7/15/2016 12:00:00 AM</td>\n",
       "      <td>20151.0</td>\n",
       "      <td>M6</td>\n",
       "    </tr>\n",
       "    <tr>\n",
       "      <th>97554</th>\n",
       "      <td>2019</td>\n",
       "      <td>M6</td>\n",
       "      <td>Amerijet International</td>\n",
       "      <td>1991.0</td>\n",
       "      <td>Amerijet International</td>\n",
       "      <td>25195</td>\n",
       "      <td>N396CM</td>\n",
       "      <td>b</td>\n",
       "      <td>Y</td>\n",
       "      <td>NaN</td>\n",
       "      <td>BOEING</td>\n",
       "      <td>6262</td>\n",
       "      <td>767-323ERCARGO</td>\n",
       "      <td>118000.0</td>\n",
       "      <td>11/29/2017 12:00:00 AM</td>\n",
       "      <td>20151.0</td>\n",
       "      <td>M6</td>\n",
       "    </tr>\n",
       "    <tr>\n",
       "      <th>97555</th>\n",
       "      <td>2019</td>\n",
       "      <td>M6</td>\n",
       "      <td>Amerijet International</td>\n",
       "      <td>1993.0</td>\n",
       "      <td>Amerijet International</td>\n",
       "      <td>26995</td>\n",
       "      <td>N347CM</td>\n",
       "      <td>b</td>\n",
       "      <td>Y</td>\n",
       "      <td>NaN</td>\n",
       "      <td>BOEING</td>\n",
       "      <td>6262</td>\n",
       "      <td>767-323ERCARGO</td>\n",
       "      <td>118000.0</td>\n",
       "      <td>10/12/2018 12:00:00 AM</td>\n",
       "      <td>20151.0</td>\n",
       "      <td>M6</td>\n",
       "    </tr>\n",
       "    <tr>\n",
       "      <th>97556</th>\n",
       "      <td>2019</td>\n",
       "      <td>M6</td>\n",
       "      <td>Amerijet International</td>\n",
       "      <td>1994.0</td>\n",
       "      <td>Amerijet International</td>\n",
       "      <td>27184</td>\n",
       "      <td>N378CX</td>\n",
       "      <td>b</td>\n",
       "      <td>Y</td>\n",
       "      <td>NaN</td>\n",
       "      <td>BOEING</td>\n",
       "      <td>6262</td>\n",
       "      <td>767-323ERCARGO</td>\n",
       "      <td>118000.0</td>\n",
       "      <td>6/8/2018 12:00:00 AM</td>\n",
       "      <td>20151.0</td>\n",
       "      <td>M6</td>\n",
       "    </tr>\n",
       "  </tbody>\n",
       "</table>\n",
       "</div>"
      ],
      "text/plain": [
       "       YEAR CARRIER            CARRIER_NAME  MANUFACTURE_YEAR  \\\n",
       "97550  2019      M6  Amerijet International            1982.0   \n",
       "97551  2019      M6  Amerijet International            1988.0   \n",
       "97552  2019      M6  Amerijet International            1988.0   \n",
       "97553  2019      M6  Amerijet International            1990.0   \n",
       "97554  2019      M6  Amerijet International            1991.0   \n",
       "97555  2019      M6  Amerijet International            1993.0   \n",
       "97556  2019      M6  Amerijet International            1994.0   \n",
       "\n",
       "          UNIQUE_CARRIER_NAME SERIAL_NUMBER TAIL_NUMBER AIRCRAFT_STATUS  \\\n",
       "97550  Amerijet International         22218      N743AX               b   \n",
       "97551  Amerijet International         24146      N316CM               b   \n",
       "97552  Amerijet International         24407      N319CM               b   \n",
       "97553  Amerijet International         24929      N373CM               b   \n",
       "97554  Amerijet International         25195      N396CM               b   \n",
       "97555  Amerijet International         26995      N347CM               b   \n",
       "97556  Amerijet International         27184      N378CX               b   \n",
       "\n",
       "      OPERATING_STATUS  NUMBER_OF_SEATS MANUFACTURER AIRCRAFT_TYPE  \\\n",
       "97550                Y              NaN       BOEING          6252   \n",
       "97551                Y              NaN       BOEING          6262   \n",
       "97552                Y              NaN       BOEING          6262   \n",
       "97553                Y              NaN       BOEING          6262   \n",
       "97554                Y              NaN       BOEING          6262   \n",
       "97555                Y              NaN       BOEING          6262   \n",
       "97556                Y              NaN       BOEING          6262   \n",
       "\n",
       "                MODEL  CAPACITY_IN_POUNDS        ACQUISITION_DATE  AIRLINE_ID  \\\n",
       "97550  767-232SFCARGO             96000.0    7/1/2010 12:00:00 AM     20151.0   \n",
       "97551  767-338ERCARGO            118000.0   8/19/2014 12:00:00 AM     20151.0   \n",
       "97552  767-338ERCARGO            118000.0   9/29/2014 12:00:00 AM     20151.0   \n",
       "97553  767-338ERCARGO            118000.0   7/15/2016 12:00:00 AM     20151.0   \n",
       "97554  767-323ERCARGO            118000.0  11/29/2017 12:00:00 AM     20151.0   \n",
       "97555  767-323ERCARGO            118000.0  10/12/2018 12:00:00 AM     20151.0   \n",
       "97556  767-323ERCARGO            118000.0    6/8/2018 12:00:00 AM     20151.0   \n",
       "\n",
       "      UNIQUE_CARRIER  \n",
       "97550             M6  \n",
       "97551             M6  \n",
       "97552             M6  \n",
       "97553             M6  \n",
       "97554             M6  \n",
       "97555             M6  \n",
       "97556             M6  "
      ]
     },
     "execution_count": 25,
     "metadata": {},
     "output_type": "execute_result"
    }
   ],
   "source": [
    "inv_missing[inv_missing['NUMBER_OF_SEATS'].isna()]"
   ]
  },
  {
   "cell_type": "code",
   "execution_count": 26,
   "metadata": {
    "colab": {
     "base_uri": "https://localhost:8080/"
    },
    "id": "pS0niTeJj0bu",
    "outputId": "df13fd19-fccf-4d0d-e68d-d068861c7afa"
   },
   "outputs": [
    {
     "data": {
      "text/plain": [
       "array([ 0., nan])"
      ]
     },
     "execution_count": 26,
     "metadata": {},
     "output_type": "execute_result"
    }
   ],
   "source": [
    "inventory[inventory[\"MODEL\"] == \"767-232SFCARGO\"][\"NUMBER_OF_SEATS\"].unique()"
   ]
  },
  {
   "cell_type": "code",
   "execution_count": 27,
   "metadata": {
    "colab": {
     "base_uri": "https://localhost:8080/"
    },
    "id": "E6P3PRuhkRhs",
    "outputId": "7299a2a3-b91d-4a62-830a-4b14f83382f5"
   },
   "outputs": [
    {
     "data": {
      "text/plain": [
       "array([], dtype=float64)"
      ]
     },
     "execution_count": 27,
     "metadata": {},
     "output_type": "execute_result"
    }
   ],
   "source": [
    "inventory[inventory[\"MODEL\"] == \"767-323SFCARGO\"][\"NUMBER_OF_SEATS\"].unique()"
   ]
  },
  {
   "cell_type": "code",
   "execution_count": 28,
   "metadata": {
    "colab": {
     "base_uri": "https://localhost:8080/"
    },
    "id": "wd1JOAVckUr4",
    "outputId": "d55984e7-3aa4-405c-daf0-c6670fc05b01"
   },
   "outputs": [
    {
     "data": {
      "text/plain": [
       "array([], dtype=float64)"
      ]
     },
     "execution_count": 28,
     "metadata": {},
     "output_type": "execute_result"
    }
   ],
   "source": [
    "inventory[inventory[\"MODEL\"] == \"767-338SFCARGO\"][\"NUMBER_OF_SEATS\"].unique()"
   ]
  },
  {
   "cell_type": "code",
   "execution_count": 29,
   "metadata": {
    "id": "wlr-iGQdXzy9"
   },
   "outputs": [],
   "source": [
    "from math import nan\n",
    "inventory[\"NUMBER_OF_SEATS\"] = inventory[\"NUMBER_OF_SEATS\"].fillna(0)"
   ]
  },
  {
   "cell_type": "markdown",
   "metadata": {
    "id": "V8qEd8ZokqsY"
   },
   "source": [
    "It looks like the na values are for cargo planes. Given they are cargo planes with no passengers, let's just say they have 0 seats as with other cargo planes in the set.\n",
    "\n",
    "### Capacity in LBs"
   ]
  },
  {
   "cell_type": "code",
   "execution_count": 30,
   "metadata": {
    "colab": {
     "base_uri": "https://localhost:8080/",
     "height": 704
    },
    "id": "GoGKRsi1knQt",
    "outputId": "75c4a8c2-c86a-48bc-b6d7-a2562e7283e1"
   },
   "outputs": [
    {
     "data": {
      "text/html": [
       "<div>\n",
       "<style scoped>\n",
       "    .dataframe tbody tr th:only-of-type {\n",
       "        vertical-align: middle;\n",
       "    }\n",
       "\n",
       "    .dataframe tbody tr th {\n",
       "        vertical-align: top;\n",
       "    }\n",
       "\n",
       "    .dataframe thead th {\n",
       "        text-align: right;\n",
       "    }\n",
       "</style>\n",
       "<table border=\"1\" class=\"dataframe\">\n",
       "  <thead>\n",
       "    <tr style=\"text-align: right;\">\n",
       "      <th></th>\n",
       "      <th>YEAR</th>\n",
       "      <th>CARRIER</th>\n",
       "      <th>CARRIER_NAME</th>\n",
       "      <th>MANUFACTURE_YEAR</th>\n",
       "      <th>UNIQUE_CARRIER_NAME</th>\n",
       "      <th>SERIAL_NUMBER</th>\n",
       "      <th>TAIL_NUMBER</th>\n",
       "      <th>AIRCRAFT_STATUS</th>\n",
       "      <th>OPERATING_STATUS</th>\n",
       "      <th>NUMBER_OF_SEATS</th>\n",
       "      <th>MANUFACTURER</th>\n",
       "      <th>AIRCRAFT_TYPE</th>\n",
       "      <th>MODEL</th>\n",
       "      <th>CAPACITY_IN_POUNDS</th>\n",
       "      <th>ACQUISITION_DATE</th>\n",
       "      <th>AIRLINE_ID</th>\n",
       "      <th>UNIQUE_CARRIER</th>\n",
       "    </tr>\n",
       "  </thead>\n",
       "  <tbody>\n",
       "    <tr>\n",
       "      <th>78991</th>\n",
       "      <td>2017</td>\n",
       "      <td>5Y</td>\n",
       "      <td>Atlas Air Inc.</td>\n",
       "      <td>1982.0</td>\n",
       "      <td>Atlas Air Inc.</td>\n",
       "      <td>22694</td>\n",
       "      <td>N767MW</td>\n",
       "      <td>b</td>\n",
       "      <td>Y</td>\n",
       "      <td>181.0</td>\n",
       "      <td>BOEING</td>\n",
       "      <td>6251</td>\n",
       "      <td>B767-200</td>\n",
       "      <td>NaN</td>\n",
       "      <td>7/1/2013 12:00:00 AM</td>\n",
       "      <td>20007.0</td>\n",
       "      <td>5Y</td>\n",
       "    </tr>\n",
       "    <tr>\n",
       "      <th>79015</th>\n",
       "      <td>2017</td>\n",
       "      <td>5Y</td>\n",
       "      <td>Atlas Air Inc.</td>\n",
       "      <td>2012.0</td>\n",
       "      <td>Atlas Air Inc.</td>\n",
       "      <td>37809</td>\n",
       "      <td>N643GT</td>\n",
       "      <td>b</td>\n",
       "      <td>Y</td>\n",
       "      <td>0.0</td>\n",
       "      <td>BOEING</td>\n",
       "      <td>6262</td>\n",
       "      <td>B767-300</td>\n",
       "      <td>NaN</td>\n",
       "      <td>1/17/2013 12:00:00 AM</td>\n",
       "      <td>20007.0</td>\n",
       "      <td>5Y</td>\n",
       "    </tr>\n",
       "    <tr>\n",
       "      <th>79016</th>\n",
       "      <td>2017</td>\n",
       "      <td>5Y</td>\n",
       "      <td>Atlas Air Inc.</td>\n",
       "      <td>2012.0</td>\n",
       "      <td>Atlas Air Inc.</td>\n",
       "      <td>37810</td>\n",
       "      <td>N644GT</td>\n",
       "      <td>b</td>\n",
       "      <td>Y</td>\n",
       "      <td>0.0</td>\n",
       "      <td>BOEING</td>\n",
       "      <td>6262</td>\n",
       "      <td>B767-300</td>\n",
       "      <td>NaN</td>\n",
       "      <td>1/22/2013 12:00:00 AM</td>\n",
       "      <td>20007.0</td>\n",
       "      <td>5Y</td>\n",
       "    </tr>\n",
       "    <tr>\n",
       "      <th>81902</th>\n",
       "      <td>2017</td>\n",
       "      <td>FX</td>\n",
       "      <td>Federal Express Corporation</td>\n",
       "      <td>1971.0</td>\n",
       "      <td>Federal Express Corporation</td>\n",
       "      <td>46601</td>\n",
       "      <td>N365FE</td>\n",
       "      <td>O</td>\n",
       "      <td>Y</td>\n",
       "      <td>0.0</td>\n",
       "      <td>MCDONNELLDOUGLAS</td>\n",
       "      <td>7302</td>\n",
       "      <td>DC-10-10</td>\n",
       "      <td>NaN</td>\n",
       "      <td>11/6/1997 12:00:00 AM</td>\n",
       "      <td>20107.0</td>\n",
       "      <td>FX</td>\n",
       "    </tr>\n",
       "    <tr>\n",
       "      <th>81903</th>\n",
       "      <td>2017</td>\n",
       "      <td>FX</td>\n",
       "      <td>Federal Express Corporation</td>\n",
       "      <td>1971.0</td>\n",
       "      <td>Federal Express Corporation</td>\n",
       "      <td>46606</td>\n",
       "      <td>N368FE</td>\n",
       "      <td>O</td>\n",
       "      <td>Y</td>\n",
       "      <td>0.0</td>\n",
       "      <td>MCDONNELLDOUGLAS</td>\n",
       "      <td>7302</td>\n",
       "      <td>DC-10-10</td>\n",
       "      <td>NaN</td>\n",
       "      <td>8/21/1997 12:00:00 AM</td>\n",
       "      <td>20107.0</td>\n",
       "      <td>FX</td>\n",
       "    </tr>\n",
       "    <tr>\n",
       "      <th>...</th>\n",
       "      <td>...</td>\n",
       "      <td>...</td>\n",
       "      <td>...</td>\n",
       "      <td>...</td>\n",
       "      <td>...</td>\n",
       "      <td>...</td>\n",
       "      <td>...</td>\n",
       "      <td>...</td>\n",
       "      <td>...</td>\n",
       "      <td>...</td>\n",
       "      <td>...</td>\n",
       "      <td>...</td>\n",
       "      <td>...</td>\n",
       "      <td>...</td>\n",
       "      <td>...</td>\n",
       "      <td>...</td>\n",
       "      <td>...</td>\n",
       "    </tr>\n",
       "    <tr>\n",
       "      <th>82456</th>\n",
       "      <td>2017</td>\n",
       "      <td>FX</td>\n",
       "      <td>Federal Express Corporation</td>\n",
       "      <td>1999.0</td>\n",
       "      <td>Federal Express Corporation</td>\n",
       "      <td>48791</td>\n",
       "      <td>N620FE</td>\n",
       "      <td>b</td>\n",
       "      <td>Y</td>\n",
       "      <td>0.0</td>\n",
       "      <td>MCDONNELLDOUGLAS</td>\n",
       "      <td>7402</td>\n",
       "      <td>MD-11</td>\n",
       "      <td>NaN</td>\n",
       "      <td>3/25/1999 12:00:00 AM</td>\n",
       "      <td>20107.0</td>\n",
       "      <td>FX</td>\n",
       "    </tr>\n",
       "    <tr>\n",
       "      <th>82457</th>\n",
       "      <td>2017</td>\n",
       "      <td>FX</td>\n",
       "      <td>Federal Express Corporation</td>\n",
       "      <td>1999.0</td>\n",
       "      <td>Federal Express Corporation</td>\n",
       "      <td>48792</td>\n",
       "      <td>N621FE</td>\n",
       "      <td>b</td>\n",
       "      <td>Y</td>\n",
       "      <td>0.0</td>\n",
       "      <td>MCDONNELLDOUGLAS</td>\n",
       "      <td>7402</td>\n",
       "      <td>MD-11</td>\n",
       "      <td>NaN</td>\n",
       "      <td>5/28/1999 12:00:00 AM</td>\n",
       "      <td>20107.0</td>\n",
       "      <td>FX</td>\n",
       "    </tr>\n",
       "    <tr>\n",
       "      <th>82458</th>\n",
       "      <td>2017</td>\n",
       "      <td>FX</td>\n",
       "      <td>Federal Express Corporation</td>\n",
       "      <td>1999.0</td>\n",
       "      <td>Federal Express Corporation</td>\n",
       "      <td>48794</td>\n",
       "      <td>N623FE</td>\n",
       "      <td>b</td>\n",
       "      <td>Y</td>\n",
       "      <td>0.0</td>\n",
       "      <td>MCDONNELLDOUGLAS</td>\n",
       "      <td>7402</td>\n",
       "      <td>MD-11</td>\n",
       "      <td>NaN</td>\n",
       "      <td>6/28/1999 12:00:00 AM</td>\n",
       "      <td>20107.0</td>\n",
       "      <td>FX</td>\n",
       "    </tr>\n",
       "    <tr>\n",
       "      <th>90567</th>\n",
       "      <td>2018</td>\n",
       "      <td>NK</td>\n",
       "      <td>Spirit Air Lines</td>\n",
       "      <td>2018.0</td>\n",
       "      <td>Spirit Air Lines</td>\n",
       "      <td>8658</td>\n",
       "      <td>N908NK</td>\n",
       "      <td>b</td>\n",
       "      <td>Y</td>\n",
       "      <td>182.0</td>\n",
       "      <td>AirbusIndustries</td>\n",
       "      <td>7221</td>\n",
       "      <td>A-320-PSGRneo</td>\n",
       "      <td>NaN</td>\n",
       "      <td>12/17/2018 12:00:00 AM</td>\n",
       "      <td>20416.0</td>\n",
       "      <td>NK</td>\n",
       "    </tr>\n",
       "    <tr>\n",
       "      <th>90569</th>\n",
       "      <td>2018</td>\n",
       "      <td>NK</td>\n",
       "      <td>Spirit Air Lines</td>\n",
       "      <td>2018.0</td>\n",
       "      <td>Spirit Air Lines</td>\n",
       "      <td>8668</td>\n",
       "      <td>N910NK</td>\n",
       "      <td>b</td>\n",
       "      <td>Y</td>\n",
       "      <td>182.0</td>\n",
       "      <td>AirbusIndustries</td>\n",
       "      <td>7221</td>\n",
       "      <td>A-320-PSGRneo</td>\n",
       "      <td>NaN</td>\n",
       "      <td>12/20/2018 12:00:00 AM</td>\n",
       "      <td>20416.0</td>\n",
       "      <td>NK</td>\n",
       "    </tr>\n",
       "  </tbody>\n",
       "</table>\n",
       "<p>101 rows × 17 columns</p>\n",
       "</div>"
      ],
      "text/plain": [
       "       YEAR CARRIER                 CARRIER_NAME  MANUFACTURE_YEAR  \\\n",
       "78991  2017      5Y               Atlas Air Inc.            1982.0   \n",
       "79015  2017      5Y               Atlas Air Inc.            2012.0   \n",
       "79016  2017      5Y               Atlas Air Inc.            2012.0   \n",
       "81902  2017      FX  Federal Express Corporation            1971.0   \n",
       "81903  2017      FX  Federal Express Corporation            1971.0   \n",
       "...     ...     ...                          ...               ...   \n",
       "82456  2017      FX  Federal Express Corporation            1999.0   \n",
       "82457  2017      FX  Federal Express Corporation            1999.0   \n",
       "82458  2017      FX  Federal Express Corporation            1999.0   \n",
       "90567  2018      NK             Spirit Air Lines            2018.0   \n",
       "90569  2018      NK             Spirit Air Lines            2018.0   \n",
       "\n",
       "               UNIQUE_CARRIER_NAME SERIAL_NUMBER TAIL_NUMBER AIRCRAFT_STATUS  \\\n",
       "78991               Atlas Air Inc.         22694      N767MW               b   \n",
       "79015               Atlas Air Inc.         37809      N643GT               b   \n",
       "79016               Atlas Air Inc.         37810      N644GT               b   \n",
       "81902  Federal Express Corporation         46601      N365FE               O   \n",
       "81903  Federal Express Corporation         46606      N368FE               O   \n",
       "...                            ...           ...         ...             ...   \n",
       "82456  Federal Express Corporation         48791      N620FE               b   \n",
       "82457  Federal Express Corporation         48792      N621FE               b   \n",
       "82458  Federal Express Corporation         48794      N623FE               b   \n",
       "90567             Spirit Air Lines          8658      N908NK               b   \n",
       "90569             Spirit Air Lines          8668      N910NK               b   \n",
       "\n",
       "      OPERATING_STATUS  NUMBER_OF_SEATS      MANUFACTURER AIRCRAFT_TYPE  \\\n",
       "78991                Y            181.0            BOEING          6251   \n",
       "79015                Y              0.0            BOEING          6262   \n",
       "79016                Y              0.0            BOEING          6262   \n",
       "81902                Y              0.0  MCDONNELLDOUGLAS          7302   \n",
       "81903                Y              0.0  MCDONNELLDOUGLAS          7302   \n",
       "...                ...              ...               ...           ...   \n",
       "82456                Y              0.0  MCDONNELLDOUGLAS          7402   \n",
       "82457                Y              0.0  MCDONNELLDOUGLAS          7402   \n",
       "82458                Y              0.0  MCDONNELLDOUGLAS          7402   \n",
       "90567                Y            182.0  AirbusIndustries          7221   \n",
       "90569                Y            182.0  AirbusIndustries          7221   \n",
       "\n",
       "               MODEL  CAPACITY_IN_POUNDS        ACQUISITION_DATE  AIRLINE_ID  \\\n",
       "78991       B767-200                 NaN    7/1/2013 12:00:00 AM     20007.0   \n",
       "79015       B767-300                 NaN   1/17/2013 12:00:00 AM     20007.0   \n",
       "79016       B767-300                 NaN   1/22/2013 12:00:00 AM     20007.0   \n",
       "81902       DC-10-10                 NaN   11/6/1997 12:00:00 AM     20107.0   \n",
       "81903       DC-10-10                 NaN   8/21/1997 12:00:00 AM     20107.0   \n",
       "...              ...                 ...                     ...         ...   \n",
       "82456          MD-11                 NaN   3/25/1999 12:00:00 AM     20107.0   \n",
       "82457          MD-11                 NaN   5/28/1999 12:00:00 AM     20107.0   \n",
       "82458          MD-11                 NaN   6/28/1999 12:00:00 AM     20107.0   \n",
       "90567  A-320-PSGRneo                 NaN  12/17/2018 12:00:00 AM     20416.0   \n",
       "90569  A-320-PSGRneo                 NaN  12/20/2018 12:00:00 AM     20416.0   \n",
       "\n",
       "      UNIQUE_CARRIER  \n",
       "78991             5Y  \n",
       "79015             5Y  \n",
       "79016             5Y  \n",
       "81902             FX  \n",
       "81903             FX  \n",
       "...              ...  \n",
       "82456             FX  \n",
       "82457             FX  \n",
       "82458             FX  \n",
       "90567             NK  \n",
       "90569             NK  \n",
       "\n",
       "[101 rows x 17 columns]"
      ]
     },
     "execution_count": 30,
     "metadata": {},
     "output_type": "execute_result"
    }
   ],
   "source": [
    "inv_missing[inv_missing[\"CAPACITY_IN_POUNDS\"].isna()]"
   ]
  },
  {
   "cell_type": "code",
   "execution_count": 31,
   "metadata": {
    "colab": {
     "base_uri": "https://localhost:8080/",
     "height": 210
    },
    "id": "GYtnTw8ulCC5",
    "outputId": "53f4888c-0791-4abb-c3b5-df462d572aa4"
   },
   "outputs": [
    {
     "data": {
      "text/plain": [
       "MANUFACTURER\n",
       "MCDONNELLDOUGLAS    96\n",
       "BOEING               3\n",
       "AirbusIndustries     2\n",
       "Name: count, dtype: int64"
      ]
     },
     "execution_count": 31,
     "metadata": {},
     "output_type": "execute_result"
    }
   ],
   "source": [
    "inv_missing[inv_missing[\"CAPACITY_IN_POUNDS\"].isna()][\"MANUFACTURER\"].value_counts()"
   ]
  },
  {
   "cell_type": "code",
   "execution_count": 32,
   "metadata": {
    "colab": {
     "base_uri": "https://localhost:8080/",
     "height": 490
    },
    "id": "ePpOaHBgmUn4",
    "outputId": "a42854f1-2a4b-4797-9807-9a702b48dfa6"
   },
   "outputs": [
    {
     "data": {
      "text/plain": [
       "CAPACITY_IN_POUNDS\n",
       "193693.0    12\n",
       "193057.0    11\n",
       "191217.0    11\n",
       "193915.0    11\n",
       "192417.0    11\n",
       "            ..\n",
       "137850.0     2\n",
       "138785.0     2\n",
       "138952.0     2\n",
       "138878.0     2\n",
       "0.0          2\n",
       "Name: count, Length: 140, dtype: int64"
      ]
     },
     "execution_count": 32,
     "metadata": {},
     "output_type": "execute_result"
    }
   ],
   "source": [
    "inventory[(inventory[\"CARRIER\"]==\"FX\")&(inventory[\"MANUFACTURER\"]==\"MCDONNELLDOUGLAS\")][\"CAPACITY_IN_POUNDS\"].value_counts()"
   ]
  },
  {
   "cell_type": "markdown",
   "metadata": {
    "id": "Ej8ZR_rKV6mj"
   },
   "source": [
    "### Airline ID"
   ]
  },
  {
   "cell_type": "code",
   "execution_count": 33,
   "metadata": {
    "colab": {
     "base_uri": "https://localhost:8080/",
     "height": 178
    },
    "id": "97jjgwR-mcAL",
    "outputId": "112fe8e8-5db4-4672-b8c9-6a3e14529ba8"
   },
   "outputs": [
    {
     "data": {
      "text/plain": [
       "CARRIER\n",
       "OH    97\n",
       "L4     8\n",
       "Name: count, dtype: int64"
      ]
     },
     "execution_count": 33,
     "metadata": {},
     "output_type": "execute_result"
    }
   ],
   "source": [
    "inv_missing[inv_missing[\"AIRLINE_ID\"].isna()][\"CARRIER\"].value_counts()"
   ]
  },
  {
   "cell_type": "code",
   "execution_count": 34,
   "metadata": {
    "colab": {
     "base_uri": "https://localhost:8080/",
     "height": 178
    },
    "id": "d6mPOJZKnzSr",
    "outputId": "d6c25e6f-2d23-43cc-edbd-9dd702ecb0d2"
   },
   "outputs": [
    {
     "data": {
      "text/plain": [
       "AIRLINE_ID\n",
       "20397.0    1176\n",
       "20417.0     623\n",
       "Name: count, dtype: int64"
      ]
     },
     "execution_count": 34,
     "metadata": {},
     "output_type": "execute_result"
    }
   ],
   "source": [
    "inventory[inventory[\"CARRIER\"]==\"OH\"][\"AIRLINE_ID\"].value_counts()"
   ]
  },
  {
   "cell_type": "code",
   "execution_count": 35,
   "metadata": {
    "colab": {
     "base_uri": "https://localhost:8080/",
     "height": 147
    },
    "id": "9KGXsLWAp0zW",
    "outputId": "bfe99f57-f46c-4850-fd2d-d3fe46e08005"
   },
   "outputs": [
    {
     "data": {
      "text/plain": [
       "AIRLINE_ID\n",
       "20417.0    623\n",
       "Name: count, dtype: int64"
      ]
     },
     "execution_count": 35,
     "metadata": {},
     "output_type": "execute_result"
    }
   ],
   "source": [
    "inventory[(inventory[\"CARRIER\"]==\"OH\") & (inventory[\"YEAR\"] < 2014)][\"AIRLINE_ID\"].value_counts()"
   ]
  },
  {
   "cell_type": "code",
   "execution_count": 36,
   "metadata": {
    "colab": {
     "base_uri": "https://localhost:8080/"
    },
    "id": "oQ--kWDBprn4",
    "outputId": "281475d4-384c-41f4-b49f-cf64591f1fb5"
   },
   "outputs": [
    {
     "name": "stderr",
     "output_type": "stream",
     "text": [
      "/tmp/ipykernel_862/1235957248.py:5: SettingWithCopyWarning: \n",
      "A value is trying to be set on a copy of a slice from a DataFrame.\n",
      "Try using .loc[row_indexer,col_indexer] = value instead\n",
      "\n",
      "See the caveats in the documentation: https://pandas.pydata.org/pandas-docs/stable/user_guide/indexing.html#returning-a-view-versus-a-copy\n",
      "  inventory.loc[(inventory[\"CARRIER\"] == \"OH\") &\n"
     ]
    }
   ],
   "source": [
    "inventory.loc[(inventory[\"CARRIER\"] == \"OH\") &\n",
    " (inventory[\"YEAR\"] > 2014) &\n",
    "  (inventory[\"AIRLINE_ID\"].isna())][\"AIRLINE_ID\"] = 20397\n",
    "\n",
    "inventory.loc[(inventory[\"CARRIER\"] == \"OH\") &\n",
    " (inventory[\"YEAR\"] < 2014) &\n",
    "  (inventory[\"AIRLINE_ID\"].isna())][\"AIRLINE_ID\"] = 20417"
   ]
  },
  {
   "cell_type": "code",
   "execution_count": 37,
   "metadata": {
    "colab": {
     "base_uri": "https://localhost:8080/",
     "height": 147
    },
    "id": "RnCv2p51pJ0J",
    "outputId": "a222365b-15ef-4fc0-b26f-5ddba4f1b7d3"
   },
   "outputs": [
    {
     "data": {
      "text/plain": [
       "AIRLINE_ID\n",
       "21217.0    10\n",
       "Name: count, dtype: int64"
      ]
     },
     "execution_count": 37,
     "metadata": {},
     "output_type": "execute_result"
    }
   ],
   "source": [
    "inventory[inventory[\"CARRIER\"]==\"L4\"][\"AIRLINE_ID\"].value_counts()"
   ]
  },
  {
   "cell_type": "code",
   "execution_count": 38,
   "metadata": {
    "id": "hy_rsVjwpMTL"
   },
   "outputs": [],
   "source": [
    "inventory.loc[(inventory[\"CARRIER\"]==\"OH\") & (inventory[\"AIRLINE_ID\"].isna())] = 21217"
   ]
  },
  {
   "cell_type": "code",
   "execution_count": 39,
   "metadata": {
    "colab": {
     "base_uri": "https://localhost:8080/"
    },
    "id": "0dhtjfVGsfrc",
    "outputId": "8e95d716-7d0d-4ee5-8c66-93982c4a4ea5"
   },
   "outputs": [
    {
     "data": {
      "text/plain": [
       "(31146, 17)"
      ]
     },
     "execution_count": 39,
     "metadata": {},
     "output_type": "execute_result"
    }
   ],
   "source": [
    "inv_missing.shape"
   ]
  },
  {
   "cell_type": "code",
   "execution_count": 40,
   "metadata": {
    "colab": {
     "base_uri": "https://localhost:8080/"
    },
    "id": "oqHdbM1Tss3P",
    "outputId": "ae7195d5-9575-4d01-93ff-383e8763e821"
   },
   "outputs": [
    {
     "data": {
      "text/plain": [
       "(31042, 17)"
      ]
     },
     "execution_count": 40,
     "metadata": {},
     "output_type": "execute_result"
    }
   ],
   "source": [
    "inventory[inventory.isnull().any(axis=1)].shape"
   ]
  },
  {
   "cell_type": "markdown",
   "metadata": {
    "id": "a5Rz_-fGti6q"
   },
   "source": [
    "We manage to change the capacities because there really is only one option to change the data to"
   ]
  },
  {
   "cell_type": "code",
   "execution_count": 41,
   "metadata": {
    "id": "t-SJDqwydP4N"
   },
   "outputs": [],
   "source": [
    "inventory = inventory.drop(columns=[\"UNIQUE_CARRIER\"])"
   ]
  },
  {
   "cell_type": "markdown",
   "metadata": {
    "id": "3BdobxFRtE_3"
   },
   "source": [
    "# Question 2\n",
    "\n",
    "Inspect the columns MANUFACTURER, MODEL, AIRCRAFT_STATUS, and OPERATING_STATUS. Decide, for each column, if transformation or standardization of data are required. Give your reasoning and code if you decide to transform the data.\n",
    "Hints:\n",
    "For very messy data like manufacturer/model names, give your best attempt. It is okay to not catch them all.\n",
    "Use value_counts() to identify \"big wins\".\n",
    "Break down into multiple steps, instead of having one line of code to do them all."
   ]
  },
  {
   "cell_type": "markdown",
   "metadata": {
    "id": "GHBLj3Z3Cdnu"
   },
   "source": [
    "### Manufacturer"
   ]
  },
  {
   "cell_type": "code",
   "execution_count": 42,
   "metadata": {
    "colab": {
     "base_uri": "https://localhost:8080/",
     "height": 490
    },
    "id": "QxIG_PNks6l0",
    "outputId": "1590db16-0f16-474e-98bb-decd4a9a5faf"
   },
   "outputs": [
    {
     "data": {
      "text/plain": [
       "MANUFACTURER\n",
       "BOEING                        15922\n",
       "Embraer                       11508\n",
       "THEBOEINGCO                    9223\n",
       "Bombardier                     8871\n",
       "Boeing                         8392\n",
       "                              ...  \n",
       "Rolls-Royce                       1\n",
       "Dassault-Falcon-2000EXEASy        1\n",
       "FOKKER72                          1\n",
       "FOKKER70                          1\n",
       "MCDONNEL                          1\n",
       "Name: count, Length: 184, dtype: int64"
      ]
     },
     "execution_count": 42,
     "metadata": {},
     "output_type": "execute_result"
    }
   ],
   "source": [
    "inventory[\"MANUFACTURER\"].value_counts()"
   ]
  },
  {
   "cell_type": "markdown",
   "metadata": {
    "id": "Skutm7XzxXjD"
   },
   "source": [
    "We'll change a few things. Namely, Let's turn BOEING to Boeing and THEBOEINGCO to Boeing too. This is an issue that occurs for pretty much every major airplane manufacturer."
   ]
  },
  {
   "cell_type": "code",
   "execution_count": 43,
   "metadata": {
    "id": "EFJaAQWOxW99"
   },
   "outputs": [],
   "source": [
    "inventory[\"MANUFACTURER\"] = inventory[\"MANUFACTURER\"].str.lower()"
   ]
  },
  {
   "cell_type": "code",
   "execution_count": 44,
   "metadata": {
    "id": "FTY5pQSox2o-"
   },
   "outputs": [],
   "source": [
    "inventory[\"MANUFACTURER\"] = inventory[\"MANUFACTURER\"].apply(\n",
    "    lambda x: \"boeing\" if isinstance(x, str) and \"boeing\" in x.lower() else x\n",
    ")\n",
    "inventory[\"MANUFACTURER\"] = inventory[\"MANUFACTURER\"].apply(\n",
    "    lambda x: \"airbus\" if isinstance(x, str) and \"airbus\" in x.lower() else x\n",
    ")\n",
    "inventory[\"MANUFACTURER\"] = inventory[\"MANUFACTURER\"].apply(\n",
    "    lambda x: \"mcdonnelldouglas\" if isinstance(x, str) and \"mcdonnel\" in x.lower() else x\n",
    ")\n",
    "inventory[\"MANUFACTURER\"] = inventory[\"MANUFACTURER\"].apply(\n",
    "    lambda x: \"mcdonnelldouglas\" if isinstance(x, str) and \"dougla\" in x.lower() else x\n",
    ")\n",
    "inventory[\"MANUFACTURER\"] = inventory[\"MANUFACTURER\"].apply(\n",
    "    lambda x: \"embraer\" if isinstance(x, str) and \"embrae\" in x.lower() else x\n",
    ")\n",
    "inventory[\"MANUFACTURER\"] = inventory[\"MANUFACTURER\"].apply(\n",
    "    lambda x: \"bombardier\" if isinstance(x, str) and \"bombardier\" in x.lower() else x\n",
    ")\n",
    "inventory[\"MANUFACTURER\"] = inventory[\"MANUFACTURER\"].apply(\n",
    "    lambda x: \"cessna\" if isinstance(x, str) and \"cessna\" in x.lower() else x\n",
    ")\n",
    "inventory[\"MANUFACTURER\"] = inventory[\"MANUFACTURER\"].apply(\n",
    "    lambda x: \"canadair\" if isinstance(x, str) and \"canada\" in x.lower() else x\n",
    ")"
   ]
  },
  {
   "cell_type": "code",
   "execution_count": 45,
   "metadata": {
    "colab": {
     "base_uri": "https://localhost:8080/",
     "height": 429
    },
    "id": "tagC7A9bxtwb",
    "outputId": "c860a908-c743-45f2-a0b0-b3f70d7e92af"
   },
   "outputs": [
    {
     "data": {
      "text/plain": [
       "MANUFACTURER\n",
       "boeing              55639\n",
       "airbus              23517\n",
       "embraer             15554\n",
       "bombardier          12386\n",
       "mcdonnelldouglas    10713\n",
       "cessna               4514\n",
       "canadair             3861\n",
       "ge                   1110\n",
       "atr                  1103\n",
       "dehavilland           987\n",
       "Name: count, dtype: int64"
      ]
     },
     "execution_count": 45,
     "metadata": {},
     "output_type": "execute_result"
    }
   ],
   "source": [
    "inventory[\"MANUFACTURER\"].value_counts().head(10)"
   ]
  },
  {
   "cell_type": "markdown",
   "metadata": {
    "id": "5xV8Z3quDh3F"
   },
   "source": [
    "There's some issues with data entry, but I don't think there's much I can do."
   ]
  },
  {
   "cell_type": "code",
   "execution_count": 46,
   "metadata": {
    "colab": {
     "base_uri": "https://localhost:8080/",
     "height": 490
    },
    "id": "XqEkXawf0kWh",
    "outputId": "d82c1ba9-5810-418a-cace-41be9ee09fbc"
   },
   "outputs": [
    {
     "data": {
      "text/plain": [
       "MANUFACTURER\n",
       "boeing                                                                              55639\n",
       "airbus                                                                              23517\n",
       "embraer                                                                             15554\n",
       "bombardier                                                                          12386\n",
       "mcdonnelldouglas                                                                    10713\n",
       "                                                                                    ...  \n",
       "fokker70                                                                                1\n",
       "fokker72                                                                                1\n",
       "beechcraft                                                                              1\n",
       "iai                                                                                     1\n",
       "jsa/peach                                                                               1\n",
       "Name: count, Length: 127, dtype: int64"
      ]
     },
     "execution_count": 46,
     "metadata": {},
     "output_type": "execute_result"
    }
   ],
   "source": [
    "inventory[\"MANUFACTURER\"].value_counts()"
   ]
  },
  {
   "cell_type": "markdown",
   "metadata": {
    "id": "9pE83w31Cbrr"
   },
   "source": [
    "### Model"
   ]
  },
  {
   "cell_type": "code",
   "execution_count": 47,
   "metadata": {
    "colab": {
     "base_uri": "https://localhost:8080/"
    },
    "id": "o-ZGHZyAt0za",
    "outputId": "06a031d8-22f7-4ee9-a12c-a9a840b6c71a"
   },
   "outputs": [
    {
     "name": "stdout",
     "output_type": "stream",
     "text": [
      "MODEL\n",
      "EMB-145                 2614\n",
      "B-737-7H4               2470\n",
      "B737-823                2370\n",
      "A320-232                2333\n",
      "A321-231                2259\n",
      "737-700PASSENGERONLY    2027\n",
      "C-208B                  1872\n",
      "B757-2                  1775\n",
      "CRJ-2/4                 1761\n",
      "B737-800PAX             1621\n",
      "Name: count, dtype: int64\n",
      "(1342,)\n"
     ]
    }
   ],
   "source": [
    "print(inventory[\"MODEL\"].value_counts().head(10))\n",
    "print(inventory[\"MODEL\"].unique().shape)"
   ]
  },
  {
   "cell_type": "markdown",
   "metadata": {
    "id": "gR3_fB7kCnD1"
   },
   "source": [
    "This is difficult. We could try to use regex to change the format of everything to something like B-737-XXX. I think it could be more consistent to take out all dashes, slashes, and spaces."
   ]
  },
  {
   "cell_type": "code",
   "execution_count": 48,
   "metadata": {
    "colab": {
     "base_uri": "https://localhost:8080/",
     "height": 429
    },
    "id": "wX26FWEx1wL6",
    "outputId": "8450b31e-3fb5-4c5e-9c5f-e4d9348d6ad8"
   },
   "outputs": [
    {
     "data": {
      "text/plain": [
       "MODEL\n",
       "Emb145                 2690\n",
       "B7377H4                2470\n",
       "B737823                2370\n",
       "A320232                2333\n",
       "A321231                2259\n",
       "737700Passengeronly    2027\n",
       "Crj200                 1929\n",
       "C208B                  1872\n",
       "B7572                  1784\n",
       "Crj24                  1761\n",
       "Name: count, dtype: int64"
      ]
     },
     "execution_count": 48,
     "metadata": {},
     "output_type": "execute_result"
    }
   ],
   "source": [
    "inventory[\"MODEL\"]=inventory[\"MODEL\"].str.replace(r\"[-/]\", \"\", regex = True)\n",
    "inventory[\"MODEL\"]=inventory[\"MODEL\"].str.title()\n",
    "inventory[\"MODEL\"].value_counts().head(10)"
   ]
  },
  {
   "cell_type": "code",
   "execution_count": 49,
   "metadata": {
    "colab": {
     "base_uri": "https://localhost:8080/"
    },
    "id": "A_vjegZ_GMTy",
    "outputId": "ab78f033-bc32-4226-c83f-c65aebb4c54a"
   },
   "outputs": [
    {
     "name": "stdout",
     "output_type": "stream",
     "text": [
      "(1200,)\n"
     ]
    }
   ],
   "source": [
    "print(inventory[\"MODEL\"].unique().shape)"
   ]
  },
  {
   "cell_type": "markdown",
   "metadata": {
    "id": "EBGSt9t7HXwW"
   },
   "source": [
    "Given how much complexity there is with different plane types and configurations, I can't really do much better without having additional institutional knowledge (ie what's the difference between B737XXX and B737XXX)"
   ]
  },
  {
   "cell_type": "markdown",
   "metadata": {
    "id": "s8vnp3cUCjXS"
   },
   "source": [
    "### Aircraft Status"
   ]
  },
  {
   "cell_type": "code",
   "execution_count": 50,
   "metadata": {
    "colab": {
     "base_uri": "https://localhost:8080/",
     "height": 366
    },
    "id": "_GCKGLpnt560",
    "outputId": "da7e9234-df33-492f-a58b-289b4a47b2cd"
   },
   "outputs": [
    {
     "data": {
      "text/plain": [
       "AIRCRAFT_STATUS\n",
       "O        79445\n",
       "b        30852\n",
       "B        12699\n",
       "a         7749\n",
       "A         1330\n",
       "L          122\n",
       "21217       97\n",
       "o           19\n",
       "Name: count, dtype: int64"
      ]
     },
     "execution_count": 50,
     "metadata": {},
     "output_type": "execute_result"
    }
   ],
   "source": [
    "inventory[\"AIRCRAFT_STATUS\"].value_counts()"
   ]
  },
  {
   "cell_type": "markdown",
   "metadata": {
    "id": "XZckqeiIu7iz"
   },
   "source": [
    "It seems like there are differences in capitalization. We'll transform them to be all capital letters (except 21217). We're dropping those rows because that's not the right status. On the BTS website, there should only be A, B, and O. I'm not sure what L is supposed to be. It'll be left in."
   ]
  },
  {
   "cell_type": "code",
   "execution_count": 51,
   "metadata": {
    "id": "WRgZef2Sv1O8"
   },
   "outputs": [],
   "source": [
    "inventory = inventory.drop(inventory[inventory[\"AIRCRAFT_STATUS\"] == 21217].index)"
   ]
  },
  {
   "cell_type": "code",
   "execution_count": 52,
   "metadata": {
    "id": "1-gokmE0wfpP"
   },
   "outputs": [],
   "source": [
    "inventory[\"AIRCRAFT_STATUS\"] = inventory[\"AIRCRAFT_STATUS\"].str.upper()"
   ]
  },
  {
   "cell_type": "markdown",
   "metadata": {
    "id": "F8kLu_IcCf00"
   },
   "source": [
    "### Operating Status"
   ]
  },
  {
   "cell_type": "code",
   "execution_count": 53,
   "metadata": {
    "colab": {
     "base_uri": "https://localhost:8080/",
     "height": 241
    },
    "id": "egfZ8nnJt-A7",
    "outputId": "c8ea5a00-3258-46b5-d190-245adff76447"
   },
   "outputs": [
    {
     "data": {
      "text/plain": [
       "OPERATING_STATUS\n",
       "Y    126494\n",
       "N      5650\n",
       "y        71\n",
       "          1\n",
       "Name: count, dtype: int64"
      ]
     },
     "execution_count": 53,
     "metadata": {},
     "output_type": "execute_result"
    }
   ],
   "source": [
    "inventory[\"OPERATING_STATUS\"].value_counts()"
   ]
  },
  {
   "cell_type": "markdown",
   "metadata": {
    "id": "--7YFRiGxPGw"
   },
   "source": [
    "I'm also changing the lowercase y to \"Y\""
   ]
  },
  {
   "cell_type": "code",
   "execution_count": 54,
   "metadata": {
    "id": "3Oo5YCbkuA5S"
   },
   "outputs": [],
   "source": [
    "inventory[\"OPERATING_STATUS\"] = inventory[\"OPERATING_STATUS\"].str.upper()"
   ]
  },
  {
   "cell_type": "markdown",
   "metadata": {
    "id": "OjRlPgj4H-eJ"
   },
   "source": [
    "# Question 3"
   ]
  },
  {
   "cell_type": "code",
   "execution_count": 55,
   "metadata": {
    "colab": {
     "base_uri": "https://localhost:8080/"
    },
    "id": "AGOHdyLXxUwv",
    "outputId": "724b9e3d-00f0-414f-be8d-867991ce825c"
   },
   "outputs": [
    {
     "data": {
      "text/plain": [
       "(132216, 16)"
      ]
     },
     "execution_count": 55,
     "metadata": {},
     "output_type": "execute_result"
    }
   ],
   "source": [
    "inventory.shape"
   ]
  },
  {
   "cell_type": "code",
   "execution_count": 56,
   "metadata": {
    "colab": {
     "base_uri": "https://localhost:8080/"
    },
    "id": "mpubne6qICWM",
    "outputId": "314517c8-88fd-4176-e674-2884a0544e0e"
   },
   "outputs": [
    {
     "data": {
      "text/plain": [
       "(101203, 16)"
      ]
     },
     "execution_count": 56,
     "metadata": {},
     "output_type": "execute_result"
    }
   ],
   "source": [
    "trimventory = inventory.dropna(axis=0, how = 'any')\n",
    "trimventory.shape"
   ]
  },
  {
   "cell_type": "markdown",
   "metadata": {
    "id": "pPzrdNuMIgGa"
   },
   "source": [
    "We lose about 30,000 columns... ouch. We have 101203 rows leftover."
   ]
  },
  {
   "cell_type": "markdown",
   "metadata": {
    "id": "XkGKS9d1I0EI"
   },
   "source": [
    "# Question 4"
   ]
  },
  {
   "cell_type": "code",
   "execution_count": 57,
   "metadata": {
    "id": "2DBrLtOZIXky"
   },
   "outputs": [],
   "source": [
    "import scipy.stats as sps\n",
    "import matplotlib.pyplot as plt"
   ]
  },
  {
   "cell_type": "code",
   "execution_count": 58,
   "metadata": {
    "colab": {
     "base_uri": "https://localhost:8080/"
    },
    "id": "dfGap2BCJ40K",
    "outputId": "ecdeb2f0-d622-46ae-cb3a-69eae5325683"
   },
   "outputs": [
    {
     "data": {
      "text/plain": [
       "NormaltestResult(statistic=array([ 4591.84176905, 80106.53025561]), pvalue=array([0., 0.]))"
      ]
     },
     "execution_count": 58,
     "metadata": {},
     "output_type": "execute_result"
    }
   ],
   "source": [
    "inventory_num = trimventory.loc[:, ['NUMBER_OF_SEATS','CAPACITY_IN_POUNDS']]\n",
    "sps.normaltest(inventory_num)"
   ]
  },
  {
   "cell_type": "code",
   "execution_count": 59,
   "metadata": {
    "colab": {
     "base_uri": "https://localhost:8080/"
    },
    "id": "Wd7-GF6mCKX9",
    "outputId": "461b347e-556d-433f-e563-a707f336db3f"
   },
   "outputs": [
    {
     "name": "stdout",
     "output_type": "stream",
     "text": [
      "3.766223743069557\n",
      "0.37775819098036517\n"
     ]
    }
   ],
   "source": [
    "print(trimventory[\"CAPACITY_IN_POUNDS\"].skew())\n",
    "print(trimventory[\"NUMBER_OF_SEATS\"].skew())"
   ]
  },
  {
   "cell_type": "code",
   "execution_count": 60,
   "metadata": {
    "colab": {
     "base_uri": "https://localhost:8080/",
     "height": 300
    },
    "id": "fFt2rrwXQOyx",
    "outputId": "a76fd57b-b87d-4273-9610-78d01b870ef7"
   },
   "outputs": [
    {
     "data": {
      "text/html": [
       "<div>\n",
       "<style scoped>\n",
       "    .dataframe tbody tr th:only-of-type {\n",
       "        vertical-align: middle;\n",
       "    }\n",
       "\n",
       "    .dataframe tbody tr th {\n",
       "        vertical-align: top;\n",
       "    }\n",
       "\n",
       "    .dataframe thead th {\n",
       "        text-align: right;\n",
       "    }\n",
       "</style>\n",
       "<table border=\"1\" class=\"dataframe\">\n",
       "  <thead>\n",
       "    <tr style=\"text-align: right;\">\n",
       "      <th></th>\n",
       "      <th>NUMBER_OF_SEATS</th>\n",
       "      <th>CAPACITY_IN_POUNDS</th>\n",
       "    </tr>\n",
       "  </thead>\n",
       "  <tbody>\n",
       "    <tr>\n",
       "      <th>count</th>\n",
       "      <td>101203.000000</td>\n",
       "      <td>101203.000000</td>\n",
       "    </tr>\n",
       "    <tr>\n",
       "      <th>mean</th>\n",
       "      <td>113.699535</td>\n",
       "      <td>77722.433465</td>\n",
       "    </tr>\n",
       "    <tr>\n",
       "      <th>std</th>\n",
       "      <td>77.829100</td>\n",
       "      <td>95747.837719</td>\n",
       "    </tr>\n",
       "    <tr>\n",
       "      <th>min</th>\n",
       "      <td>0.000000</td>\n",
       "      <td>0.000000</td>\n",
       "    </tr>\n",
       "    <tr>\n",
       "      <th>25%</th>\n",
       "      <td>50.000000</td>\n",
       "      <td>35600.000000</td>\n",
       "    </tr>\n",
       "    <tr>\n",
       "      <th>50%</th>\n",
       "      <td>137.000000</td>\n",
       "      <td>45150.000000</td>\n",
       "    </tr>\n",
       "    <tr>\n",
       "      <th>75%</th>\n",
       "      <td>169.000000</td>\n",
       "      <td>85517.000000</td>\n",
       "    </tr>\n",
       "    <tr>\n",
       "      <th>max</th>\n",
       "      <td>737.000000</td>\n",
       "      <td>875000.000000</td>\n",
       "    </tr>\n",
       "  </tbody>\n",
       "</table>\n",
       "</div>"
      ],
      "text/plain": [
       "       NUMBER_OF_SEATS  CAPACITY_IN_POUNDS\n",
       "count    101203.000000       101203.000000\n",
       "mean        113.699535        77722.433465\n",
       "std          77.829100        95747.837719\n",
       "min           0.000000            0.000000\n",
       "25%          50.000000        35600.000000\n",
       "50%         137.000000        45150.000000\n",
       "75%         169.000000        85517.000000\n",
       "max         737.000000       875000.000000"
      ]
     },
     "execution_count": 60,
     "metadata": {},
     "output_type": "execute_result"
    }
   ],
   "source": [
    "inventory_num.describe()"
   ]
  },
  {
   "cell_type": "code",
   "execution_count": 61,
   "metadata": {
    "colab": {
     "base_uri": "https://localhost:8080/",
     "height": 449
    },
    "id": "bB2kL4P_MnEB",
    "outputId": "8b39d533-39f3-49ab-9044-71912a93d80d"
   },
   "outputs": [
    {
     "data": {
      "image/png": "[encoded data removed]",
      "text/plain": [
       "<Figure size 640x480 with 2 Axes>"
      ]
     },
     "metadata": {},
     "output_type": "display_data"
    }
   ],
   "source": [
    "fig, axs = plt.subplots(1,2)\n",
    "sns.histplot(trimventory[\"NUMBER_OF_SEATS\"], ax=axs[0])\n",
    "sns.histplot(trimventory[\"CAPACITY_IN_POUNDS\"], ax=axs[1])\n",
    "plt.show()"
   ]
  },
  {
   "cell_type": "code",
   "execution_count": 62,
   "metadata": {
    "colab": {
     "base_uri": "https://localhost:8080/"
    },
    "id": "QffV8twEKAIX",
    "outputId": "ca34fa6b-66c6-4ea0-cba9-11638e4fc739"
   },
   "outputs": [
    {
     "name": "stderr",
     "output_type": "stream",
     "text": [
      "/tmp/ipykernel_862/822538270.py:1: SettingWithCopyWarning: \n",
      "A value is trying to be set on a copy of a slice from a DataFrame.\n",
      "Try using .loc[row_indexer,col_indexer] = value instead\n",
      "\n",
      "See the caveats in the documentation: https://pandas.pydata.org/pandas-docs/stable/user_guide/indexing.html#returning-a-view-versus-a-copy\n",
      "  trimventory[\"NUMBER_OF_SEATS_BOXCOX\"] = sps.boxcox(trimventory[\"NUMBER_OF_SEATS\"]+1)[0]\n",
      "/tmp/ipykernel_862/822538270.py:2: SettingWithCopyWarning: \n",
      "A value is trying to be set on a copy of a slice from a DataFrame.\n",
      "Try using .loc[row_indexer,col_indexer] = value instead\n",
      "\n",
      "See the caveats in the documentation: https://pandas.pydata.org/pandas-docs/stable/user_guide/indexing.html#returning-a-view-versus-a-copy\n",
      "  trimventory[\"CAPACITY_IN_POUNDS_BOXCOX\"] = sps.boxcox(trimventory[\"CAPACITY_IN_POUNDS\"]+1)[0]\n"
     ]
    }
   ],
   "source": [
    "trimventory[\"NUMBER_OF_SEATS_BOXCOX\"] = sps.boxcox(trimventory[\"NUMBER_OF_SEATS\"]+1)[0]\n",
    "trimventory[\"CAPACITY_IN_POUNDS_BOXCOX\"] = sps.boxcox(trimventory[\"CAPACITY_IN_POUNDS\"]+1)[0]"
   ]
  },
  {
   "cell_type": "code",
   "execution_count": 63,
   "metadata": {
    "colab": {
     "base_uri": "https://localhost:8080/",
     "height": 449
    },
    "id": "7B7vRJq2MluW",
    "outputId": "d9125660-32b1-443d-eed4-e7748d6fdd9c"
   },
   "outputs": [
    {
     "data": {
      "image/png": "[encoded data removed]",
      "text/plain": [
       "<Figure size 640x480 with 2 Axes>"
      ]
     },
     "metadata": {},
     "output_type": "display_data"
    }
   ],
   "source": [
    "fig, axs = plt.subplots(1,2)\n",
    "sns.histplot(trimventory[\"NUMBER_OF_SEATS_BOXCOX\"], ax=axs[0])\n",
    "sns.histplot(trimventory[\"CAPACITY_IN_POUNDS_BOXCOX\"], ax=axs[1])\n",
    "plt.show()"
   ]
  },
  {
   "cell_type": "code",
   "execution_count": 64,
   "metadata": {
    "colab": {
     "base_uri": "https://localhost:8080/",
     "height": 466
    },
    "id": "4hHanCftFlar",
    "outputId": "d5d4a94c-5dfc-4d9f-d287-fbaee9bc7ced"
   },
   "outputs": [
    {
     "data": {
      "text/plain": [
       "<matplotlib.legend.Legend at 0x78a7a0586b50>"
      ]
     },
     "execution_count": 64,
     "metadata": {},
     "output_type": "execute_result"
    },
    {
     "data": {
      "image/png": "[encoded data removed]",
      "text/plain": [
       "<Figure size 640x480 with 1 Axes>"
      ]
     },
     "metadata": {},
     "output_type": "display_data"
    }
   ],
   "source": [
    "fig, ax = plt.subplots(1, 1)\n",
    "sns.histplot(trimventory['NUMBER_OF_SEATS'], binwidth=20, stat='probability', alpha=0.3, color='k', label='unaltered')\n",
    "sns.histplot(trimventory['NUMBER_OF_SEATS_BOXCOX'], binwidth=20, stat='probability', alpha=0.3, color='purple', label='BOXCOX')\n",
    "ax.legend()"
   ]
  },
  {
   "cell_type": "code",
   "execution_count": 65,
   "metadata": {
    "colab": {
     "base_uri": "https://localhost:8080/",
     "height": 466
    },
    "id": "Ku3-9Je_Jbb-",
    "outputId": "64c06728-5001-402e-df52-e8f6cd9e9264"
   },
   "outputs": [
    {
     "data": {
      "text/plain": [
       "<Axes: xlabel='CAPACITY_IN_POUNDS', ylabel='Count'>"
      ]
     },
     "execution_count": 65,
     "metadata": {},
     "output_type": "execute_result"
    },
    {
     "data": {
      "image/png": "[encoded data removed]",
      "text/plain": [
       "<Figure size 640x480 with 1 Axes>"
      ]
     },
     "metadata": {},
     "output_type": "display_data"
    }
   ],
   "source": [
    "sns.histplot(trimventory[\"CAPACITY_IN_POUNDS\"])"
   ]
  },
  {
   "cell_type": "code",
   "execution_count": 66,
   "metadata": {
    "colab": {
     "base_uri": "https://localhost:8080/",
     "height": 466
    },
    "id": "HUENXP7bIQgn",
    "outputId": "62d92bb4-b075-4994-d935-1d81f2d94494"
   },
   "outputs": [
    {
     "data": {
      "text/plain": [
       "<Axes: xlabel='CAPACITY_IN_POUNDS_BOXCOX', ylabel='Count'>"
      ]
     },
     "execution_count": 66,
     "metadata": {},
     "output_type": "execute_result"
    },
    {
     "data": {
      "image/png": "[encoded data removed]",
      "text/plain": [
       "<Figure size 640x480 with 1 Axes>"
      ]
     },
     "metadata": {},
     "output_type": "display_data"
    }
   ],
   "source": [
    "sns.histplot(trimventory[\"CAPACITY_IN_POUNDS_BOXCOX\"])"
   ]
  },
  {
   "cell_type": "markdown",
   "metadata": {
    "id": "VAAOTlzeR5Yh"
   },
   "source": [
    "# Still need to describe what you observe before and after transformation"
   ]
  },
  {
   "cell_type": "markdown",
   "metadata": {
    "id": "s2kiRQPAR-Mq"
   },
   "source": [
    "# Question 5"
   ]
  },
  {
   "cell_type": "code",
   "execution_count": 67,
   "metadata": {
    "colab": {
     "base_uri": "https://localhost:8080/"
    },
    "id": "bamI7h9sdqOH",
    "outputId": "f9d9cced-05f4-4a12-fadc-fc3165b5ec2f"
   },
   "outputs": [
    {
     "name": "stderr",
     "output_type": "stream",
     "text": [
      "/tmp/ipykernel_862/209691691.py:1: SettingWithCopyWarning: \n",
      "A value is trying to be set on a copy of a slice from a DataFrame.\n",
      "Try using .loc[row_indexer,col_indexer] = value instead\n",
      "\n",
      "See the caveats in the documentation: https://pandas.pydata.org/pandas-docs/stable/user_guide/indexing.html#returning-a-view-versus-a-copy\n",
      "  trimventory[\"SIZE\"]=pd.qcut(trimventory[\"NUMBER_OF_SEATS\"], q=4, labels=[\"SMALL\", \"MEDIUM\", \"LARGE\", \"XLARGE\"])\n"
     ]
    }
   ],
   "source": [
    "trimventory[\"SIZE\"]=pd.qcut(trimventory[\"NUMBER_OF_SEATS\"], q=4, labels=[\"SMALL\", \"MEDIUM\", \"LARGE\", \"XLARGE\"])"
   ]
  },
  {
   "cell_type": "code",
   "execution_count": 68,
   "metadata": {
    "colab": {
     "base_uri": "https://localhost:8080/"
    },
    "id": "QXM4tjrlRD3z",
    "outputId": "9715bd24-dd55-4d19-a4fc-7231571b8ccd"
   },
   "outputs": [
    {
     "name": "stderr",
     "output_type": "stream",
     "text": [
      "/tmp/ipykernel_862/4149255715.py:2: FutureWarning: The default of observed=False is deprecated and will be changed to True in a future version of pandas. Pass observed=False to retain current behavior or observed=True to adopt the future default and silence this warning.\n",
      "  op_counts = trimventory.groupby(['SIZE', 'OPERATING_STATUS']).size().reset_index(name='count')\n",
      "/tmp/ipykernel_862/4149255715.py:3: FutureWarning: The default of observed=False is deprecated and will be changed to True in a future version of pandas. Pass observed=False to retain current behavior or observed=True to adopt the future default and silence this warning.\n",
      "  op_counts['proportion'] = op_counts.groupby('SIZE')['count'].transform(lambda x: x / x.sum())\n",
      "/tmp/ipykernel_862/4149255715.py:5: FutureWarning: The default of observed=False is deprecated and will be changed to True in a future version of pandas. Pass observed=False to retain current behavior or observed=True to adopt the future default and silence this warning.\n",
      "  status_counts = trimventory.groupby(['SIZE', 'AIRCRAFT_STATUS']).size().reset_index(name='count')\n",
      "/tmp/ipykernel_862/4149255715.py:6: FutureWarning: The default of observed=False is deprecated and will be changed to True in a future version of pandas. Pass observed=False to retain current behavior or observed=True to adopt the future default and silence this warning.\n",
      "  status_counts['proportion'] = status_counts.groupby('SIZE')['count'].transform(lambda x: x / x.sum())\n"
     ]
    }
   ],
   "source": [
    "# Count within each SIZE and OPERATING_STATUS\n",
    "op_counts = trimventory.groupby(['SIZE', 'OPERATING_STATUS']).size().reset_index(name='count')\n",
    "op_counts['proportion'] = op_counts.groupby('SIZE')['count'].transform(lambda x: x / x.sum())\n",
    "# Count within each SIZE and AIRCRAFT_STATUS\n",
    "status_counts = trimventory.groupby(['SIZE', 'AIRCRAFT_STATUS']).size().reset_index(name='count')\n",
    "status_counts['proportion'] = status_counts.groupby('SIZE')['count'].transform(lambda x: x / x.sum())\n"
   ]
  },
  {
   "cell_type": "code",
   "execution_count": 69,
   "metadata": {
    "colab": {
     "base_uri": "https://localhost:8080/",
     "height": 449
    },
    "id": "MrL9L70zd2cg",
    "outputId": "0be9f4ec-bad8-497e-e3c1-d60727be454c"
   },
   "outputs": [
    {
     "data": {
      "image/png": "[encoded data removed]",
      "text/plain": [
       "<Figure size 640x480 with 2 Axes>"
      ]
     },
     "metadata": {},
     "output_type": "display_data"
    }
   ],
   "source": [
    "import seaborn as sns\n",
    "import matplotlib.pyplot as plt\n",
    "\n",
    "fig, ax = plt.subplots(1,2)\n",
    "sns.barplot(data=op_counts, x='SIZE', y='proportion', hue='OPERATING_STATUS', ax=ax[0])\n",
    "sns.barplot(data=status_counts, x='SIZE', y='proportion', hue='AIRCRAFT_STATUS', ax=ax[1])\n",
    "plt.legend(title=\"Size\")\n",
    "plt.show()\n"
   ]
  },
  {
   "cell_type": "code",
   "execution_count": 70,
   "metadata": {
    "colab": {
     "base_uri": "https://localhost:8080/",
     "height": 446
    },
    "id": "Ksis_FqjhhpT",
    "outputId": "34406e42-8129-4986-b92b-b3e6e315e331"
   },
   "outputs": [
    {
     "data": {
      "image/png": "[encoded data removed]",
      "text/plain": [
       "<Figure size 1200x600 with 2 Axes>"
      ]
     },
     "metadata": {},
     "output_type": "display_data"
    }
   ],
   "source": [
    "# Create subplots\n",
    "fig, ax = plt.subplots(1, 2, figsize=(12, 6))\n",
    "\n",
    "# --- First subplot: stack by OPERATING_STATUS ---\n",
    "# Pivot the data so SIZE is index, OPERATING_STATUS is columns, values are proportions\n",
    "pivot_op = op_counts.pivot(index='SIZE', columns='OPERATING_STATUS', values='proportion').fillna(0)\n",
    "\n",
    "# Plot stacked bar manually\n",
    "bottoms = None\n",
    "for status in pivot_op.columns:\n",
    "    ax[0].bar(pivot_op.index, pivot_op[status], label=status, bottom=bottoms)\n",
    "    if bottoms is None:\n",
    "        bottoms = pivot_op[status]\n",
    "    else:\n",
    "        bottoms += pivot_op[status]\n",
    "ax[0].set_title(\"Operating Status by Size\")\n",
    "ax[0].set_xlabel(\"Size\")\n",
    "ax[0].set_ylabel(\"Proportion\")\n",
    "\n",
    "# --- Second subplot: stack by AIRCRAFT_STATUS ---\n",
    "pivot_status = status_counts.pivot(index='SIZE', columns='AIRCRAFT_STATUS', values='proportion').fillna(0)\n",
    "\n",
    "bottoms = None\n",
    "for status in pivot_status.columns:\n",
    "    ax[1].bar(pivot_status.index, pivot_status[status], label=status, bottom=bottoms)\n",
    "    if bottoms is None:\n",
    "        bottoms = pivot_status[status]\n",
    "    else:\n",
    "        bottoms += pivot_status[status]\n",
    "ax[1].set_title(\"Aircraft Status by Size\")\n",
    "ax[1].set_xlabel(\"Size\")\n",
    "ax[1].set_ylabel(\"Proportion\")\n",
    "\n",
    "# Add legend (shared for both)\n",
    "handles, labels = ax[0].get_legend_handles_labels()\n",
    "fig.legend(handles, labels, title=\"Status\", loc=\"upper center\", ncol=len(labels))\n",
    "\n",
    "plt.tight_layout()\n",
    "plt.show()\n"
   ]
  }
 ],
 "metadata": {
  "colab": {
   "provenance": [],
   "toc_visible": true
  },
  "kernelspec": {
   "display_name": "Python 3 (ipykernel)",
   "language": "python",
   "name": "python3"
  },
  "language_info": {
   "codemirror_mode": {
    "name": "ipython",
    "version": 3
   },
   "file_extension": ".py",
   "mimetype": "text/x-python",
   "name": "python",
   "nbconvert_exporter": "python",
   "pygments_lexer": "ipython3",
   "version": "3.11.6"
  }
 },
 "nbformat": 4,
 "nbformat_minor": 4
}
