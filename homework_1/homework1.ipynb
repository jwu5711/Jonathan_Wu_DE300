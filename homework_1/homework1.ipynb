{
 "cells": [
  {
   "cell_type": "code",
   "execution_count": null,
   "id": "0bb3fbf9-e6fc-41fe-ad2d-8191b7f2b903",
   "metadata": {},
   "outputs": [],
   "source": [
    "import pandas as pd\n",
    "import seaborn as sns\n",
    "inventory = pd.read_csv('T_F41SCHEDULE_B43.zip')"
   ]
  },
  {
   "cell_type": "code",
   "execution_count": null,
   "id": "2c40cc38-19fb-497f-8efd-3dc7d617a111",
   "metadata": {},
   "outputs": [],
   "source": [
    "inventory.info()"
   ]
  },
  {
   "cell_type": "markdown",
   "id": "cc2eda20-620c-4109-a2fa-ee7359f8db22",
   "metadata": {},
   "source": [
    "# Question 1\n",
    "1. Investigate the missing data in this dataset. Specifically, for each of the following variables that have missing data, decide if any imputation is possible. Give your reasoning and code if you decide to impute missing values.\n",
    "Columns for investigation: CARRIER, CARRIER_NAME, MANUFACTURE_YEAR, NUMBER_OF_SEATS, CAPACITY_IN_POUNDS, and AIRLINE_ID.\n",
    "For example, watch out for \"North American Airlines\" aircrafts. Are the CARRIER/UNIQUE_CARRIER column really missing?"
   ]
  },
  {
   "cell_type": "code",
   "execution_count": null,
   "id": "9210fd1f-92ad-4794-a949-a0eac76fcaa2",
   "metadata": {},
   "outputs": [],
   "source": [
    "inventory.isnull().sum()"
   ]
  },
  {
   "cell_type": "code",
   "execution_count": null,
   "id": "b3978832-3a0f-44b4-b66e-abaeaee1365e",
   "metadata": {},
   "outputs": [],
   "source": [
    "inv_missing = inventory[inventory.isnull().any(axis=1)]\n",
    "inv_missing.head()"
   ]
  },
  {
   "cell_type": "markdown",
   "id": "fd630e19-6dce-4dbb-a3e4-f644985f0a01",
   "metadata": {},
   "source": [
    "### Missing carriers"
   ]
  },
  {
   "cell_type": "code",
   "execution_count": null,
   "id": "9f28df54-0a5a-45f3-b2eb-bce8efec5952",
   "metadata": {},
   "outputs": [],
   "source": [
    "inventory[\"CARRIER\"].unique()"
   ]
  },
  {
   "cell_type": "code",
   "execution_count": null,
   "id": "c71aaa17-b096-4c39-a47b-e851c9518a48",
   "metadata": {},
   "outputs": [],
   "source": [
    "inventory[inventory[\"CARRIER\"]==\"NA \"].head()"
   ]
  },
  {
   "cell_type": "code",
   "execution_count": null,
   "id": "1bfc3d3d-df9b-4856-b44b-b72ae56d1d6c",
   "metadata": {},
   "outputs": [],
   "source": [
    "inv_missing[inv_missing['CARRIER'].isna()][\"CARRIER_NAME\"].value_counts()"
   ]
  },
  {
   "cell_type": "code",
   "execution_count": null,
   "id": "63ccd272-184b-4378-8def-f6533390434a",
   "metadata": {},
   "outputs": [],
   "source": [
    "inventory['CARRIER'].fillna(\"NA \", inplace=True)"
   ]
  },
  {
   "cell_type": "markdown",
   "id": "6b0573bd-0ed0-4ed6-a818-f8c05c56f75b",
   "metadata": {},
   "source": [
    "### Looking into unique carriers"
   ]
  },
  {
   "cell_type": "code",
   "execution_count": null,
   "id": "3a0acd7a-c1fe-45ed-8a91-fd14cfcc48d6",
   "metadata": {},
   "outputs": [],
   "source": [
    "unique_carriers = inventory['UNIQUE_CARRIER'].unique()\n",
    "unique_carriers"
   ]
  },
  {
   "cell_type": "code",
   "execution_count": null,
   "id": "a1aeea6d-e64d-43b2-b224-d04f3d6b74bd",
   "metadata": {},
   "outputs": [],
   "source": [
    "inventory[inventory['UNIQUE_CARRIER'].isna()][\"CARRIER\"].unique()"
   ]
  },
  {
   "cell_type": "markdown",
   "id": "95f84d58-3b06-4ad6-97f6-23aeda5ea866",
   "metadata": {},
   "source": [
    "It looks like the unique carriers and carriers are not the same. I am not sure if it will be useful. Therefore, we'll move on for now to\n",
    "\n",
    "### Missing Carrier Name"
   ]
  },
  {
   "cell_type": "code",
   "execution_count": null,
   "id": "2820d36d-807e-4747-9d04-a0078bc8563f",
   "metadata": {},
   "outputs": [],
   "source": [
    "inv_missing[inv_missing['CARRIER_NAME'].isna()][\"CARRIER\"].unique()"
   ]
  },
  {
   "cell_type": "code",
   "execution_count": null,
   "id": "a0ed965c-198d-4719-ba61-b7c4aa7ce1d6",
   "metadata": {},
   "outputs": [],
   "source": [
    "inventory[inventory[\"CARRIER\"]==\"L4\"][\"CARRIER_NAME\"].unique()"
   ]
  },
  {
   "cell_type": "code",
   "execution_count": null,
   "id": "bd61cd66-790a-4a86-be3b-1f28430019d2",
   "metadata": {},
   "outputs": [],
   "source": [
    "inventory.loc[inventory[\"CARRIER\"] == \"L4\", \"CARRIER_NAME\"] = \"Lynx Aviation d/b/a Frontier Airlines\""
   ]
  },
  {
   "cell_type": "code",
   "execution_count": null,
   "id": "ae8390a5-e71b-42fe-8125-580625852307",
   "metadata": {},
   "outputs": [],
   "source": [
    "inventory[inventory[\"CARRIER\"]==\"OH\"][\"CARRIER_NAME\"].unique()"
   ]
  },
  {
   "cell_type": "code",
   "execution_count": null,
   "id": "6d35d4b7-ab32-4356-9085-467eda45fe1b",
   "metadata": {},
   "outputs": [],
   "source": [
    "inventory[inventory[\"CARRIER\"]==\"OH\"][\"YEAR\"].unique()"
   ]
  },
  {
   "cell_type": "code",
   "execution_count": null,
   "id": "613b1403-9730-4189-bcaf-76be597656ff",
   "metadata": {},
   "outputs": [],
   "source": [
    "inventory[(inventory[\"CARRIER\"] == \"OH\") & (inventory[\"YEAR\"] > 2014)][\"CARRIER_NAME\"].unique()\n"
   ]
  },
  {
   "cell_type": "code",
   "execution_count": null,
   "id": "cfc67ea7-c011-4ad4-a1ae-a2c5f2b74572",
   "metadata": {},
   "outputs": [],
   "source": [
    "inventory[(inventory[\"CARRIER\"] == \"OH\") & (inventory[\"YEAR\"] < 2014)][\"CARRIER_NAME\"].unique()\n"
   ]
  },
  {
   "cell_type": "code",
   "execution_count": null,
   "id": "1fe9824e-e7a9-4039-bed9-c70676a7bca4",
   "metadata": {},
   "outputs": [],
   "source": [
    "inventory.loc[(inventory[\"CARRIER\"] == \"OH\") & (inventory[\"YEAR\"] > 2014)][\"CARRIER_NAME\"] = \"PSA Airlines Inc.\"\n",
    "\n",
    "inventory.loc[(inventory[\"CARRIER\"] == \"OH\") & (inventory[\"YEAR\"] < 2014)][\"CARRIER_NAME\"] = \"Comair Inc.\""
   ]
  },
  {
   "cell_type": "markdown",
   "id": "871dc7ad-fc03-4a05-b3d0-3c3f3387cb48",
   "metadata": {},
   "source": [
    "### Missing Manufacture Year"
   ]
  },
  {
   "cell_type": "code",
   "execution_count": null,
   "id": "7663e8c5-82a4-42f8-98d1-f41f612f931a",
   "metadata": {},
   "outputs": [],
   "source": [
    "inv_missing[inv_missing['MANUFACTURE_YEAR'].isna()].head()"
   ]
  },
  {
   "cell_type": "code",
   "execution_count": null,
   "id": "72f14704-b787-48b2-890c-4959cb2680d8",
   "metadata": {},
   "outputs": [],
   "source": [
    "inventory.iloc[116649:116655]"
   ]
  },
  {
   "cell_type": "code",
   "execution_count": null,
   "id": "e8500118-ed81-49bb-82e9-680ded882377",
   "metadata": {},
   "outputs": [],
   "source": [
    "inventory.iloc[124678:124685]"
   ]
  },
  {
   "cell_type": "code",
   "execution_count": null,
   "id": "a62f70c7-9e46-4d8a-8d55-0e7926424bec",
   "metadata": {},
   "outputs": [],
   "source": [
    "inventory.iloc[124682+12:124682+18]"
   ]
  },
  {
   "cell_type": "markdown",
   "id": "e3534ea6-26a8-4f13-8165-6930802af446",
   "metadata": {},
   "source": [
    "We can't replace anything\n",
    "\n",
    "### Number of Seats"
   ]
  },
  {
   "cell_type": "code",
   "execution_count": null,
   "id": "2680fb13-b581-4f9a-bf1c-852a430f082e",
   "metadata": {},
   "outputs": [],
   "source": [
    "inv_missing[inv_missing['NUMBER_OF_SEATS'].isna()]"
   ]
  },
  {
   "cell_type": "code",
   "execution_count": null,
   "id": "5450dbbe-acb8-49ce-955e-e7e4ede797b3",
   "metadata": {},
   "outputs": [],
   "source": [
    "inventory[inventory[\"MODEL\"] == \"767-232SFCARGO\"][\"NUMBER_OF_SEATS\"].unique()"
   ]
  },
  {
   "cell_type": "code",
   "execution_count": null,
   "id": "1cac310f-b982-4e72-85c1-3fc4ef79aee7",
   "metadata": {},
   "outputs": [],
   "source": [
    "inventory[inventory[\"MODEL\"] == \"767-323SFCARGO\"][\"NUMBER_OF_SEATS\"].unique()"
   ]
  },
  {
   "cell_type": "code",
   "execution_count": null,
   "id": "644cce7c-a67b-4ff2-8bac-b9f5c97facc7",
   "metadata": {},
   "outputs": [],
   "source": [
    "inventory[inventory[\"MODEL\"] == \"767-338SFCARGO\"][\"NUMBER_OF_SEATS\"].unique()"
   ]
  },
  {
   "cell_type": "code",
   "execution_count": null,
   "id": "9f5080a0-bd33-4d17-b37c-3ef44a9b527f",
   "metadata": {},
   "outputs": [],
   "source": [
    "from math import nan\n",
    "inventory[\"NUMBER_OF_SEATS\"] = inventory[\"NUMBER_OF_SEATS\"].fillna(0)"
   ]
  },
  {
   "cell_type": "markdown",
   "id": "25d55458-79a1-45a6-a44e-9d8b2c60f25f",
   "metadata": {},
   "source": [
    "It looks like the na values are for cargo planes. Given they are cargo planes with no passengers, let's just say they have 0 seats as with other cargo planes in the set.\n",
    "\n",
    "### Capacity in LBs"
   ]
  },
  {
   "cell_type": "code",
   "execution_count": null,
   "id": "19d42df3-56b1-4eac-a00d-44e2017f4c8c",
   "metadata": {},
   "outputs": [],
   "source": [
    "inv_missing[inv_missing[\"CAPACITY_IN_POUNDS\"].isna()]"
   ]
  },
  {
   "cell_type": "code",
   "execution_count": null,
   "id": "f4326afa-b5fc-4771-b519-f20b50069cc6",
   "metadata": {},
   "outputs": [],
   "source": [
    "inv_missing[inv_missing[\"CAPACITY_IN_POUNDS\"].isna()][\"MANUFACTURER\"].value_counts()"
   ]
  },
  {
   "cell_type": "code",
   "execution_count": null,
   "id": "b98f22fc-bc4e-45a7-b135-5a1e067dbdbf",
   "metadata": {},
   "outputs": [],
   "source": [
    "inventory[(inventory[\"CARRIER\"]==\"FX\")&(inventory[\"MANUFACTURER\"]==\"MCDONNELLDOUGLAS\")][\"CAPACITY_IN_POUNDS\"].value_counts()"
   ]
  },
  {
   "cell_type": "markdown",
   "id": "201d3f12-aab0-4c92-939c-56e61997d39b",
   "metadata": {},
   "source": [
    "### Airline ID"
   ]
  },
  {
   "cell_type": "code",
   "execution_count": null,
   "id": "13776000-28eb-499a-a7cc-c364397f696a",
   "metadata": {},
   "outputs": [],
   "source": [
    "inv_missing[inv_missing[\"AIRLINE_ID\"].isna()][\"CARRIER\"].value_counts()"
   ]
  },
  {
   "cell_type": "code",
   "execution_count": null,
   "id": "b5710f33-63ac-4a92-b19d-8bf3c2edc219",
   "metadata": {},
   "outputs": [],
   "source": [
    "inventory[inventory[\"CARRIER\"]==\"OH\"][\"AIRLINE_ID\"].value_counts()"
   ]
  },
  {
   "cell_type": "code",
   "execution_count": null,
   "id": "81ba041c-fd87-47ea-a3e4-706b9bbbceea",
   "metadata": {},
   "outputs": [],
   "source": [
    "inventory[(inventory[\"CARRIER\"]==\"OH\") & (inventory[\"YEAR\"] < 2014)][\"AIRLINE_ID\"].value_counts()"
   ]
  },
  {
   "cell_type": "code",
   "execution_count": null,
   "id": "5102929d-b128-4c9d-bea0-77e7a17ef9f8",
   "metadata": {},
   "outputs": [],
   "source": [
    "inventory.loc[(inventory[\"CARRIER\"] == \"OH\") &\n",
    " (inventory[\"YEAR\"] > 2014) &\n",
    "  (inventory[\"AIRLINE_ID\"].isna())][\"AIRLINE_ID\"] = 20397\n",
    "\n",
    "inventory.loc[(inventory[\"CARRIER\"] == \"OH\") &\n",
    " (inventory[\"YEAR\"] < 2014) &\n",
    "  (inventory[\"AIRLINE_ID\"].isna())][\"AIRLINE_ID\"] = 20417"
   ]
  },
  {
   "cell_type": "code",
   "execution_count": null,
   "id": "79b6f737-709f-4f6a-ab95-07fa369d7234",
   "metadata": {},
   "outputs": [],
   "source": [
    "inventory[inventory[\"CARRIER\"]==\"L4\"][\"AIRLINE_ID\"].value_counts()"
   ]
  },
  {
   "cell_type": "code",
   "execution_count": null,
   "id": "9420685d-2428-4894-95e9-6deab37bdc04",
   "metadata": {},
   "outputs": [],
   "source": [
    "inventory.loc[(inventory[\"CARRIER\"]==\"OH\") & (inventory[\"AIRLINE_ID\"].isna())] = 21217"
   ]
  },
  {
   "cell_type": "code",
   "execution_count": null,
   "id": "812a97fb-58ff-44f7-bf93-cf0d6da15518",
   "metadata": {},
   "outputs": [],
   "source": [
    "inv_missing.shape"
   ]
  },
  {
   "cell_type": "code",
   "execution_count": null,
   "id": "6c4c3b0f-068c-4550-a501-9f1b55712ba6",
   "metadata": {},
   "outputs": [],
   "source": [
    "inventory[inventory.isnull().any(axis=1)].shape"
   ]
  },
  {
   "cell_type": "code",
   "execution_count": null,
   "id": "191ecb1a-7fef-46f7-bc8f-a2ccd2f5672f",
   "metadata": {},
   "outputs": [],
   "source": [
    "inventory = inventory.drop(columns=[\"UNIQUE_CARRIER\"])"
   ]
  }
 ],
 "metadata": {
  "kernelspec": {
   "display_name": "Python 3 (ipykernel)",
   "language": "python",
   "name": "python3"
  },
  "language_info": {
   "codemirror_mode": {
    "name": "ipython",
    "version": 3
   },
   "file_extension": ".py",
   "mimetype": "text/x-python",
   "name": "python",
   "nbconvert_exporter": "python",
   "pygments_lexer": "ipython3",
   "version": "3.11.6"
  }
 },
 "nbformat": 4,
 "nbformat_minor": 5
}
